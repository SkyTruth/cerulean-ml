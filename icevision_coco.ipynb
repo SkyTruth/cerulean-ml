{
 "cells": [
  {
   "cell_type": "markdown",
   "id": "89d39b92",
   "metadata": {},
   "source": [
    "### temporary setup after `make ssh`, `cdata`, and `make syncup`\n",
    "\n",
    "```python\n",
    "conda activate fastai2\n",
    "mamba install cython dask scikit-image -y\n",
    "pip install \"git+https://github.com/philferriere/cocoapi.git#egg=pycocotools&subdirectory=PythonAPI\"\n",
    "pip install git+git://github.com/waspinator/pycococreator.git@0.2.0\n",
    "pip -q install icedata\n",
    "cd work\n",
    "pip install -e . # install local ceruleanml package after deps installed with conda\n",
    "conda deactivate\n",
    "```"
   ]
  },
  {
   "cell_type": "code",
   "execution_count": 1,
   "id": "53392a56-a504-4254-947e-6660272f5ed3",
   "metadata": {},
   "outputs": [],
   "source": [
    "import ceruleanml.data as data\n",
    "from pathlib import Path\n",
    "import skimage.io as skio\n",
    "import matplotlib.pyplot as plt\n",
    "import matplotlib.image as mpimg\n",
    "import os\n",
    "from icevision.all import *\n",
    "import icedata\n",
    "\n",
    "ml_data_path = os.path.join(os.path.abspath(os.getcwd()),\"../../data/cv2_transfer/outputs/skytruth_annotation/first_phase/\")\n",
    "path = Path(ml_data_path)\n",
    "class_folders = list(path.glob(\"*/\"))"
   ]
  },
  {
   "cell_type": "code",
   "execution_count": null,
   "id": "6afe772e-68d8-45bd-8d55-7061ec91f35a",
   "metadata": {},
   "outputs": [],
   "source": [
    "%matplotlib inline"
   ]
  },
  {
   "cell_type": "code",
   "execution_count": 2,
   "id": "7d6eb098-c6f1-4588-80f5-1263a740a3e4",
   "metadata": {},
   "outputs": [],
   "source": [
    "info = {\n",
    "    \"description\": \"Cerulean Dataset V2\",\n",
    "    \"url\": \"none\",\n",
    "    \"version\": \"1.0\",\n",
    "    \"year\": 2021,\n",
    "    \"contributor\": \"Skytruth\",\n",
    "    \"date_created\": \"2022/2/23\"\n",
    "}\n",
    "\n",
    "licenses = [\n",
    "    {\n",
    "        \"url\": \"none\",\n",
    "        \"id\": 1,\n",
    "        \"name\": \"CeruleanDataset V2\"\n",
    "    }\n",
    "]\n",
    "categories = [{\"supercategory\":\"slick\", \"id\":1,\"name\":\"infra_slick\"},\n",
    "              {\"supercategory\":\"slick\", \"id\":2,\"name\":\"natural_seep\"},\n",
    "              {\"supercategory\":\"slick\", \"id\":3,\"name\":\"coincident_vessel\"},\n",
    "              {\"supercategory\":\"slick\", \"id\":4,\"name\":\"recent_vessel\"},\n",
    "              {\"supercategory\":\"slick\", \"id\":5,\"name\":\"old_vessel\"},\n",
    "              {\"supercategory\":\"slick\", \"id\":6,\"name\":\"ambiguous\"}]\n",
    "\n",
    "coco_output = {\n",
    "    \"info\": info,\n",
    "    \"licenses\": licenses,\n",
    "    \"images\": [],\n",
    "    \"annotations\": [],\n",
    "    \"categories\": categories\n",
    "}"
   ]
  },
  {
   "cell_type": "code",
   "execution_count": 28,
   "id": "601f94a9-550b-42a8-ae8e-2e317a0ddcfc",
   "metadata": {},
   "outputs": [
    {
     "data": {
      "text/plain": [
       "<module 'icedata.datasets.coco' from '/root/miniconda3/envs/fastai2/lib/python3.9/site-packages/icedata/datasets/coco/__init__.py'>"
      ]
     },
     "execution_count": 28,
     "metadata": {},
     "output_type": "execute_result"
    }
   ],
   "source": [
    "#path = icedata.coco.load_data()\n",
    "icedata.coco"
   ]
  },
  {
   "cell_type": "code",
   "execution_count": 31,
   "id": "249ab299-2d7e-4186-8336-fe8a60e68c97",
   "metadata": {},
   "outputs": [
    {
     "data": {
      "text/plain": [
       "{'Infrastructure': 1,\n",
       " 'Natural Seep': 2,\n",
       " 'Coincident Vessel': 3,\n",
       " 'Recent Vessel': 4,\n",
       " 'Old Vessel': 5,\n",
       " 'Ambiguous': 6,\n",
       " 'Hard Negatives': 0}"
      ]
     },
     "execution_count": 31,
     "metadata": {},
     "output_type": "execute_result"
    }
   ],
   "source": [
    "class_map = {\n",
    "    \"Infrastructure\": 1,\n",
    "    \"Natural Seep\": 2,\n",
    "    \"Coincident Vessel\": 3,\n",
    "    \"Recent Vessel\": 4,\n",
    "    \"Old Vessel\": 5,\n",
    "    \"Ambiguous\": 6,\n",
    "    \"Hard Negatives\": 0,\n",
    "}\n",
    "\n",
    "class_map"
   ]
  },
  {
   "cell_type": "code",
   "execution_count": 35,
   "id": "43a3c9f5-284a-4529-a663-86003229aa46",
   "metadata": {},
   "outputs": [
    {
     "data": {
      "text/plain": [
       "Path('/root/work/gcpvm/../../data/cv2_transfer/outputs/skytruth_annotation/first_phase')"
      ]
     },
     "execution_count": 35,
     "metadata": {},
     "output_type": "execute_result"
    }
   ],
   "source": [
    "path"
   ]
  },
  {
   "cell_type": "code",
   "execution_count": 36,
   "id": "7dc43c35-f875-49ba-baa7-da8ab0cff035",
   "metadata": {},
   "outputs": [
    {
     "ename": "TypeError",
     "evalue": "'module' object is not callable",
     "output_type": "error",
     "traceback": [
      "\u001b[0;31m---------------------------------------------------------------------------\u001b[0m",
      "\u001b[0;31mTypeError\u001b[0m                                 Traceback (most recent call last)",
      "Input \u001b[0;32mIn [36]\u001b[0m, in \u001b[0;36m<module>\u001b[0;34m\u001b[0m\n\u001b[0;32m----> 1\u001b[0m parser \u001b[38;5;241m=\u001b[39m \u001b[43micedata\u001b[49m\u001b[38;5;241;43m.\u001b[39;49m\u001b[43mcoco\u001b[49m\u001b[38;5;241;43m.\u001b[39;49m\u001b[43mparser\u001b[49m\u001b[43m(\u001b[49m\u001b[43mdata_dir\u001b[49m\u001b[38;5;241;43m=\u001b[39;49m\u001b[43mpath\u001b[49m\u001b[43m,\u001b[49m\u001b[43m \u001b[49m\u001b[43mclass_map\u001b[49m\u001b[38;5;241;43m=\u001b[39;49m\u001b[43mclass_map\u001b[49m\u001b[43m)\u001b[49m\n",
      "\u001b[0;31mTypeError\u001b[0m: 'module' object is not callable"
     ]
    }
   ],
   "source": [
    "parser = icedata.coco.parser(data_dir=path, class_map=class_map)"
   ]
  },
  {
   "cell_type": "code",
   "execution_count": null,
   "id": "52b6a08f-fb6b-440b-b7c1-bd2c52a7c34f",
   "metadata": {},
   "outputs": [],
   "source": [
    "# https://github.com/airctic/icedata/blob/master/icedata/datasets/coco/parser.py\n",
    "# > https://github.com/airctic/icevision/blob/master/icevision/parsers/coco_parser.py"
   ]
  },
  {
   "cell_type": "code",
   "execution_count": 8,
   "id": "455a4778-b4e0-4ef8-b65a-86ef5a4fe090",
   "metadata": {},
   "outputs": [
    {
     "name": "stdout",
     "output_type": "stream",
     "text": [
      "\u001b[0m\u001b[01;34mcanonical_vessel\u001b[0m/   instances_slick_train_v2.json  \u001b[01;34mrecent_vessel\u001b[0m/\n",
      "\u001b[01;34mcoincident_vessel\u001b[0m/  \u001b[01;34mnatural_seep\u001b[0m/\n",
      "\u001b[01;34minfrastructure\u001b[0m/     \u001b[01;34mold_vessel\u001b[0m/\n"
     ]
    }
   ],
   "source": [
    "ls {ml_data_path}"
   ]
  },
  {
   "cell_type": "code",
   "execution_count": 10,
   "id": "b8fc2e5b-fdc2-4072-970c-139d91bdbad9",
   "metadata": {},
   "outputs": [
    {
     "name": "stdout",
     "output_type": "stream",
     "text": [
      "\u001b[0m\u001b[01;35mBackground.png\u001b[0m  \u001b[01;35mambiguous_1.png\u001b[0m  \u001b[01;35mvessel_coincident_1.png\u001b[0m  \u001b[01;35mvessel_old_1.png\u001b[0m\n"
     ]
    }
   ],
   "source": [
    "ls {ml_data_path}/canonical_vessel/S1A_IW_GRDH_1SDV_20200729T034859_20200729T034924_033664_03E6D3_93EF"
   ]
  },
  {
   "cell_type": "code",
   "execution_count": null,
   "id": "10e090f4-3510-43b3-bd58-dcd3b959efbb",
   "metadata": {},
   "outputs": [],
   "source": [
    "#cat {ml_data_path}/instances_slick_train_v2.json"
   ]
  },
  {
   "cell_type": "code",
   "execution_count": 40,
   "id": "44b1f12b-d73e-4a45-97c3-c6d23e7b5170",
   "metadata": {},
   "outputs": [],
   "source": [
    "img = mpimg.imread(f'{ml_data_path}/canonical_vessel/S1A_IW_GRDH_1SDV_20200729T034859_20200729T034924_033664_03E6D3_93EF/ambiguous_1.png')"
   ]
  },
  {
   "cell_type": "code",
   "execution_count": 41,
   "id": "55f76446-4e8c-4547-89fe-8c197e3c5775",
   "metadata": {},
   "outputs": [
    {
     "data": {
      "text/plain": [
       "<matplotlib.image.AxesImage at 0x7f56fb12aa30>"
      ]
     },
     "execution_count": 41,
     "metadata": {},
     "output_type": "execute_result"
    },
    {
     "data": {
      "image/png": "[encoded data removed]",
      "text/plain": [
       "<Figure size 432x288 with 1 Axes>"
      ]
     },
     "metadata": {
      "needs_background": "light"
     },
     "output_type": "display_data"
    }
   ],
   "source": [
    "plt.imshow(img)"
   ]
  },
  {
   "cell_type": "code",
   "execution_count": null,
   "id": "50e2325e-b751-415d-b82b-0fcab6880715",
   "metadata": {},
   "outputs": [],
   "source": []
  }
 ],
 "metadata": {
  "kernelspec": {
   "display_name": "Python [conda env:fastai2]",
   "language": "python",
   "name": "conda-env-fastai2-py"
  },
  "language_info": {
   "codemirror_mode": {
    "name": "ipython",
    "version": 3
   },
   "file_extension": ".py",
   "mimetype": "text/x-python",
   "name": "python",
   "nbconvert_exporter": "python",
   "pygments_lexer": "ipython3",
   "version": "3.9.7"
  }
 },
 "nbformat": 4,
 "nbformat_minor": 5
}
