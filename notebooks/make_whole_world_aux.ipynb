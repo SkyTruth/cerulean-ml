{
 "cells": [
  {
   "cell_type": "code",
   "execution_count": 1,
   "id": "8b5b0abe-87fc-48df-abda-b16c08192dab",
   "metadata": {},
   "outputs": [],
   "source": [
    "from rasterio import transform\n",
    "from rasterio.enums import ColorInterp, Resampling\n",
    "from rasterio.io import MemoryFile\n",
    "from rasterio.plot import reshape_as_image, reshape_as_raster\n",
    "from rasterio.vrt import WarpedVRT\n",
    "import fiona\n",
    "import distancerasters as dr\n",
    "import rasterio\n",
    "from affine import Affine"
   ]
  },
  {
   "cell_type": "code",
   "execution_count": 2,
   "id": "d9d22321-8f7c-46aa-95eb-f86094a88300",
   "metadata": {},
   "outputs": [],
   "source": [
    "pixel_size = 0.01\n",
    "max_distance = 60000\n",
    "shp = fiona.open(\"../../data/aux_datasets/infra_locations.json\")\n",
    "xmin = -180\n",
    "xmax = 180\n",
    "ymin = -80\n",
    "ymax = 80"
   ]
  },
  {
   "cell_type": "code",
   "execution_count": 3,
   "id": "d4059b2b-591f-49d1-bafd-09c575b04716",
   "metadata": {},
   "outputs": [],
   "source": [
    "affine = Affine(pixel_size, 0, xmin,\n",
    "                0, -pixel_size, ymax)\n",
    "shape = (int((ymax-ymin)/pixel_size), int((xmax-xmin)/pixel_size))\n",
    "rv_array, affine = dr.rasterize(\n",
    "    shp,\n",
    "    affine=affine,\n",
    "    shape=shape,\n",
    ")"
   ]
  },
  {
   "cell_type": "code",
   "execution_count": 4,
   "id": "20889a28-85bb-4a80-bfb2-18e2d92d9f62",
   "metadata": {},
   "outputs": [
    {
     "data": {
      "text/plain": [
       "(16000, 36000)"
      ]
     },
     "execution_count": 4,
     "metadata": {},
     "output_type": "execute_result"
    }
   ],
   "source": [
    "rv_array.shape"
   ]
  },
  {
   "cell_type": "code",
   "execution_count": null,
   "id": "b84f7af9-9851-4166-a8d9-f22d33f4951a",
   "metadata": {},
   "outputs": [
    {
     "name": "stdout",
     "output_type": "stream",
     "text": [
      "Tree build time: 1.8406 seconds\n"
     ]
    }
   ],
   "source": [
    "my_dr = dr.DistanceRaster(\n",
    "            rv_array,\n",
    "            affine=affine,\n",
    "        )\n",
    "dist_array = my_dr.dist_array\n",
    "\n",
    "# array values to match 0 - 255 where 255 is furthest away from feature\n",
    "dist_array = dist_array / (max_distance / 255)  # 60 km\n",
    "dist_array[dist_array >= 255] = 255"
   ]
  },
  {
   "cell_type": "code",
   "execution_count": null,
   "id": "f9941436-3a3f-486e-bf92-ca03a2ab5e9a",
   "metadata": {},
   "outputs": [],
   "source": [
    "dist_array.shape"
   ]
  },
  {
   "cell_type": "code",
   "execution_count": null,
   "id": "f122ebcd-374c-4d8d-ab9e-af809db15a51",
   "metadata": {},
   "outputs": [],
   "source": [
    "import skimage.io as skio"
   ]
  },
  {
   "cell_type": "code",
   "execution_count": null,
   "id": "484a74d7-4f33-411a-a16f-7076bb121125",
   "metadata": {},
   "outputs": [],
   "source": [
    "skio.imshow(dist_array)"
   ]
  },
  {
   "cell_type": "code",
   "execution_count": null,
   "id": "34938f21-c2d2-444d-8f93-8227fc3061d9",
   "metadata": {},
   "outputs": [],
   "source": [
    "my_dr.output_raster(\"../../data/aux_datasets/infra_locations.tiff\")"
   ]
  },
  {
   "cell_type": "code",
   "execution_count": null,
   "id": "02acc21c-d06b-4057-9451-9c36b8e64e35",
   "metadata": {},
   "outputs": [],
   "source": []
  }
 ],
 "metadata": {
  "kernelspec": {
   "display_name": "firstEnv",
   "language": "python",
   "name": "firstenv"
  },
  "language_info": {
   "codemirror_mode": {
    "name": "ipython",
    "version": 3
   },
   "file_extension": ".py",
   "mimetype": "text/x-python",
   "name": "python",
   "nbconvert_exporter": "python",
   "pygments_lexer": "ipython3",
   "version": "3.9.7"
  }
 },
 "nbformat": 4,
 "nbformat_minor": 5
}
