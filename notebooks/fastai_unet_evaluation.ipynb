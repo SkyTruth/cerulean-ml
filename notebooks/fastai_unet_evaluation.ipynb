{
 "cells": [
  {
   "cell_type": "code",
   "execution_count": 15,
   "id": "bfe7f297-e67d-4680-9bc5-975041050f7d",
   "metadata": {},
   "outputs": [
    {
     "data": {
      "application/vnd.jupyter.widget-view+json": {
       "model_id": "eb099c3ceb2d4ec185044034c34a1a11",
       "version_major": 2,
       "version_minor": 0
      },
      "text/plain": [
       "  0%|          | 0/352 [00:00<?, ?it/s]"
      ]
     },
     "metadata": {},
     "output_type": "display_data"
    },
    {
     "name": "stderr",
     "output_type": "stream",
     "text": [
      "100%|██████████| 266/266 [00:00<00:00, 117452.88it/s]\n"
     ]
    },
    {
     "data": {
      "application/vnd.jupyter.widget-view+json": {
       "model_id": "ed2e43f57f3c46a2a78cbbb4e3fe03f6",
       "version_major": 2,
       "version_minor": 0
      },
      "text/plain": [
       "  0%|          | 0/50 [00:00<?, ?it/s]"
      ]
     },
     "metadata": {},
     "output_type": "display_data"
    },
    {
     "name": "stderr",
     "output_type": "stream",
     "text": [
      "\u001b[1m\u001b[1mINFO    \u001b[0m\u001b[1m\u001b[0m - \u001b[1m\u001b[34m\u001b[1mAutofixing records\u001b[0m\u001b[1m\u001b[34m\u001b[0m\u001b[1m\u001b[0m | \u001b[36micevision.parsers.parser\u001b[0m:\u001b[36mparse\u001b[0m:\u001b[36m122\u001b[0m\n"
     ]
    },
    {
     "data": {
      "application/vnd.jupyter.widget-view+json": {
       "model_id": "01aa055a5566418b8f17e96a78d3d4e0",
       "version_major": 2,
       "version_minor": 0
      },
      "text/plain": [
       "  0%|          | 0/50 [00:00<?, ?it/s]"
      ]
     },
     "metadata": {},
     "output_type": "display_data"
    }
   ],
   "source": [
    "import torch\n",
    "from ceruleanml.inference import save_fastai_model_state_dict_and_tracing, load_tracing_model, test_tracing_model_one_batch, logits_to_classes\n",
    "from ceruleanml import data\n",
    "from ceruleanml import evaluation\n",
    "from ceruleanml import preprocess\n",
    "from fastai.data.block import DataBlock\n",
    "from fastai.vision.data import ImageBlock, MaskBlock\n",
    "from fastai.data.transforms import RandomSplitter, Normalize\n",
    "from fastai.metrics import DiceMulti\n",
    "from ceruleanml.coco_load_fastai import record_collection_to_record_ids, get_image_path, record_to_mask\n",
    "from datetime import datetime\n",
    "from pathlib import Path\n",
    "import os, random\n",
    "from icevision.visualize import show_data\n",
    "import torch\n",
    "\n",
    "tracing_model_path = \"../../experiments/cv2/31_May_2022_23_51_32_fastai_unet/tracing_cpu_test_6batch_18_512.pt\"\n",
    "\n",
    "mount_path = \"../..\"\n",
    "val_set = \"val-no-context-512\"\n",
    "tiled_images_folder_val= \"tiled_images_no_context\"\n",
    "json_name_val = \"instances_TiledCeruleanDatasetV2NoContextFiles.json\"\n",
    "coco_json_path_val= f\"{mount_path}/partitions/{val_set}/{json_name_val}\"\n",
    "tiled_images_folder_val = f\"{mount_path}/partitions/{val_set}/{tiled_images_folder_val}\"\n",
    "area_thresh = 10\n",
    "negative_sample_count_val = 50\n",
    "record_collection_with_negative_small_filtered_val = preprocess.load_set_record_collection(\n",
    "    coco_json_path_val, tiled_images_folder_val, area_thresh, negative_sample_count_val\n",
    ")\n",
    "record_ids_val = record_collection_to_record_ids(record_collection_with_negative_small_filtered_val)\n",
    "\n",
    "def get_image_by_record_id(record_id):\n",
    "    return get_image_path(record_collection_with_negative_small_filtered_val, record_id)\n",
    "\n",
    "def get_mask_by_record_id(record_id):\n",
    "    return record_to_mask(record_collection_with_negative_small_filtered_val, record_id)"
   ]
  },
  {
   "cell_type": "code",
   "execution_count": 16,
   "id": "6c471b61-6ddf-4567-afd2-70263c04cd6e",
   "metadata": {},
   "outputs": [
    {
     "name": "stderr",
     "output_type": "stream",
     "text": [
      "/root/miniconda3/envs/fastai2/lib/python3.9/site-packages/torch/_tensor.py:1051: UserWarning: __floordiv__ is deprecated, and its behavior will change in a future version of pytorch. It currently rounds toward 0 (like the 'trunc' function NOT 'floor'). This results in incorrect rounding for negative values. To keep the current behavior, use torch.div(a, b, rounding_mode='trunc'), or for actual floor division, use torch.div(a, b, rounding_mode='floor').\n",
      "  ret = func(*args, **kwargs)\n"
     ]
    }
   ],
   "source": [
    "#size = 64  # Progressive resizing could happen here\n",
    "class_map = {v: k for k, v in data.class_mapping_coco_inv.items()}\n",
    "class_ints = list(range(1, len(list(class_map.keys())[:-1]) + 1))\n",
    "mean = [60.73, 190.3, 4.3598]\n",
    "std = [16.099, 17.846, 9.603]\n",
    "val_coco_seg_dblock = DataBlock(\n",
    "    blocks=(ImageBlock, MaskBlock(codes=class_ints)),\n",
    "    get_x=get_image_by_record_id,\n",
    "    splitter=RandomSplitter(valid_pct=.9),\n",
    "    get_y=get_mask_by_record_id,\n",
    "    batch_tfms=[Normalize.from_stats(mean,std)],\n",
    "    n_inp=1\n",
    ")\n",
    "\n",
    "dls = val_coco_seg_dblock.dataloaders(source=record_ids_val, batch_size=6, n=16)"
   ]
  },
  {
   "cell_type": "code",
   "execution_count": 17,
   "id": "40c20618-fb47-4666-9d7d-94bf125c1856",
   "metadata": {},
   "outputs": [],
   "source": [
    "tracing_model = load_tracing_model(tracing_model_path)\n",
    "# out_batch_logits = test_tracing_model_one_batch(dls.to('cpu'), tracing_model)\n",
    "# conf, classes = logits_to_classes(out_batch_logits)\n",
    "\n",
    "# classes.shape\n",
    "\n",
    "# conf.shape\n",
    "\n",
    "# learn.show_results(max_n=4, figsize=(20,20), vmin=0, vmax=3)"
   ]
  },
  {
   "cell_type": "markdown",
   "id": "b84867f5-acf2-443d-b428-4cacd6ba0b57",
   "metadata": {},
   "source": [
    "Default path for tensorboard logs is `./runs/`"
   ]
  },
  {
   "cell_type": "code",
   "execution_count": null,
   "id": "b2b7b5a2-f4c7-4c62-9928-08065e651022",
   "metadata": {},
   "outputs": [],
   "source": [
    "f'{mount_path}/experiments/cv2/'\n",
    "!ls '/root/data/experiments/cv2/20_May_2022_19_29_39_fastai_unet'\n",
    "\n",
    "!ls './runs/'"
   ]
  },
  {
   "cell_type": "markdown",
   "id": "95e44951-34de-473a-817f-49d5ab669ced",
   "metadata": {},
   "source": [
    "Copy logs to appropriate exeriments folder in the mounted GCS volume."
   ]
  },
  {
   "cell_type": "code",
   "execution_count": null,
   "id": "541a3c48-8236-41fe-8054-4e0e1b4b5728",
   "metadata": {},
   "outputs": [],
   "source": [
    "!cp -R './runs/' {modelpath}'/tensorboard/'"
   ]
  },
  {
   "cell_type": "markdown",
   "id": "f37e2bd7-d020-40ca-8da6-90f1207e8976",
   "metadata": {},
   "source": [
    "Now, run the following from anywhere with gcs authenticated:"
   ]
  },
  {
   "cell_type": "code",
   "execution_count": null,
   "id": "8f9425bc-71cf-493b-9a04-ac3144f44416",
   "metadata": {},
   "outputs": [],
   "source": [
    "!tensorboard --logdir=\"./runs\""
   ]
  },
  {
   "cell_type": "markdown",
   "id": "6e3088ef-090a-4c78-8723-c5e7962089be",
   "metadata": {},
   "source": [
    "## Model Inference and Result Evaluation"
   ]
  },
  {
   "cell_type": "code",
   "execution_count": 24,
   "id": "1442349c-396a-4a6e-8102-7f8c24bf3b47",
   "metadata": {},
   "outputs": [
    {
     "data": {
      "text/plain": [
       "512"
      ]
     },
     "execution_count": 24,
     "metadata": {},
     "output_type": "execute_result"
    }
   ],
   "source": [
    "record_collection_with_negative_small_filtered_val[0].common.height"
   ]
  },
  {
   "cell_type": "code",
   "execution_count": 29,
   "id": "b74d27dd-3c37-4bf9-a652-64c4a6d7731f",
   "metadata": {},
   "outputs": [
    {
     "ename": "RuntimeError",
     "evalue": "The following operation failed in the TorchScript interpreter.\nTraceback of TorchScript, serialized code (most recent call last):\n  File \"code/__torch__/fastai/vision/models/unet/___torch_mangle_439.py\", line 37, in forward\n    layers12 = self.layers\n    _0 = getattr(layers12, \"0\")\n    _14, _15, _16, _17, _18, _19, _20, _21, _22, _23, _24, _25, _26, _27, _28, _29, _30, _31, _32, _33, _34, = (_0).forward(x, )\n                                                                                                                ~~~~~~~~~~~ <--- HERE\n    _35 = (_3).forward((_2).forward((_1).forward(_14, ), ), )\n    _36 = (_4).forward(_35, _15, _16, _17, _18, _19, )\n  File \"code/__torch__/torch/nn/modules/container/___torch_mangle_353.py\", line 24, in forward\n    _1 = getattr(self, \"1\")\n    _0 = getattr(self, \"0\")\n    _8 = (_2).forward((_1).forward((_0).forward(x, ), ), )\n                                    ~~~~~~~~~~~ <--- HERE\n    _9 = (_4).forward((_3).forward(_8, ), )\n    _10 = (_5).forward(_9, )\n  File \"code/__torch__/torch/nn/modules/conv/___torch_mangle_288.py\", line 10, in forward\n    x: Tensor) -> Tensor:\n    weight = self.weight\n    _0 = torch._convolution(x, weight, None, [2, 2], [3, 3], [1, 1], False, [0, 0], 1, True, False, True, True)\n         ~~~~~~~~~~~~~~~~~~ <--- HERE\n    return torch.alias(_0)\n\nTraceback of TorchScript, original code (most recent call last):\n/root/miniconda3/envs/fastai2/lib/python3.9/site-packages/torch/_tensor.py(1051): __torch_function__\n/root/miniconda3/envs/fastai2/lib/python3.9/site-packages/fastai/torch_core.py(341): __torch_function__\n/root/miniconda3/envs/fastai2/lib/python3.9/site-packages/torch/nn/modules/conv.py(442): _conv_forward\n/root/miniconda3/envs/fastai2/lib/python3.9/site-packages/torch/nn/modules/conv.py(446): forward\n/root/miniconda3/envs/fastai2/lib/python3.9/site-packages/torch/nn/modules/module.py(1090): _slow_forward\n/root/miniconda3/envs/fastai2/lib/python3.9/site-packages/torch/nn/modules/module.py(1102): _call_impl\n/root/miniconda3/envs/fastai2/lib/python3.9/site-packages/torch/nn/modules/container.py(141): forward\n/root/miniconda3/envs/fastai2/lib/python3.9/site-packages/torch/nn/modules/module.py(1090): _slow_forward\n/root/miniconda3/envs/fastai2/lib/python3.9/site-packages/torch/nn/modules/module.py(1102): _call_impl\n/root/miniconda3/envs/fastai2/lib/python3.9/site-packages/fastai/layers.py(407): forward\n/root/miniconda3/envs/fastai2/lib/python3.9/site-packages/torch/nn/modules/module.py(1090): _slow_forward\n/root/miniconda3/envs/fastai2/lib/python3.9/site-packages/torch/nn/modules/module.py(1102): _call_impl\n/root/miniconda3/envs/fastai2/lib/python3.9/site-packages/torch/jit/_trace.py(958): trace_module\n/root/miniconda3/envs/fastai2/lib/python3.9/site-packages/torch/jit/_trace.py(741): trace\n/root/work/ceruleanml/inference.py(17): save_fastai_model_state_dict_and_tracing\n<ipython-input-36-3550e9c3e76b>(1): <module>\n/root/miniconda3/envs/fastai2/lib/python3.9/site-packages/IPython/core/interactiveshell.py(3251): run_code\n/root/miniconda3/envs/fastai2/lib/python3.9/site-packages/IPython/core/interactiveshell.py(3191): run_ast_nodes\n/root/miniconda3/envs/fastai2/lib/python3.9/site-packages/IPython/core/interactiveshell.py(3012): run_cell_async\n/root/miniconda3/envs/fastai2/lib/python3.9/site-packages/IPython/core/async_helpers.py(129): _pseudo_sync_runner\n/root/miniconda3/envs/fastai2/lib/python3.9/site-packages/IPython/core/interactiveshell.py(2814): _run_cell\n/root/miniconda3/envs/fastai2/lib/python3.9/site-packages/IPython/core/interactiveshell.py(2768): run_cell\n/root/miniconda3/envs/fastai2/lib/python3.9/site-packages/ipykernel/zmqshell.py(539): run_cell\n/root/miniconda3/envs/fastai2/lib/python3.9/site-packages/ipykernel/ipkernel.py(302): do_execute\n/root/miniconda3/envs/fastai2/lib/python3.9/site-packages/tornado/gen.py(234): wrapper\n/root/miniconda3/envs/fastai2/lib/python3.9/site-packages/ipykernel/kernelbase.py(539): execute_request\n/root/miniconda3/envs/fastai2/lib/python3.9/site-packages/tornado/gen.py(234): wrapper\n/root/miniconda3/envs/fastai2/lib/python3.9/site-packages/ipykernel/kernelbase.py(261): dispatch_shell\n/root/miniconda3/envs/fastai2/lib/python3.9/site-packages/tornado/gen.py(234): wrapper\n/root/miniconda3/envs/fastai2/lib/python3.9/site-packages/ipykernel/kernelbase.py(361): process_one\n/root/miniconda3/envs/fastai2/lib/python3.9/site-packages/tornado/gen.py(775): run\n/root/miniconda3/envs/fastai2/lib/python3.9/site-packages/tornado/gen.py(814): inner\n/root/miniconda3/envs/fastai2/lib/python3.9/site-packages/tornado/ioloop.py(741): _run_callback\n/root/miniconda3/envs/fastai2/lib/python3.9/site-packages/tornado/ioloop.py(688): <lambda>\n/root/miniconda3/envs/fastai2/lib/python3.9/asyncio/events.py(80): _run\n/root/miniconda3/envs/fastai2/lib/python3.9/asyncio/base_events.py(1890): _run_once\n/root/miniconda3/envs/fastai2/lib/python3.9/asyncio/base_events.py(596): run_forever\n/root/miniconda3/envs/fastai2/lib/python3.9/site-packages/tornado/platform/asyncio.py(199): start\n/root/miniconda3/envs/fastai2/lib/python3.9/site-packages/ipykernel/kernelapp.py(619): start\n/root/miniconda3/envs/fastai2/lib/python3.9/site-packages/traitlets/config/application.py(846): launch_instance\n/root/miniconda3/envs/fastai2/lib/python3.9/site-packages/ipykernel_launcher.py(16): <module>\n/root/miniconda3/envs/fastai2/lib/python3.9/runpy.py(87): _run_code\n/root/miniconda3/envs/fastai2/lib/python3.9/runpy.py(197): _run_module_as_main\nRuntimeError: Expected 4-dimensional input for 4-dimensional weight [64, 3, 7, 7], but got 3-dimensional input of size [512, 512, 1] instead\n",
     "output_type": "error",
     "traceback": [
      "\u001b[0;31m---------------------------------------------------------------------------\u001b[0m",
      "\u001b[0;31mRuntimeError\u001b[0m                              Traceback (most recent call last)",
      "Input \u001b[0;32mIn [29]\u001b[0m, in \u001b[0;36m<module>\u001b[0;34m\u001b[0m\n\u001b[1;32m      8\u001b[0m p \u001b[38;5;241m=\u001b[39m get_image_path(record_collection_with_negative_small_filtered_val,i)\n\u001b[1;32m      9\u001b[0m arr \u001b[38;5;241m=\u001b[39m skio\u001b[38;5;241m.\u001b[39mimread(p)\n\u001b[0;32m---> 10\u001b[0m out_batch_logits \u001b[38;5;241m=\u001b[39m \u001b[43mtracing_model\u001b[49m\u001b[43m(\u001b[49m\u001b[43mtorch\u001b[49m\u001b[38;5;241;43m.\u001b[39;49m\u001b[43mTensor\u001b[49m\u001b[43m(\u001b[49m\u001b[43marr\u001b[49m\u001b[43m)\u001b[49m\u001b[43m)\u001b[49m\n\u001b[1;32m     11\u001b[0m conf, class_pred \u001b[38;5;241m=\u001b[39m logits_to_classes(out_batch_logits)\n\u001b[1;32m     12\u001b[0m class_pred \u001b[38;5;241m=\u001b[39m class_pred[\u001b[38;5;241m0\u001b[39m]\u001b[38;5;241m.\u001b[39mcpu()\u001b[38;5;241m.\u001b[39mdetach()\u001b[38;5;241m.\u001b[39mnumpy()\n",
      "File \u001b[0;32m~/miniconda3/envs/fastai2/lib/python3.9/site-packages/torch/nn/modules/module.py:1102\u001b[0m, in \u001b[0;36mModule._call_impl\u001b[0;34m(self, *input, **kwargs)\u001b[0m\n\u001b[1;32m   1098\u001b[0m \u001b[38;5;66;03m# If we don't have any hooks, we want to skip the rest of the logic in\u001b[39;00m\n\u001b[1;32m   1099\u001b[0m \u001b[38;5;66;03m# this function, and just call forward.\u001b[39;00m\n\u001b[1;32m   1100\u001b[0m \u001b[38;5;28;01mif\u001b[39;00m \u001b[38;5;129;01mnot\u001b[39;00m (\u001b[38;5;28mself\u001b[39m\u001b[38;5;241m.\u001b[39m_backward_hooks \u001b[38;5;129;01mor\u001b[39;00m \u001b[38;5;28mself\u001b[39m\u001b[38;5;241m.\u001b[39m_forward_hooks \u001b[38;5;129;01mor\u001b[39;00m \u001b[38;5;28mself\u001b[39m\u001b[38;5;241m.\u001b[39m_forward_pre_hooks \u001b[38;5;129;01mor\u001b[39;00m _global_backward_hooks\n\u001b[1;32m   1101\u001b[0m         \u001b[38;5;129;01mor\u001b[39;00m _global_forward_hooks \u001b[38;5;129;01mor\u001b[39;00m _global_forward_pre_hooks):\n\u001b[0;32m-> 1102\u001b[0m     \u001b[38;5;28;01mreturn\u001b[39;00m \u001b[43mforward_call\u001b[49m\u001b[43m(\u001b[49m\u001b[38;5;241;43m*\u001b[39;49m\u001b[38;5;28;43minput\u001b[39;49m\u001b[43m,\u001b[49m\u001b[43m \u001b[49m\u001b[38;5;241;43m*\u001b[39;49m\u001b[38;5;241;43m*\u001b[39;49m\u001b[43mkwargs\u001b[49m\u001b[43m)\u001b[49m\n\u001b[1;32m   1103\u001b[0m \u001b[38;5;66;03m# Do not call functions when jit is used\u001b[39;00m\n\u001b[1;32m   1104\u001b[0m full_backward_hooks, non_full_backward_hooks \u001b[38;5;241m=\u001b[39m [], []\n",
      "\u001b[0;31mRuntimeError\u001b[0m: The following operation failed in the TorchScript interpreter.\nTraceback of TorchScript, serialized code (most recent call last):\n  File \"code/__torch__/fastai/vision/models/unet/___torch_mangle_439.py\", line 37, in forward\n    layers12 = self.layers\n    _0 = getattr(layers12, \"0\")\n    _14, _15, _16, _17, _18, _19, _20, _21, _22, _23, _24, _25, _26, _27, _28, _29, _30, _31, _32, _33, _34, = (_0).forward(x, )\n                                                                                                                ~~~~~~~~~~~ <--- HERE\n    _35 = (_3).forward((_2).forward((_1).forward(_14, ), ), )\n    _36 = (_4).forward(_35, _15, _16, _17, _18, _19, )\n  File \"code/__torch__/torch/nn/modules/container/___torch_mangle_353.py\", line 24, in forward\n    _1 = getattr(self, \"1\")\n    _0 = getattr(self, \"0\")\n    _8 = (_2).forward((_1).forward((_0).forward(x, ), ), )\n                                    ~~~~~~~~~~~ <--- HERE\n    _9 = (_4).forward((_3).forward(_8, ), )\n    _10 = (_5).forward(_9, )\n  File \"code/__torch__/torch/nn/modules/conv/___torch_mangle_288.py\", line 10, in forward\n    x: Tensor) -> Tensor:\n    weight = self.weight\n    _0 = torch._convolution(x, weight, None, [2, 2], [3, 3], [1, 1], False, [0, 0], 1, True, False, True, True)\n         ~~~~~~~~~~~~~~~~~~ <--- HERE\n    return torch.alias(_0)\n\nTraceback of TorchScript, original code (most recent call last):\n/root/miniconda3/envs/fastai2/lib/python3.9/site-packages/torch/_tensor.py(1051): __torch_function__\n/root/miniconda3/envs/fastai2/lib/python3.9/site-packages/fastai/torch_core.py(341): __torch_function__\n/root/miniconda3/envs/fastai2/lib/python3.9/site-packages/torch/nn/modules/conv.py(442): _conv_forward\n/root/miniconda3/envs/fastai2/lib/python3.9/site-packages/torch/nn/modules/conv.py(446): forward\n/root/miniconda3/envs/fastai2/lib/python3.9/site-packages/torch/nn/modules/module.py(1090): _slow_forward\n/root/miniconda3/envs/fastai2/lib/python3.9/site-packages/torch/nn/modules/module.py(1102): _call_impl\n/root/miniconda3/envs/fastai2/lib/python3.9/site-packages/torch/nn/modules/container.py(141): forward\n/root/miniconda3/envs/fastai2/lib/python3.9/site-packages/torch/nn/modules/module.py(1090): _slow_forward\n/root/miniconda3/envs/fastai2/lib/python3.9/site-packages/torch/nn/modules/module.py(1102): _call_impl\n/root/miniconda3/envs/fastai2/lib/python3.9/site-packages/fastai/layers.py(407): forward\n/root/miniconda3/envs/fastai2/lib/python3.9/site-packages/torch/nn/modules/module.py(1090): _slow_forward\n/root/miniconda3/envs/fastai2/lib/python3.9/site-packages/torch/nn/modules/module.py(1102): _call_impl\n/root/miniconda3/envs/fastai2/lib/python3.9/site-packages/torch/jit/_trace.py(958): trace_module\n/root/miniconda3/envs/fastai2/lib/python3.9/site-packages/torch/jit/_trace.py(741): trace\n/root/work/ceruleanml/inference.py(17): save_fastai_model_state_dict_and_tracing\n<ipython-input-36-3550e9c3e76b>(1): <module>\n/root/miniconda3/envs/fastai2/lib/python3.9/site-packages/IPython/core/interactiveshell.py(3251): run_code\n/root/miniconda3/envs/fastai2/lib/python3.9/site-packages/IPython/core/interactiveshell.py(3191): run_ast_nodes\n/root/miniconda3/envs/fastai2/lib/python3.9/site-packages/IPython/core/interactiveshell.py(3012): run_cell_async\n/root/miniconda3/envs/fastai2/lib/python3.9/site-packages/IPython/core/async_helpers.py(129): _pseudo_sync_runner\n/root/miniconda3/envs/fastai2/lib/python3.9/site-packages/IPython/core/interactiveshell.py(2814): _run_cell\n/root/miniconda3/envs/fastai2/lib/python3.9/site-packages/IPython/core/interactiveshell.py(2768): run_cell\n/root/miniconda3/envs/fastai2/lib/python3.9/site-packages/ipykernel/zmqshell.py(539): run_cell\n/root/miniconda3/envs/fastai2/lib/python3.9/site-packages/ipykernel/ipkernel.py(302): do_execute\n/root/miniconda3/envs/fastai2/lib/python3.9/site-packages/tornado/gen.py(234): wrapper\n/root/miniconda3/envs/fastai2/lib/python3.9/site-packages/ipykernel/kernelbase.py(539): execute_request\n/root/miniconda3/envs/fastai2/lib/python3.9/site-packages/tornado/gen.py(234): wrapper\n/root/miniconda3/envs/fastai2/lib/python3.9/site-packages/ipykernel/kernelbase.py(261): dispatch_shell\n/root/miniconda3/envs/fastai2/lib/python3.9/site-packages/tornado/gen.py(234): wrapper\n/root/miniconda3/envs/fastai2/lib/python3.9/site-packages/ipykernel/kernelbase.py(361): process_one\n/root/miniconda3/envs/fastai2/lib/python3.9/site-packages/tornado/gen.py(775): run\n/root/miniconda3/envs/fastai2/lib/python3.9/site-packages/tornado/gen.py(814): inner\n/root/miniconda3/envs/fastai2/lib/python3.9/site-packages/tornado/ioloop.py(741): _run_callback\n/root/miniconda3/envs/fastai2/lib/python3.9/site-packages/tornado/ioloop.py(688): <lambda>\n/root/miniconda3/envs/fastai2/lib/python3.9/asyncio/events.py(80): _run\n/root/miniconda3/envs/fastai2/lib/python3.9/asyncio/base_events.py(1890): _run_once\n/root/miniconda3/envs/fastai2/lib/python3.9/asyncio/base_events.py(596): run_forever\n/root/miniconda3/envs/fastai2/lib/python3.9/site-packages/tornado/platform/asyncio.py(199): start\n/root/miniconda3/envs/fastai2/lib/python3.9/site-packages/ipykernel/kernelapp.py(619): start\n/root/miniconda3/envs/fastai2/lib/python3.9/site-packages/traitlets/config/application.py(846): launch_instance\n/root/miniconda3/envs/fastai2/lib/python3.9/site-packages/ipykernel_launcher.py(16): <module>\n/root/miniconda3/envs/fastai2/lib/python3.9/runpy.py(87): _run_code\n/root/miniconda3/envs/fastai2/lib/python3.9/runpy.py(197): _run_module_as_main\nRuntimeError: Expected 4-dimensional input for 4-dimensional weight [64, 3, 7, 7], but got 3-dimensional input of size [512, 512, 1] instead\n"
     ]
    }
   ],
   "source": [
    "import skimage.io as skio\n",
    "val_record_ids = record_collection_to_record_ids(record_collection_with_negative_small_filtered_val)\n",
    "pred_arrs = []\n",
    "val_arrs = []\n",
    "for v, i in zip(range(len(record_ids_val[0:10])), record_ids_val[0:10]):\n",
    "    v = record_collection_with_negative_small_filtered_val[v]\n",
    "    v_masks = v.detection.masks[0].to_mask(v.common.height,v.common.width).data\n",
    "    p = get_image_path(record_collection_with_negative_small_filtered_val,i)\n",
    "    arr = skio.imread(p)\n",
    "    out_batch_logits = tracing_model(torch.Tensor(np.squeeze(arr))) # squeeze needed for 1 channel input\n",
    "    conf, class_pred = logits_to_classes(out_batch_logits)\n",
    "    class_pred = class_pred[0].cpu().detach().numpy()\n",
    "    pred_arrs.append(class_pred)\n",
    "    val_arrs.append(v_masks)"
   ]
  },
  {
   "cell_type": "code",
   "execution_count": null,
   "id": "6a12a4bc-eca5-46cf-9c06-c45e1c03dda9",
   "metadata": {},
   "outputs": [],
   "source": [
    "cm, f1 = eval.cm_f1(val_arrs, pred_arrs, 6, mount_path)\n",
    "\n",
    "learner = torch.load(\"/root/data/experiments/cv2/10_May_2022_18_02_59_fastai_unet/18_64_0.493.pkl\")\n",
    "\n",
    "import skimage.io as skio\n",
    "val_record_ids = record_collection_to_record_ids(valid_records)\n",
    "pred_arrs = []\n",
    "with learner.no_logging():\n",
    "    for i in val_record_ids:\n",
    "        p = get_image_path(valid_records,i)\n",
    "        arr = skio.imread(p)\n",
    "        pred_arr = learner.predict(arr)\n",
    "        pred_arrs.append(pred_arr)"
   ]
  }
 ],
 "metadata": {
  "kernelspec": {
   "display_name": "Python [conda env:fastai2]",
   "language": "python",
   "name": "conda-env-fastai2-py"
  },
  "language_info": {
   "codemirror_mode": {
    "name": "ipython",
    "version": 3
   },
   "file_extension": ".py",
   "mimetype": "text/x-python",
   "name": "python",
   "nbconvert_exporter": "python",
   "pygments_lexer": "ipython3",
   "version": "3.9.7"
  }
 },
 "nbformat": 4,
 "nbformat_minor": 5
}
