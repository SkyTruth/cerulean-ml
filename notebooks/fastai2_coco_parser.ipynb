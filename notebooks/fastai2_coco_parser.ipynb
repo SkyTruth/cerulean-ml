{
 "cells": [
  {
   "cell_type": "code",
   "execution_count": 1,
   "metadata": {},
   "outputs": [],
   "source": [
    "from ceruleanml import data\n",
    "from icevision.parsers import COCOMaskParser\n",
    "from icevision.data import SingleSplitSplitter\n",
    "from fastai.data.block import DataBlock\n",
    "from fastai.vision.data import ImageBlock, MaskBlock\n",
    "from fastai.vision.augment import aug_transforms\n",
    "from fastai.vision.learner import unet_learner\n",
    "from fastai.data.transforms import RandomSplitter\n",
    "from fastai.metrics import Dice\n",
    "from ceruleanml.coco_load_fastai import record_collection_to_record_ids, get_image_path, record_to_mask\n",
    "from torchvision.models import resnet18, resnet34, resnet50\n",
    "from fastai.callback.fp16 import MixedPrecision\n",
    "from fastai.callback.tensorboard import TensorBoardCallback\n",
    "from datetime import datetime\n",
    "from pathlib import Path\n",
    "import os"
   ]
  },
  {
   "cell_type": "markdown",
   "metadata": {},
   "source": [
    "### Parsing COCO Dataset with Icevision"
   ]
  },
  {
   "cell_type": "code",
   "execution_count": 2,
   "metadata": {},
   "outputs": [],
   "source": [
    "data_path = \"/root/\"\n",
    "mount_path = \"/root/data\""
   ]
  },
  {
   "cell_type": "code",
   "execution_count": 3,
   "metadata": {},
   "outputs": [
    {
     "data": {
      "application/vnd.jupyter.widget-view+json": {
       "model_id": "fdb28be4f71443fe80e507b79253caa2",
       "version_major": 2,
       "version_minor": 0
      },
      "text/plain": [
       "  0%|          | 0/3883 [00:00<?, ?it/s]"
      ]
     },
     "metadata": {},
     "output_type": "display_data"
    }
   ],
   "source": [
    "size = 64  # Progressive resizing could happen here\n",
    "augs = aug_transforms(flip_vert=True, max_warp=0.1, size=size)\n",
    "class_map = {v: k for k, v in data.class_mapping_coco_inv.items()}\n",
    "class_ints = list(range(1, len(list(class_map.keys())[:-1]) + 1))\n",
    "parser = COCOMaskParser(annotations_filepath=f\"{data_path}/tile-cerulean-v2-partial-with-context/instances_Tiled Cerulean Dataset V2.json\", img_dir=f\"{mount_path}/tile-cerulean-v2-partial-with-context/tiled_images\")\n",
    "train_records, valid_records = parser.parse(autofix=False)"
   ]
  },
  {
   "cell_type": "markdown",
   "metadata": {},
   "source": [
    "### Importing functions for returning an image sample and a semantic segmentation label for each sample"
   ]
  },
  {
   "cell_type": "code",
   "execution_count": 4,
   "metadata": {},
   "outputs": [],
   "source": [
    "record_ids = record_collection_to_record_ids(train_records)"
   ]
  },
  {
   "cell_type": "markdown",
   "metadata": {},
   "source": [
    "### Constructing a FastAI DataBlock that uses parsed COCO Dataset from icevision parser+"
   ]
  },
  {
   "cell_type": "code",
   "execution_count": 14,
   "metadata": {},
   "outputs": [],
   "source": [
    "def get_image_by_record_id(record_id):\n",
    "    return get_image_path(train_records, record_id)\n",
    "def get_mask_by_record_id(record_id):\n",
    "    return record_to_mask(train_records, record_id)"
   ]
  },
  {
   "cell_type": "code",
   "execution_count": 16,
   "metadata": {},
   "outputs": [
    {
     "name": "stderr",
     "output_type": "stream",
     "text": [
      "/root/miniconda3/envs/fastai2/lib/python3.9/site-packages/torch/_tensor.py:1051: UserWarning: __floordiv__ is deprecated, and its behavior will change in a future version of pytorch. It currently rounds toward 0 (like the 'trunc' function NOT 'floor'). This results in incorrect rounding for negative values. To keep the current behavior, use torch.div(a, b, rounding_mode='trunc'), or for actual floor division, use torch.div(a, b, rounding_mode='floor').\n",
      "  ret = func(*args, **kwargs)\n"
     ]
    }
   ],
   "source": [
    "coco_seg_dblock = DataBlock(\n",
    "    blocks=(ImageBlock, MaskBlock(codes=class_ints)),\n",
    "    get_x=get_image_by_record_id,\n",
    "    splitter=RandomSplitter(),\n",
    "    get_y=get_mask_by_record_id,\n",
    "    batch_tfms=aug_transforms(),\n",
    "    n_inp=1,\n",
    ")\n",
    "\n",
    "dls = coco_seg_dblock.dataloaders(source=record_ids, batch_size=2)"
   ]
  },
  {
   "cell_type": "code",
   "execution_count": 6,
   "metadata": {},
   "outputs": [],
   "source": [
    "get_da_y = lambda record_id: record_to_mask(train_records, record_id)"
   ]
  },
  {
   "cell_type": "code",
   "execution_count": 7,
   "metadata": {
    "tags": []
   },
   "outputs": [],
   "source": [
    "#dls.one_batch()"
   ]
  },
  {
   "cell_type": "markdown",
   "metadata": {},
   "source": [
    "### Fastai2 Trainer"
   ]
  },
  {
   "cell_type": "code",
   "execution_count": 8,
   "metadata": {
    "tags": []
   },
   "outputs": [],
   "source": [
    "#coco_seg_dblock.summary(source=record_ids)"
   ]
  },
  {
   "cell_type": "code",
   "execution_count": 9,
   "metadata": {},
   "outputs": [],
   "source": [
    "dateTimeObj = datetime.now()\n",
    "timestampStr = dateTimeObj.strftime(\"%d_%b_%Y_%H_%M_%S\")\n",
    "experiment_dir =  Path(f'{mount_path}/experiments/cv2/'+timestampStr+'_fastai_unet/')\n",
    "experiment_dir.mkdir(exist_ok=True)"
   ]
  },
  {
   "cell_type": "code",
   "execution_count": 10,
   "metadata": {},
   "outputs": [],
   "source": [
    "arch = 18\n",
    "archs = {18: resnet18, 34: resnet34, 50: resnet50}"
   ]
  },
  {
   "cell_type": "code",
   "execution_count": 11,
   "metadata": {},
   "outputs": [
    {
     "data": {
      "text/html": [],
      "text/plain": [
       "<IPython.core.display.HTML object>"
      ]
     },
     "metadata": {},
     "output_type": "display_data"
    },
    {
     "data": {
      "text/html": [
       "<table border=\"1\" class=\"dataframe\">\n",
       "  <thead>\n",
       "    <tr style=\"text-align: left;\">\n",
       "      <th>epoch</th>\n",
       "      <th>train_loss</th>\n",
       "      <th>valid_loss</th>\n",
       "      <th>dice</th>\n",
       "      <th>time</th>\n",
       "    </tr>\n",
       "  </thead>\n",
       "  <tbody>\n",
       "    <tr>\n",
       "      <td>0</td>\n",
       "      <td>0.168011</td>\n",
       "      <td>0.150556</td>\n",
       "      <td>0.000000</td>\n",
       "      <td>06:53</td>\n",
       "    </tr>\n",
       "  </tbody>\n",
       "</table>"
      ],
      "text/plain": [
       "<IPython.core.display.HTML object>"
      ]
     },
     "metadata": {},
     "output_type": "display_data"
    },
    {
     "data": {
      "text/html": [
       "<table border=\"1\" class=\"dataframe\">\n",
       "  <thead>\n",
       "    <tr style=\"text-align: left;\">\n",
       "      <th>epoch</th>\n",
       "      <th>train_loss</th>\n",
       "      <th>valid_loss</th>\n",
       "      <th>dice</th>\n",
       "      <th>time</th>\n",
       "    </tr>\n",
       "  </thead>\n",
       "  <tbody>\n",
       "    <tr>\n",
       "      <td>0</td>\n",
       "      <td>0.098357</td>\n",
       "      <td>0.127017</td>\n",
       "      <td>0.000620</td>\n",
       "      <td>07:08</td>\n",
       "    </tr>\n",
       "    <tr>\n",
       "      <td>1</td>\n",
       "      <td>0.080391</td>\n",
       "      <td>0.148397</td>\n",
       "      <td>0.033740</td>\n",
       "      <td>07:08</td>\n",
       "    </tr>\n",
       "    <tr>\n",
       "      <td>2</td>\n",
       "      <td>0.088252</td>\n",
       "      <td>0.125780</td>\n",
       "      <td>0.156555</td>\n",
       "      <td>07:09</td>\n",
       "    </tr>\n",
       "    <tr>\n",
       "      <td>3</td>\n",
       "      <td>0.092909</td>\n",
       "      <td>0.114992</td>\n",
       "      <td>0.212708</td>\n",
       "      <td>07:08</td>\n",
       "    </tr>\n",
       "    <tr>\n",
       "      <td>4</td>\n",
       "      <td>0.074014</td>\n",
       "      <td>0.116270</td>\n",
       "      <td>0.257867</td>\n",
       "      <td>07:08</td>\n",
       "    </tr>\n",
       "  </tbody>\n",
       "</table>"
      ],
      "text/plain": [
       "<IPython.core.display.HTML object>"
      ]
     },
     "metadata": {},
     "output_type": "display_data"
    },
    {
     "data": {
      "image/png": "[encoded data removed]",
      "text/plain": [
       "<Figure size 640x480 with 1 Axes>"
      ]
     },
     "metadata": {},
     "output_type": "display_data"
    }
   ],
   "source": [
    "learn = unet_learner(dls, archs[arch], metrics=[Dice()], model_dir=experiment_dir, n_out = 7) # cbs=[MixedPrecision]\n",
    "\n",
    "lr = learn.lr_find()\n",
    "\n",
    "cbs = [TensorBoardCallback(projector=False, trace_model=False)]\n",
    "\n",
    "learn.fine_tune(5, 2e-4, cbs=cbs)#, cbs=SaveModelCallback(monitor='dice'))w"
   ]
  },
  {
   "cell_type": "code",
   "execution_count": 17,
   "metadata": {},
   "outputs": [
    {
     "data": {
      "text/html": [],
      "text/plain": [
       "<IPython.core.display.HTML object>"
      ]
     },
     "metadata": {},
     "output_type": "display_data"
    },
    {
     "name": "stderr",
     "output_type": "stream",
     "text": [
      "/root/miniconda3/envs/fastai2/lib/python3.9/site-packages/fastprogress/fastprogress.py:74: UserWarning: Your generator is empty.\n",
      "  warn(\"Your generator is empty.\")\n"
     ]
    },
    {
     "ename": "TypeError",
     "evalue": "type NoneType doesn't define __round__ method",
     "output_type": "error",
     "traceback": [
      "\u001b[0;31m---------------------------------------------------------------\u001b[0m",
      "\u001b[0;31mTypeError\u001b[0m                     Traceback (most recent call last)",
      "Input \u001b[0;32mIn [17]\u001b[0m, in \u001b[0;36m<module>\u001b[0;34m\u001b[0m\n\u001b[0;32m----> 1\u001b[0m savename \u001b[38;5;241m=\u001b[39m \u001b[38;5;124mf\u001b[39m\u001b[38;5;124m'\u001b[39m\u001b[38;5;132;01m{\u001b[39;00march\u001b[38;5;132;01m}\u001b[39;00m\u001b[38;5;124m_\u001b[39m\u001b[38;5;132;01m{\u001b[39;00msize\u001b[38;5;132;01m}\u001b[39;00m\u001b[38;5;124m_\u001b[39m\u001b[38;5;132;01m{\u001b[39;00m\u001b[38;5;28mround\u001b[39m(learn\u001b[38;5;241m.\u001b[39mvalidate()[\u001b[38;5;241m1\u001b[39m],\u001b[38;5;241m3\u001b[39m)\u001b[38;5;132;01m}\u001b[39;00m\u001b[38;5;124m.pkl\u001b[39m\u001b[38;5;124m'\u001b[39m\n\u001b[1;32m      2\u001b[0m learn\u001b[38;5;241m.\u001b[39mexport(\u001b[38;5;124mf\u001b[39m\u001b[38;5;124m'\u001b[39m\u001b[38;5;132;01m{\u001b[39;00mexperiment_dir\u001b[38;5;132;01m}\u001b[39;00m\u001b[38;5;124m/\u001b[39m\u001b[38;5;132;01m{\u001b[39;00msavename\u001b[38;5;132;01m}\u001b[39;00m\u001b[38;5;124m'\u001b[39m)\n\u001b[1;32m      4\u001b[0m learn\u001b[38;5;241m.\u001b[39mshow_results(max_n\u001b[38;5;241m=\u001b[39m\u001b[38;5;241m4\u001b[39m, figsize\u001b[38;5;241m=\u001b[39m(\u001b[38;5;241m20\u001b[39m,\u001b[38;5;241m20\u001b[39m), vmin\u001b[38;5;241m=\u001b[39m\u001b[38;5;241m0\u001b[39m, vmax\u001b[38;5;241m=\u001b[39m\u001b[38;5;241m3\u001b[39m)\n",
      "\u001b[0;31mTypeError\u001b[0m: type NoneType doesn't define __round__ method"
     ]
    }
   ],
   "source": [
    "savename = f'{arch}_{size}_{round(learn.validate()[1],3)}.pkl'\n",
    "learn.export(f'{experiment_dir}/{savename}')\n",
    "\n",
    "learn.show_results(max_n=4, figsize=(20,20), vmin=0, vmax=3)"
   ]
  },
  {
   "cell_type": "markdown",
   "metadata": {},
   "source": [
    "## CV1 Parser"
   ]
  },
  {
   "cell_type": "code",
   "execution_count": null,
   "metadata": {
    "id": "uCnKPbcUZyW8"
   },
   "outputs": [],
   "source": [
    "mount_path = \"/root/data/cv1_transfer/\"\n",
    "ml_data_path = os.path.join(mount_path, \"labeled_data\")\n",
    "path = Path(ml_data_path)\n",
    "oil_chps = np.loadtxt(path/'oil_chps.txt', dtype=str)\n",
    "codes = np.loadtxt(path/'codes.txt', dtype=str)\n",
    "valid_names = np.loadtxt(path/'valid_names.txt', dtype=str)"
   ]
  },
  {
   "cell_type": "code",
   "execution_count": null,
   "metadata": {},
   "outputs": [],
   "source": [
    "import skimage.io as skio\n",
    "import numpy as np\n",
    "import dask\n",
    "\n",
    "labels = path/\"lbl\"\n",
    "labels_no_3 = path/\"lbl_no3\"\n",
    "\n",
    "os.makedirs(labels_no_3, exist_ok=True)\n",
    "\n",
    "vals = set()\n",
    "lazy_results = []\n",
    "for i in list(labels.glob(\"*.png\"))[0:100]:\n",
    "    arr = skio.imread(i)\n",
    "    values = np.unique(arr)\n",
    "    # I think this was setting a class we didn't need to 0 \n",
    "    # for the purposes of recreating Jona's binary classifier\n",
    "    arr[arr==3] = 0\n",
    "    try:\n",
    "        lazy_result = dask.delayed(skio.imsave)(labels_no_3 / i.name, arr, check_contrast=False)\n",
    "        lazy_results.append(lazy_result)\n",
    "    except:\n",
    "        continue\n",
    "computed_results = dask.compute(*lazy_results)"
   ]
  },
  {
   "cell_type": "code",
   "execution_count": null,
   "metadata": {
    "colab": {
     "base_uri": "https://localhost:8080/"
    },
    "executionInfo": {
     "elapsed": 240,
     "status": "ok",
     "timestamp": 1632546951657,
     "user": {
      "displayName": "Jona Raphael",
      "photoUrl": "https://lh3.googleusercontent.com/a-/AOh14GjFH3JKgScTtrAcB2yttHcHQ3q_PCg3Xi9B7XE-=s64",
      "userId": "11620402000831919596"
     },
     "user_tz": 240
    },
    "id": "ub_sFHTytr1P",
    "outputId": "e91e92e9-2f5c-4cae-9adf-e562a176498c"
   },
   "outputs": [],
   "source": [
    "random.seed(42)\n",
    "oilless_chps = [chp for chp in get_image_files(path/'chp') if chp.stem not in oil_chps]\n",
    "density = 0\n",
    "num_oilless = density * len(oil_chps)\n",
    "mixed_chps = random.sample(oilless_chps,num_oilless) + [path/'chp'/(chp+'.png') for chp in oil_chps]\n",
    "len(mixed_chps)"
   ]
  },
  {
   "cell_type": "code",
   "execution_count": null,
   "metadata": {},
   "outputs": [],
   "source": [
    "codes"
   ]
  },
  {
   "cell_type": "code",
   "execution_count": null,
   "metadata": {
    "id": "_HsNE9p2Wqep"
   },
   "outputs": [],
   "source": [
    "def get_chps(path): return mixed_chps\n",
    "def get_lbls(fn): return fn.parent.parent/\"lbl_no3\"/f\"{fn.name}\"\n",
    "def splitter_func(fn): return fn.name.rsplit('_',1)[0] in valid_names # XXX Check to make sure this should be returning True for Valid\n",
    "\n",
    "drive_files = get_chps(path)"
   ]
  },
  {
   "cell_type": "code",
   "execution_count": null,
   "metadata": {
    "id": "awsaMCkNijP4"
   },
   "outputs": [],
   "source": [
    "dateTimeObj = datetime.now()\n",
    "timestampStr = dateTimeObj.strftime(\"%d_%b_%Y_%H_%M_%S\")\n",
    "lcl =  Path('/root/data/experiments/cv1/'+timestampStr+'/')\n",
    "#lcl = Path(\"../out_data\")\n",
    "lcl.mkdir(exist_ok=True)\n",
    "modelpath = lcl\n",
    "\n",
    "use_lcl = False\n",
    "if use_lcl:\n",
    "  path = lcl\n",
    "  lcl_chp = path/\"chp\"\n",
    "  lcl_lbl = path/\"lbl_no3\"\n",
    "  lcl_chp.mkdir(exist_ok=True)\n",
    "  lcl_lbl.mkdir(exist_ok=True)\n",
    "  for i, f in enumerate(drive_files): # 10 minutes?!\n",
    "    if not i%50: print(i, f)\n",
    "    if not (lcl_chp/f.name).exists():\n",
    "      copyfile(f, lcl_chp/f.name)\n",
    "    if not (lcl_lbl/f.name).exists():\n",
    "      copyfile(get_lbls(f), lcl_lbl/f.name)"
   ]
  },
  {
   "cell_type": "code",
   "execution_count": null,
   "metadata": {
    "id": "qoHswk_YP7iV"
   },
   "outputs": [],
   "source": [
    "seg_db = DataBlock(\n",
    "    blocks=(ImageBlock, MaskBlock(codes=codes)),\n",
    "    get_items = get_chps,\n",
    "    splitter=FuncSplitter(splitter_func),\n",
    "    batch_tfms=augs,\n",
    "    get_y=get_lbls)"
   ]
  },
  {
   "cell_type": "code",
   "execution_count": null,
   "metadata": {
    "colab": {
     "base_uri": "https://localhost:8080/"
    },
    "executionInfo": {
     "elapsed": 3300,
     "status": "ok",
     "timestamp": 1632546955601,
     "user": {
      "displayName": "Jona Raphael",
      "photoUrl": "https://lh3.googleusercontent.com/a-/AOh14GjFH3JKgScTtrAcB2yttHcHQ3q_PCg3Xi9B7XE-=s64",
      "userId": "11620402000831919596"
     },
     "user_tz": 240
    },
    "id": "DXMotRvjP7Za",
    "outputId": "d62fa328-7ed6-4e4e-aaae-cf201ac9bc69"
   },
   "outputs": [],
   "source": [
    "dls = SegmentationDataLoaders.from_dblock(\n",
    "    dblock = seg_db,\n",
    "    source = path,\n",
    "    path = path,\n",
    "    bs = 4)"
   ]
  },
  {
   "cell_type": "code",
   "execution_count": null,
   "metadata": {},
   "outputs": [],
   "source": [
    "seg_db.summary(path)"
   ]
  },
  {
   "cell_type": "code",
   "execution_count": null,
   "metadata": {
    "colab": {
     "base_uri": "https://localhost:8080/",
     "height": 357
    },
    "executionInfo": {
     "elapsed": 335,
     "status": "ok",
     "timestamp": 1632546955921,
     "user": {
      "displayName": "Jona Raphael",
      "photoUrl": "https://lh3.googleusercontent.com/a-/AOh14GjFH3JKgScTtrAcB2yttHcHQ3q_PCg3Xi9B7XE-=s64",
      "userId": "11620402000831919596"
     },
     "user_tz": 240
    },
    "id": "P-7SCS_V6Orz",
    "outputId": "81a80929-4c76-4333-b07c-868c6918a553"
   },
   "outputs": [],
   "source": [
    "dls.show_batch(vmin=0, vmax=3)"
   ]
  },
  {
   "cell_type": "code",
   "execution_count": null,
   "metadata": {
    "id": "uPn56uxHDP_j"
   },
   "outputs": [],
   "source": [
    "# add best model callback saver\n",
    "# write to drive not lcl"
   ]
  },
  {
   "cell_type": "code",
   "execution_count": null,
   "metadata": {
    "id": "AE9i5evdCXon"
   },
   "outputs": [],
   "source": [
    "arch = 18\n",
    "archs = {18: resnet18, 34: resnet34, 50: resnet50}\n",
    "\n",
    "learn = unet_learner(dls, archs[arch], metrics=[Dice()], model_dir=modelpath, cbs=[MixedPrecision])\n",
    "\n",
    "lr = learn.lr_find()\n",
    "\n",
    "lr\n",
    "\n",
    "cbs = [TensorBoardCallback(projector=False, trace_model=False)]\n",
    "\n",
    "\n",
    "learn.fine_tune(5, 2e-4, cbs=cbs)#, cbs=SaveModelCallback(monitor='dice'))w\n",
    "\n",
    "# learn.load(\"model\")"
   ]
  },
  {
   "cell_type": "code",
   "execution_count": null,
   "metadata": {},
   "outputs": [],
   "source": [
    "learn"
   ]
  },
  {
   "cell_type": "code",
   "execution_count": null,
   "metadata": {
    "id": "i4v3-QkSCOu0"
   },
   "outputs": [],
   "source": [
    "savename = f'{density}_{arch}_{size}_{round(learn.validate()[1],3)}.pkl'\n",
    "learn.export(f'{modelpath}/{savename}')"
   ]
  },
  {
   "cell_type": "code",
   "execution_count": null,
   "metadata": {},
   "outputs": [],
   "source": [
    "ls {modelpath}"
   ]
  },
  {
   "cell_type": "code",
   "execution_count": null,
   "metadata": {
    "id": "VJQ3VVuD9rx2"
   },
   "outputs": [],
   "source": [
    "learn.show_results(max_n=4, figsize=(20,20), vmin=0, vmax=3)"
   ]
  },
  {
   "cell_type": "markdown",
   "metadata": {},
   "source": [
    "Default path for tensorboard logs is `./runs/`"
   ]
  },
  {
   "cell_type": "code",
   "execution_count": null,
   "metadata": {},
   "outputs": [],
   "source": [
    "!ls './runs/'"
   ]
  },
  {
   "cell_type": "markdown",
   "metadata": {},
   "source": [
    "Copy logs to appropriate exeriments folder in the mounted GCS volume."
   ]
  },
  {
   "cell_type": "code",
   "execution_count": null,
   "metadata": {},
   "outputs": [],
   "source": [
    "!cp -R './runs/' {modelpath}'/tensorboard/'"
   ]
  },
  {
   "cell_type": "markdown",
   "metadata": {},
   "source": [
    "Now, run the following from anywhere with gcs authenticated:"
   ]
  },
  {
   "cell_type": "code",
   "execution_count": null,
   "metadata": {},
   "outputs": [],
   "source": [
    "!tensorboard --logdir=\"/root/data/experiments/cv1/09_Mar_2022_18_32_17/tensorboard\"\n"
   ]
  },
  {
   "cell_type": "code",
   "execution_count": null,
   "metadata": {},
   "outputs": [],
   "source": []
  }
 ],
 "metadata": {
  "accelerator": "GPU",
  "colab": {
   "collapsed_sections": [],
   "name": "fastai2_training.ipynb",
   "provenance": []
  },
  "kernelspec": {
   "display_name": "Python [conda env:fastai2]",
   "language": "python",
   "name": "conda-env-fastai2-py"
  },
  "language_info": {
   "codemirror_mode": {
    "name": "ipython",
    "version": 3
   },
   "file_extension": ".py",
   "mimetype": "text/x-python",
   "name": "python",
   "nbconvert_exporter": "python",
   "pygments_lexer": "ipython3",
   "version": "3.9.7"
  }
 },
 "nbformat": 4,
 "nbformat_minor": 4
}
