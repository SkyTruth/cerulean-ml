{
 "cells": [
  {
   "cell_type": "code",
   "execution_count": 1,
   "metadata": {
    "id": "OlVAlUe_To6f"
   },
   "outputs": [],
   "source": [
    "import os, sys\n",
    "from shutil import copyfile\n",
    "from datetime import datetime\n",
    "import importlib\n",
    "import skimage"
   ]
  },
  {
   "cell_type": "code",
   "execution_count": 2,
   "metadata": {},
   "outputs": [],
   "source": [
    "import fastai\n",
    "from fastai.vision.all import *\n",
    "from fastai.basics import *\n",
    "from torch.utils.tensorboard import SummaryWriter\n",
    "from fastai.callback.fp16 import ModelToHalf\n",
    "from fastai.callback.hook import hook_output\n",
    "import tensorboard"
   ]
  },
  {
   "cell_type": "code",
   "execution_count": 3,
   "metadata": {},
   "outputs": [],
   "source": [
    "from tensorboard_helpers import TensorBoardBaseCallback, TensorBoardCallback"
   ]
  },
  {
   "cell_type": "code",
   "execution_count": 9,
   "metadata": {},
   "outputs": [],
   "source": [
    "size = 64 # Progressive resizing could happen here\n",
    "augs = aug_transforms(flip_vert=True, max_warp=0.1, size=size)"
   ]
  },
  {
   "cell_type": "markdown",
   "metadata": {},
   "source": [
    "## CV2 Parser"
   ]
  },
  {
   "cell_type": "code",
   "execution_count": 62,
   "metadata": {},
   "outputs": [],
   "source": [
    "from ceruleanml import data\n",
    "import icevision"
   ]
  },
  {
   "cell_type": "code",
   "execution_count": 11,
   "metadata": {},
   "outputs": [],
   "source": [
    "class_map = {v: k for k, v in data.class_mapping_coco_inv.items()}"
   ]
  },
  {
   "cell_type": "code",
   "execution_count": 12,
   "metadata": {},
   "outputs": [
    {
     "data": {
      "text/plain": [
       "{'Infrastructure': 1,\n",
       " 'Natural Seep': 2,\n",
       " 'Coincident Vessel': 3,\n",
       " 'Recent Vessel': 4,\n",
       " 'Old Vessel': 5,\n",
       " 'Ambiguous': 6,\n",
       " 'Hard Negatives': 0}"
      ]
     },
     "execution_count": 12,
     "metadata": {},
     "output_type": "execute_result"
    }
   ],
   "source": [
    "class_map"
   ]
  },
  {
   "cell_type": "markdown",
   "metadata": {},
   "source": [
    "#### img tile fnames"
   ]
  },
  {
   "cell_type": "code",
   "execution_count": 65,
   "metadata": {},
   "outputs": [
    {
     "data": {
      "application/vnd.jupyter.widget-view+json": {
       "model_id": "a3b0aca4aab442eca262bd3f8e0dbb63",
       "version_major": 2,
       "version_minor": 0
      },
      "text/plain": [
       "  0%|          | 0/487 [00:00<?, ?it/s]"
      ]
     },
     "metadata": {},
     "output_type": "display_data"
    },
    {
     "name": "stderr",
     "output_type": "stream",
     "text": [
      "\u001b[1m\u001b[1mINFO    \u001b[0m\u001b[1m\u001b[0m - \u001b[1m\u001b[34m\u001b[1mAutofixing records\u001b[0m\u001b[1m\u001b[34m\u001b[0m\u001b[1m\u001b[0m | \u001b[36micevision.parsers.parser\u001b[0m:\u001b[36mparse\u001b[0m:\u001b[36m122\u001b[0m\n"
     ]
    },
    {
     "data": {
      "application/vnd.jupyter.widget-view+json": {
       "model_id": "be6fa4f4e2754c2f908dfb39fad862bf",
       "version_major": 2,
       "version_minor": 0
      },
      "text/plain": [
       "  0%|          | 0/487 [00:00<?, ?it/s]"
      ]
     },
     "metadata": {},
     "output_type": "display_data"
    }
   ],
   "source": [
    "parser = icevision.parsers.COCOMaskParser(annotations_filepath=\"../../data/cv2_transfer/instances_slicks_test_v2.json\", img_dir=\"../../data/tiled_image_slicks_test_v2\")\n",
    "train_records = parser.parse(data_splitter=icevision.data.SingleSplitSplitter())"
   ]
  },
  {
   "cell_type": "code",
   "execution_count": 91,
   "metadata": {},
   "outputs": [
    {
     "data": {
      "text/plain": [
       "dict_keys(['common', 'detection'])"
      ]
     },
     "execution_count": 91,
     "metadata": {},
     "output_type": "execute_result"
    }
   ],
   "source": [
    "tr.as_dict().keys()"
   ]
  },
  {
   "cell_type": "code",
   "execution_count": 92,
   "metadata": {},
   "outputs": [],
   "source": [
    "sparse_masks = {}\n",
    "for tr in train_records[0]:\n",
    "    sparse_masks.update({tr.as_dict()['common']['filepath']:tr.as_dict()['detection']['masks']})"
   ]
  },
  {
   "cell_type": "markdown",
   "metadata": {},
   "source": [
    "need to build a fastai data loader that doesn't take img paths and instead tkaes in mem sparse arrays"
   ]
  },
  {
   "cell_type": "code",
   "execution_count": 96,
   "metadata": {},
   "outputs": [],
   "source": [
    "def get_chps(path): return list(sparse_masks.keys())\n",
    "def get_lbls(fn): return sparse_masks[fn] # fn is the imge path \n",
    "\n",
    "\n",
    "#def splitter_func(fn): return fn.name.rsplit('_',1)[0] in valid_names # XXX Check to make sure this should be returning True for Valid\n"
   ]
  },
  {
   "cell_type": "code",
   "execution_count": null,
   "metadata": {},
   "outputs": [],
   "source": [
    "coco_seg_dblock = DataBlock(blocks=(ImageBlock, MaskBlock(codes=codes)),\n",
    "                 get_items=get_image_files,\n",
    "                 splitter=RandomSplitter(),\n",
    "                 get_y=[lambda o: train_records[o.name][0], lambda o: img2bbox[o.name][1]], \n",
    "                 item_tfms=Resize(128),\n",
    "                 batch_tfms=aug_transforms(),\n",
    "                 n_inp=1)"
   ]
  },
  {
   "cell_type": "markdown",
   "metadata": {},
   "source": [
    "## CV1 Parser"
   ]
  },
  {
   "cell_type": "code",
   "execution_count": 18,
   "metadata": {
    "id": "uCnKPbcUZyW8"
   },
   "outputs": [],
   "source": [
    "mount_path = \"/root/data/cv1_transfer/\"\n",
    "ml_data_path = os.path.join(mount_path, \"labeled_data\")\n",
    "path = Path(ml_data_path)\n",
    "oil_chps = np.loadtxt(path/'oil_chps.txt', dtype=str)\n",
    "codes = np.loadtxt(path/'codes.txt', dtype=str)\n",
    "valid_names = np.loadtxt(path/'valid_names.txt', dtype=str)"
   ]
  },
  {
   "cell_type": "code",
   "execution_count": 19,
   "metadata": {},
   "outputs": [],
   "source": [
    "import skimage.io as skio\n",
    "import numpy as np\n",
    "import dask\n",
    "\n",
    "labels = path/\"lbl\"\n",
    "labels_no_3 = path/\"lbl_no3\"\n",
    "\n",
    "os.makedirs(labels_no_3, exist_ok=True)\n",
    "\n",
    "vals = set()\n",
    "lazy_results = []\n",
    "for i in list(labels.glob(\"*.png\"))[0:100]:\n",
    "    arr = skio.imread(i)\n",
    "    values = np.unique(arr)\n",
    "    # I think this was setting a class we didn't need to 0 \n",
    "    # for the purposes of recreating Jona's binary classifier\n",
    "    arr[arr==3] = 0\n",
    "    try:\n",
    "        lazy_result = dask.delayed(skio.imsave)(labels_no_3 / i.name, arr, check_contrast=False)\n",
    "        lazy_results.append(lazy_result)\n",
    "    except:\n",
    "        continue\n",
    "computed_results = dask.compute(*lazy_results)"
   ]
  },
  {
   "cell_type": "code",
   "execution_count": 20,
   "metadata": {
    "colab": {
     "base_uri": "https://localhost:8080/"
    },
    "executionInfo": {
     "elapsed": 240,
     "status": "ok",
     "timestamp": 1632546951657,
     "user": {
      "displayName": "Jona Raphael",
      "photoUrl": "https://lh3.googleusercontent.com/a-/AOh14GjFH3JKgScTtrAcB2yttHcHQ3q_PCg3Xi9B7XE-=s64",
      "userId": "11620402000831919596"
     },
     "user_tz": 240
    },
    "id": "ub_sFHTytr1P",
    "outputId": "e91e92e9-2f5c-4cae-9adf-e562a176498c"
   },
   "outputs": [
    {
     "data": {
      "text/plain": [
       "473"
      ]
     },
     "execution_count": 20,
     "metadata": {},
     "output_type": "execute_result"
    }
   ],
   "source": [
    "random.seed(42)\n",
    "oilless_chps = [chp for chp in get_image_files(path/'chp') if chp.stem not in oil_chps]\n",
    "density = 0\n",
    "num_oilless = density * len(oil_chps)\n",
    "mixed_chps = random.sample(oilless_chps,num_oilless) + [path/'chp'/(chp+'.png') for chp in oil_chps]\n",
    "len(mixed_chps)"
   ]
  },
  {
   "cell_type": "code",
   "execution_count": null,
   "metadata": {
    "id": "_HsNE9p2Wqep"
   },
   "outputs": [],
   "source": [
    "def get_chps(path): return mixed_chps\n",
    "def get_lbls(fn): return fn.parent.parent/\"lbl_no3\"/f\"{fn.name}\"\n",
    "def splitter_func(fn): return fn.name.rsplit('_',1)[0] in valid_names # XXX Check to make sure this should be returning True for Valid\n",
    "\n",
    "drive_files = get_chps(path)"
   ]
  },
  {
   "cell_type": "code",
   "execution_count": null,
   "metadata": {
    "id": "awsaMCkNijP4"
   },
   "outputs": [],
   "source": [
    "dateTimeObj = datetime.now()\n",
    "timestampStr = dateTimeObj.strftime(\"%d_%b_%Y_%H_%M_%S\")\n",
    "lcl =  Path('/root/data/experiments/cv1/'+timestampStr+'/')\n",
    "#lcl = Path(\"../out_data\")\n",
    "lcl.mkdir(exist_ok=True)\n",
    "modelpath = lcl\n",
    "\n",
    "use_lcl = False\n",
    "if use_lcl:\n",
    "  path = lcl\n",
    "  lcl_chp = path/\"chp\"\n",
    "  lcl_lbl = path/\"lbl_no3\"\n",
    "  lcl_chp.mkdir(exist_ok=True)\n",
    "  lcl_lbl.mkdir(exist_ok=True)\n",
    "  for i, f in enumerate(drive_files): # 10 minutes?!\n",
    "    if not i%50: print(i, f)\n",
    "    if not (lcl_chp/f.name).exists():\n",
    "      copyfile(f, lcl_chp/f.name)\n",
    "    if not (lcl_lbl/f.name).exists():\n",
    "      copyfile(get_lbls(f), lcl_lbl/f.name)"
   ]
  },
  {
   "cell_type": "code",
   "execution_count": null,
   "metadata": {
    "id": "qoHswk_YP7iV"
   },
   "outputs": [],
   "source": [
    "seg_db = DataBlock(\n",
    "    blocks=(ImageBlock, MaskBlock(codes=codes)),\n",
    "    get_items = get_chps,\n",
    "    splitter=FuncSplitter(splitter_func),\n",
    "    batch_tfms=augs,\n",
    "    get_y=get_lbls)"
   ]
  },
  {
   "cell_type": "code",
   "execution_count": null,
   "metadata": {
    "colab": {
     "base_uri": "https://localhost:8080/"
    },
    "executionInfo": {
     "elapsed": 3300,
     "status": "ok",
     "timestamp": 1632546955601,
     "user": {
      "displayName": "Jona Raphael",
      "photoUrl": "https://lh3.googleusercontent.com/a-/AOh14GjFH3JKgScTtrAcB2yttHcHQ3q_PCg3Xi9B7XE-=s64",
      "userId": "11620402000831919596"
     },
     "user_tz": 240
    },
    "id": "DXMotRvjP7Za",
    "outputId": "d62fa328-7ed6-4e4e-aaae-cf201ac9bc69"
   },
   "outputs": [],
   "source": [
    "dls = SegmentationDataLoaders.from_dblock(\n",
    "    dblock = seg_db,\n",
    "    source = path,\n",
    "    path = path,\n",
    "    bs = 4)"
   ]
  },
  {
   "cell_type": "code",
   "execution_count": null,
   "metadata": {},
   "outputs": [],
   "source": [
    "seg_db.summary(path)"
   ]
  },
  {
   "cell_type": "code",
   "execution_count": null,
   "metadata": {
    "colab": {
     "base_uri": "https://localhost:8080/",
     "height": 357
    },
    "executionInfo": {
     "elapsed": 335,
     "status": "ok",
     "timestamp": 1632546955921,
     "user": {
      "displayName": "Jona Raphael",
      "photoUrl": "https://lh3.googleusercontent.com/a-/AOh14GjFH3JKgScTtrAcB2yttHcHQ3q_PCg3Xi9B7XE-=s64",
      "userId": "11620402000831919596"
     },
     "user_tz": 240
    },
    "id": "P-7SCS_V6Orz",
    "outputId": "81a80929-4c76-4333-b07c-868c6918a553"
   },
   "outputs": [],
   "source": [
    "dls.show_batch(vmin=0, vmax=3)"
   ]
  },
  {
   "cell_type": "code",
   "execution_count": null,
   "metadata": {
    "id": "uPn56uxHDP_j"
   },
   "outputs": [],
   "source": [
    "# add best model callback saver\n",
    "# write to drive not lcl"
   ]
  },
  {
   "cell_type": "code",
   "execution_count": null,
   "metadata": {
    "id": "AE9i5evdCXon"
   },
   "outputs": [],
   "source": [
    "arch = 18\n",
    "archs = {18: resnet18, 34: resnet34, 50: resnet50}"
   ]
  },
  {
   "cell_type": "code",
   "execution_count": null,
   "metadata": {
    "colab": {
     "base_uri": "https://localhost:8080/"
    },
    "executionInfo": {
     "elapsed": 721,
     "status": "ok",
     "timestamp": 1632546956633,
     "user": {
      "displayName": "Jona Raphael",
      "photoUrl": "https://lh3.googleusercontent.com/a-/AOh14GjFH3JKgScTtrAcB2yttHcHQ3q_PCg3Xi9B7XE-=s64",
      "userId": "11620402000831919596"
     },
     "user_tz": 240
    },
    "id": "VQDrYV4as0f4",
    "outputId": "be5c7bec-7b97-409b-dbc7-a59676fed601"
   },
   "outputs": [],
   "source": [
    "learn = unet_learner(dls, archs[arch], metrics=[Dice()], model_dir=modelpath, cbs=[MixedPrecision])"
   ]
  },
  {
   "cell_type": "code",
   "execution_count": null,
   "metadata": {
    "colab": {
     "base_uri": "https://localhost:8080/",
     "height": 378
    },
    "executionInfo": {
     "elapsed": 3689,
     "status": "error",
     "timestamp": 1632546972885,
     "user": {
      "displayName": "Jona Raphael",
      "photoUrl": "https://lh3.googleusercontent.com/a-/AOh14GjFH3JKgScTtrAcB2yttHcHQ3q_PCg3Xi9B7XE-=s64",
      "userId": "11620402000831919596"
     },
     "user_tz": 240
    },
    "id": "8lCi_0dct6jf",
    "outputId": "b85c39c8-6c8a-4c2b-dd2b-c0e2a5d74132",
    "tags": []
   },
   "outputs": [],
   "source": [
    "lr = learn.lr_find()"
   ]
  },
  {
   "cell_type": "code",
   "execution_count": null,
   "metadata": {},
   "outputs": [],
   "source": [
    "lr"
   ]
  },
  {
   "cell_type": "code",
   "execution_count": null,
   "metadata": {},
   "outputs": [],
   "source": [
    "cbs = [TensorBoardCallback(projector=False, trace_model=False)]\n"
   ]
  },
  {
   "cell_type": "code",
   "execution_count": null,
   "metadata": {
    "id": "Gvtui2X587kZ"
   },
   "outputs": [],
   "source": [
    "learn.fine_tune(5, 2e-4, cbs=cbs)#, cbs=SaveModelCallback(monitor='dice'))w"
   ]
  },
  {
   "cell_type": "code",
   "execution_count": null,
   "metadata": {
    "id": "XERpDg9jZli1"
   },
   "outputs": [],
   "source": [
    "# learn.load(\"model\")"
   ]
  },
  {
   "cell_type": "code",
   "execution_count": null,
   "metadata": {},
   "outputs": [],
   "source": [
    "learn"
   ]
  },
  {
   "cell_type": "code",
   "execution_count": null,
   "metadata": {
    "id": "i4v3-QkSCOu0"
   },
   "outputs": [],
   "source": [
    "savename = f'{density}_{arch}_{size}_{round(learn.validate()[1],3)}.pkl'\n",
    "learn.export(f'{modelpath}/{savename}')"
   ]
  },
  {
   "cell_type": "code",
   "execution_count": null,
   "metadata": {},
   "outputs": [],
   "source": [
    "ls {modelpath}"
   ]
  },
  {
   "cell_type": "code",
   "execution_count": null,
   "metadata": {
    "id": "VJQ3VVuD9rx2"
   },
   "outputs": [],
   "source": [
    "learn.show_results(max_n=4, figsize=(20,20), vmin=0, vmax=3)"
   ]
  },
  {
   "cell_type": "markdown",
   "metadata": {},
   "source": [
    "Default path for tensorboard logs is `./runs/`"
   ]
  },
  {
   "cell_type": "code",
   "execution_count": null,
   "metadata": {},
   "outputs": [],
   "source": [
    "!ls './runs/'"
   ]
  },
  {
   "cell_type": "markdown",
   "metadata": {},
   "source": [
    "Copy logs to appropriate exeriments folder in the mounted GCS volume."
   ]
  },
  {
   "cell_type": "code",
   "execution_count": null,
   "metadata": {},
   "outputs": [],
   "source": [
    "!cp -R './runs/' {modelpath}'/tensorboard/'"
   ]
  },
  {
   "cell_type": "markdown",
   "metadata": {},
   "source": [
    "Now, run the following from anywhere with gcs authenticated:"
   ]
  },
  {
   "cell_type": "code",
   "execution_count": null,
   "metadata": {},
   "outputs": [],
   "source": [
    "!tensorboard --logdir=\"/root/data/experiments/cv1/09_Mar_2022_18_32_17/tensorboard\"\n"
   ]
  },
  {
   "cell_type": "code",
   "execution_count": null,
   "metadata": {},
   "outputs": [],
   "source": []
  }
 ],
 "metadata": {
  "accelerator": "GPU",
  "colab": {
   "collapsed_sections": [],
   "name": "fastai2_training.ipynb",
   "provenance": []
  },
  "kernelspec": {
   "display_name": "Python [conda env:fastai2]",
   "language": "python",
   "name": "conda-env-fastai2-py"
  },
  "language_info": {
   "codemirror_mode": {
    "name": "ipython",
    "version": 3
   },
   "file_extension": ".py",
   "mimetype": "text/x-python",
   "name": "python",
   "nbconvert_exporter": "python",
   "pygments_lexer": "ipython3",
   "version": "3.9.7"
  }
 },
 "nbformat": 4,
 "nbformat_minor": 4
}
