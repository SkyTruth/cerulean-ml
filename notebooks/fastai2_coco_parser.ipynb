{
 "cells": [
  {
   "cell_type": "code",
   "execution_count": 1,
   "metadata": {},
   "outputs": [],
   "source": [
    "from ceruleanml import data\n",
    "from icevision.parsers import COCOMaskParser\n",
    "from icevision.data import SingleSplitSplitter\n",
    "from fastai.data.block import DataBlock\n",
    "from fastai.vision.data import ImageBlock, MaskBlock\n",
    "from fastai.vision.augment import aug_transforms\n",
    "from fastai.data.transforms import RandomSplitter\n",
    "import os"
   ]
  },
  {
   "cell_type": "markdown",
   "metadata": {},
   "source": [
    "### Parsing COCO Dataset with Icevision"
   ]
  },
  {
   "cell_type": "code",
   "execution_count": 9,
   "metadata": {},
   "outputs": [
    {
     "data": {
      "application/vnd.jupyter.widget-view+json": {
       "model_id": "dbe49c0cd1fd4207a67d9ec273dafe33",
       "version_major": 2,
       "version_minor": 0
      },
      "text/plain": [
       "  0%|          | 0/487 [00:00<?, ?it/s]"
      ]
     },
     "metadata": {},
     "output_type": "display_data"
    },
    {
     "name": "stderr",
     "output_type": "stream",
     "text": [
      "\u001b[1m\u001b[1mINFO    \u001b[0m\u001b[1m\u001b[0m - \u001b[1m\u001b[34m\u001b[1mAutofixing records\u001b[0m\u001b[1m\u001b[34m\u001b[0m\u001b[1m\u001b[0m | \u001b[36micevision.parsers.parser\u001b[0m:\u001b[36mparse\u001b[0m:\u001b[36m122\u001b[0m\n"
     ]
    },
    {
     "data": {
      "application/vnd.jupyter.widget-view+json": {
       "model_id": "861a87ba221d46edaad709524144885b",
       "version_major": 2,
       "version_minor": 0
      },
      "text/plain": [
       "  0%|          | 0/487 [00:00<?, ?it/s]"
      ]
     },
     "metadata": {},
     "output_type": "display_data"
    }
   ],
   "source": [
    "size = 64  # Progressive resizing could happen here\n",
    "augs = aug_transforms(flip_vert=True, max_warp=0.1, size=size)\n",
    "class_map = {v: k for k, v in data.class_mapping_coco_inv.items()}\n",
    "class_ints = list(range(1, len(list(class_map.keys())[:-1]) + 1))\n",
    "parser = COCOMaskParser(\n",
    "    annotations_filepath=\"../../data/cv2_transfer/instances_slicks_test_v2.json\",\n",
    "    img_dir=\"../../data/tiled_image_slicks_test_v2\",\n",
    ")\n",
    "\n",
    "train_records = parser.parse(data_splitter=SingleSplitSplitter())"
   ]
  },
  {
   "cell_type": "markdown",
   "metadata": {},
   "source": [
    "### Importing functions for returning an image sample and a semantic segmentation label for each sample"
   ]
  },
  {
   "cell_type": "code",
   "execution_count": 10,
   "metadata": {},
   "outputs": [],
   "source": [
    "from ceruleanml.coco_load_fastai import group_record_ids_by_sample, get_image_path, record_to_mask\n",
    "\n",
    "record_id_groups = group_record_ids_by_sample(train_records[0])"
   ]
  },
  {
   "cell_type": "markdown",
   "metadata": {},
   "source": [
    "### Constructing a FastAI DataBlock that uses parsed COCO Dataset from icevision parser+"
   ]
  },
  {
   "cell_type": "code",
   "execution_count": 11,
   "metadata": {},
   "outputs": [
    {
     "name": "stderr",
     "output_type": "stream",
     "text": [
      "/root/miniconda3/envs/fastai2/lib/python3.9/site-packages/torch/_tensor.py:1051: UserWarning: __floordiv__ is deprecated, and its behavior will change in a future version of pytorch. It currently rounds toward 0 (like the 'trunc' function NOT 'floor'). This results in incorrect rounding for negative values. To keep the current behavior, use torch.div(a, b, rounding_mode='trunc'), or for actual floor division, use torch.div(a, b, rounding_mode='floor').\n",
      "  ret = func(*args, **kwargs)\n"
     ]
    }
   ],
   "source": [
    "coco_seg_dblock = DataBlock(\n",
    "    blocks=(ImageBlock, MaskBlock(codes=class_ints)),\n",
    "    get_x=lambda record_id_list: get_image_path(train_records[0], record_id_list),\n",
    "    splitter=RandomSplitter(),\n",
    "    get_y=lambda record_id_list: record_to_mask(train_records[0], record_id_list),\n",
    "    batch_tfms=aug_transforms(),\n",
    "    n_inp=1,\n",
    ")\n",
    "\n",
    "dls = coco_seg_dblock.dataloaders(source=record_id_groups)"
   ]
  },
  {
   "cell_type": "code",
   "execution_count": 8,
   "metadata": {},
   "outputs": [
    {
     "ename": "ValueError",
     "evalue": "This DataLoader does not contain any batches",
     "output_type": "error",
     "traceback": [
      "\u001b[0;31m---------------------------------------------------------------------------\u001b[0m",
      "\u001b[0;31mValueError\u001b[0m                                Traceback (most recent call last)",
      "Input \u001b[0;32mIn [8]\u001b[0m, in \u001b[0;36m<module>\u001b[0;34m\u001b[0m\n\u001b[0;32m----> 1\u001b[0m \u001b[43mdls\u001b[49m\u001b[38;5;241;43m.\u001b[39;49m\u001b[43mshow_batch\u001b[49m\u001b[43m(\u001b[49m\u001b[43mmax_n\u001b[49m\u001b[38;5;241;43m=\u001b[39;49m\u001b[38;5;241;43m1\u001b[39;49m\u001b[43m)\u001b[49m\n",
      "File \u001b[0;32m~/miniconda3/envs/fastai2/lib/python3.9/site-packages/fastai/data/core.py:100\u001b[0m, in \u001b[0;36mTfmdDL.show_batch\u001b[0;34m(self, b, max_n, ctxs, show, unique, **kwargs)\u001b[0m\n\u001b[1;32m     98\u001b[0m     old_get_idxs \u001b[38;5;241m=\u001b[39m \u001b[38;5;28mself\u001b[39m\u001b[38;5;241m.\u001b[39mget_idxs\n\u001b[1;32m     99\u001b[0m     \u001b[38;5;28mself\u001b[39m\u001b[38;5;241m.\u001b[39mget_idxs \u001b[38;5;241m=\u001b[39m \u001b[38;5;28;01mlambda\u001b[39;00m: Inf\u001b[38;5;241m.\u001b[39mzeros\n\u001b[0;32m--> 100\u001b[0m \u001b[38;5;28;01mif\u001b[39;00m b \u001b[38;5;129;01mis\u001b[39;00m \u001b[38;5;28;01mNone\u001b[39;00m: b \u001b[38;5;241m=\u001b[39m \u001b[38;5;28;43mself\u001b[39;49m\u001b[38;5;241;43m.\u001b[39;49m\u001b[43mone_batch\u001b[49m\u001b[43m(\u001b[49m\u001b[43m)\u001b[49m\n\u001b[1;32m    101\u001b[0m \u001b[38;5;28;01mif\u001b[39;00m \u001b[38;5;129;01mnot\u001b[39;00m show: \u001b[38;5;28;01mreturn\u001b[39;00m \u001b[38;5;28mself\u001b[39m\u001b[38;5;241m.\u001b[39m_pre_show_batch(b, max_n\u001b[38;5;241m=\u001b[39mmax_n)\n\u001b[1;32m    102\u001b[0m show_batch(\u001b[38;5;241m*\u001b[39m\u001b[38;5;28mself\u001b[39m\u001b[38;5;241m.\u001b[39m_pre_show_batch(b, max_n\u001b[38;5;241m=\u001b[39mmax_n), ctxs\u001b[38;5;241m=\u001b[39mctxs, max_n\u001b[38;5;241m=\u001b[39mmax_n, \u001b[38;5;241m*\u001b[39m\u001b[38;5;241m*\u001b[39mkwargs)\n",
      "File \u001b[0;32m~/miniconda3/envs/fastai2/lib/python3.9/site-packages/fastai/data/load.py:149\u001b[0m, in \u001b[0;36mDataLoader.one_batch\u001b[0;34m(self)\u001b[0m\n\u001b[1;32m    148\u001b[0m \u001b[38;5;28;01mdef\u001b[39;00m \u001b[38;5;21mone_batch\u001b[39m(\u001b[38;5;28mself\u001b[39m):\n\u001b[0;32m--> 149\u001b[0m     \u001b[38;5;28;01mif\u001b[39;00m \u001b[38;5;28mself\u001b[39m\u001b[38;5;241m.\u001b[39mn \u001b[38;5;129;01mis\u001b[39;00m \u001b[38;5;129;01mnot\u001b[39;00m \u001b[38;5;28;01mNone\u001b[39;00m \u001b[38;5;129;01mand\u001b[39;00m \u001b[38;5;28mlen\u001b[39m(\u001b[38;5;28mself\u001b[39m)\u001b[38;5;241m==\u001b[39m\u001b[38;5;241m0\u001b[39m: \u001b[38;5;28;01mraise\u001b[39;00m \u001b[38;5;167;01mValueError\u001b[39;00m(\u001b[38;5;124mf\u001b[39m\u001b[38;5;124m'\u001b[39m\u001b[38;5;124mThis DataLoader does not contain any batches\u001b[39m\u001b[38;5;124m'\u001b[39m)\n\u001b[1;32m    150\u001b[0m     \u001b[38;5;28;01mwith\u001b[39;00m \u001b[38;5;28mself\u001b[39m\u001b[38;5;241m.\u001b[39mfake_l\u001b[38;5;241m.\u001b[39mno_multiproc(): res \u001b[38;5;241m=\u001b[39m first(\u001b[38;5;28mself\u001b[39m)\n\u001b[1;32m    151\u001b[0m     \u001b[38;5;28;01mif\u001b[39;00m \u001b[38;5;28mhasattr\u001b[39m(\u001b[38;5;28mself\u001b[39m, \u001b[38;5;124m'\u001b[39m\u001b[38;5;124mit\u001b[39m\u001b[38;5;124m'\u001b[39m): \u001b[38;5;28mdelattr\u001b[39m(\u001b[38;5;28mself\u001b[39m, \u001b[38;5;124m'\u001b[39m\u001b[38;5;124mit\u001b[39m\u001b[38;5;124m'\u001b[39m)\n",
      "\u001b[0;31mValueError\u001b[0m: This DataLoader does not contain any batches"
     ]
    }
   ],
   "source": [
    "dls.show_batch(max_n=1)"
   ]
  },
  {
   "cell_type": "code",
   "execution_count": null,
   "metadata": {},
   "outputs": [],
   "source": [
    "dls = SegmentationDataLoaders.from_dblock(\n",
    "    dblock = seg_db,\n",
    "    source = path,\n",
    "    path = path,\n",
    "    bs = 4)"
   ]
  },
  {
   "cell_type": "markdown",
   "metadata": {},
   "source": [
    "## CV1 Parser"
   ]
  },
  {
   "cell_type": "code",
   "execution_count": 43,
   "metadata": {
    "id": "uCnKPbcUZyW8"
   },
   "outputs": [],
   "source": [
    "mount_path = \"/root/data/cv1_transfer/\"\n",
    "ml_data_path = os.path.join(mount_path, \"labeled_data\")\n",
    "path = Path(ml_data_path)\n",
    "oil_chps = np.loadtxt(path/'oil_chps.txt', dtype=str)\n",
    "codes = np.loadtxt(path/'codes.txt', dtype=str)\n",
    "valid_names = np.loadtxt(path/'valid_names.txt', dtype=str)"
   ]
  },
  {
   "cell_type": "code",
   "execution_count": 44,
   "metadata": {},
   "outputs": [],
   "source": [
    "import skimage.io as skio\n",
    "import numpy as np\n",
    "import dask\n",
    "\n",
    "labels = path/\"lbl\"\n",
    "labels_no_3 = path/\"lbl_no3\"\n",
    "\n",
    "os.makedirs(labels_no_3, exist_ok=True)\n",
    "\n",
    "vals = set()\n",
    "lazy_results = []\n",
    "for i in list(labels.glob(\"*.png\"))[0:100]:\n",
    "    arr = skio.imread(i)\n",
    "    values = np.unique(arr)\n",
    "    # I think this was setting a class we didn't need to 0 \n",
    "    # for the purposes of recreating Jona's binary classifier\n",
    "    arr[arr==3] = 0\n",
    "    try:\n",
    "        lazy_result = dask.delayed(skio.imsave)(labels_no_3 / i.name, arr, check_contrast=False)\n",
    "        lazy_results.append(lazy_result)\n",
    "    except:\n",
    "        continue\n",
    "computed_results = dask.compute(*lazy_results)"
   ]
  },
  {
   "cell_type": "code",
   "execution_count": 45,
   "metadata": {
    "colab": {
     "base_uri": "https://localhost:8080/"
    },
    "executionInfo": {
     "elapsed": 240,
     "status": "ok",
     "timestamp": 1632546951657,
     "user": {
      "displayName": "Jona Raphael",
      "photoUrl": "https://lh3.googleusercontent.com/a-/AOh14GjFH3JKgScTtrAcB2yttHcHQ3q_PCg3Xi9B7XE-=s64",
      "userId": "11620402000831919596"
     },
     "user_tz": 240
    },
    "id": "ub_sFHTytr1P",
    "outputId": "e91e92e9-2f5c-4cae-9adf-e562a176498c"
   },
   "outputs": [
    {
     "data": {
      "text/plain": [
       "473"
      ]
     },
     "execution_count": 45,
     "metadata": {},
     "output_type": "execute_result"
    }
   ],
   "source": [
    "random.seed(42)\n",
    "oilless_chps = [chp for chp in get_image_files(path/'chp') if chp.stem not in oil_chps]\n",
    "density = 0\n",
    "num_oilless = density * len(oil_chps)\n",
    "mixed_chps = random.sample(oilless_chps,num_oilless) + [path/'chp'/(chp+'.png') for chp in oil_chps]\n",
    "len(mixed_chps)"
   ]
  },
  {
   "cell_type": "code",
   "execution_count": 46,
   "metadata": {},
   "outputs": [
    {
     "data": {
      "text/plain": [
       "array(['Background', 'Oil', 'Coincident'], dtype='<U10')"
      ]
     },
     "execution_count": 46,
     "metadata": {},
     "output_type": "execute_result"
    }
   ],
   "source": [
    "codes"
   ]
  },
  {
   "cell_type": "code",
   "execution_count": null,
   "metadata": {
    "id": "_HsNE9p2Wqep"
   },
   "outputs": [],
   "source": [
    "def get_chps(path): return mixed_chps\n",
    "def get_lbls(fn): return fn.parent.parent/\"lbl_no3\"/f\"{fn.name}\"\n",
    "def splitter_func(fn): return fn.name.rsplit('_',1)[0] in valid_names # XXX Check to make sure this should be returning True for Valid\n",
    "\n",
    "drive_files = get_chps(path)"
   ]
  },
  {
   "cell_type": "code",
   "execution_count": null,
   "metadata": {
    "id": "awsaMCkNijP4"
   },
   "outputs": [],
   "source": [
    "dateTimeObj = datetime.now()\n",
    "timestampStr = dateTimeObj.strftime(\"%d_%b_%Y_%H_%M_%S\")\n",
    "lcl =  Path('/root/data/experiments/cv1/'+timestampStr+'/')\n",
    "#lcl = Path(\"../out_data\")\n",
    "lcl.mkdir(exist_ok=True)\n",
    "modelpath = lcl\n",
    "\n",
    "use_lcl = False\n",
    "if use_lcl:\n",
    "  path = lcl\n",
    "  lcl_chp = path/\"chp\"\n",
    "  lcl_lbl = path/\"lbl_no3\"\n",
    "  lcl_chp.mkdir(exist_ok=True)\n",
    "  lcl_lbl.mkdir(exist_ok=True)\n",
    "  for i, f in enumerate(drive_files): # 10 minutes?!\n",
    "    if not i%50: print(i, f)\n",
    "    if not (lcl_chp/f.name).exists():\n",
    "      copyfile(f, lcl_chp/f.name)\n",
    "    if not (lcl_lbl/f.name).exists():\n",
    "      copyfile(get_lbls(f), lcl_lbl/f.name)"
   ]
  },
  {
   "cell_type": "code",
   "execution_count": null,
   "metadata": {
    "id": "qoHswk_YP7iV"
   },
   "outputs": [],
   "source": [
    "seg_db = DataBlock(\n",
    "    blocks=(ImageBlock, MaskBlock(codes=codes)),\n",
    "    get_items = get_chps,\n",
    "    splitter=FuncSplitter(splitter_func),\n",
    "    batch_tfms=augs,\n",
    "    get_y=get_lbls)"
   ]
  },
  {
   "cell_type": "code",
   "execution_count": null,
   "metadata": {
    "colab": {
     "base_uri": "https://localhost:8080/"
    },
    "executionInfo": {
     "elapsed": 3300,
     "status": "ok",
     "timestamp": 1632546955601,
     "user": {
      "displayName": "Jona Raphael",
      "photoUrl": "https://lh3.googleusercontent.com/a-/AOh14GjFH3JKgScTtrAcB2yttHcHQ3q_PCg3Xi9B7XE-=s64",
      "userId": "11620402000831919596"
     },
     "user_tz": 240
    },
    "id": "DXMotRvjP7Za",
    "outputId": "d62fa328-7ed6-4e4e-aaae-cf201ac9bc69"
   },
   "outputs": [],
   "source": [
    "dls = SegmentationDataLoaders.from_dblock(\n",
    "    dblock = seg_db,\n",
    "    source = path,\n",
    "    path = path,\n",
    "    bs = 4)"
   ]
  },
  {
   "cell_type": "code",
   "execution_count": null,
   "metadata": {},
   "outputs": [],
   "source": [
    "seg_db.summary(path)"
   ]
  },
  {
   "cell_type": "code",
   "execution_count": null,
   "metadata": {
    "colab": {
     "base_uri": "https://localhost:8080/",
     "height": 357
    },
    "executionInfo": {
     "elapsed": 335,
     "status": "ok",
     "timestamp": 1632546955921,
     "user": {
      "displayName": "Jona Raphael",
      "photoUrl": "https://lh3.googleusercontent.com/a-/AOh14GjFH3JKgScTtrAcB2yttHcHQ3q_PCg3Xi9B7XE-=s64",
      "userId": "11620402000831919596"
     },
     "user_tz": 240
    },
    "id": "P-7SCS_V6Orz",
    "outputId": "81a80929-4c76-4333-b07c-868c6918a553"
   },
   "outputs": [],
   "source": [
    "dls.show_batch(vmin=0, vmax=3)"
   ]
  },
  {
   "cell_type": "code",
   "execution_count": null,
   "metadata": {
    "id": "uPn56uxHDP_j"
   },
   "outputs": [],
   "source": [
    "# add best model callback saver\n",
    "# write to drive not lcl"
   ]
  },
  {
   "cell_type": "code",
   "execution_count": null,
   "metadata": {
    "id": "AE9i5evdCXon"
   },
   "outputs": [],
   "source": [
    "arch = 18\n",
    "archs = {18: resnet18, 34: resnet34, 50: resnet50}"
   ]
  },
  {
   "cell_type": "code",
   "execution_count": null,
   "metadata": {
    "colab": {
     "base_uri": "https://localhost:8080/"
    },
    "executionInfo": {
     "elapsed": 721,
     "status": "ok",
     "timestamp": 1632546956633,
     "user": {
      "displayName": "Jona Raphael",
      "photoUrl": "https://lh3.googleusercontent.com/a-/AOh14GjFH3JKgScTtrAcB2yttHcHQ3q_PCg3Xi9B7XE-=s64",
      "userId": "11620402000831919596"
     },
     "user_tz": 240
    },
    "id": "VQDrYV4as0f4",
    "outputId": "be5c7bec-7b97-409b-dbc7-a59676fed601"
   },
   "outputs": [],
   "source": [
    "learn = unet_learner(dls, archs[arch], metrics=[Dice()], model_dir=modelpath, cbs=[MixedPrecision])"
   ]
  },
  {
   "cell_type": "code",
   "execution_count": null,
   "metadata": {
    "colab": {
     "base_uri": "https://localhost:8080/",
     "height": 378
    },
    "executionInfo": {
     "elapsed": 3689,
     "status": "error",
     "timestamp": 1632546972885,
     "user": {
      "displayName": "Jona Raphael",
      "photoUrl": "https://lh3.googleusercontent.com/a-/AOh14GjFH3JKgScTtrAcB2yttHcHQ3q_PCg3Xi9B7XE-=s64",
      "userId": "11620402000831919596"
     },
     "user_tz": 240
    },
    "id": "8lCi_0dct6jf",
    "outputId": "b85c39c8-6c8a-4c2b-dd2b-c0e2a5d74132",
    "tags": []
   },
   "outputs": [],
   "source": [
    "lr = learn.lr_find()"
   ]
  },
  {
   "cell_type": "code",
   "execution_count": null,
   "metadata": {},
   "outputs": [],
   "source": [
    "lr"
   ]
  },
  {
   "cell_type": "code",
   "execution_count": null,
   "metadata": {},
   "outputs": [],
   "source": [
    "cbs = [TensorBoardCallback(projector=False, trace_model=False)]\n"
   ]
  },
  {
   "cell_type": "code",
   "execution_count": null,
   "metadata": {
    "id": "Gvtui2X587kZ"
   },
   "outputs": [],
   "source": [
    "learn.fine_tune(5, 2e-4, cbs=cbs)#, cbs=SaveModelCallback(monitor='dice'))w"
   ]
  },
  {
   "cell_type": "code",
   "execution_count": null,
   "metadata": {
    "id": "XERpDg9jZli1"
   },
   "outputs": [],
   "source": [
    "# learn.load(\"model\")"
   ]
  },
  {
   "cell_type": "code",
   "execution_count": null,
   "metadata": {},
   "outputs": [],
   "source": [
    "learn"
   ]
  },
  {
   "cell_type": "code",
   "execution_count": null,
   "metadata": {
    "id": "i4v3-QkSCOu0"
   },
   "outputs": [],
   "source": [
    "savename = f'{density}_{arch}_{size}_{round(learn.validate()[1],3)}.pkl'\n",
    "learn.export(f'{modelpath}/{savename}')"
   ]
  },
  {
   "cell_type": "code",
   "execution_count": null,
   "metadata": {},
   "outputs": [],
   "source": [
    "ls {modelpath}"
   ]
  },
  {
   "cell_type": "code",
   "execution_count": null,
   "metadata": {
    "id": "VJQ3VVuD9rx2"
   },
   "outputs": [],
   "source": [
    "learn.show_results(max_n=4, figsize=(20,20), vmin=0, vmax=3)"
   ]
  },
  {
   "cell_type": "markdown",
   "metadata": {},
   "source": [
    "Default path for tensorboard logs is `./runs/`"
   ]
  },
  {
   "cell_type": "code",
   "execution_count": null,
   "metadata": {},
   "outputs": [],
   "source": [
    "!ls './runs/'"
   ]
  },
  {
   "cell_type": "markdown",
   "metadata": {},
   "source": [
    "Copy logs to appropriate exeriments folder in the mounted GCS volume."
   ]
  },
  {
   "cell_type": "code",
   "execution_count": null,
   "metadata": {},
   "outputs": [],
   "source": [
    "!cp -R './runs/' {modelpath}'/tensorboard/'"
   ]
  },
  {
   "cell_type": "markdown",
   "metadata": {},
   "source": [
    "Now, run the following from anywhere with gcs authenticated:"
   ]
  },
  {
   "cell_type": "code",
   "execution_count": null,
   "metadata": {},
   "outputs": [],
   "source": [
    "!tensorboard --logdir=\"/root/data/experiments/cv1/09_Mar_2022_18_32_17/tensorboard\"\n"
   ]
  },
  {
   "cell_type": "code",
   "execution_count": null,
   "metadata": {},
   "outputs": [],
   "source": []
  }
 ],
 "metadata": {
  "accelerator": "GPU",
  "colab": {
   "collapsed_sections": [],
   "name": "fastai2_training.ipynb",
   "provenance": []
  },
  "kernelspec": {
   "display_name": "Python [conda env:fastai2]",
   "language": "python",
   "name": "conda-env-fastai2-py"
  },
  "language_info": {
   "codemirror_mode": {
    "name": "ipython",
    "version": 3
   },
   "file_extension": ".py",
   "mimetype": "text/x-python",
   "name": "python",
   "nbconvert_exporter": "python",
   "pygments_lexer": "ipython3",
   "version": "3.9.7"
  }
 },
 "nbformat": 4,
 "nbformat_minor": 4
}
