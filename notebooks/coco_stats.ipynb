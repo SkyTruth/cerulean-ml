{
 "cells": [
  {
   "cell_type": "code",
   "execution_count": 1,
   "id": "b3cc2e6c-76a8-4978-9a6b-52a8559fcd5a",
   "metadata": {},
   "outputs": [
    {
     "data": {
      "application/vnd.jupyter.widget-view+json": {
       "model_id": "28f8a245234447d9bf820e0a9bdf2a0b",
       "version_major": 2,
       "version_minor": 0
      },
      "text/plain": [
       "  0%|          | 0/1505 [00:00<?, ?it/s]"
      ]
     },
     "metadata": {},
     "output_type": "display_data"
    },
    {
     "name": "stderr",
     "output_type": "stream",
     "text": [
      "\u001b[1m\u001b[1mINFO    \u001b[0m\u001b[1m\u001b[0m - \u001b[1m\u001b[34m\u001b[1mAutofixing records\u001b[0m\u001b[1m\u001b[34m\u001b[0m\u001b[1m\u001b[0m | \u001b[36micevision.parsers.parser\u001b[0m:\u001b[36mparse\u001b[0m:\u001b[36m122\u001b[0m\n"
     ]
    },
    {
     "data": {
      "application/vnd.jupyter.widget-view+json": {
       "model_id": "7c4ff98d22a94c1c95c557e44b6cfa0f",
       "version_major": 2,
       "version_minor": 0
      },
      "text/plain": [
       "  0%|          | 0/1188 [00:00<?, ?it/s]"
      ]
     },
     "metadata": {},
     "output_type": "display_data"
    }
   ],
   "source": [
    "import os\n",
    "import numpy as np\n",
    "import ceruleanml.data as data\n",
    "import pandas as pd\n",
    "from icevision.parsers import COCOMaskParser\n",
    "from icevision.data import SingleSplitSplitter\n",
    "\n",
    "parser = COCOMaskParser(annotations_filepath=\"./instances_slicks_test_v2.json\", img_dir=\"./tiled_images_test_v2\")\n",
    "\n",
    "train_records = parser.parse(data_splitter=SingleSplitSplitter())"
   ]
  },
  {
   "cell_type": "code",
   "execution_count": 2,
   "id": "a3465e71-acae-436f-9294-0f2862e6677f",
   "metadata": {},
   "outputs": [],
   "source": [
    "from ceruleanml.coco_stats import region_props_for_instance_type\n",
    "coco_class_list = [\"infra_slick\", \"natural_seep\", \"coincident_vessel\", \"recent_vessel\", \"old_vessel\", \"ambiguous\"]\n",
    "\n",
    "cat_tables = []\n",
    "for cat in coco_class_list:\n",
    "    cat_table = region_props_for_instance_type(train_records[0], cat)\n",
    "    cat_tables.append(cat_table)\n",
    "instance_stats_df = pd.concat(cat_tables)\n",
    "    "
   ]
  },
  {
   "cell_type": "code",
   "execution_count": 3,
   "id": "d679fb97-eeaa-487d-82a2-91b8638bb289",
   "metadata": {},
   "outputs": [
    {
     "data": {
      "text/html": [
       "<div>\n",
       "<style scoped>\n",
       "    .dataframe tbody tr th:only-of-type {\n",
       "        vertical-align: middle;\n",
       "    }\n",
       "\n",
       "    .dataframe tbody tr th {\n",
       "        vertical-align: top;\n",
       "    }\n",
       "\n",
       "    .dataframe thead th {\n",
       "        text-align: right;\n",
       "    }\n",
       "</style>\n",
       "<table border=\"1\" class=\"dataframe\">\n",
       "  <thead>\n",
       "    <tr style=\"text-align: right;\">\n",
       "      <th></th>\n",
       "      <th>area</th>\n",
       "      <th>bbox_area</th>\n",
       "      <th>major_axis_length</th>\n",
       "      <th>axis_minor_length_bbox</th>\n",
       "    </tr>\n",
       "    <tr>\n",
       "      <th>category</th>\n",
       "      <th></th>\n",
       "      <th></th>\n",
       "      <th></th>\n",
       "      <th></th>\n",
       "    </tr>\n",
       "  </thead>\n",
       "  <tbody>\n",
       "    <tr>\n",
       "      <th>ambiguous</th>\n",
       "      <td>4355.0</td>\n",
       "      <td>31540.0</td>\n",
       "      <td>233.0</td>\n",
       "      <td>109.0</td>\n",
       "    </tr>\n",
       "    <tr>\n",
       "      <th>coincident_vessel</th>\n",
       "      <td>1710.0</td>\n",
       "      <td>28898.0</td>\n",
       "      <td>227.0</td>\n",
       "      <td>96.0</td>\n",
       "    </tr>\n",
       "    <tr>\n",
       "      <th>infra_slick</th>\n",
       "      <td>9810.0</td>\n",
       "      <td>24566.0</td>\n",
       "      <td>174.0</td>\n",
       "      <td>90.0</td>\n",
       "    </tr>\n",
       "    <tr>\n",
       "      <th>natural_seep</th>\n",
       "      <td>4350.0</td>\n",
       "      <td>67715.0</td>\n",
       "      <td>324.0</td>\n",
       "      <td>171.0</td>\n",
       "    </tr>\n",
       "    <tr>\n",
       "      <th>old_vessel</th>\n",
       "      <td>2954.0</td>\n",
       "      <td>28886.0</td>\n",
       "      <td>249.0</td>\n",
       "      <td>97.0</td>\n",
       "    </tr>\n",
       "    <tr>\n",
       "      <th>recent_vessel</th>\n",
       "      <td>1514.0</td>\n",
       "      <td>26904.0</td>\n",
       "      <td>260.0</td>\n",
       "      <td>95.0</td>\n",
       "    </tr>\n",
       "  </tbody>\n",
       "</table>\n",
       "</div>"
      ],
      "text/plain": [
       "                     area  bbox_area  major_axis_length  \\\n",
       "category                                                  \n",
       "ambiguous          4355.0    31540.0              233.0   \n",
       "coincident_vessel  1710.0    28898.0              227.0   \n",
       "infra_slick        9810.0    24566.0              174.0   \n",
       "natural_seep       4350.0    67715.0              324.0   \n",
       "old_vessel         2954.0    28886.0              249.0   \n",
       "recent_vessel      1514.0    26904.0              260.0   \n",
       "\n",
       "                   axis_minor_length_bbox  \n",
       "category                                   \n",
       "ambiguous                           109.0  \n",
       "coincident_vessel                    96.0  \n",
       "infra_slick                          90.0  \n",
       "natural_seep                        171.0  \n",
       "old_vessel                           97.0  \n",
       "recent_vessel                        95.0  "
      ]
     },
     "execution_count": 3,
     "metadata": {},
     "output_type": "execute_result"
    }
   ],
   "source": [
    "instance_stats_df.drop(columns = [\"bbox-0\",\"bbox-1\",\"bbox-2\",\"bbox-3\", \"img_name\"]).groupby(\"category\").mean().round()"
   ]
  },
  {
   "cell_type": "code",
   "execution_count": 4,
   "id": "1c68c5a1-336e-4982-b06d-18c9f2ab27ef",
   "metadata": {},
   "outputs": [
    {
     "data": {
      "text/html": [
       "<div>\n",
       "<style scoped>\n",
       "    .dataframe tbody tr th:only-of-type {\n",
       "        vertical-align: middle;\n",
       "    }\n",
       "\n",
       "    .dataframe tbody tr th {\n",
       "        vertical-align: top;\n",
       "    }\n",
       "\n",
       "    .dataframe thead th {\n",
       "        text-align: right;\n",
       "    }\n",
       "</style>\n",
       "<table border=\"1\" class=\"dataframe\">\n",
       "  <thead>\n",
       "    <tr style=\"text-align: right;\">\n",
       "      <th></th>\n",
       "      <th>area</th>\n",
       "      <th>bbox_area</th>\n",
       "      <th>major_axis_length</th>\n",
       "      <th>axis_minor_length_bbox</th>\n",
       "    </tr>\n",
       "    <tr>\n",
       "      <th>category</th>\n",
       "      <th></th>\n",
       "      <th></th>\n",
       "      <th></th>\n",
       "      <th></th>\n",
       "    </tr>\n",
       "  </thead>\n",
       "  <tbody>\n",
       "    <tr>\n",
       "      <th>ambiguous</th>\n",
       "      <td>17586</td>\n",
       "      <td>205156</td>\n",
       "      <td>675.0</td>\n",
       "      <td>431</td>\n",
       "    </tr>\n",
       "    <tr>\n",
       "      <th>coincident_vessel</th>\n",
       "      <td>19358</td>\n",
       "      <td>227328</td>\n",
       "      <td>778.0</td>\n",
       "      <td>448</td>\n",
       "    </tr>\n",
       "    <tr>\n",
       "      <th>infra_slick</th>\n",
       "      <td>258059</td>\n",
       "      <td>262144</td>\n",
       "      <td>722.0</td>\n",
       "      <td>512</td>\n",
       "    </tr>\n",
       "    <tr>\n",
       "      <th>natural_seep</th>\n",
       "      <td>49779</td>\n",
       "      <td>262144</td>\n",
       "      <td>1099.0</td>\n",
       "      <td>512</td>\n",
       "    </tr>\n",
       "    <tr>\n",
       "      <th>old_vessel</th>\n",
       "      <td>40404</td>\n",
       "      <td>242688</td>\n",
       "      <td>796.0</td>\n",
       "      <td>475</td>\n",
       "    </tr>\n",
       "    <tr>\n",
       "      <th>recent_vessel</th>\n",
       "      <td>3900</td>\n",
       "      <td>147968</td>\n",
       "      <td>679.0</td>\n",
       "      <td>289</td>\n",
       "    </tr>\n",
       "  </tbody>\n",
       "</table>\n",
       "</div>"
      ],
      "text/plain": [
       "                     area  bbox_area  major_axis_length  \\\n",
       "category                                                  \n",
       "ambiguous           17586     205156              675.0   \n",
       "coincident_vessel   19358     227328              778.0   \n",
       "infra_slick        258059     262144              722.0   \n",
       "natural_seep        49779     262144             1099.0   \n",
       "old_vessel          40404     242688              796.0   \n",
       "recent_vessel        3900     147968              679.0   \n",
       "\n",
       "                   axis_minor_length_bbox  \n",
       "category                                   \n",
       "ambiguous                             431  \n",
       "coincident_vessel                     448  \n",
       "infra_slick                           512  \n",
       "natural_seep                          512  \n",
       "old_vessel                            475  \n",
       "recent_vessel                         289  "
      ]
     },
     "execution_count": 4,
     "metadata": {},
     "output_type": "execute_result"
    }
   ],
   "source": [
    "instance_stats_df.drop(columns = [\"bbox-0\",\"bbox-1\",\"bbox-2\",\"bbox-3\", \"img_name\"]).groupby(\"category\").max().round()"
   ]
  },
  {
   "cell_type": "markdown",
   "id": "32941b3c-e087-4cf5-a606-2f3f519f081c",
   "metadata": {},
   "source": [
    "### Testing the area calculation for regionprops (since it differs from previous stats calculations of average area)\n"
   ]
  },
  {
   "cell_type": "markdown",
   "id": "16d2ab13-786b-45a0-80bb-4b0f9c711f1c",
   "metadata": {},
   "source": [
    "The record below has an area of 17586"
   ]
  },
  {
   "cell_type": "code",
   "execution_count": 4,
   "id": "414f42ab-1ac8-44b0-b59b-d91ee8b70104",
   "metadata": {},
   "outputs": [
    {
     "data": {
      "text/plain": [
       "BaseRecord\n",
       "\n",
       "common: \n",
       "\t- Record ID: 0\n",
       "\t- Image size ImgSize(width=512, height=512)\n",
       "\t- Filepath: tiled_images/S1A_IW_GRDH_1SDV_20200729T034859_20200729T034924_033664_03E6D3_93EF_vv-image_local_tile_0.png\n",
       "\t- Img: None\n",
       "detection: \n",
       "\t- masks: [<icevision.core.mask.RLE object at 0x7f7cfb3f1970>]\n",
       "\t- mask_array: None\n",
       "\t- Is Crowds: [1]\n",
       "\t- Areas: [17586]\n",
       "\t- BBoxes: [<BBox (xmin:256.0, ymin:275.0, xmax:512.0, ymax:512.0)>]\n",
       "\t- Class Map: <ClassMap: {'background': 0, 'infra_slick': 1, 'natural_seep': 2, 'coincident_vessel': 3, 'recent_vessel': 4, 'old_vessel': 5, 'ambiguous': 6}>\n",
       "\t- Labels: [6]"
      ]
     },
     "execution_count": 4,
     "metadata": {},
     "output_type": "execute_result"
    }
   ],
   "source": [
    "record"
   ]
  },
  {
   "cell_type": "markdown",
   "id": "a4d481b5-47e1-47b5-935a-eda052c24596",
   "metadata": {},
   "source": [
    "we can confirm this by taking the sum of labeled pixels"
   ]
  },
  {
   "cell_type": "code",
   "execution_count": 3,
   "id": "935f2132-bd36-4b0a-a063-6df1cdb0c370",
   "metadata": {},
   "outputs": [
    {
     "data": {
      "text/plain": [
       "17586"
      ]
     },
     "execution_count": 3,
     "metadata": {},
     "output_type": "execute_result"
    }
   ],
   "source": [
    "import skimage.io as skio\n",
    "\n",
    "arr = skio.imread(\"tiled_images/S1A_IW_GRDH_1SDV_20200729T034859_20200729T034924_033664_03E6D3_93EF_vv-image_local_tile_0.png\")\n",
    "\n",
    "record = train_records[0][0]\n",
    "\n",
    "record.as_dict()['detection']['masks'][0]\n",
    "\n",
    "def create_mask_skimage_format(r, i):\n",
    "    m = r[\"detection\"][\"masks\"][i]\n",
    "    return np.squeeze(m.to_mask(r[\"common\"][\"height\"], r[\"common\"][\"width\"]).data)\n",
    "                      \n",
    "(create_mask_skimage_format(record.as_dict(), 0) > 0).sum()"
   ]
  },
  {
   "cell_type": "markdown",
   "id": "55786c01-49c6-4695-98b4-aa82ae1be130",
   "metadata": {},
   "source": [
    "regionprops table calculates this accurately"
   ]
  },
  {
   "cell_type": "code",
   "execution_count": 53,
   "id": "32f706c7-efef-4119-8287-68f2cdd20850",
   "metadata": {},
   "outputs": [
    {
     "data": {
      "text/plain": [
       "{'area': array([17586]),\n",
       " 'bbox_area': array([60672]),\n",
       " 'major_axis_length': array([     302.04]),\n",
       " 'bbox-0': array([275]),\n",
       " 'bbox-1': array([256]),\n",
       " 'bbox-2': array([512]),\n",
       " 'bbox-3': array([512])}"
      ]
     },
     "execution_count": 53,
     "metadata": {},
     "output_type": "execute_result"
    }
   ],
   "source": [
    "from skimage import measure\n",
    "properties = [\"area\", \"bbox_area\", \"major_axis_length\", \"bbox\"]\n",
    "image = create_mask_skimage_format(record.as_dict(), 0)\n",
    "measure.regionprops_table(np.squeeze(image), properties=properties)"
   ]
  },
  {
   "cell_type": "markdown",
   "id": "47e4fe4d-34cc-4148-8963-249f5aef2e5f",
   "metadata": {},
   "source": [
    "and this area is found int he summary dataframe"
   ]
  },
  {
   "cell_type": "code",
   "execution_count": 55,
   "id": "ab4da441-c224-4afb-98fe-9dc2ceac1ac6",
   "metadata": {},
   "outputs": [
    {
     "data": {
      "text/plain": [
       "True"
      ]
     },
     "execution_count": 55,
     "metadata": {},
     "output_type": "execute_result"
    }
   ],
   "source": [
    "17586 in instance_stats_df[\"area\"].unique()"
   ]
  },
  {
   "cell_type": "code",
   "execution_count": 16,
   "id": "8ab7d44e-5eec-49bc-ae89-7f360c34c64e",
   "metadata": {},
   "outputs": [],
   "source": [
    "\n"
   ]
  },
  {
   "cell_type": "code",
   "execution_count": null,
   "id": "fe9dff1d",
   "metadata": {},
   "outputs": [],
   "source": [
    "stats_df"
   ]
  },
  {
   "cell_type": "code",
   "execution_count": null,
   "id": "fb9b66a1",
   "metadata": {},
   "outputs": [],
   "source": []
  }
 ],
 "metadata": {
  "kernelspec": {
   "display_name": "Python [conda env:fastai2]",
   "language": "python",
   "name": "conda-env-fastai2-py"
  },
  "language_info": {
   "codemirror_mode": {
    "name": "ipython",
    "version": 3
   },
   "file_extension": ".py",
   "mimetype": "text/x-python",
   "name": "python",
   "nbconvert_exporter": "python",
   "pygments_lexer": "ipython3",
   "version": "3.9.7"
  }
 },
 "nbformat": 4,
 "nbformat_minor": 5
}
