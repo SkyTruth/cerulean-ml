{
 "cells": [
  {
   "cell_type": "code",
   "execution_count": 16,
   "id": "565c3f1d-f0a9-4233-8fc3-673fd22508ed",
   "metadata": {},
   "outputs": [],
   "source": [
    "import os, json\n",
    "import numpy as np\n",
    "import ceruleanml.data as data\n",
    "from pathlib import Path\n",
    "import skimage.io as skio\n",
    "import matplotlib.pyplot as plt\n",
    "import matplotlib.image as mpimg\n",
    "from icevision.all import *\n",
    "import icedata\n",
    "import skimage\n",
    "\n",
    "ml_data_path = os.path.join(os.path.abspath(os.getcwd()),\"../../data/cv2_transfer/outputs/skytruth_annotation/first_phase/\")\n",
    "path = Path(ml_data_path)\n",
    "class_folders = list(path.glob(\"*/\"))\n",
    "\n",
    "with open(\"../../data/cv2_transfer/instances_slicks_test_v2.json\") as annotation:\n",
    "    data=json.load(annotation)"
   ]
  },
  {
   "cell_type": "code",
   "execution_count": null,
   "id": "58bb37a3-ebe7-4e8a-b3ec-ddeced733e46",
   "metadata": {},
   "outputs": [],
   "source": [
    "class_map = {\n",
    "    \"Infrastructure\": 1,\n",
    "    \"Natural Seep\": 2,\n",
    "    \"Coincident Vessel\": 3,\n",
    "    \"Recent Vessel\": 4,\n",
    "    \"Old Vessel\": 5,\n",
    "    \"Ambiguous\": 6,\n",
    "    \"Hard Negatives\": 0,\n",
    "}\n",
    "\n",
    "class_map"
   ]
  },
  {
   "cell_type": "code",
   "execution_count": 17,
   "id": "562dc33e-62cd-4ee3-8063-ea367ae1fe65",
   "metadata": {},
   "outputs": [
    {
     "data": {
      "text/plain": [
       "[{'supercategory': 'slick', 'id': 1, 'name': 'infra_slick'},\n",
       " {'supercategory': 'slick', 'id': 2, 'name': 'natural_seep'},\n",
       " {'supercategory': 'slick', 'id': 3, 'name': 'coincident_vessel'},\n",
       " {'supercategory': 'slick', 'id': 4, 'name': 'recent_vessel'},\n",
       " {'supercategory': 'slick', 'id': 5, 'name': 'old_vessel'},\n",
       " {'supercategory': 'slick', 'id': 6, 'name': 'ambiguous'}]"
      ]
     },
     "execution_count": 17,
     "metadata": {},
     "output_type": "execute_result"
    }
   ],
   "source": [
    "list(data['categories'])"
   ]
  },
  {
   "cell_type": "code",
   "execution_count": 18,
   "id": "a6578dd2-c2f7-4f6f-a8e6-2163a5745e32",
   "metadata": {},
   "outputs": [],
   "source": [
    "infra_slick_stats = [] \n",
    "natural_seep_stats = []\n",
    "coincident_vessel_stats = []\n",
    "recent_vessel_stats = []\n",
    "old_vessel_stats = []\n",
    "ambiguous_stats = []"
   ]
  },
  {
   "cell_type": "code",
   "execution_count": 19,
   "id": "564304ca-530a-4100-a604-58f37ce99653",
   "metadata": {},
   "outputs": [],
   "source": [
    "for c in list(data['annotations']):\n",
    "    cat = c['category_id']\n",
    "    if cat == 1:\n",
    "        infra_slick_stats.append(c)\n",
    "    elif cat == 2:\n",
    "        natural_seep_stats.append(c)\n",
    "    elif cat == 3:\n",
    "        coincident_vessel_stats.append(c)\n",
    "    elif cat == 4:\n",
    "        recent_vessel_stats.append(c)\n",
    "    elif cat == 5:\n",
    "        old_vessel_stats.append(c)\n",
    "    elif cat == 6:\n",
    "        ambiguous_stats.append(c)                          "
   ]
  },
  {
   "cell_type": "code",
   "execution_count": 20,
   "id": "fb9e8ef0-e82b-4095-bc04-3df9236e2fcf",
   "metadata": {},
   "outputs": [],
   "source": [
    "count_infra_slick = len(infra_slick_stats)\n",
    "count_natural_seep = len(natural_seep_stats)\n",
    "count_coincident_vessel = len(coincident_vessel_stats)\n",
    "count_recent_vessel = len(recent_vessel_stats)\n",
    "count_old_vessel = len(old_vessel_stats)\n",
    "count_ambiguous = len(ambiguous_stats)"
   ]
  },
  {
   "cell_type": "code",
   "execution_count": 21,
   "id": "ce3e8f33-7d43-405e-bdba-6192899cec4a",
   "metadata": {},
   "outputs": [],
   "source": [
    "infra_slick_stats_area = [] \n",
    "natural_seep_stats_area = []\n",
    "coincident_vessel_stats_area = []\n",
    "recent_vessel_stats_area = []\n",
    "old_vessel_stats_area = []\n",
    "ambiguous_stats_area = []"
   ]
  },
  {
   "cell_type": "code",
   "execution_count": 22,
   "id": "b2c68bf3-d720-4ca6-a681-f56003d77655",
   "metadata": {},
   "outputs": [],
   "source": [
    "def get_area(category_list, category_area_list):\n",
    "    for i in category_list:\n",
    "        area = i['area']\n",
    "        category_area_list.append(area)"
   ]
  },
  {
   "cell_type": "code",
   "execution_count": 23,
   "id": "31df8830-1921-4707-aa16-96b8f1cd446e",
   "metadata": {},
   "outputs": [],
   "source": [
    "get_area(infra_slick_stats, infra_slick_stats_area)\n",
    "get_area(natural_seep_stats, natural_seep_stats_area)\n",
    "get_area(coincident_vessel_stats, coincident_vessel_stats_area)\n",
    "get_area(recent_vessel_stats, recent_vessel_stats_area)\n",
    "get_area(old_vessel_stats, old_vessel_stats_area)\n",
    "get_area(ambiguous_stats, ambiguous_stats_area)"
   ]
  },
  {
   "cell_type": "code",
   "execution_count": 24,
   "id": "40f21b09-df6e-44d4-83cd-75b0328a4778",
   "metadata": {},
   "outputs": [],
   "source": [
    "total_area_infra_slick, avg_area_infra_slick = sum(infra_slick_stats_area), np.mean((infra_slick_stats_area)) \n",
    "total_area_natural_seep, avg_area_natural_seep = sum(natural_seep_stats_area), np.mean((natural_seep_stats_area))  \n",
    "total_area_coincident_vessel, avg_area_coincident_vessel = sum(coincident_vessel_stats_area), np.mean((coincident_vessel_stats_area)) \n",
    "total_area_recent_vessel, avg_area_recent_vessel = sum(recent_vessel_stats_area), np.mean((recent_vessel_stats_area))  \n",
    "total_area_old_vessel, avg_area_old_vessel = sum(old_vessel_stats_area), np.mean((old_vessel_stats_area))  \n",
    "total_area_ambiguous, avg_area_ambiguous = sum(ambiguous_stats_area), np.mean((ambiguous_stats_area))  "
   ]
  },
  {
   "cell_type": "code",
   "execution_count": 25,
   "id": "9ead7cb6-c5dd-47db-b900-c15f0ee704e6",
   "metadata": {},
   "outputs": [],
   "source": [
    "infra_slick_stats_maxsidelen = [] \n",
    "natural_seep_stats_maxsidelen = []\n",
    "coincident_vessel_stats_maxsidelen = []\n",
    "recent_vessel_stats_maxsidelen = []\n",
    "old_vessel_stats_maxsidelen = []\n",
    "ambiguous_stats_maxsidelen = []"
   ]
  },
  {
   "cell_type": "code",
   "execution_count": 26,
   "id": "1fba9539-224d-4c26-892e-4e2d2a9a3af7",
   "metadata": {},
   "outputs": [],
   "source": [
    "def get_side_length(category_list, category_length_list):\n",
    "    for i in category_list:\n",
    "        ml = i['bbox']\n",
    "        ml1 = ml[2]-ml[0]\n",
    "        ml2 = ml[3]-ml[1]\n",
    "        ml3 = max(ml1, ml2)\n",
    "        category_length_list.append(abs(ml3))"
   ]
  },
  {
   "cell_type": "code",
   "execution_count": 27,
   "id": "a39041d2-8dc4-476e-8d46-e647cd32fc57",
   "metadata": {},
   "outputs": [],
   "source": [
    "get_side_length(infra_slick_stats, infra_slick_stats_maxsidelen)\n",
    "get_side_length(natural_seep_stats, natural_seep_stats_maxsidelen)\n",
    "get_side_length(coincident_vessel_stats, coincident_vessel_stats_maxsidelen)\n",
    "get_side_length(recent_vessel_stats, recent_vessel_stats_maxsidelen)\n",
    "get_side_length(old_vessel_stats, old_vessel_stats_maxsidelen)\n",
    "get_side_length(ambiguous_stats, ambiguous_stats_maxsidelen)"
   ]
  },
  {
   "cell_type": "code",
   "execution_count": 28,
   "id": "b3f1d815-6cbb-45e6-8ba8-2c80bd9727eb",
   "metadata": {},
   "outputs": [],
   "source": [
    "max_side_length_infra_slick, avg_max_side_length_infra_slick = max(infra_slick_stats_maxsidelen), np.mean((infra_slick_stats_maxsidelen))\n",
    "max_side_length_natural_seep, avg_max_side_length_natural_seep = max(natural_seep_stats_maxsidelen), np.mean((natural_seep_stats_maxsidelen))\n",
    "max_side_length_coincident_vessel, avg_max_side_length_coincident_vessel = max(coincident_vessel_stats_maxsidelen), np.mean((coincident_vessel_stats_maxsidelen))\n",
    "max_side_length_recent_vessel, avg_max_side_length_recent_vessel = max(recent_vessel_stats_maxsidelen), np.mean((recent_vessel_stats_maxsidelen))\n",
    "max_side_length_old_vessel, avg_max_side_length_old_vessel = max(old_vessel_stats_maxsidelen), np.mean((old_vessel_stats_maxsidelen))\n",
    "max_side_length_ambiguous, avg_max_side_length_ambiguous = max(ambiguous_stats_maxsidelen), np.mean((ambiguous_stats_maxsidelen))"
   ]
  },
  {
   "cell_type": "code",
   "execution_count": 49,
   "id": "267669fb-c608-4d2d-8337-265552a730fc",
   "metadata": {},
   "outputs": [],
   "source": [
    "parser = parsers.COCOMaskParser(annotations_filepath=\"../../data/cv2_transfer/instances_slicks_test_v2.json\", img_dir=\"../../data/tiled_image_slicks_test_v2\")"
   ]
  },
  {
   "cell_type": "code",
   "execution_count": 52,
   "id": "4326b96a-5335-47fa-919f-57cdaa0aa0aa",
   "metadata": {},
   "outputs": [
    {
     "data": {
      "application/vnd.jupyter.widget-view+json": {
       "model_id": "aaa398e167e548f9ba6396fff5a3844e",
       "version_major": 2,
       "version_minor": 0
      },
      "text/plain": [
       "  0%|          | 0/487 [00:00<?, ?it/s]"
      ]
     },
     "metadata": {},
     "output_type": "display_data"
    },
    {
     "name": "stderr",
     "output_type": "stream",
     "text": [
      "\u001b[1m\u001b[1mINFO    \u001b[0m\u001b[1m\u001b[0m - \u001b[1m\u001b[34m\u001b[1mAutofixing records\u001b[0m\u001b[1m\u001b[34m\u001b[0m\u001b[1m\u001b[0m | \u001b[36micevision.parsers.parser\u001b[0m:\u001b[36mparse\u001b[0m:\u001b[36m122\u001b[0m\n"
     ]
    },
    {
     "data": {
      "application/vnd.jupyter.widget-view+json": {
       "model_id": "186ce03dbd0d4f14b4b7527f06909737",
       "version_major": 2,
       "version_minor": 0
      },
      "text/plain": [
       "  0%|          | 0/487 [00:00<?, ?it/s]"
      ]
     },
     "metadata": {},
     "output_type": "display_data"
    }
   ],
   "source": [
    "train_records = parser.parse(data_splitter=data.SingleSplitSplitter())\n",
    "record = train_records[0][0]"
   ]
  },
  {
   "cell_type": "code",
   "execution_count": 110,
   "id": "5341bfb9-8876-413b-86c4-822da1102775",
   "metadata": {},
   "outputs": [],
   "source": [
    "infra_slick_stats_area_segment = [] \n",
    "natural_seep_stats_area_segment = []\n",
    "coincident_vessel_stats_area_segment = []\n",
    "recent_vessel_stats_area_segment = []\n",
    "old_vessel_stats_area_segment = []\n",
    "ambiguous_stats_area_segment = []\n",
    "\n",
    "infra_slick_stats_maxsidelen_segment = [] \n",
    "natural_seep_stats_maxsidelen_segment = []\n",
    "coincident_vessel_stats_maxsidelen_segment = []\n",
    "recent_vessel_stats_maxsidelen_segment = []\n",
    "old_vessel_stats_maxsidelen_segment = []\n",
    "ambiguous_stats_maxsidelen_segment = []"
   ]
  },
  {
   "cell_type": "code",
   "execution_count": 111,
   "id": "cb06e0c9-6eb8-4cdd-a2a7-a4f52a41464f",
   "metadata": {},
   "outputs": [],
   "source": [
    "def get_props_segments(d, category_list, category_prop_area_list, category_maxsidelen_list):\n",
    "    mask_array = d['detection']['masks'][0].to_mask(d['common']['height'],d['common']['width']).data\n",
    "    rprops = skimage.measure.regionprops(mask_array.transpose(1,2,0))\n",
    "    category_prop_area_list.append(rprops[0]['area'])\n",
    "    category_maxsidelen_list.append(rprops[0]['major_axis_length'])"
   ]
  },
  {
   "cell_type": "code",
   "execution_count": 112,
   "id": "9ebf0ff6-bc00-4967-9a11-037e76861cf0",
   "metadata": {},
   "outputs": [],
   "source": [
    "for i in range(len(train_records[0])):\n",
    "    record = train_records[0][i]\n",
    "    d = record.as_dict()\n",
    "    if d['detection']['labels'] == ['infra_slick']:\n",
    "        get_props_segments(d, infra_slick_stats_area_segment, infra_slick_stats_area_segment, infra_slick_stats_maxsidelen_segment)\n",
    "    elif d['detection']['labels'] == ['natural_seep']:\n",
    "        get_props_segments(d, natural_seep_stats_area_segment, natural_seep_stats_area_segment, natural_seep_stats_maxsidelen_segment)\n",
    "    elif d['detection']['labels'] == ['coincident_vessel']:\n",
    "        get_props_segments(d, coincident_vessel_stats_area_segment, coincident_vessel_stats_area_segment, coincident_vessel_stats_maxsidelen_segment)\n",
    "    elif d['detection']['labels'] == ['recent_vessel']:\n",
    "        get_props_segments(d, recent_vessel_stats_area_segment, recent_vessel_stats_area_segment, recent_vessel_stats_maxsidelen_segment)\n",
    "    elif d['detection']['labels'] == ['old_vessel']:\n",
    "        get_props_segments(d, old_vessel_stats_area_segment, old_vessel_stats_area_segment, old_vessel_stats_maxsidelen_segment)\n",
    "    elif d['detection']['labels'] == ['ambiguous']:\n",
    "        get_props_segments(d, ambiguous_stats_area_segment, ambiguous_stats_area_segment, ambiguous_stats_maxsidelen_segment)"
   ]
  },
  {
   "cell_type": "code",
   "execution_count": 114,
   "id": "a970ff99-f0f9-4adb-bc91-012cc1f2d042",
   "metadata": {},
   "outputs": [],
   "source": [
    "max_side_length_infra_slick_segment, avg_max_side_length_infra_slick_segment = max(infra_slick_stats_maxsidelen_segment), np.mean((infra_slick_stats_maxsidelen_segment))\n",
    "max_side_length_natural_seep_segment, avg_max_side_length_natural_seep_segment = max(natural_seep_stats_maxsidelen_segment), np.mean((natural_seep_stats_maxsidelen_segment))\n",
    "max_side_length_coincident_vessel_segment, avg_max_side_length_coincident_vessel_segment = max(coincident_vessel_stats_maxsidelen_segment), np.mean((coincident_vessel_stats_maxsidelen_segment))\n",
    "max_side_length_recent_vessel_segment, avg_max_side_length_recent_vessel_segment = max(recent_vessel_stats_maxsidelen_segment), np.mean((recent_vessel_stats_maxsidelen_segment))\n",
    "max_side_length_old_vessel_segment, avg_max_side_length_old_vessel_segment = max(old_vessel_stats_maxsidelen_segment), np.mean((old_vessel_stats_maxsidelen_segment))\n",
    "max_side_length_ambiguous_segment, avg_max_side_length_ambiguous_segment = max(ambiguous_stats_maxsidelen), np.mean((ambiguous_stats_maxsidelen_segment))"
   ]
  },
  {
   "cell_type": "code",
   "execution_count": 115,
   "id": "29f3f492-3931-4009-ac4a-a2634c2a609a",
   "metadata": {},
   "outputs": [
    {
     "data": {
      "text/plain": [
       "(428.896626078544, 156.6188314190033)"
      ]
     },
     "execution_count": 115,
     "metadata": {},
     "output_type": "execute_result"
    }
   ],
   "source": [
    "max_side_length_infra_slick_segment, avg_max_side_length_infra_slick_segment"
   ]
  },
  {
   "cell_type": "code",
   "execution_count": 116,
   "id": "c4813510-4991-472e-8b1e-2b130aae6e0b",
   "metadata": {},
   "outputs": [
    {
     "data": {
      "text/plain": [
       "(1102.8411122455616, 404.2503399194091)"
      ]
     },
     "execution_count": 116,
     "metadata": {},
     "output_type": "execute_result"
    }
   ],
   "source": [
    "max_side_length_natural_seep_segment, avg_max_side_length_natural_seep_segment"
   ]
  },
  {
   "cell_type": "code",
   "execution_count": 117,
   "id": "196fff4a-9575-4290-9896-705984cee97a",
   "metadata": {},
   "outputs": [
    {
     "data": {
      "text/plain": [
       "(777.8896376395569, 243.26270691782634)"
      ]
     },
     "execution_count": 117,
     "metadata": {},
     "output_type": "execute_result"
    }
   ],
   "source": [
    "max_side_length_coincident_vessel_segment, avg_max_side_length_coincident_vessel_segment"
   ]
  },
  {
   "cell_type": "code",
   "execution_count": 118,
   "id": "25d07d45-d26c-4216-90f2-03b2c2c0189f",
   "metadata": {},
   "outputs": [
    {
     "data": {
      "text/plain": [
       "(242.9072483334542, 226.50815334463854)"
      ]
     },
     "execution_count": 118,
     "metadata": {},
     "output_type": "execute_result"
    }
   ],
   "source": [
    "max_side_length_recent_vessel_segment, avg_max_side_length_recent_vessel_segment"
   ]
  },
  {
   "cell_type": "code",
   "execution_count": 119,
   "id": "ae44aa0f-5d6f-49d0-b623-fc9d3fb8acdf",
   "metadata": {},
   "outputs": [
    {
     "data": {
      "text/plain": [
       "(691.274761221239, 242.72754634114804)"
      ]
     },
     "execution_count": 119,
     "metadata": {},
     "output_type": "execute_result"
    }
   ],
   "source": [
    "max_side_length_old_vessel_segment, avg_max_side_length_old_vessel_segment"
   ]
  },
  {
   "cell_type": "code",
   "execution_count": 120,
   "id": "97e25519-60fd-46d5-b563-254325400894",
   "metadata": {},
   "outputs": [
    {
     "data": {
      "text/plain": [
       "(221.0, 132.86605970193983)"
      ]
     },
     "execution_count": 120,
     "metadata": {},
     "output_type": "execute_result"
    }
   ],
   "source": [
    "max_side_length_ambiguous_segment, avg_max_side_length_ambiguous_segment"
   ]
  },
  {
   "cell_type": "code",
   "execution_count": null,
   "id": "c9ac6c54-8154-4c7e-b683-3fde6047e70d",
   "metadata": {},
   "outputs": [],
   "source": []
  }
 ],
 "metadata": {
  "kernelspec": {
   "display_name": "Python [conda env:fastai2]",
   "language": "python",
   "name": "conda-env-fastai2-py"
  },
  "language_info": {
   "codemirror_mode": {
    "name": "ipython",
    "version": 3
   },
   "file_extension": ".py",
   "mimetype": "text/x-python",
   "name": "python",
   "nbconvert_exporter": "python",
   "pygments_lexer": "ipython3",
   "version": "3.9.7"
  }
 },
 "nbformat": 4,
 "nbformat_minor": 5
}
