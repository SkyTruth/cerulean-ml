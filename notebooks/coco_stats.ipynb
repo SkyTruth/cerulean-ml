{
 "cells": [
  {
   "cell_type": "code",
   "execution_count": 1,
   "id": "565c3f1d-f0a9-4233-8fc3-673fd22508ed",
   "metadata": {},
   "outputs": [],
   "source": [
    "import os, json\n",
    "import numpy as np\n",
    "import ceruleanml.data as data\n",
    "from pathlib import Path\n",
    "import skimage.io as skio\n",
    "import matplotlib.pyplot as plt\n",
    "import matplotlib.image as mpimg\n",
    "from icevision.all import *\n",
    "import icedata\n",
    "import skimage\n",
    "import pandas as pd\n",
    "\n",
    "ml_data_path = os.path.join(os.path.abspath(os.getcwd()),\"../../data/cv2_transfer/outputs/skytruth_annotation/first_phase/\")\n",
    "path = Path(ml_data_path)\n",
    "class_folders = list(path.glob(\"*/\"))\n",
    "\n",
    "with open(\"../../data/cv2_transfer/instances_slicks_test_v2.json\") as annotation:\n",
    "    data_js=json.load(annotation)"
   ]
  },
  {
   "cell_type": "code",
   "execution_count": 2,
   "id": "58bb37a3-ebe7-4e8a-b3ec-ddeced733e46",
   "metadata": {},
   "outputs": [
    {
     "data": {
      "text/plain": [
       "{'Infrastructure': 1,\n",
       " 'Natural Seep': 2,\n",
       " 'Coincident Vessel': 3,\n",
       " 'Recent Vessel': 4,\n",
       " 'Old Vessel': 5,\n",
       " 'Ambiguous': 6,\n",
       " 'Hard Negatives': 0}"
      ]
     },
     "execution_count": 2,
     "metadata": {},
     "output_type": "execute_result"
    }
   ],
   "source": [
    "class_map = {\n",
    "    \"Infrastructure\": 1,\n",
    "    \"Natural Seep\": 2,\n",
    "    \"Coincident Vessel\": 3,\n",
    "    \"Recent Vessel\": 4,\n",
    "    \"Old Vessel\": 5,\n",
    "    \"Ambiguous\": 6,\n",
    "    \"Hard Negatives\": 0,\n",
    "}\n",
    "\n",
    "class_map"
   ]
  },
  {
   "cell_type": "code",
   "execution_count": 3,
   "id": "562dc33e-62cd-4ee3-8063-ea367ae1fe65",
   "metadata": {},
   "outputs": [
    {
     "data": {
      "text/plain": [
       "[{'supercategory': 'slick', 'id': 1, 'name': 'infra_slick'},\n",
       " {'supercategory': 'slick', 'id': 2, 'name': 'natural_seep'},\n",
       " {'supercategory': 'slick', 'id': 3, 'name': 'coincident_vessel'},\n",
       " {'supercategory': 'slick', 'id': 4, 'name': 'recent_vessel'},\n",
       " {'supercategory': 'slick', 'id': 5, 'name': 'old_vessel'},\n",
       " {'supercategory': 'slick', 'id': 6, 'name': 'ambiguous'}]"
      ]
     },
     "execution_count": 3,
     "metadata": {},
     "output_type": "execute_result"
    }
   ],
   "source": [
    "list(data_js['categories'])"
   ]
  },
  {
   "cell_type": "code",
   "execution_count": 4,
   "id": "a6578dd2-c2f7-4f6f-a8e6-2163a5745e32",
   "metadata": {},
   "outputs": [],
   "source": [
    "infra_slick_stats = [] \n",
    "natural_seep_stats = []\n",
    "coincident_vessel_stats = []\n",
    "recent_vessel_stats = []\n",
    "old_vessel_stats = []\n",
    "ambiguous_stats = []"
   ]
  },
  {
   "cell_type": "code",
   "execution_count": 5,
   "id": "564304ca-530a-4100-a604-58f37ce99653",
   "metadata": {},
   "outputs": [],
   "source": [
    "for c in list(data_js['annotations']):\n",
    "    cat = c['category_id']\n",
    "    if cat == 1:\n",
    "        infra_slick_stats.append(c)\n",
    "    elif cat == 2:\n",
    "        natural_seep_stats.append(c)\n",
    "    elif cat == 3:\n",
    "        coincident_vessel_stats.append(c)\n",
    "    elif cat == 4:\n",
    "        recent_vessel_stats.append(c)\n",
    "    elif cat == 5:\n",
    "        old_vessel_stats.append(c)\n",
    "    elif cat == 6:\n",
    "        ambiguous_stats.append(c)                          "
   ]
  },
  {
   "cell_type": "code",
   "execution_count": 15,
   "id": "267669fb-c608-4d2d-8337-265552a730fc",
   "metadata": {},
   "outputs": [],
   "source": [
    "parser = parsers.COCOMaskParser(annotations_filepath=\"../../data/cv2_transfer/instances_slicks_test_v2.json\", img_dir=\"../../data/tiled_image_slicks_test_v2\")"
   ]
  },
  {
   "cell_type": "code",
   "execution_count": 16,
   "id": "4326b96a-5335-47fa-919f-57cdaa0aa0aa",
   "metadata": {},
   "outputs": [
    {
     "data": {
      "application/vnd.jupyter.widget-view+json": {
       "model_id": "a90f29d249ca40b982cc0cab06f86e4c",
       "version_major": 2,
       "version_minor": 0
      },
      "text/plain": [
       "  0%|          | 0/487 [00:00<?, ?it/s]"
      ]
     },
     "metadata": {},
     "output_type": "display_data"
    },
    {
     "name": "stderr",
     "output_type": "stream",
     "text": [
      "\u001b[1m\u001b[1mINFO    \u001b[0m\u001b[1m\u001b[0m - \u001b[1m\u001b[34m\u001b[1mAutofixing records\u001b[0m\u001b[1m\u001b[34m\u001b[0m\u001b[1m\u001b[0m | \u001b[36micevision.parsers.parser\u001b[0m:\u001b[36mparse\u001b[0m:\u001b[36m122\u001b[0m\n"
     ]
    },
    {
     "data": {
      "application/vnd.jupyter.widget-view+json": {
       "model_id": "b9410ca7c0004c5192967bf575dffc26",
       "version_major": 2,
       "version_minor": 0
      },
      "text/plain": [
       "  0%|          | 0/487 [00:00<?, ?it/s]"
      ]
     },
     "metadata": {},
     "output_type": "display_data"
    }
   ],
   "source": [
    "train_records = parser.parse(data_splitter=data.SingleSplitSplitter())\n",
    "record = train_records[0][0]"
   ]
  },
  {
   "cell_type": "code",
   "execution_count": 60,
   "id": "5341bfb9-8876-413b-86c4-822da1102775",
   "metadata": {},
   "outputs": [],
   "source": [
    "infra_slick_stats_area_segment = [] \n",
    "natural_seep_stats_area_segment = []\n",
    "coincident_vessel_stats_area_segment = []\n",
    "recent_vessel_stats_area_segment = []\n",
    "old_vessel_stats_area_segment = []\n",
    "ambiguous_stats_area_segment = []\n",
    "\n",
    "infra_slick_stats_area_bbox = [] \n",
    "natural_seep_stats_area_bbox = []\n",
    "coincident_vessel_stats_area_bbox = []\n",
    "recent_vessel_stats_area_bbox = []\n",
    "old_vessel_stats_area_bbox = []\n",
    "ambiguous_stats_area_bbox = []\n",
    "\n",
    "infra_slick_stats_major_axis_length_segment = [] \n",
    "natural_seep_stats_major_axis_length_segment = []\n",
    "coincident_vessel_stats_major_axis_length_segment = []\n",
    "recent_vessel_stats_major_axis_length_segment = []\n",
    "old_vessel_stats_major_axis_length_segment = []\n",
    "ambiguous_stats_major_axis_length_segment = []\n",
    "\n",
    "infra_slick_stats_minor_axis_length_segment = [] \n",
    "natural_seep_stats_minor_axis_length_segment = []\n",
    "coincident_vessel_stats_minor_axis_length_segment = []\n",
    "recent_vessel_stats_minor_axis_length_segment = []\n",
    "old_vessel_stats_minor_axis_length_segment = []\n",
    "ambiguous_stats_minor_axis_length_segment = []"
   ]
  },
  {
   "cell_type": "code",
   "execution_count": 40,
   "id": "cb06e0c9-6eb8-4cdd-a2a7-a4f52a41464f",
   "metadata": {},
   "outputs": [],
   "source": [
    "def get_props_segments(d, category_list, category_prop_area_seg_list, category_prop_area_bbox_list, category_major_axis_length_list, category_minor_axis_length_list):\n",
    "    mask_array = d['detection']['masks'][0].to_mask(d['common']['height'],d['common']['width']).data\n",
    "    rprops = skimage.measure.regionprops(mask_array.transpose(1,2,0))\n",
    "    category_prop_area_seg_list.append(rprops[0]['area'])\n",
    "    category_prop_area_bbox_list.append(rprops[0]['area_bbox'])\n",
    "    category_major_axis_length_list.append(rprops[0]['axis_major_length']) #major_axis_length'])\n",
    "    try:\n",
    "        category_minor_axis_length_list.append(rprops[0]['axis_minor_length'])\n",
    "    except:\n",
    "        category_minor_axis_length_list.append(0) \n",
    "        print(\"minor axis length math domain error for: \", d['common']['filepath'])"
   ]
  },
  {
   "cell_type": "markdown",
   "id": "2baa6e61-6f00-43cc-a867-1daf1cbd8152",
   "metadata": {},
   "source": [
    "axis_major_length, axis_minor_length, area, and area_bbox"
   ]
  },
  {
   "cell_type": "code",
   "execution_count": null,
   "id": "9ebf0ff6-bc00-4967-9a11-037e76861cf0",
   "metadata": {},
   "outputs": [],
   "source": [
    "for i in range(len(train_records[0])):\n",
    "    record = train_records[0][i]\n",
    "    d = record.as_dict()\n",
    "    if d['detection']['labels'] == ['infra_slick']:\n",
    "        get_props_segments(d, infra_slick_stats, infra_slick_stats_area_segment, infra_slick_stats_area_bbox, infra_slick_stats_major_axis_length_segment, infra_slick_stats_minor_axis_length_segment)\n",
    "    elif d['detection']['labels'] == ['natural_seep']:\n",
    "        get_props_segments(d, natural_seep_stats, natural_seep_stats_area_segment, natural_seep_stats_area_bbox, natural_seep_stats_major_axis_length_segment, natural_seep_stats_minor_axis_length_segment)\n",
    "    elif d['detection']['labels'] == ['coincident_vessel']:\n",
    "        get_props_segments(d, coincident_vessel_stats, coincident_vessel_stats_area_segment, coincident_vessel_stats_area_bbox, coincident_vessel_stats_major_axis_length_segment, coincident_vessel_stats_minor_axis_length_segment)\n",
    "    elif d['detection']['labels'] == ['recent_vessel']:\n",
    "        get_props_segments(d, recent_vessel_stats, recent_vessel_stats_area_segment, recent_vessel_stats_area_bbox, recent_vessel_stats_major_axis_length_segment, recent_vessel_stats_minor_axis_length_segment)\n",
    "    elif d['detection']['labels'] == ['old_vessel']:\n",
    "        get_props_segments(d, old_vessel_stats, old_vessel_stats_area_segment, old_vessel_stats_area_bbox, old_vessel_stats_major_axis_length_segment, old_vessel_stats_minor_axis_length_segment)\n",
    "    elif d['detection']['labels'] == ['ambiguous']:\n",
    "        get_props_segments(d, ambiguous_stats, ambiguous_stats_area_segment, ambiguous_stats_area_bbox, ambiguous_stats_major_axis_length_segment, ambiguous_stats_minor_axis_length_segment)"
   ]
  },
  {
   "cell_type": "code",
   "execution_count": 42,
   "id": "97630d39-f84e-40a6-90cb-42ca303ca159",
   "metadata": {},
   "outputs": [],
   "source": [
    "max_infra_slick_stats_area_bbox, avg_infra_slick_stats_area_bbox = max(infra_slick_stats_area_bbox), np.mean((infra_slick_stats_area_bbox))\n",
    "max_infra_slick_stats_area_segment, avg_infra_slick_stats_area_segment = max(infra_slick_stats_area_segment), np.mean((infra_slick_stats_area_segment))\n",
    "max_infra_slick_stats_major_axis_length_segment, avg_infra_slick_stats_major_axis_length_segment = max(infra_slick_stats_major_axis_length_segment), np.mean((infra_slick_stats_major_axis_length_segment))\n",
    "max_infra_slick_stats_minor_axis_length_segment, avg_infra_slick_stats_minor_axis_length_segment = max(infra_slick_stats_minor_axis_length_segment), np.mean((infra_slick_stats_minor_axis_length_segment))\n",
    "\n",
    "max_natural_seep_stats_area_bbox, avg_natural_seep_stats_area_bbox = max(natural_seep_stats_area_bbox), np.mean((natural_seep_stats_area_bbox))\n",
    "max_natural_seep_stats_area_segment, avg_natural_seep_stats_area_segment = max(natural_seep_stats_area_segment), np.mean((natural_seep_stats_area_segment))\n",
    "max_natural_seep_stats_major_axis_length_segment, avg_natural_seep_stats_major_axis_length_segment = max(natural_seep_stats_major_axis_length_segment), np.mean((natural_seep_stats_major_axis_length_segment))\n",
    "max_natural_seep_stats_minor_axis_length_segment, avg_natural_seep_stats_minor_axis_length_segment = max(natural_seep_stats_minor_axis_length_segment), np.mean((natural_seep_stats_minor_axis_length_segment))\n",
    "\n",
    "max_coincident_vessel_stats_area_bbox, avg_coincident_vessel_stats_area_bbox = max(coincident_vessel_stats_area_bbox), np.mean((coincident_vessel_stats_area_bbox))\n",
    "max_coincident_vessel_stats_area_segment, avg_coincident_vessel_stats_area_segment = max(coincident_vessel_stats_area_segment), np.mean((coincident_vessel_stats_area_segment))\n",
    "max_coincident_vessel_stats_major_axis_length_segment, avg_coincident_vessel_stats_major_axis_length_segment = max(coincident_vessel_stats_major_axis_length_segment), np.mean((coincident_vessel_stats_major_axis_length_segment))\n",
    "max_coincident_vessel_stats_minor_axis_length_segment, avg_coincident_vessel_stats_minor_axis_length_segment = max(coincident_vessel_stats_minor_axis_length_segment), np.mean((coincident_vessel_stats_minor_axis_length_segment))\n",
    "\n",
    "max_recent_vessel_stats_area_bbox, avg_recent_vessel_stats_area_bbox = max(recent_vessel_stats_area_bbox), np.mean((recent_vessel_stats_area_bbox))\n",
    "max_recent_vessel_stats_area_segment, avg_recent_vessel_stats_area_segment = max(recent_vessel_stats_area_segment), np.mean((recent_vessel_stats_area_segment))\n",
    "max_recent_vessel_stats_major_axis_length_segment, avg_recent_vessel_stats_major_axis_length_segment = max(recent_vessel_stats_major_axis_length_segment), np.mean((recent_vessel_stats_major_axis_length_segment))\n",
    "max_recent_vessel_stats_minor_axis_length_segment, avg_recent_vessel_stats_minor_axis_length_segment = max(recent_vessel_stats_minor_axis_length_segment), np.mean((recent_vessel_stats_minor_axis_length_segment))\n",
    "\n",
    "max_old_vessel_stats_area_bbox, avg_old_vessel_stats_area_bbox = max(old_vessel_stats_area_bbox), np.mean((old_vessel_stats_area_bbox))\n",
    "max_old_vessel_stats_area_segment, avg_old_vessel_stats_area_segment = max(old_vessel_stats_area_segment), np.mean((old_vessel_stats_area_segment))\n",
    "max_old_vessel_stats_major_axis_length_segment, avg_old_vessel_stats_major_axis_length_segment = max(old_vessel_stats_major_axis_length_segment), np.mean((old_vessel_stats_major_axis_length_segment))\n",
    "max_old_vessel_stats_minor_axis_length_segment, avg_old_vessel_stats_minor_axis_length_segment = max(old_vessel_stats_minor_axis_length_segment), np.mean((old_vessel_stats_minor_axis_length_segment))\n",
    "\n",
    "max_ambiguous_stats_area_bbox, avg_ambiguous_stats_area_bbox = max(ambiguous_stats_area_bbox), np.mean((ambiguous_stats_area_bbox))\n",
    "max_ambiguous_stats_area_segment, avg_ambiguous_stats_area_segment = max(ambiguous_stats_area_segment), np.mean((ambiguous_stats_area_segment))\n",
    "max_ambiguous_stats_major_axis_length_segment, avg_ambiguous_stats_major_axis_length_segment = max(ambiguous_stats_major_axis_length_segment), np.mean((ambiguous_stats_major_axis_length_segment))\n",
    "max_ambiguous_stats_minor_axis_length_segment, avg_ambiguous_stats_minor_axis_length_segment = max(ambiguous_stats_minor_axis_length_segment), np.mean((ambiguous_stats_minor_axis_length_segment))\n",
    "\n"
   ]
  },
  {
   "cell_type": "code",
   "execution_count": 67,
   "id": "1798eea2-4dfb-4dc0-9f2f-1433d4013977",
   "metadata": {},
   "outputs": [],
   "source": [
    "class_list = [1,2,3,4,5,6]\n",
    "class_list_string = ['Infrastructure', 'Natural Seep', 'Coincident Vessel', 'Recent Vessel', 'Old Vessel', 'Ambiguous']"
   ]
  },
  {
   "cell_type": "code",
   "execution_count": 62,
   "id": "dd53c0ec-a02c-41aa-929d-80befff0c837",
   "metadata": {},
   "outputs": [],
   "source": [
    "avg_area_segment_list = [avg_infra_slick_stats_area_segment, avg_natural_seep_stats_area_segment, avg_coincident_vessel_stats_area_segment, avg_recent_vessel_stats_area_segment, avg_old_vessel_stats_area_segment, avg_ambiguous_stats_area_segment]"
   ]
  },
  {
   "cell_type": "code",
   "execution_count": 63,
   "id": "0e7edb46-4683-49f5-b868-b56b1868ec27",
   "metadata": {},
   "outputs": [],
   "source": [
    "avg_area_bbox_list = [avg_infra_slick_stats_area_bbox, avg_natural_seep_stats_area_bbox, avg_coincident_vessel_stats_area_bbox, avg_recent_vessel_stats_area_bbox, avg_old_vessel_stats_area_bbox, avg_ambiguous_stats_area_bbox]"
   ]
  },
  {
   "cell_type": "code",
   "execution_count": 64,
   "id": "e80c8342-ed63-4a8f-8a45-aeb607d7d9c4",
   "metadata": {},
   "outputs": [],
   "source": [
    "avg_major_axis_length_segment_list = [avg_infra_slick_stats_major_axis_length_segment, avg_natural_seep_stats_major_axis_length_segment, avg_coincident_vessel_stats_major_axis_length_segment, avg_recent_vessel_stats_major_axis_length_segment,avg_old_vessel_stats_major_axis_length_segment, avg_ambiguous_stats_major_axis_length_segment]   "
   ]
  },
  {
   "cell_type": "code",
   "execution_count": 65,
   "id": "b448c8f6-030f-48a3-b53a-e81d47c44d2f",
   "metadata": {},
   "outputs": [],
   "source": [
    "avg_minor_axis_length_segment_list = [avg_infra_slick_stats_minor_axis_length_segment, avg_natural_seep_stats_minor_axis_length_segment, avg_coincident_vessel_stats_minor_axis_length_segment, avg_recent_vessel_stats_minor_axis_length_segment,avg_old_vessel_stats_minor_axis_length_segment, avg_ambiguous_stats_minor_axis_length_segment] "
   ]
  },
  {
   "cell_type": "code",
   "execution_count": 68,
   "id": "0a3527c7-9318-44b8-b7a2-64d6ffbc6f65",
   "metadata": {},
   "outputs": [],
   "source": [
    "stats_df = pd.DataFrame(\n",
    "    {'classes (integer)': class_list,\n",
    "     'classes (string)': class_list_string,\n",
    "     'avg area of segment': avg_area_segment_list,\n",
    "     'avg area of bbox': avg_area_bbox_list,\n",
    "     'avg major axis length of segment': avg_major_axis_length_segment_list,\n",
    "     'avg minor axis length of segment': avg_minor_axis_length_segment_list\n",
    "    })"
   ]
  },
  {
   "cell_type": "code",
   "execution_count": 69,
   "id": "00b1a894-c75f-426f-92ec-5648e5264427",
   "metadata": {},
   "outputs": [
    {
     "data": {
      "text/html": [
       "<div>\n",
       "<style scoped>\n",
       "    .dataframe tbody tr th:only-of-type {\n",
       "        vertical-align: middle;\n",
       "    }\n",
       "\n",
       "    .dataframe tbody tr th {\n",
       "        vertical-align: top;\n",
       "    }\n",
       "\n",
       "    .dataframe thead th {\n",
       "        text-align: right;\n",
       "    }\n",
       "</style>\n",
       "<table border=\"1\" class=\"dataframe\">\n",
       "  <thead>\n",
       "    <tr style=\"text-align: right;\">\n",
       "      <th></th>\n",
       "      <th>classes (integer)</th>\n",
       "      <th>classes (string)</th>\n",
       "      <th>avg area of segment</th>\n",
       "      <th>avg area of bbox</th>\n",
       "      <th>avg major axis length of segment</th>\n",
       "      <th>avg minor axis length of segment</th>\n",
       "    </tr>\n",
       "  </thead>\n",
       "  <tbody>\n",
       "    <tr>\n",
       "      <th>0</th>\n",
       "      <td>1</td>\n",
       "      <td>Infrastructure</td>\n",
       "      <td>2946.290323</td>\n",
       "      <td>16050.419355</td>\n",
       "      <td>164.227503</td>\n",
       "      <td>1.384283e-07</td>\n",
       "    </tr>\n",
       "    <tr>\n",
       "      <th>1</th>\n",
       "      <td>2</td>\n",
       "      <td>Natural Seep</td>\n",
       "      <td>5172.342205</td>\n",
       "      <td>83756.783270</td>\n",
       "      <td>414.415061</td>\n",
       "      <td>1.449790e-06</td>\n",
       "    </tr>\n",
       "    <tr>\n",
       "      <th>2</th>\n",
       "      <td>3</td>\n",
       "      <td>Coincident Vessel</td>\n",
       "      <td>1824.480000</td>\n",
       "      <td>31084.310000</td>\n",
       "      <td>269.817058</td>\n",
       "      <td>8.717942e-07</td>\n",
       "    </tr>\n",
       "    <tr>\n",
       "      <th>3</th>\n",
       "      <td>4</td>\n",
       "      <td>Recent Vessel</td>\n",
       "      <td>920.000000</td>\n",
       "      <td>19445.666667</td>\n",
       "      <td>252.794146</td>\n",
       "      <td>0.000000e+00</td>\n",
       "    </tr>\n",
       "    <tr>\n",
       "      <th>4</th>\n",
       "      <td>5</td>\n",
       "      <td>Old Vessel</td>\n",
       "      <td>2012.262500</td>\n",
       "      <td>23843.537500</td>\n",
       "      <td>266.909915</td>\n",
       "      <td>6.188047e-07</td>\n",
       "    </tr>\n",
       "    <tr>\n",
       "      <th>5</th>\n",
       "      <td>6</td>\n",
       "      <td>Ambiguous</td>\n",
       "      <td>3459.300000</td>\n",
       "      <td>13514.300000</td>\n",
       "      <td>124.887436</td>\n",
       "      <td>4.771029e-07</td>\n",
       "    </tr>\n",
       "  </tbody>\n",
       "</table>\n",
       "</div>"
      ],
      "text/plain": [
       "   classes (integer)   classes (string)  avg area of segment  \\\n",
       "0                  1     Infrastructure          2946.290323   \n",
       "1                  2       Natural Seep          5172.342205   \n",
       "2                  3  Coincident Vessel          1824.480000   \n",
       "3                  4      Recent Vessel           920.000000   \n",
       "4                  5         Old Vessel          2012.262500   \n",
       "5                  6          Ambiguous          3459.300000   \n",
       "\n",
       "   avg area of bbox  avg major axis length of segment  \\\n",
       "0      16050.419355                        164.227503   \n",
       "1      83756.783270                        414.415061   \n",
       "2      31084.310000                        269.817058   \n",
       "3      19445.666667                        252.794146   \n",
       "4      23843.537500                        266.909915   \n",
       "5      13514.300000                        124.887436   \n",
       "\n",
       "   avg minor axis length of segment  \n",
       "0                      1.384283e-07  \n",
       "1                      1.449790e-06  \n",
       "2                      8.717942e-07  \n",
       "3                      0.000000e+00  \n",
       "4                      6.188047e-07  \n",
       "5                      4.771029e-07  "
      ]
     },
     "execution_count": 69,
     "metadata": {},
     "output_type": "execute_result"
    }
   ],
   "source": [
    "stats_df"
   ]
  },
  {
   "cell_type": "code",
   "execution_count": null,
   "id": "c9ac6c54-8154-4c7e-b683-3fde6047e70d",
   "metadata": {},
   "outputs": [],
   "source": []
  }
 ],
 "metadata": {
  "kernelspec": {
   "display_name": "Python [conda env:fastai2]",
   "language": "python",
   "name": "conda-env-fastai2-py"
  },
  "language_info": {
   "codemirror_mode": {
    "name": "ipython",
    "version": 3
   },
   "file_extension": ".py",
   "mimetype": "text/x-python",
   "name": "python",
   "nbconvert_exporter": "python",
   "pygments_lexer": "ipython3",
   "version": "3.9.7"
  }
 },
 "nbformat": 4,
 "nbformat_minor": 5
}
