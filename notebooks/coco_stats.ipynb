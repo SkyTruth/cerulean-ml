{
 "cells": [
  {
   "cell_type": "code",
   "execution_count": 1,
   "metadata": {},
   "outputs": [],
   "source": [
    "import os, json\n",
    "import numpy as np\n",
    "import ceruleanml.data as data\n",
    "from pathlib import Path\n",
    "import skimage.io as skio\n",
    "import matplotlib.pyplot as plt\n",
    "import matplotlib.image as mpimg\n",
    "from icevision.all import *\n",
    "import icedata\n",
    "import skimage\n",
    "import pandas as pd\n",
    "\n",
    "ml_data_path = os.path.join(os.path.abspath(os.getcwd()),\"../../data/cv2_transfer/outputs/skytruth_annotation/first_phase/\")\n",
    "path = Path(ml_data_path)\n",
    "class_folders = list(path.glob(\"*/\"))\n",
    "\n",
    "with open(\"../../data/cv2_transfer/instances_slicks_test_v2.json\") as annotation:\n",
    "    data_js=json.load(annotation)"
   ]
  },
  {
   "cell_type": "code",
   "execution_count": 2,
   "metadata": {},
   "outputs": [
    {
     "data": {
      "text/plain": [
       "{'Infrastructure': 1,\n",
       " 'Natural Seep': 2,\n",
       " 'Coincident Vessel': 3,\n",
       " 'Recent Vessel': 4,\n",
       " 'Old Vessel': 5,\n",
       " 'Ambiguous': 6,\n",
       " 'Hard Negatives': 0}"
      ]
     },
     "execution_count": 2,
     "metadata": {},
     "output_type": "execute_result"
    }
   ],
   "source": [
    "class_map = {\n",
    "    \"Infrastructure\": 1,\n",
    "    \"Natural Seep\": 2,\n",
    "    \"Coincident Vessel\": 3,\n",
    "    \"Recent Vessel\": 4,\n",
    "    \"Old Vessel\": 5,\n",
    "    \"Ambiguous\": 6,\n",
    "    \"Hard Negatives\": 0,\n",
    "}\n",
    "\n",
    "class_map"
   ]
  },
  {
   "cell_type": "code",
   "execution_count": 3,
   "metadata": {},
   "outputs": [
    {
     "data": {
      "text/plain": [
       "[{'supercategory': 'slick', 'id': 1, 'name': 'infra_slick'},\n",
       " {'supercategory': 'slick', 'id': 2, 'name': 'natural_seep'},\n",
       " {'supercategory': 'slick', 'id': 3, 'name': 'coincident_vessel'},\n",
       " {'supercategory': 'slick', 'id': 4, 'name': 'recent_vessel'},\n",
       " {'supercategory': 'slick', 'id': 5, 'name': 'old_vessel'},\n",
       " {'supercategory': 'slick', 'id': 6, 'name': 'ambiguous'}]"
      ]
     },
     "execution_count": 3,
     "metadata": {},
     "output_type": "execute_result"
    }
   ],
   "source": [
    "list(data_js['categories'])"
   ]
  },
  {
   "cell_type": "code",
   "execution_count": 4,
   "metadata": {},
   "outputs": [],
   "source": [
    "infra_slick_stats = [] \n",
    "natural_seep_stats = []\n",
    "coincident_vessel_stats = []\n",
    "recent_vessel_stats = []\n",
    "old_vessel_stats = []\n",
    "ambiguous_stats = []"
   ]
  },
  {
   "cell_type": "code",
   "execution_count": 5,
   "metadata": {},
   "outputs": [],
   "source": [
    "for c in list(data_js['annotations']):\n",
    "    cat = c['category_id']\n",
    "    if cat == 1:\n",
    "        infra_slick_stats.append(c)\n",
    "    elif cat == 2:\n",
    "        natural_seep_stats.append(c)\n",
    "    elif cat == 3:\n",
    "        coincident_vessel_stats.append(c)\n",
    "    elif cat == 4:\n",
    "        recent_vessel_stats.append(c)\n",
    "    elif cat == 5:\n",
    "        old_vessel_stats.append(c)\n",
    "    elif cat == 6:\n",
    "        ambiguous_stats.append(c)                          "
   ]
  },
  {
   "cell_type": "code",
   "execution_count": 15,
   "metadata": {},
   "outputs": [],
   "source": [
    "parser = parsers.COCOMaskParser(annotations_filepath=\"../../data/cv2_transfer/instances_slicks_test_v2.json\", img_dir=\"../../data/tiled_image_slicks_test_v2\")"
   ]
  },
  {
   "cell_type": "code",
   "execution_count": 16,
   "metadata": {},
   "outputs": [
    {
     "data": {
      "application/vnd.jupyter.widget-view+json": {
       "model_id": "a90f29d249ca40b982cc0cab06f86e4c",
       "version_major": 2,
       "version_minor": 0
      },
      "text/plain": [
       "  0%|          | 0/487 [00:00<?, ?it/s]"
      ]
     },
     "metadata": {},
     "output_type": "display_data"
    },
    {
     "name": "stderr",
     "output_type": "stream",
     "text": [
      "\u001b[1m\u001b[1mINFO    \u001b[0m\u001b[1m\u001b[0m - \u001b[1m\u001b[34m\u001b[1mAutofixing records\u001b[0m\u001b[1m\u001b[34m\u001b[0m\u001b[1m\u001b[0m | \u001b[36micevision.parsers.parser\u001b[0m:\u001b[36mparse\u001b[0m:\u001b[36m122\u001b[0m\n"
     ]
    },
    {
     "data": {
      "application/vnd.jupyter.widget-view+json": {
       "model_id": "b9410ca7c0004c5192967bf575dffc26",
       "version_major": 2,
       "version_minor": 0
      },
      "text/plain": [
       "  0%|          | 0/487 [00:00<?, ?it/s]"
      ]
     },
     "metadata": {},
     "output_type": "display_data"
    }
   ],
   "source": [
    "train_records = parser.parse(data_splitter=data.SingleSplitSplitter())\n",
    "record = train_records[0][0]"
   ]
  },
  {
   "cell_type": "code",
   "execution_count": 60,
   "metadata": {},
   "outputs": [],
   "source": [
    "infra_slick_stats_area_segment = [] \n",
    "natural_seep_stats_area_segment = []\n",
    "coincident_vessel_stats_area_segment = []\n",
    "recent_vessel_stats_area_segment = []\n",
    "old_vessel_stats_area_segment = []\n",
    "ambiguous_stats_area_segment = []\n",
    "\n",
    "infra_slick_stats_area_bbox = [] \n",
    "natural_seep_stats_area_bbox = []\n",
    "coincident_vessel_stats_area_bbox = []\n",
    "recent_vessel_stats_area_bbox = []\n",
    "old_vessel_stats_area_bbox = []\n",
    "ambiguous_stats_area_bbox = []\n",
    "\n",
    "infra_slick_stats_major_axis_length_segment = [] \n",
    "natural_seep_stats_major_axis_length_segment = []\n",
    "coincident_vessel_stats_major_axis_length_segment = []\n",
    "recent_vessel_stats_major_axis_length_segment = []\n",
    "old_vessel_stats_major_axis_length_segment = []\n",
    "ambiguous_stats_major_axis_length_segment = []\n",
    "\n",
    "infra_slick_stats_minor_axis_length_segment = [] \n",
    "natural_seep_stats_minor_axis_length_segment = []\n",
    "coincident_vessel_stats_minor_axis_length_segment = []\n",
    "recent_vessel_stats_minor_axis_length_segment = []\n",
    "old_vessel_stats_minor_axis_length_segment = []\n",
    "ambiguous_stats_minor_axis_length_segment = []"
   ]
  },
  {
   "cell_type": "code",
   "execution_count": null,
   "metadata": {},
   "outputs": [],
   "source": [
    "def get_minor_axis_length_proxy(bbox):\n",
    "    ml1 = bbox[2]-bbox[0]\n",
    "    ml2 = bbox[3]-bbox[1]\n",
    "    ml3 = min(ml1, ml2)\n",
    "    return ml3"
   ]
  },
  {
   "cell_type": "code",
   "execution_count": 40,
   "metadata": {},
   "outputs": [],
   "source": [
    "def get_props_segments(d, category_list, category_prop_area_seg_list, category_prop_area_bbox_list, category_major_axis_length_list, category_minor_axis_length_list):\n",
    "    mask_array = d['detection']['masks'][0].to_mask(d['common']['height'],d['common']['width']).data\n",
    "    rprops = skimage.measure.regionprops(mask_array.transpose(1,2,0))\n",
    "    category_prop_area_seg_list.append(rprops[0]['area'])\n",
    "    category_prop_area_bbox_list.append(rprops[0]['area_bbox'])\n",
    "    category_major_axis_length_list.append(rprops[0]['axis_major_length']) #major_axis_length'])\n",
    "    try:\n",
    "        category_minor_axis_length_list.append(rprops[0]['axis_minor_length'])\n",
    "    except:\n",
    "        axis_minor_length_proxy = get_minor_axis_length_proxy(rprops[0]['bbox'])\n",
    "        category_minor_axis_length_list.append(axis_minor_length_proxy) \n",
    "        print(\"minor axis length math domain error for, so using proxy: \", d['common']['filepath'])"
   ]
  },
  {
   "cell_type": "markdown",
   "metadata": {},
   "source": [
    "axis_major_length, axis_minor_length, area, and area_bbox"
   ]
  },
  {
   "cell_type": "code",
   "execution_count": null,
   "metadata": {},
   "outputs": [],
   "source": [
    "for i in range(len(train_records[0])):\n",
    "    record = train_records[0][i]\n",
    "    d = record.as_dict()\n",
    "    if d['detection']['labels'] == ['infra_slick']:\n",
    "        get_props_segments(d, infra_slick_stats, infra_slick_stats_area_segment, infra_slick_stats_area_bbox, infra_slick_stats_major_axis_length_segment, infra_slick_stats_minor_axis_length_segment)\n",
    "    elif d['detection']['labels'] == ['natural_seep']:\n",
    "        get_props_segments(d, natural_seep_stats, natural_seep_stats_area_segment, natural_seep_stats_area_bbox, natural_seep_stats_major_axis_length_segment, natural_seep_stats_minor_axis_length_segment)\n",
    "    elif d['detection']['labels'] == ['coincident_vessel']:\n",
    "        get_props_segments(d, coincident_vessel_stats, coincident_vessel_stats_area_segment, coincident_vessel_stats_area_bbox, coincident_vessel_stats_major_axis_length_segment, coincident_vessel_stats_minor_axis_length_segment)\n",
    "    elif d['detection']['labels'] == ['recent_vessel']:\n",
    "        get_props_segments(d, recent_vessel_stats, recent_vessel_stats_area_segment, recent_vessel_stats_area_bbox, recent_vessel_stats_major_axis_length_segment, recent_vessel_stats_minor_axis_length_segment)\n",
    "    elif d['detection']['labels'] == ['old_vessel']:\n",
    "        get_props_segments(d, old_vessel_stats, old_vessel_stats_area_segment, old_vessel_stats_area_bbox, old_vessel_stats_major_axis_length_segment, old_vessel_stats_minor_axis_length_segment)\n",
    "    elif d['detection']['labels'] == ['ambiguous']:\n",
    "        get_props_segments(d, ambiguous_stats, ambiguous_stats_area_segment, ambiguous_stats_area_bbox, ambiguous_stats_major_axis_length_segment, ambiguous_stats_minor_axis_length_segment)"
   ]
  },
  {
   "cell_type": "code",
   "execution_count": 42,
   "metadata": {},
   "outputs": [],
   "source": [
    "max_infra_slick_stats_area_bbox, avg_infra_slick_stats_area_bbox = max(infra_slick_stats_area_bbox), np.mean((infra_slick_stats_area_bbox))\n",
    "max_infra_slick_stats_area_segment, avg_infra_slick_stats_area_segment = max(infra_slick_stats_area_segment), np.mean((infra_slick_stats_area_segment))\n",
    "max_infra_slick_stats_major_axis_length_segment, avg_infra_slick_stats_major_axis_length_segment = max(infra_slick_stats_major_axis_length_segment), np.mean((infra_slick_stats_major_axis_length_segment))\n",
    "max_infra_slick_stats_minor_axis_length_segment, avg_infra_slick_stats_minor_axis_length_segment = max(infra_slick_stats_minor_axis_length_segment), np.mean((infra_slick_stats_minor_axis_length_segment))\n",
    "\n",
    "max_natural_seep_stats_area_bbox, avg_natural_seep_stats_area_bbox = max(natural_seep_stats_area_bbox), np.mean((natural_seep_stats_area_bbox))\n",
    "max_natural_seep_stats_area_segment, avg_natural_seep_stats_area_segment = max(natural_seep_stats_area_segment), np.mean((natural_seep_stats_area_segment))\n",
    "max_natural_seep_stats_major_axis_length_segment, avg_natural_seep_stats_major_axis_length_segment = max(natural_seep_stats_major_axis_length_segment), np.mean((natural_seep_stats_major_axis_length_segment))\n",
    "max_natural_seep_stats_minor_axis_length_segment, avg_natural_seep_stats_minor_axis_length_segment = max(natural_seep_stats_minor_axis_length_segment), np.mean((natural_seep_stats_minor_axis_length_segment))\n",
    "\n",
    "max_coincident_vessel_stats_area_bbox, avg_coincident_vessel_stats_area_bbox = max(coincident_vessel_stats_area_bbox), np.mean((coincident_vessel_stats_area_bbox))\n",
    "max_coincident_vessel_stats_area_segment, avg_coincident_vessel_stats_area_segment = max(coincident_vessel_stats_area_segment), np.mean((coincident_vessel_stats_area_segment))\n",
    "max_coincident_vessel_stats_major_axis_length_segment, avg_coincident_vessel_stats_major_axis_length_segment = max(coincident_vessel_stats_major_axis_length_segment), np.mean((coincident_vessel_stats_major_axis_length_segment))\n",
    "max_coincident_vessel_stats_minor_axis_length_segment, avg_coincident_vessel_stats_minor_axis_length_segment = max(coincident_vessel_stats_minor_axis_length_segment), np.mean((coincident_vessel_stats_minor_axis_length_segment))\n",
    "\n",
    "max_recent_vessel_stats_area_bbox, avg_recent_vessel_stats_area_bbox = max(recent_vessel_stats_area_bbox), np.mean((recent_vessel_stats_area_bbox))\n",
    "max_recent_vessel_stats_area_segment, avg_recent_vessel_stats_area_segment = max(recent_vessel_stats_area_segment), np.mean((recent_vessel_stats_area_segment))\n",
    "max_recent_vessel_stats_major_axis_length_segment, avg_recent_vessel_stats_major_axis_length_segment = max(recent_vessel_stats_major_axis_length_segment), np.mean((recent_vessel_stats_major_axis_length_segment))\n",
    "max_recent_vessel_stats_minor_axis_length_segment, avg_recent_vessel_stats_minor_axis_length_segment = max(recent_vessel_stats_minor_axis_length_segment), np.mean((recent_vessel_stats_minor_axis_length_segment))\n",
    "\n",
    "max_old_vessel_stats_area_bbox, avg_old_vessel_stats_area_bbox = max(old_vessel_stats_area_bbox), np.mean((old_vessel_stats_area_bbox))\n",
    "max_old_vessel_stats_area_segment, avg_old_vessel_stats_area_segment = max(old_vessel_stats_area_segment), np.mean((old_vessel_stats_area_segment))\n",
    "max_old_vessel_stats_major_axis_length_segment, avg_old_vessel_stats_major_axis_length_segment = max(old_vessel_stats_major_axis_length_segment), np.mean((old_vessel_stats_major_axis_length_segment))\n",
    "max_old_vessel_stats_minor_axis_length_segment, avg_old_vessel_stats_minor_axis_length_segment = max(old_vessel_stats_minor_axis_length_segment), np.mean((old_vessel_stats_minor_axis_length_segment))\n",
    "\n",
    "max_ambiguous_stats_area_bbox, avg_ambiguous_stats_area_bbox = max(ambiguous_stats_area_bbox), np.mean((ambiguous_stats_area_bbox))\n",
    "max_ambiguous_stats_area_segment, avg_ambiguous_stats_area_segment = max(ambiguous_stats_area_segment), np.mean((ambiguous_stats_area_segment))\n",
    "max_ambiguous_stats_major_axis_length_segment, avg_ambiguous_stats_major_axis_length_segment = max(ambiguous_stats_major_axis_length_segment), np.mean((ambiguous_stats_major_axis_length_segment))\n",
    "max_ambiguous_stats_minor_axis_length_segment, avg_ambiguous_stats_minor_axis_length_segment = max(ambiguous_stats_minor_axis_length_segment), np.mean((ambiguous_stats_minor_axis_length_segment))\n",
    "\n"
   ]
  },
  {
   "cell_type": "code",
   "execution_count": 67,
   "metadata": {},
   "outputs": [],
   "source": [
    "class_list = [1,2,3,4,5,6]\n",
    "class_list_string = ['Infrastructure', 'Natural Seep', 'Coincident Vessel', 'Recent Vessel', 'Old Vessel', 'Ambiguous']"
   ]
  },
  {
   "cell_type": "code",
   "execution_count": 62,
   "metadata": {},
   "outputs": [],
   "source": [
    "avg_area_segment_list = [avg_infra_slick_stats_area_segment, avg_natural_seep_stats_area_segment, avg_coincident_vessel_stats_area_segment, avg_recent_vessel_stats_area_segment, avg_old_vessel_stats_area_segment, avg_ambiguous_stats_area_segment]"
   ]
  },
  {
   "cell_type": "code",
   "execution_count": 63,
   "metadata": {},
   "outputs": [],
   "source": [
    "avg_area_bbox_list = [avg_infra_slick_stats_area_bbox, avg_natural_seep_stats_area_bbox, avg_coincident_vessel_stats_area_bbox, avg_recent_vessel_stats_area_bbox, avg_old_vessel_stats_area_bbox, avg_ambiguous_stats_area_bbox]"
   ]
  },
  {
   "cell_type": "code",
   "execution_count": 64,
   "metadata": {},
   "outputs": [],
   "source": [
    "avg_major_axis_length_segment_list = [avg_infra_slick_stats_major_axis_length_segment, avg_natural_seep_stats_major_axis_length_segment, avg_coincident_vessel_stats_major_axis_length_segment, avg_recent_vessel_stats_major_axis_length_segment,avg_old_vessel_stats_major_axis_length_segment, avg_ambiguous_stats_major_axis_length_segment]   "
   ]
  },
  {
   "cell_type": "code",
   "execution_count": 65,
   "metadata": {},
   "outputs": [],
   "source": [
    "avg_minor_axis_length_segment_list = [avg_infra_slick_stats_minor_axis_length_segment, avg_natural_seep_stats_minor_axis_length_segment, avg_coincident_vessel_stats_minor_axis_length_segment, avg_recent_vessel_stats_minor_axis_length_segment,avg_old_vessel_stats_minor_axis_length_segment, avg_ambiguous_stats_minor_axis_length_segment] "
   ]
  },
  {
   "cell_type": "code",
   "execution_count": 68,
   "metadata": {},
   "outputs": [],
   "source": [
    "stats_df = pd.DataFrame(\n",
    "    {'classes (integer)': class_list,\n",
    "     'classes (string)': class_list_string,\n",
    "     'avg area of segment': avg_area_segment_list,\n",
    "     'avg area of bbox': avg_area_bbox_list,\n",
    "     'avg major axis length of segment': avg_major_axis_length_segment_list,\n",
    "     'avg minor axis length of segment': avg_minor_axis_length_segment_list\n",
    "    })"
   ]
  },
  {
   "cell_type": "code",
   "execution_count": null,
   "metadata": {},
   "outputs": [],
   "source": [
    "stats_df"
   ]
  },
  {
   "cell_type": "code",
   "execution_count": null,
   "metadata": {},
   "outputs": [],
   "source": []
  }
 ],
 "metadata": {
  "kernelspec": {
   "display_name": "Python [conda env:fastai2]",
   "language": "python",
   "name": "conda-env-fastai2-py"
  },
  "language_info": {
   "codemirror_mode": {
    "name": "ipython",
    "version": 3
   },
   "file_extension": ".py",
   "mimetype": "text/x-python",
   "name": "python",
   "nbconvert_exporter": "python",
   "pygments_lexer": "ipython3",
   "version": "3.9.7"
  }
 },
 "nbformat": 4,
 "nbformat_minor": 5
}
