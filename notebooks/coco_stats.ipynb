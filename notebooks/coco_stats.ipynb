{
 "cells": [
  {
   "cell_type": "code",
   "execution_count": 7,
   "id": "565c3f1d-f0a9-4233-8fc3-673fd22508ed",
   "metadata": {},
   "outputs": [
    {
     "name": "stdout",
     "output_type": "stream",
     "text": [
      "info\n",
      "licenses\n",
      "images\n",
      "annotations\n",
      "categories\n"
     ]
    }
   ],
   "source": [
    "import json\n",
    "from collections import Counter\n",
    "\n",
    "with open(\"../../data/cv2_transfer/instances_slicks_test_v2.json\") as annotation:\n",
    "    data=json.load(annotation)\n",
    "\n",
    "for x in data:\n",
    "    print(x)"
   ]
  },
  {
   "cell_type": "code",
   "execution_count": 58,
   "id": "562dc33e-62cd-4ee3-8063-ea367ae1fe65",
   "metadata": {},
   "outputs": [
    {
     "data": {
      "text/plain": [
       "[{'supercategory': 'slick', 'id': 1, 'name': 'infra_slick'},\n",
       " {'supercategory': 'slick', 'id': 2, 'name': 'natural_seep'},\n",
       " {'supercategory': 'slick', 'id': 3, 'name': 'coincident_vessel'},\n",
       " {'supercategory': 'slick', 'id': 4, 'name': 'recent_vessel'},\n",
       " {'supercategory': 'slick', 'id': 5, 'name': 'old_vessel'},\n",
       " {'supercategory': 'slick', 'id': 6, 'name': 'ambiguous'}]"
      ]
     },
     "execution_count": 58,
     "metadata": {},
     "output_type": "execute_result"
    }
   ],
   "source": [
    "list(data['categories'])"
   ]
  },
  {
   "cell_type": "code",
   "execution_count": 30,
   "id": "a6578dd2-c2f7-4f6f-a8e6-2163a5745e32",
   "metadata": {},
   "outputs": [],
   "source": [
    "infra_slick_stats = [] \n",
    "natural_seep_stats = []\n",
    "coincident_vessel_stats = []\n",
    "recent_vessel_stats = []\n",
    "old_vessel_stats = []\n",
    "ambiguous_stats = []"
   ]
  },
  {
   "cell_type": "code",
   "execution_count": 31,
   "id": "564304ca-530a-4100-a604-58f37ce99653",
   "metadata": {},
   "outputs": [],
   "source": [
    "for c in list(data['annotations']):\n",
    "    cat = c['category_id']\n",
    "    if cat == 1:\n",
    "        infra_slick_stats.append(c)\n",
    "    elif cat == 2:\n",
    "        natural_seep_stats.append(c)\n",
    "    elif cat == 3:\n",
    "        coincident_vessel_stats.append(c)\n",
    "    elif cat == 4:\n",
    "        recent_vessel_stats.append(c)\n",
    "    elif cat == 5:\n",
    "        old_vessel_stats.append(c)\n",
    "    elif cat == 6:\n",
    "        ambiguous_stats.append(c)                          "
   ]
  },
  {
   "cell_type": "code",
   "execution_count": 34,
   "id": "fb9e8ef0-e82b-4095-bc04-3df9236e2fcf",
   "metadata": {},
   "outputs": [
    {
     "data": {
      "text/plain": [
       "(31, 263, 100, 3, 80, 10)"
      ]
     },
     "execution_count": 34,
     "metadata": {},
     "output_type": "execute_result"
    }
   ],
   "source": [
    "len(infra_slick_stats), len(natural_seep_stats), len(coincident_vessel_stats), len(recent_vessel_stats), len(old_vessel_stats), len(ambiguous_stats)"
   ]
  },
  {
   "cell_type": "code",
   "execution_count": 39,
   "id": "ce3e8f33-7d43-405e-bdba-6192899cec4a",
   "metadata": {},
   "outputs": [],
   "source": [
    "infra_slick_stats_area = [] \n",
    "natural_seep_stats_area = []\n",
    "coincident_vessel_stats_area = []\n",
    "recent_vessel_stats_area = []\n",
    "old_vessel_stats_area = []\n",
    "ambiguous_stats_area = []"
   ]
  },
  {
   "cell_type": "code",
   "execution_count": 40,
   "id": "e0bda3e2-4b95-4e13-8c49-c4b883203110",
   "metadata": {},
   "outputs": [],
   "source": [
    "for a in infra_slick_stats:\n",
    "    area = a['area']\n",
    "    infra_slick_stats_area.append(area)\n",
    "for a in natural_seep_stats:\n",
    "    area = a['area']\n",
    "    natural_seep_stats_area.append(area)\n",
    "for a in coincident_vessel_stats:\n",
    "    area = a['area']\n",
    "    coincident_vessel_stats_area.append(area)\n",
    "for a in recent_vessel_stats:\n",
    "    area = a['area']\n",
    "    recent_vessel_stats_area.append(area)\n",
    "for a in old_vessel_stats:\n",
    "    area = a['area']\n",
    "    old_vessel_stats_area.append(area)\n",
    "for a in ambiguous_stats:\n",
    "    area = a['area']\n",
    "    ambiguous_stats_area.append(area)"
   ]
  },
  {
   "cell_type": "code",
   "execution_count": 41,
   "id": "40f21b09-df6e-44d4-83cd-75b0328a4778",
   "metadata": {},
   "outputs": [
    {
     "data": {
      "text/plain": [
       "(91335, 1360326, 182448, 2760, 160981, 34593)"
      ]
     },
     "execution_count": 41,
     "metadata": {},
     "output_type": "execute_result"
    }
   ],
   "source": [
    "sum(infra_slick_stats_area), sum(natural_seep_stats_area), sum(coincident_vessel_stats_area), sum(recent_vessel_stats_area), sum(old_vessel_stats_area), sum(ambiguous_stats_area) "
   ]
  },
  {
   "cell_type": "code",
   "execution_count": 55,
   "id": "9ead7cb6-c5dd-47db-b900-c15f0ee704e6",
   "metadata": {},
   "outputs": [],
   "source": [
    "infra_slick_stats_maxsidelen = [] \n",
    "natural_seep_stats_maxsidelen = []\n",
    "coincident_vessel_stats_maxsidelen = []\n",
    "recent_vessel_stats_maxsidelen = []\n",
    "old_vessel_stats_maxsidelen = []\n",
    "ambiguous_stats_maxsidelen = []"
   ]
  },
  {
   "cell_type": "code",
   "execution_count": 56,
   "id": "9aa2c6c7-024b-4acd-b7e7-b81dd5089983",
   "metadata": {},
   "outputs": [],
   "source": [
    "for l in infra_slick_stats:\n",
    "    ml = l['bbox']\n",
    "    ml1 = ml[2]-ml[0]\n",
    "    ml2 = ml[3]-ml[1]\n",
    "    ml3 = max(ml1, ml2)\n",
    "    infra_slick_stats_maxsidelen.append(abs(ml3))\n",
    "for l in natural_seep_stats:\n",
    "    ml = l['bbox']\n",
    "    ml1 = ml[2]-ml[0]\n",
    "    ml2 = ml[3]-ml[1]\n",
    "    ml3 = max(ml1, ml2)\n",
    "    natural_seep_stats_maxsidelen.append(abs(ml3))\n",
    "for l in coincident_vessel_stats:\n",
    "    ml = l['bbox']\n",
    "    ml1 = ml[2]-ml[0]\n",
    "    ml2 = ml[3]-ml[1]\n",
    "    ml3 = max(ml1, ml2)\n",
    "    coincident_vessel_stats_maxsidelen.append(abs(ml3))\n",
    "for l in recent_vessel_stats:\n",
    "    ml = l['bbox']\n",
    "    ml1 = ml[2]-ml[0]\n",
    "    ml2 = ml[3]-ml[1]\n",
    "    ml3 = max(ml1, ml2)\n",
    "    recent_vessel_stats_maxsidelen.append(abs(ml3))\n",
    "for l in old_vessel_stats:\n",
    "    ml = l['bbox']\n",
    "    ml1 = ml[2]-ml[0]\n",
    "    ml2 = ml[3]-ml[1]\n",
    "    ml3 = max(ml1, ml2)\n",
    "    old_vessel_stats_maxsidelen.append(abs(ml3))\n",
    "for l in ambiguous_stats:\n",
    "    ml = l['bbox']\n",
    "    ml1 = ml[2]-ml[0]\n",
    "    ml2 = ml[3]-ml[1]\n",
    "    ml3 = max(ml1, ml2)\n",
    "    ambiguous_stats_maxsidelen.append(abs(ml3))"
   ]
  },
  {
   "cell_type": "code",
   "execution_count": 57,
   "id": "b3f1d815-6cbb-45e6-8ba8-2c80bd9727eb",
   "metadata": {},
   "outputs": [
    {
     "data": {
      "text/plain": [
       "(466.0, 512.0, 512.0, 181.0, 512.0, 221.0)"
      ]
     },
     "execution_count": 57,
     "metadata": {},
     "output_type": "execute_result"
    }
   ],
   "source": [
    "max(infra_slick_stats_maxsidelen), max(natural_seep_stats_maxsidelen),max(coincident_vessel_stats_maxsidelen),max(recent_vessel_stats_maxsidelen),max(old_vessel_stats_maxsidelen),max(ambiguous_stats_maxsidelen)\n"
   ]
  }
 ],
 "metadata": {
  "kernelspec": {
   "display_name": "Python [conda env:fastai2]",
   "language": "python",
   "name": "conda-env-fastai2-py"
  },
  "language_info": {
   "codemirror_mode": {
    "name": "ipython",
    "version": 3
   },
   "file_extension": ".py",
   "mimetype": "text/x-python",
   "name": "python",
   "nbconvert_exporter": "python",
   "pygments_lexer": "ipython3",
   "version": "3.9.7"
  }
 },
 "nbformat": 4,
 "nbformat_minor": 5
}
