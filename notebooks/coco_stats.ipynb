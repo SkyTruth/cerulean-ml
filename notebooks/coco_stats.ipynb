{
 "cells": [
  {
   "cell_type": "code",
   "execution_count": null,
   "id": "b3cc2e6c-76a8-4978-9a6b-52a8559fcd5a",
   "metadata": {},
   "outputs": [],
   "source": [
    "import os\n",
    "import numpy as np\n",
    "import ceruleanml.data as data\n",
    "from pathlib import Path\n",
    "import pandas as pd\n",
    "from icevision.parsers import COCOMaskParser\n",
    "from icevision.data import SingleSplitSplitter\n",
    "\n",
    "ml_data_path = os.path.join(os.path.abspath(os.getcwd()),\"../../data/cv2_transfer/outputs/skytruth_annotation/first_phase/\")\n",
    "path = Path(ml_data_path)\n",
    "class_folders = list(path.glob(\"*/\"))\n",
    "\n",
    "class_map = {\n",
    "    \"Infrastructure\": 1,\n",
    "    \"Natural Seep\": 2,\n",
    "    \"Coincident Vessel\": 3,\n",
    "    \"Recent Vessel\": 4,\n",
    "    \"Old Vessel\": 5,\n",
    "    \"Ambiguous\": 6,\n",
    "    \"Hard Negatives\": 0,\n",
    "}\n",
    "\n",
    "parser = COCOMaskParser(annotations_filepath=\"../../data/cv2_transfer/instances_slicks_test_v2.json\", img_dir=\"../tests/data/tiled_images\")\n",
    "\n",
    "train_records = parser.parse(data_splitter=SingleSplitSplitter())\n",
    "record = train_records[0][0]"
   ]
  },
  {
   "cell_type": "code",
   "execution_count": null,
   "id": "a3465e71-acae-436f-9294-0f2862e6677f",
   "metadata": {},
   "outputs": [],
   "source": [
    "from ceruleanml.coco_stats import region_props_for_instance_type\n",
    "region_props_for_instance_type(train_records[0], \"infra_slick\")"
   ]
  },
  {
   "cell_type": "code",
   "execution_count": null,
   "id": "2802f82e",
   "metadata": {},
   "outputs": [],
   "source": [
    "stats_df = pd.DataFrame(\n",
    "    {'classes (integer)': class_list,\n",
    "     'classes (string)': class_list_string,\n",
    "     'avg. area of segment': avg_area_segment_list,\n",
    "     'avg. area of bbox': avg_area_bbox_list,\n",
    "     'avg. major axis length of segment': avg_major_axis_length_segment_list,\n",
    "     'avg. minor axis length of segment': avg_minor_axis_length_segment_list,\n",
    "     'std. dev. area of segment': stdv_area_segment_list,\n",
    "     'std. dev. area of bbox': stdv_area_bbox_list,\n",
    "     'std. dev. major axis length of segment': stdv_major_axis_length_segment_list,\n",
    "     'std. dev. minor axis length of segment': stdv_minor_axis_length_segment_list\n",
    "    })"
   ]
  },
  {
   "cell_type": "code",
   "execution_count": null,
   "id": "fe9dff1d",
   "metadata": {},
   "outputs": [],
   "source": [
    "stats_df"
   ]
  },
  {
   "cell_type": "code",
   "execution_count": null,
   "id": "fb9b66a1",
   "metadata": {},
   "outputs": [],
   "source": []
  }
 ],
 "metadata": {
  "kernelspec": {
   "display_name": "Python [conda env:fastai2]",
   "language": "python",
   "name": "conda-env-fastai2-py"
  },
  "language_info": {
   "codemirror_mode": {
    "name": "ipython",
    "version": 3
   },
   "file_extension": ".py",
   "mimetype": "text/x-python",
   "name": "python",
   "nbconvert_exporter": "python",
   "pygments_lexer": "ipython3",
   "version": "3.9.7"
  }
 },
 "nbformat": 4,
 "nbformat_minor": 5
}
