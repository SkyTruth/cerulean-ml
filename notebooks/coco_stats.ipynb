{
 "cells": [
  {
   "cell_type": "code",
   "execution_count": 1,
   "id": "9111a2e3",
   "metadata": {},
   "outputs": [],
   "source": [
    "import os, json\n",
    "import numpy as np\n",
    "import ceruleanml.data as data\n",
    "from pathlib import Path\n",
    "import skimage.io as skio\n",
    "import matplotlib.pyplot as plt\n",
    "import matplotlib.image as mpimg\n",
    "from icevision.all import *\n",
    "import icedata\n",
    "import skimage\n",
    "import pandas as pd\n",
    "\n",
    "ml_data_path = os.path.join(os.path.abspath(os.getcwd()),\"../../data/cv2_transfer/outputs/skytruth_annotation/first_phase/\")\n",
    "path = Path(ml_data_path)\n",
    "class_folders = list(path.glob(\"*/\"))\n",
    "\n",
    "with open(\"../../data/cv2_transfer/instances_slicks_test_v2.json\") as annotation:\n",
    "    data_js=json.load(annotation)"
   ]
  },
  {
   "cell_type": "code",
   "execution_count": 2,
   "id": "a26e4e55",
   "metadata": {},
   "outputs": [
    {
     "data": {
      "text/plain": [
       "{'Infrastructure': 1,\n",
       " 'Natural Seep': 2,\n",
       " 'Coincident Vessel': 3,\n",
       " 'Recent Vessel': 4,\n",
       " 'Old Vessel': 5,\n",
       " 'Ambiguous': 6,\n",
       " 'Hard Negatives': 0}"
      ]
     },
     "execution_count": 2,
     "metadata": {},
     "output_type": "execute_result"
    }
   ],
   "source": [
    "class_map = {\n",
    "    \"Infrastructure\": 1,\n",
    "    \"Natural Seep\": 2,\n",
    "    \"Coincident Vessel\": 3,\n",
    "    \"Recent Vessel\": 4,\n",
    "    \"Old Vessel\": 5,\n",
    "    \"Ambiguous\": 6,\n",
    "    \"Hard Negatives\": 0,\n",
    "}\n",
    "\n",
    "class_map"
   ]
  },
  {
   "cell_type": "code",
   "execution_count": 3,
   "id": "8ab5c46a",
   "metadata": {},
   "outputs": [
    {
     "data": {
      "text/plain": [
       "[{'supercategory': 'slick', 'id': 1, 'name': 'infra_slick'},\n",
       " {'supercategory': 'slick', 'id': 2, 'name': 'natural_seep'},\n",
       " {'supercategory': 'slick', 'id': 3, 'name': 'coincident_vessel'},\n",
       " {'supercategory': 'slick', 'id': 4, 'name': 'recent_vessel'},\n",
       " {'supercategory': 'slick', 'id': 5, 'name': 'old_vessel'},\n",
       " {'supercategory': 'slick', 'id': 6, 'name': 'ambiguous'}]"
      ]
     },
     "execution_count": 3,
     "metadata": {},
     "output_type": "execute_result"
    }
   ],
   "source": [
    "list(data_js['categories'])"
   ]
  },
  {
   "cell_type": "code",
   "execution_count": 4,
   "id": "1d99cf2b",
   "metadata": {},
   "outputs": [],
   "source": [
    "infra_slick_stats = [] \n",
    "natural_seep_stats = []\n",
    "coincident_vessel_stats = []\n",
    "recent_vessel_stats = []\n",
    "old_vessel_stats = []\n",
    "ambiguous_stats = []"
   ]
  },
  {
   "cell_type": "code",
   "execution_count": 5,
   "id": "362fa58e",
   "metadata": {},
   "outputs": [],
   "source": [
    "for c in list(data_js['annotations']):\n",
    "    cat = c['category_id']\n",
    "    if cat == 1:\n",
    "        infra_slick_stats.append(c)\n",
    "    elif cat == 2:\n",
    "        natural_seep_stats.append(c)\n",
    "    elif cat == 3:\n",
    "        coincident_vessel_stats.append(c)\n",
    "    elif cat == 4:\n",
    "        recent_vessel_stats.append(c)\n",
    "    elif cat == 5:\n",
    "        old_vessel_stats.append(c)\n",
    "    elif cat == 6:\n",
    "        ambiguous_stats.append(c)                          "
   ]
  },
  {
   "cell_type": "code",
   "execution_count": 6,
   "id": "c178ba6c",
   "metadata": {},
   "outputs": [],
   "source": [
    "parser = parsers.COCOMaskParser(annotations_filepath=\"../../data/cv2_transfer/instances_slicks_test_v2.json\", img_dir=\"../../data/tiled_image_slicks_test_v2\")"
   ]
  },
  {
   "cell_type": "code",
   "execution_count": 7,
   "id": "94b12aa5",
   "metadata": {},
   "outputs": [
    {
     "data": {
      "application/vnd.jupyter.widget-view+json": {
       "model_id": "a68732b82ec048b8a4168c9e934113dc",
       "version_major": 2,
       "version_minor": 0
      },
      "text/plain": [
       "  0%|          | 0/487 [00:00<?, ?it/s]"
      ]
     },
     "metadata": {},
     "output_type": "display_data"
    },
    {
     "name": "stderr",
     "output_type": "stream",
     "text": [
      "\u001b[1m\u001b[1mINFO    \u001b[0m\u001b[1m\u001b[0m - \u001b[1m\u001b[34m\u001b[1mAutofixing records\u001b[0m\u001b[1m\u001b[34m\u001b[0m\u001b[1m\u001b[0m | \u001b[36micevision.parsers.parser\u001b[0m:\u001b[36mparse\u001b[0m:\u001b[36m122\u001b[0m\n"
     ]
    },
    {
     "data": {
      "application/vnd.jupyter.widget-view+json": {
       "model_id": "4ce55e846b7c40a39cfae186fcaa334f",
       "version_major": 2,
       "version_minor": 0
      },
      "text/plain": [
       "  0%|          | 0/487 [00:00<?, ?it/s]"
      ]
     },
     "metadata": {},
     "output_type": "display_data"
    }
   ],
   "source": [
    "train_records = parser.parse(data_splitter=data.SingleSplitSplitter())\n",
    "record = train_records[0][0]"
   ]
  },
  {
   "cell_type": "code",
   "execution_count": 56,
   "id": "13c6a91d",
   "metadata": {},
   "outputs": [],
   "source": [
    "infra_slick_stats_area_segment = [] \n",
    "natural_seep_stats_area_segment = []\n",
    "coincident_vessel_stats_area_segment = []\n",
    "recent_vessel_stats_area_segment = []\n",
    "old_vessel_stats_area_segment = []\n",
    "ambiguous_stats_area_segment = []\n",
    "\n",
    "infra_slick_stats_area_bbox = [] \n",
    "natural_seep_stats_area_bbox = []\n",
    "coincident_vessel_stats_area_bbox = []\n",
    "recent_vessel_stats_area_bbox = []\n",
    "old_vessel_stats_area_bbox = []\n",
    "ambiguous_stats_area_bbox = []\n",
    "\n",
    "infra_slick_stats_major_axis_length_segment = [] \n",
    "natural_seep_stats_major_axis_length_segment = []\n",
    "coincident_vessel_stats_major_axis_length_segment = []\n",
    "recent_vessel_stats_major_axis_length_segment = []\n",
    "old_vessel_stats_major_axis_length_segment = []\n",
    "ambiguous_stats_major_axis_length_segment = []\n",
    "\n",
    "infra_slick_stats_minor_axis_length_segment = [] \n",
    "natural_seep_stats_minor_axis_length_segment = []\n",
    "coincident_vessel_stats_minor_axis_length_segment = []\n",
    "recent_vessel_stats_minor_axis_length_segment = []\n",
    "old_vessel_stats_minor_axis_length_segment = []\n",
    "ambiguous_stats_minor_axis_length_segment = []"
   ]
  },
  {
   "cell_type": "code",
   "execution_count": 57,
   "id": "6db089f4",
   "metadata": {},
   "outputs": [],
   "source": [
    "def get_minor_axis_length_proxy(bbox):\n",
    "    ml1 = bbox[3]-bbox[0]\n",
    "    ml2 = bbox[4]-bbox[1]\n",
    "    ml3 = min(ml1, ml2)\n",
    "    return ml3"
   ]
  },
  {
   "cell_type": "code",
   "execution_count": 58,
   "id": "905e050c",
   "metadata": {},
   "outputs": [],
   "source": [
    "def get_props_segments(d, category_list, category_prop_area_seg_list, category_prop_area_bbox_list, category_major_axis_length_list, category_minor_axis_length_list):\n",
    "    mask_array = d['detection']['masks'][0].to_mask(d['common']['height'],d['common']['width']).data\n",
    "    rprops = skimage.measure.regionprops(mask_array.transpose(1,2,0))\n",
    "    category_prop_area_seg_list.append(rprops[0]['area'])\n",
    "    category_prop_area_bbox_list.append(rprops[0]['area_bbox'])\n",
    "    category_major_axis_length_list.append(rprops[0]['axis_major_length'])\n",
    "    #category_minor_axis_length_list.append(rprops[0]['axis_minor_length']) # problematic, see: https://github.com/scikit-image/scikit-image/issues/2625\n",
    "    # Use proxy:\n",
    "    axis_minor_length_proxy = get_minor_axis_length_proxy(rprops[0]['bbox'])\n",
    "    category_minor_axis_length_list.append(axis_minor_length_proxy) "
   ]
  },
  {
   "cell_type": "markdown",
   "id": "3aa51b7a",
   "metadata": {},
   "source": [
    "axis_major_length, axis_minor_length, area, and area_bbox"
   ]
  },
  {
   "cell_type": "code",
   "execution_count": 59,
   "id": "c6e86774",
   "metadata": {},
   "outputs": [],
   "source": [
    "for i in range(len(train_records[0])):\n",
    "    record = train_records[0][i]\n",
    "    d = record.as_dict()\n",
    "    if d['detection']['labels'] == ['infra_slick']:\n",
    "        get_props_segments(d, infra_slick_stats, infra_slick_stats_area_segment, infra_slick_stats_area_bbox, infra_slick_stats_major_axis_length_segment, infra_slick_stats_minor_axis_length_segment)\n",
    "    elif d['detection']['labels'] == ['natural_seep']:\n",
    "        get_props_segments(d, natural_seep_stats, natural_seep_stats_area_segment, natural_seep_stats_area_bbox, natural_seep_stats_major_axis_length_segment, natural_seep_stats_minor_axis_length_segment)\n",
    "    elif d['detection']['labels'] == ['coincident_vessel']:\n",
    "        get_props_segments(d, coincident_vessel_stats, coincident_vessel_stats_area_segment, coincident_vessel_stats_area_bbox, coincident_vessel_stats_major_axis_length_segment, coincident_vessel_stats_minor_axis_length_segment)\n",
    "    elif d['detection']['labels'] == ['recent_vessel']:\n",
    "        get_props_segments(d, recent_vessel_stats, recent_vessel_stats_area_segment, recent_vessel_stats_area_bbox, recent_vessel_stats_major_axis_length_segment, recent_vessel_stats_minor_axis_length_segment)\n",
    "    elif d['detection']['labels'] == ['old_vessel']:\n",
    "        get_props_segments(d, old_vessel_stats, old_vessel_stats_area_segment, old_vessel_stats_area_bbox, old_vessel_stats_major_axis_length_segment, old_vessel_stats_minor_axis_length_segment)\n",
    "    elif d['detection']['labels'] == ['ambiguous']:\n",
    "        get_props_segments(d, ambiguous_stats, ambiguous_stats_area_segment, ambiguous_stats_area_bbox, ambiguous_stats_major_axis_length_segment, ambiguous_stats_minor_axis_length_segment)"
   ]
  },
  {
   "cell_type": "code",
   "execution_count": 60,
   "id": "4bd31953",
   "metadata": {},
   "outputs": [],
   "source": [
    "max_infra_slick_stats_area_bbox, avg_infra_slick_stats_area_bbox, stdv_infra_slick_stats_area_bbox = max(infra_slick_stats_area_bbox), np.mean(infra_slick_stats_area_bbox), np.std(infra_slick_stats_area_bbox)\n",
    "max_infra_slick_stats_area_segment, avg_infra_slick_stats_area_segment, stdv_infra_slick_stats_area_segment = max(infra_slick_stats_area_segment), np.mean(infra_slick_stats_area_segment), np.std(infra_slick_stats_area_segment)\n",
    "max_infra_slick_stats_major_axis_length_segment, avg_infra_slick_stats_major_axis_length_segment, stdv_infra_slick_stats_major_axis_length_segment = max(infra_slick_stats_major_axis_length_segment), np.mean(infra_slick_stats_major_axis_length_segment), np.std(infra_slick_stats_major_axis_length_segment)\n",
    "max_infra_slick_stats_minor_axis_length_segment, avg_infra_slick_stats_minor_axis_length_segment, stdv_infra_slick_stats_minor_axis_length_segment = max(infra_slick_stats_minor_axis_length_segment), np.mean(infra_slick_stats_minor_axis_length_segment), np.std(infra_slick_stats_minor_axis_length_segment)\n",
    "\n",
    "max_natural_seep_stats_area_bbox, avg_natural_seep_stats_area_bbox, stdv_natural_seep_stats_area_bbox = max(natural_seep_stats_area_bbox), np.mean(natural_seep_stats_area_bbox), np.std(natural_seep_stats_area_bbox)\n",
    "max_natural_seep_stats_area_segment, avg_natural_seep_stats_area_segment, stdv_natural_seep_stats_area_segment = max(natural_seep_stats_area_segment), np.mean(natural_seep_stats_area_segment), np.std(natural_seep_stats_area_segment)\n",
    "max_natural_seep_stats_major_axis_length_segment, avg_natural_seep_stats_major_axis_length_segment, stdv_natural_seep_stats_major_axis_length_segment = max(natural_seep_stats_major_axis_length_segment), np.mean(natural_seep_stats_major_axis_length_segment), np.std(natural_seep_stats_major_axis_length_segment)\n",
    "max_natural_seep_stats_minor_axis_length_segment, avg_natural_seep_stats_minor_axis_length_segment, stdv_natural_seep_stats_minor_axis_length_segment = max(natural_seep_stats_minor_axis_length_segment), np.mean(natural_seep_stats_minor_axis_length_segment), np.std(natural_seep_stats_minor_axis_length_segment)\n",
    "\n",
    "max_coincident_vessel_stats_area_bbox, avg_coincident_vessel_stats_area_bbox, stdv_coincident_vessel_stats_area_bbox = max(coincident_vessel_stats_area_bbox), np.mean(coincident_vessel_stats_area_bbox), np.std(coincident_vessel_stats_area_bbox)\n",
    "max_coincident_vessel_stats_area_segment, avg_coincident_vessel_stats_area_segment, stdv_coincident_vessel_stats_area_segment = max(coincident_vessel_stats_area_segment), np.mean(coincident_vessel_stats_area_segment), np.std(coincident_vessel_stats_area_segment)\n",
    "max_coincident_vessel_stats_major_axis_length_segment, avg_coincident_vessel_stats_major_axis_length_segment, stdv_coincident_vessel_stats_major_axis_length_segment = max(coincident_vessel_stats_major_axis_length_segment), np.mean(coincident_vessel_stats_major_axis_length_segment), np.std(coincident_vessel_stats_major_axis_length_segment)\n",
    "max_coincident_vessel_stats_minor_axis_length_segment, avg_coincident_vessel_stats_minor_axis_length_segment, stdv_coincident_vessel_stats_minor_axis_length_segment = max(coincident_vessel_stats_minor_axis_length_segment), np.mean(coincident_vessel_stats_minor_axis_length_segment), np.std(coincident_vessel_stats_minor_axis_length_segment)\n",
    "\n",
    "max_recent_vessel_stats_area_bbox, avg_recent_vessel_stats_area_bbox, stdv_recent_vessel_stats_area_bbox = max(recent_vessel_stats_area_bbox), np.mean(recent_vessel_stats_area_bbox), np.std(recent_vessel_stats_area_bbox)\n",
    "max_recent_vessel_stats_area_segment, avg_recent_vessel_stats_area_segment, stdv_recent_vessel_stats_area_segment = max(recent_vessel_stats_area_segment), np.mean(recent_vessel_stats_area_segment), np.std(recent_vessel_stats_area_segment)\n",
    "max_recent_vessel_stats_major_axis_length_segment, avg_recent_vessel_stats_major_axis_length_segment, stdv_recent_vessel_stats_major_axis_length_segment = max(recent_vessel_stats_major_axis_length_segment), np.mean(recent_vessel_stats_major_axis_length_segment), np.std(recent_vessel_stats_major_axis_length_segment)\n",
    "max_recent_vessel_stats_minor_axis_length_segment, avg_recent_vessel_stats_minor_axis_length_segment, stdv_recent_vessel_stats_minor_axis_length_segment = max(recent_vessel_stats_minor_axis_length_segment), np.mean(recent_vessel_stats_minor_axis_length_segment), np.std(recent_vessel_stats_minor_axis_length_segment)\n",
    "\n",
    "max_old_vessel_stats_area_bbox, avg_old_vessel_stats_area_bbox, stdv_old_vessel_stats_area_bbox = max(old_vessel_stats_area_bbox), np.mean(old_vessel_stats_area_bbox), np.std(old_vessel_stats_area_bbox)\n",
    "max_old_vessel_stats_area_segment, avg_old_vessel_stats_area_segment, stdv_old_vessel_stats_area_segment = max(old_vessel_stats_area_segment), np.mean(old_vessel_stats_area_segment), np.std(old_vessel_stats_area_segment)\n",
    "max_old_vessel_stats_major_axis_length_segment, avg_old_vessel_stats_major_axis_length_segment, stdv_old_vessel_stats_major_axis_length_segment = max(old_vessel_stats_major_axis_length_segment), np.mean(old_vessel_stats_major_axis_length_segment), np.std(old_vessel_stats_major_axis_length_segment)\n",
    "max_old_vessel_stats_minor_axis_length_segment, avg_old_vessel_stats_minor_axis_length_segment, stdv_old_vessel_stats_minor_axis_length_segment = max(old_vessel_stats_minor_axis_length_segment), np.mean(old_vessel_stats_minor_axis_length_segment), np.std(old_vessel_stats_minor_axis_length_segment)\n",
    "\n",
    "max_ambiguous_stats_area_bbox, avg_ambiguous_stats_area_bbox, stdv_ambiguous_stats_area_bbox = max(ambiguous_stats_area_bbox), np.mean(ambiguous_stats_area_bbox), np.std(ambiguous_stats_area_bbox)\n",
    "max_ambiguous_stats_area_segment, avg_ambiguous_stats_area_segment, stdv_ambiguous_stats_area_segment = max(ambiguous_stats_area_segment), np.mean(ambiguous_stats_area_segment), np.std(ambiguous_stats_area_segment)\n",
    "max_ambiguous_stats_major_axis_length_segment, avg_ambiguous_stats_major_axis_length_segment, stdv_ambiguous_stats_major_axis_length_segment = max(ambiguous_stats_major_axis_length_segment), np.mean(ambiguous_stats_major_axis_length_segment), np.std(ambiguous_stats_major_axis_length_segment)\n",
    "max_ambiguous_stats_minor_axis_length_segment, avg_ambiguous_stats_minor_axis_length_segment, stdv_ambiguous_stats_minor_axis_length_segment = max(ambiguous_stats_minor_axis_length_segment), np.mean(ambiguous_stats_minor_axis_length_segment), np.std(ambiguous_stats_minor_axis_length_segment)\n",
    "\n"
   ]
  },
  {
   "cell_type": "code",
   "execution_count": 61,
   "id": "5139d0eb",
   "metadata": {},
   "outputs": [],
   "source": [
    "class_list = [1,2,3,4,5,6]\n",
    "class_list_string = ['Infrastructure', 'Natural Seep', 'Coincident Vessel', 'Recent Vessel', 'Old Vessel', 'Ambiguous']"
   ]
  },
  {
   "cell_type": "code",
   "execution_count": 62,
   "id": "9d62bedf-027a-4489-8e2e-20a26cf0c4e7",
   "metadata": {},
   "outputs": [],
   "source": [
    "avg_area_segment_list = [avg_infra_slick_stats_area_segment, avg_natural_seep_stats_area_segment, avg_coincident_vessel_stats_area_segment, avg_recent_vessel_stats_area_segment, avg_old_vessel_stats_area_segment, avg_ambiguous_stats_area_segment]\n",
    "avg_area_bbox_list = [avg_infra_slick_stats_area_bbox, avg_natural_seep_stats_area_bbox, avg_coincident_vessel_stats_area_bbox, avg_recent_vessel_stats_area_bbox, avg_old_vessel_stats_area_bbox, avg_ambiguous_stats_area_bbox]\n",
    "avg_major_axis_length_segment_list = [avg_infra_slick_stats_major_axis_length_segment, avg_natural_seep_stats_major_axis_length_segment, avg_coincident_vessel_stats_major_axis_length_segment, avg_recent_vessel_stats_major_axis_length_segment,avg_old_vessel_stats_major_axis_length_segment, avg_ambiguous_stats_major_axis_length_segment]   \n",
    "avg_minor_axis_length_segment_list = [avg_infra_slick_stats_minor_axis_length_segment, avg_natural_seep_stats_minor_axis_length_segment, avg_coincident_vessel_stats_minor_axis_length_segment, avg_recent_vessel_stats_minor_axis_length_segment,avg_old_vessel_stats_minor_axis_length_segment, avg_ambiguous_stats_minor_axis_length_segment] "
   ]
  },
  {
   "cell_type": "code",
   "execution_count": 63,
   "id": "cef6a46d-6253-4d79-a4fe-a49a23588dce",
   "metadata": {},
   "outputs": [],
   "source": [
    "stdv_area_segment_list = [stdv_infra_slick_stats_area_segment, stdv_natural_seep_stats_area_segment, stdv_coincident_vessel_stats_area_segment, stdv_recent_vessel_stats_area_segment, stdv_old_vessel_stats_area_segment, stdv_ambiguous_stats_area_segment]\n",
    "stdv_area_bbox_list = [stdv_infra_slick_stats_area_bbox, stdv_natural_seep_stats_area_bbox, stdv_coincident_vessel_stats_area_bbox, stdv_recent_vessel_stats_area_bbox, stdv_old_vessel_stats_area_bbox, stdv_ambiguous_stats_area_bbox]\n",
    "stdv_major_axis_length_segment_list = [stdv_infra_slick_stats_major_axis_length_segment, stdv_natural_seep_stats_major_axis_length_segment, stdv_coincident_vessel_stats_major_axis_length_segment, stdv_recent_vessel_stats_major_axis_length_segment, stdv_old_vessel_stats_major_axis_length_segment, stdv_ambiguous_stats_major_axis_length_segment]   \n",
    "stdv_minor_axis_length_segment_list = [stdv_infra_slick_stats_minor_axis_length_segment, stdv_natural_seep_stats_minor_axis_length_segment, stdv_coincident_vessel_stats_minor_axis_length_segment, stdv_recent_vessel_stats_minor_axis_length_segment, stdv_old_vessel_stats_minor_axis_length_segment, stdv_ambiguous_stats_minor_axis_length_segment] \n"
   ]
  },
  {
   "cell_type": "code",
   "execution_count": 64,
   "id": "2802f82e",
   "metadata": {},
   "outputs": [],
   "source": [
    "stats_df = pd.DataFrame(\n",
    "    {'classes (integer)': class_list,\n",
    "     'classes (string)': class_list_string,\n",
    "     'avg. area of segment': avg_area_segment_list,\n",
    "     'avg. area of bbox': avg_area_bbox_list,\n",
    "     'avg. major axis length of segment': avg_major_axis_length_segment_list,\n",
    "     'avg. minor axis length of segment': avg_minor_axis_length_segment_list,\n",
    "     'std. dev. area of segment': stdv_area_segment_list,\n",
    "     'std. dev. area of bbox': stdv_area_bbox_list,\n",
    "     'std. dev. major axis length of segment': stdv_major_axis_length_segment_list,\n",
    "     'std. dev. minor axis length of segment': stdv_minor_axis_length_segment_list\n",
    "    })"
   ]
  },
  {
   "cell_type": "code",
   "execution_count": 65,
   "id": "fe9dff1d",
   "metadata": {},
   "outputs": [
    {
     "data": {
      "text/html": [
       "<div>\n",
       "<style scoped>\n",
       "    .dataframe tbody tr th:only-of-type {\n",
       "        vertical-align: middle;\n",
       "    }\n",
       "\n",
       "    .dataframe tbody tr th {\n",
       "        vertical-align: top;\n",
       "    }\n",
       "\n",
       "    .dataframe thead th {\n",
       "        text-align: right;\n",
       "    }\n",
       "</style>\n",
       "<table border=\"1\" class=\"dataframe\">\n",
       "  <thead>\n",
       "    <tr style=\"text-align: right;\">\n",
       "      <th></th>\n",
       "      <th>classes (integer)</th>\n",
       "      <th>classes (string)</th>\n",
       "      <th>avg. area of segment</th>\n",
       "      <th>avg. area of bbox</th>\n",
       "      <th>avg. major axis length of segment</th>\n",
       "      <th>avg. minor axis length of segment</th>\n",
       "      <th>std. dev. area of segment</th>\n",
       "      <th>std. dev. area of bbox</th>\n",
       "      <th>std. dev. major axis length of segment</th>\n",
       "      <th>std. dev. minor axis length of segment</th>\n",
       "    </tr>\n",
       "  </thead>\n",
       "  <tbody>\n",
       "    <tr>\n",
       "      <th>0</th>\n",
       "      <td>1</td>\n",
       "      <td>Infrastructure</td>\n",
       "      <td>2946.290323</td>\n",
       "      <td>16050.419355</td>\n",
       "      <td>164.227503</td>\n",
       "      <td>79.548387</td>\n",
       "      <td>3874.543346</td>\n",
       "      <td>21626.373261</td>\n",
       "      <td>118.792378</td>\n",
       "      <td>60.107344</td>\n",
       "    </tr>\n",
       "    <tr>\n",
       "      <th>1</th>\n",
       "      <td>2</td>\n",
       "      <td>Natural Seep</td>\n",
       "      <td>5172.342205</td>\n",
       "      <td>83756.783270</td>\n",
       "      <td>414.415061</td>\n",
       "      <td>201.634981</td>\n",
       "      <td>6765.375961</td>\n",
       "      <td>87189.957753</td>\n",
       "      <td>282.743027</td>\n",
       "      <td>159.583309</td>\n",
       "    </tr>\n",
       "    <tr>\n",
       "      <th>2</th>\n",
       "      <td>3</td>\n",
       "      <td>Coincident Vessel</td>\n",
       "      <td>1824.480000</td>\n",
       "      <td>31084.310000</td>\n",
       "      <td>269.817058</td>\n",
       "      <td>101.660000</td>\n",
       "      <td>2626.433542</td>\n",
       "      <td>50526.508950</td>\n",
       "      <td>217.732971</td>\n",
       "      <td>103.680492</td>\n",
       "    </tr>\n",
       "    <tr>\n",
       "      <th>3</th>\n",
       "      <td>4</td>\n",
       "      <td>Recent Vessel</td>\n",
       "      <td>920.000000</td>\n",
       "      <td>19445.666667</td>\n",
       "      <td>252.794146</td>\n",
       "      <td>108.333333</td>\n",
       "      <td>253.452165</td>\n",
       "      <td>3875.489159</td>\n",
       "      <td>15.596585</td>\n",
       "      <td>13.767918</td>\n",
       "    </tr>\n",
       "    <tr>\n",
       "      <th>4</th>\n",
       "      <td>5</td>\n",
       "      <td>Old Vessel</td>\n",
       "      <td>2012.262500</td>\n",
       "      <td>23843.537500</td>\n",
       "      <td>266.909915</td>\n",
       "      <td>86.625000</td>\n",
       "      <td>2762.080030</td>\n",
       "      <td>37354.747627</td>\n",
       "      <td>196.810739</td>\n",
       "      <td>75.752455</td>\n",
       "    </tr>\n",
       "    <tr>\n",
       "      <th>5</th>\n",
       "      <td>6</td>\n",
       "      <td>Ambiguous</td>\n",
       "      <td>3459.300000</td>\n",
       "      <td>13514.300000</td>\n",
       "      <td>124.887436</td>\n",
       "      <td>82.700000</td>\n",
       "      <td>5117.603913</td>\n",
       "      <td>17653.337821</td>\n",
       "      <td>93.779341</td>\n",
       "      <td>66.726382</td>\n",
       "    </tr>\n",
       "  </tbody>\n",
       "</table>\n",
       "</div>"
      ],
      "text/plain": [
       "   classes (integer)   classes (string)  avg. area of segment  \\\n",
       "0                  1     Infrastructure           2946.290323   \n",
       "1                  2       Natural Seep           5172.342205   \n",
       "2                  3  Coincident Vessel           1824.480000   \n",
       "3                  4      Recent Vessel            920.000000   \n",
       "4                  5         Old Vessel           2012.262500   \n",
       "5                  6          Ambiguous           3459.300000   \n",
       "\n",
       "   avg. area of bbox  avg. major axis length of segment  \\\n",
       "0       16050.419355                         164.227503   \n",
       "1       83756.783270                         414.415061   \n",
       "2       31084.310000                         269.817058   \n",
       "3       19445.666667                         252.794146   \n",
       "4       23843.537500                         266.909915   \n",
       "5       13514.300000                         124.887436   \n",
       "\n",
       "   avg. minor axis length of segment  std. dev. area of segment  \\\n",
       "0                          79.548387                3874.543346   \n",
       "1                         201.634981                6765.375961   \n",
       "2                         101.660000                2626.433542   \n",
       "3                         108.333333                 253.452165   \n",
       "4                          86.625000                2762.080030   \n",
       "5                          82.700000                5117.603913   \n",
       "\n",
       "   std. dev. area of bbox  std. dev. major axis length of segment  \\\n",
       "0            21626.373261                              118.792378   \n",
       "1            87189.957753                              282.743027   \n",
       "2            50526.508950                              217.732971   \n",
       "3             3875.489159                               15.596585   \n",
       "4            37354.747627                              196.810739   \n",
       "5            17653.337821                               93.779341   \n",
       "\n",
       "   std. dev. minor axis length of segment  \n",
       "0                               60.107344  \n",
       "1                              159.583309  \n",
       "2                              103.680492  \n",
       "3                               13.767918  \n",
       "4                               75.752455  \n",
       "5                               66.726382  "
      ]
     },
     "execution_count": 65,
     "metadata": {},
     "output_type": "execute_result"
    }
   ],
   "source": [
    "stats_df"
   ]
  },
  {
   "cell_type": "code",
   "execution_count": null,
   "id": "fb9b66a1",
   "metadata": {},
   "outputs": [],
   "source": []
  }
 ],
 "metadata": {
  "kernelspec": {
   "display_name": "Python [conda env:fastai2]",
   "language": "python",
   "name": "conda-env-fastai2-py"
  },
  "language_info": {
   "codemirror_mode": {
    "name": "ipython",
    "version": 3
   },
   "file_extension": ".py",
   "mimetype": "text/x-python",
   "name": "python",
   "nbconvert_exporter": "python",
   "pygments_lexer": "ipython3",
   "version": "3.9.7"
  }
 },
 "nbformat": 4,
 "nbformat_minor": 5
}
