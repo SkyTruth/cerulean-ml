{
 "cells": [
  {
   "cell_type": "code",
   "execution_count": null,
   "id": "307df8d9-6253-4f6f-b10a-865253fe1b42",
   "metadata": {},
   "outputs": [],
   "source": [
    "import os\n",
    "import numpy as np\n",
    "import ceruleanml.data as data\n",
    "import pandas as pd\n",
    "from icevision.parsers import COCOMaskParser\n",
    "from icevision.data import SingleSplitSplitter"
   ]
  },
  {
   "cell_type": "code",
   "execution_count": null,
   "id": "07052602-2357-44c6-a87e-027c27f9f00c",
   "metadata": {
    "tags": []
   },
   "outputs": [],
   "source": [
    "parser = COCOMaskParser(annotations_filepath=\"/root/data/tiled-cerulean-v2-partial-no-context/instances_Tiled Cerulean Dataset V2 No Context Files.json\", img_dir=\"/root/data/tiled-cerulean-v2-partial-no-context/tiled_images_no_context/\")\n",
    "\n",
    "train_records = parser.parse(data_splitter=SingleSplitSplitter(), autofix=False)"
   ]
  },
  {
   "cell_type": "code",
   "execution_count": null,
   "id": "0ebc699f-81ae-4ccd-9259-d4a5e8812e3f",
   "metadata": {},
   "outputs": [],
   "source": [
    "from ceruleanml.coco_stats import region_props_for_instance_type\n",
    "coco_class_list = [\"infra_slick\", \"natural_seep\", \"coincident_vessel\", \"recent_vessel\", \"old_vessel\", \"ambiguous\"]\n",
    "\n",
    "cat_tables = []\n",
    "for cat in coco_class_list:\n",
    "    cat_table = region_props_for_instance_type(train_records[0], cat)\n",
    "    cat_tables.append(cat_table)\n",
    "instance_stats_df_tiled = pd.concat(cat_tables)\n",
    "    "
   ]
  },
  {
   "cell_type": "code",
   "execution_count": null,
   "id": "2f865c63-ec7a-4071-a7be-2eb918c88c65",
   "metadata": {},
   "outputs": [],
   "source": [
    "def print_table(df, name):\n",
    "    print(df.to_markdown())\n",
    "    df.to_csv(name)"
   ]
  },
  {
   "cell_type": "code",
   "execution_count": null,
   "id": "5f44408d-1aea-471c-bca4-c7420a842474",
   "metadata": {},
   "outputs": [],
   "source": [
    "mean_summary = instance_stats_df_tiled.drop(columns = [\"bbox-0\",\"bbox-1\",\"bbox-2\",\"bbox-3\", \"img_name\"]).groupby(\"category\").mean().round()\n",
    "print_table(mean_summary, \"mean_tiled.csv\")"
   ]
  },
  {
   "cell_type": "code",
   "execution_count": null,
   "id": "1c68c5a1-336e-4982-b06d-18c9f2ab27ef",
   "metadata": {},
   "outputs": [],
   "source": [
    "max_summary = instance_stats_df_tiled.drop(columns = [\"bbox-0\",\"bbox-1\",\"bbox-2\",\"bbox-3\"]).groupby(\"category\").max().round()\n",
    "print_table(max_summary, \"max_tiled.csv\")"
   ]
  },
  {
   "cell_type": "code",
   "execution_count": null,
   "id": "bbb10769-d4c4-41e4-9328-7e192c73a7c4",
   "metadata": {},
   "outputs": [],
   "source": [
    "min_summary = instance_stats_df_tiled.drop(columns = [\"bbox-0\",\"bbox-1\",\"bbox-2\",\"bbox-3\"]).groupby(\"category\").min().round()\n",
    "\n",
    "print_table(min_summary, \"min_tiled.csv\")"
   ]
  },
  {
   "cell_type": "code",
   "execution_count": null,
   "id": "7350d27f-aa79-4b0f-8120-2c3f67a1c218",
   "metadata": {},
   "outputs": [],
   "source": [
    "count_summary = instance_stats_df_tiled.drop(columns = [\"bbox-0\",\"bbox-1\",\"bbox-2\",\"bbox-3\"]).groupby(\"category\").count()\n",
    "print_table(count_summary.rename(columns={'area':'count'}).iloc[:,0], \"count_tiled.csv\")"
   ]
  },
  {
   "cell_type": "markdown",
   "id": "4f7c7406-0400-4b7f-b41e-d4f63c83ea6c",
   "metadata": {},
   "source": [
    "### Whole image dataset stats"
   ]
  },
  {
   "cell_type": "code",
   "execution_count": null,
   "id": "c8866511-cd4d-426d-8ef9-3520239d466b",
   "metadata": {},
   "outputs": [],
   "source": [
    "import os\n",
    "import numpy as np\n",
    "import ceruleanml.data as data\n",
    "import pandas as pd\n",
    "from icevision.parsers import COCOMaskParser\n",
    "from icevision.data import SingleSplitSplitter"
   ]
  },
  {
   "cell_type": "code",
   "execution_count": null,
   "id": "633111fd-2e53-4752-a133-f809f25c32cc",
   "metadata": {},
   "outputs": [],
   "source": [
    "parser = COCOMaskParser(annotations_filepath=\"/root/data/cv2-no-tiles-partial/instances_UntiledCeruleanDatasetV2NoContextFiles.json\", img_dir=\"\")\n",
    "\n",
    "train_records = parser.parse(data_splitter=SingleSplitSplitter(),  autofix=False)"
   ]
  },
  {
   "cell_type": "code",
   "execution_count": null,
   "id": "0bf0dbd8-fa6d-47e3-85bd-104e41b9fa52",
   "metadata": {},
   "outputs": [],
   "source": [
    "from pathlib import Path\n",
    "allpths = []\n",
    "for d in train_records[0]:\n",
    "    pths = list(\n",
    "        Path(os.path.dirname(d.as_dict()[\"common\"][\"filepath\"])).glob(\"*_*\")\n",
    "    )\n",
    "    allpths.extend(pths)"
   ]
  },
  {
   "cell_type": "code",
   "execution_count": null,
   "id": "f46bca6a-4604-409b-b961-394b9f7c7f7c",
   "metadata": {
    "tags": []
   },
   "outputs": [],
   "source": [
    "for pth in allpths:\n",
    "    if (len(os.path.basename(str(pth)).split(\"_\")) != 3\n",
    "        and len(os.path.basename(str(pth)).split(\"_\")) != 2):\n",
    "        print(pth)"
   ]
  },
  {
   "cell_type": "code",
   "execution_count": null,
   "id": "e64bdae7-b2b1-4777-b47a-94cbfe0a9d8e",
   "metadata": {},
   "outputs": [],
   "source": [
    "from ceruleanml.coco_stats import region_props_for_instance_type_whole_image\n",
    "from tqdm import tqdm\n",
    "coco_class_list = [\"infra_slick\", \"natural_seep\", \"coincident_vessel\", \"recent_vessel\", \"old_vessel\", \"ambiguous\"]\n",
    "\n",
    "cat_tables = []\n",
    "for cat in tqdm(coco_class_list):\n",
    "    cat_table = region_props_for_instance_type_whole_image(train_records[0], cat)\n",
    "    cat_tables.append(cat_table)\n",
    "instance_stats_df_no_tile = pd.concat(cat_tables)\n",
    "    "
   ]
  },
  {
   "cell_type": "code",
   "execution_count": null,
   "id": "4c6b4d16-b3b2-46df-a5b4-b4942ac2a200",
   "metadata": {},
   "outputs": [],
   "source": [
    "mean_summarynt = instance_stats_df_no_tile.drop(columns = [\"bbox-0\",\"bbox-1\",\"bbox-2\",\"bbox-3\", \"img_name\"]).groupby(\"category\").mean().round()\n",
    "print(mean_summarynt.to_markdown(), \"mean_notile.csv\")"
   ]
  },
  {
   "cell_type": "code",
   "execution_count": null,
   "id": "363554a4-82db-4055-b6e6-6e30022e5fec",
   "metadata": {},
   "outputs": [],
   "source": [
    "max_summarynt = instance_stats_df_no_tile.drop(columns = [\"bbox-0\",\"bbox-1\",\"bbox-2\",\"bbox-3\"]).groupby(\"category\").max().round()\n",
    "print_table(max_summarynt, \"max_notile.csv\")"
   ]
  },
  {
   "cell_type": "code",
   "execution_count": null,
   "id": "6a656fea-6d57-45be-af24-ae2ec07fe970",
   "metadata": {},
   "outputs": [],
   "source": [
    "min_summarynt = instance_stats_df_no_tile.drop(columns = [\"bbox-0\",\"bbox-1\",\"bbox-2\",\"bbox-3\"]).groupby(\"category\").min().round()\n",
    "\n",
    "print_table(min_summarynt, \"min_notile.csv\")"
   ]
  },
  {
   "cell_type": "code",
   "execution_count": null,
   "id": "02bf3884-4e6b-4d49-a980-57c4356430c6",
   "metadata": {},
   "outputs": [],
   "source": [
    "count_summarynt = instance_stats_df_no_tile.drop(columns = [\"bbox-0\",\"bbox-1\",\"bbox-2\",\"bbox-3\"]).groupby(\"category\").count()\n",
    "print_table(count_summarynt.rename(columns={'area':'count'}).iloc[:,0], \"count_notile.csv\")"
   ]
  },
  {
   "cell_type": "code",
   "execution_count": null,
   "id": "7c29d0bc-b0f5-45c8-a731-999e10d2ae20",
   "metadata": {
    "tags": []
   },
   "outputs": [],
   "source": [
    "print_table(instance_stats_df_no_tile, \"all_notile.csv\")"
   ]
  },
  {
   "cell_type": "code",
   "execution_count": null,
   "id": "9137cc7e-ca75-41fa-a44e-b21d73de449f",
   "metadata": {
    "tags": []
   },
   "outputs": [],
   "source": [
    "print_table(instance_stats_df_tiled, \"all_tiled.csv\")"
   ]
  },
  {
   "cell_type": "code",
   "execution_count": null,
   "id": "541ff535-d2b8-41d1-8039-283960b09666",
   "metadata": {},
   "outputs": [],
   "source": []
  }
 ],
 "metadata": {
  "kernelspec": {
   "display_name": "Python [conda env:fastai2]",
   "language": "python",
   "name": "conda-env-fastai2-py"
  },
  "language_info": {
   "codemirror_mode": {
    "name": "ipython",
    "version": 3
   },
   "file_extension": ".py",
   "mimetype": "text/x-python",
   "name": "python",
   "nbconvert_exporter": "python",
   "pygments_lexer": "ipython3",
   "version": "3.9.7"
  }
 },
 "nbformat": 4,
 "nbformat_minor": 5
}
