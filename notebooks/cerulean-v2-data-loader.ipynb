{
 "cells": [
  {
   "cell_type": "code",
   "execution_count": 1,
   "id": "53392a56-a504-4254-947e-6660272f5ed3",
   "metadata": {},
   "outputs": [],
   "source": [
    "import ceruleanml.data as data\n",
    "from pathlib import Path\n",
    "import skimage.io as skio\n",
    "import os\n",
    "\n",
    "ml_data_path = os.path.join(os.path.abspath(os.getcwd()),\"../../data/cv2_transfer/outputs/skytruth_annotation/first_phase/\")\n",
    "coco_outdir = \"./\"\n",
    "os.makedirs(coco_outdir, exist_ok=True)\n",
    "os.makedirs(\"untiled_images/\", exist_ok=True)\n",
    "path = Path(ml_data_path)\n",
    "class_folders = list(path.glob(\"*/\"))"
   ]
  },
  {
   "cell_type": "code",
   "execution_count": 2,
   "id": "cf13bd09-7d6d-4d35-88a8-f88d4cfa9dee",
   "metadata": {},
   "outputs": [],
   "source": [
    "# img_fname = layer_pths[1]\n",
    "# arr = skio.imread(layer_pths[1])\n",
    "# tiled_arr = data.reshape_split(arr, (512, 512))"
   ]
  },
  {
   "cell_type": "code",
   "execution_count": 3,
   "id": "7d6eb098-c6f1-4588-80f5-1263a740a3e4",
   "metadata": {},
   "outputs": [],
   "source": [
    "info = {\n",
    "    \"description\": \"Cerulean Dataset V2\",\n",
    "    \"url\": \"none\",\n",
    "    \"version\": \"1.0\",\n",
    "    \"year\": 2021,\n",
    "    \"contributor\": \"Skytruth\",\n",
    "    \"date_created\": \"2022/2/23\"\n",
    "}\n",
    "\n",
    "licenses = [\n",
    "    {\n",
    "        \"url\": \"none\",\n",
    "        \"id\": 1,\n",
    "        \"name\": \"CeruleanDataset V2\"\n",
    "    }\n",
    "]\n",
    "categories = [{\"supercategory\":\"slick\", \"id\":1,\"name\":\"infra_slick\"},\n",
    "              {\"supercategory\":\"slick\", \"id\":2,\"name\":\"natural_seep\"},\n",
    "              {\"supercategory\":\"slick\", \"id\":3,\"name\":\"coincident_vessel\"},\n",
    "              {\"supercategory\":\"slick\", \"id\":4,\"name\":\"recent_vessel\"},\n",
    "              {\"supercategory\":\"slick\", \"id\":5,\"name\":\"old_vessel\"},\n",
    "              {\"supercategory\":\"slick\", \"id\":6,\"name\":\"ambiguous\"}]\n",
    "\n",
    "coco_output = {\n",
    "    \"info\": info,\n",
    "    \"licenses\": licenses,\n",
    "    \"images\": [],\n",
    "    \"annotations\": [],\n",
    "    \"categories\": categories\n",
    "}"
   ]
  },
  {
   "cell_type": "code",
   "execution_count": 4,
   "id": "dc30b54a-33d1-4664-8d5d-2128b4ff2534",
   "metadata": {},
   "outputs": [],
   "source": [
    "coco_tiler = data.COCOtiler(\"untiled_images/\", coco_output)"
   ]
  },
  {
   "cell_type": "code",
   "execution_count": 5,
   "id": "ab027a9b-7b2b-4073-beea-1494a33ff516",
   "metadata": {
    "collapsed": true,
    "jupyter": {
     "outputs_hidden": true
    },
    "tags": []
   },
   "outputs": [
    {
     "name": "stdout",
     "output_type": "stream",
     "text": [
      "finished saving 117 images\n"
     ]
    },
    {
     "ename": "KeyboardInterrupt",
     "evalue": "",
     "output_type": "error",
     "traceback": [
      "\u001b[0;31m---------------------------------------------------------------------------\u001b[0m",
      "\u001b[0;31mKeyboardInterrupt\u001b[0m                         Traceback (most recent call last)",
      "Input \u001b[0;32mIn [5]\u001b[0m, in \u001b[0;36m<module>\u001b[0;34m\u001b[0m\n\u001b[1;32m      4\u001b[0m layer_pths \u001b[38;5;241m=\u001b[39m \u001b[38;5;28mlist\u001b[39m(scene_folder\u001b[38;5;241m.\u001b[39mglob(\u001b[38;5;124m\"\u001b[39m\u001b[38;5;124m*\u001b[39m\u001b[38;5;124m\"\u001b[39m))\n\u001b[1;32m      5\u001b[0m coco_tiler\u001b[38;5;241m.\u001b[39msave_background_img_tiles(layer_pths)\n\u001b[0;32m----> 6\u001b[0m \u001b[43mcoco_tiler\u001b[49m\u001b[38;5;241;43m.\u001b[39;49m\u001b[43mcreate_coco_from_photopea_layers\u001b[49m\u001b[43m(\u001b[49m\u001b[43mlayer_pths\u001b[49m\u001b[43m,\u001b[49m\u001b[43m \u001b[49m\u001b[43mcoco_output\u001b[49m\u001b[43m)\u001b[49m\n",
      "File \u001b[0;32m~/work/ceruleanml/data.py:256\u001b[0m, in \u001b[0;36mCOCOtiler.create_coco_from_photopea_layers\u001b[0;34m(self, layer_pths, coco_output)\u001b[0m\n\u001b[1;32m    254\u001b[0m \u001b[38;5;28;01mif\u001b[39;00m image_info \u001b[38;5;129;01mnot\u001b[39;00m \u001b[38;5;129;01min\u001b[39;00m \u001b[38;5;28mself\u001b[39m\u001b[38;5;241m.\u001b[39mcoco_output[\u001b[38;5;124m\"\u001b[39m\u001b[38;5;124mimages\u001b[39m\u001b[38;5;124m\"\u001b[39m]:\n\u001b[1;32m    255\u001b[0m     \u001b[38;5;28mself\u001b[39m\u001b[38;5;241m.\u001b[39mcoco_output[\u001b[38;5;124m\"\u001b[39m\u001b[38;5;124mimages\u001b[39m\u001b[38;5;124m\"\u001b[39m]\u001b[38;5;241m.\u001b[39mappend(image_info)\n\u001b[0;32m--> 256\u001b[0m class_id \u001b[38;5;241m=\u001b[39m \u001b[43mget_layer_cls\u001b[49m\u001b[43m(\u001b[49m\u001b[43minstance_tile\u001b[49m\u001b[43m,\u001b[49m\u001b[43m \u001b[49m\u001b[43mclass_mapping_photopea\u001b[49m\u001b[43m,\u001b[49m\u001b[43m \u001b[49m\u001b[43mclass_mapping_coco\u001b[49m\u001b[43m)\u001b[49m\n\u001b[1;32m    257\u001b[0m \u001b[38;5;28;01mif\u001b[39;00m class_id \u001b[38;5;241m!=\u001b[39m \u001b[38;5;241m0\u001b[39m:\n\u001b[1;32m    258\u001b[0m     category_info \u001b[38;5;241m=\u001b[39m {\n\u001b[1;32m    259\u001b[0m         \u001b[38;5;124m\"\u001b[39m\u001b[38;5;124mid\u001b[39m\u001b[38;5;124m\"\u001b[39m: class_id,\n\u001b[1;32m    260\u001b[0m         \u001b[38;5;124m\"\u001b[39m\u001b[38;5;124mis_crowd\u001b[39m\u001b[38;5;124m\"\u001b[39m: \u001b[38;5;28;01mTrue\u001b[39;00m,\n\u001b[1;32m    261\u001b[0m     }  \u001b[38;5;66;03m# forces compressed RLE format\u001b[39;00m\n",
      "File \u001b[0;32m~/work/ceruleanml/data.py:189\u001b[0m, in \u001b[0;36mget_layer_cls\u001b[0;34m(arr, class_mapping_photopea, class_mapping_coco)\u001b[0m\n\u001b[1;32m    187\u001b[0m \u001b[38;5;28;01mif\u001b[39;00m \u001b[38;5;28mlen\u001b[39m(arr\u001b[38;5;241m.\u001b[39mshape) \u001b[38;5;241m==\u001b[39m \u001b[38;5;241m3\u001b[39m \u001b[38;5;129;01mand\u001b[39;00m arr\u001b[38;5;241m.\u001b[39mshape[\u001b[38;5;241m-\u001b[39m\u001b[38;5;241m1\u001b[39m] \u001b[38;5;241m==\u001b[39m \u001b[38;5;241m4\u001b[39m:\n\u001b[1;32m    188\u001b[0m     \u001b[38;5;28;01mfor\u001b[39;00m category \u001b[38;5;129;01min\u001b[39;00m class_mapping_photopea\u001b[38;5;241m.\u001b[39mkeys():\n\u001b[0;32m--> 189\u001b[0m         \u001b[38;5;28;01mif\u001b[39;00m \u001b[43mis_layer_of_class\u001b[49m\u001b[43m(\u001b[49m\u001b[43marr\u001b[49m\u001b[43m,\u001b[49m\u001b[43m \u001b[49m\u001b[38;5;241;43m*\u001b[39;49m\u001b[43mclass_mapping_photopea\u001b[49m\u001b[43m[\u001b[49m\u001b[43mcategory\u001b[49m\u001b[43m]\u001b[49m\u001b[43m)\u001b[49m:\n\u001b[1;32m    190\u001b[0m             \u001b[38;5;28;01mreturn\u001b[39;00m class_mapping_coco[category]\n\u001b[1;32m    191\u001b[0m     \u001b[38;5;28;01mreturn\u001b[39;00m \u001b[38;5;241m0\u001b[39m  \u001b[38;5;66;03m# no category matches, all background label\u001b[39;00m\n",
      "File \u001b[0;32m~/work/ceruleanml/data.py:165\u001b[0m, in \u001b[0;36mis_layer_of_class\u001b[0;34m(arr, r, g, b)\u001b[0m\n\u001b[1;32m    153\u001b[0m \u001b[38;5;28;01mdef\u001b[39;00m \u001b[38;5;21mis_layer_of_class\u001b[39m(arr, r, g, b):\n\u001b[1;32m    154\u001b[0m     \u001b[38;5;124;03m\"\"\"Checks class of a label layer from photopea\u001b[39;00m\n\u001b[1;32m    155\u001b[0m \n\u001b[1;32m    156\u001b[0m \u001b[38;5;124;03m    Args:\u001b[39;00m\n\u001b[0;32m   (...)\u001b[0m\n\u001b[1;32m    163\u001b[0m \u001b[38;5;124;03m        bool: True if any of the class is in the layer.\u001b[39;00m\n\u001b[1;32m    164\u001b[0m \u001b[38;5;124;03m    \"\"\"\u001b[39;00m\n\u001b[0;32m--> 165\u001b[0m     \u001b[38;5;28;01mreturn\u001b[39;00m \u001b[43mrgbalpha_to_binary\u001b[49m\u001b[43m(\u001b[49m\u001b[43marr\u001b[49m\u001b[43m,\u001b[49m\u001b[43m \u001b[49m\u001b[43mr\u001b[49m\u001b[43m,\u001b[49m\u001b[43m \u001b[49m\u001b[43mg\u001b[49m\u001b[43m,\u001b[49m\u001b[43m \u001b[49m\u001b[43mb\u001b[49m\u001b[43m)\u001b[49m\u001b[38;5;241m.\u001b[39many()\n",
      "File \u001b[0;32m~/work/ceruleanml/data.py:150\u001b[0m, in \u001b[0;36mrgbalpha_to_binary\u001b[0;34m(arr, r, g, b)\u001b[0m\n\u001b[1;32m    138\u001b[0m \u001b[38;5;28;01mdef\u001b[39;00m \u001b[38;5;21mrgbalpha_to_binary\u001b[39m(arr: np\u001b[38;5;241m.\u001b[39mndarray, r: \u001b[38;5;28mint\u001b[39m, g: \u001b[38;5;28mint\u001b[39m, b: \u001b[38;5;28mint\u001b[39m):\n\u001b[1;32m    139\u001b[0m     \u001b[38;5;124;03m\"\"\"Converts a label layer from photopea to a binary 2D ndarray.\u001b[39;00m\n\u001b[1;32m    140\u001b[0m \n\u001b[1;32m    141\u001b[0m \u001b[38;5;124;03m    Args:\u001b[39;00m\n\u001b[0;32m   (...)\u001b[0m\n\u001b[1;32m    148\u001b[0m \u001b[38;5;124;03m        np.ndarray: the binary array\u001b[39;00m\n\u001b[1;32m    149\u001b[0m \u001b[38;5;124;03m    \"\"\"\u001b[39;00m\n\u001b[0;32m--> 150\u001b[0m     \u001b[38;5;28;01mreturn\u001b[39;00m np\u001b[38;5;241m.\u001b[39mlogical_and\u001b[38;5;241m.\u001b[39mreduce([arr[:, :, \u001b[38;5;241m0\u001b[39m] \u001b[38;5;241m==\u001b[39m r, arr[:, :, \u001b[38;5;241m1\u001b[39m] \u001b[38;5;241m==\u001b[39m g, \u001b[43marr\u001b[49m\u001b[43m[\u001b[49m\u001b[43m:\u001b[49m\u001b[43m,\u001b[49m\u001b[43m \u001b[49m\u001b[43m:\u001b[49m\u001b[43m,\u001b[49m\u001b[43m \u001b[49m\u001b[38;5;241;43m2\u001b[39;49m\u001b[43m]\u001b[49m\u001b[43m \u001b[49m\u001b[38;5;241;43m==\u001b[39;49m\u001b[43m \u001b[49m\u001b[43mb\u001b[49m])\n",
      "\u001b[0;31mKeyboardInterrupt\u001b[0m: "
     ]
    }
   ],
   "source": [
    "for class_folder in class_folders:\n",
    "    for scene_folder in list(class_folder.glob(\"*\")):\n",
    "        assert \"S1\" in str(scene_folder)\n",
    "        layer_pths = list(scene_folder.glob(\"*\"))\n",
    "        coco_tiler.save_background_img_tiles(layer_pths)\n",
    "        coco_tiler.create_coco_from_photopea_layers(layer_pths, coco_output)"
   ]
  },
  {
   "cell_type": "code",
   "execution_count": null,
   "id": "5d163227-05d6-400b-933b-31b7f91f602a",
   "metadata": {},
   "outputs": [],
   "source": [
    "coco_tiler.save_coco_output(\"./instances_slicks_test_v2.json\")"
   ]
  },
  {
   "cell_type": "code",
   "execution_count": 5,
   "id": "7401d8c9-1546-48ae-94c3-a82aff45d571",
   "metadata": {},
   "outputs": [],
   "source": [
    "import tqdm"
   ]
  },
  {
   "cell_type": "code",
   "execution_count": 6,
   "id": "4875c576-71eb-4a3f-8bcd-d360689f1bb3",
   "metadata": {},
   "outputs": [
    {
     "name": "stdout",
     "output_type": "stream",
     "text": [
      "finished saving 120 images\n"
     ]
    }
   ],
   "source": [
    "coco_tiler.copy_background_images(class_folders)"
   ]
  },
  {
   "cell_type": "code",
   "execution_count": 7,
   "id": "50e2325e-b751-415d-b82b-0fcab6880715",
   "metadata": {},
   "outputs": [
    {
     "name": "stderr",
     "output_type": "stream",
     "text": [
      "  0%|          | 0/20 [00:00<?, ?it/s]"
     ]
    },
    {
     "name": "stdout",
     "output_type": "stream",
     "text": [
      "Processed one instance.\n",
      "Processed one instance.\n"
     ]
    },
    {
     "name": "stderr",
     "output_type": "stream",
     "text": [
      "  5%|▌         | 1/20 [00:07<02:23,  7.53s/it]"
     ]
    },
    {
     "name": "stdout",
     "output_type": "stream",
     "text": [
      "Processed one instance.\n"
     ]
    },
    {
     "name": "stderr",
     "output_type": "stream",
     "text": [
      " 10%|█         | 2/20 [00:09<01:20,  4.49s/it]"
     ]
    },
    {
     "name": "stdout",
     "output_type": "stream",
     "text": [
      "Processed one instance.\n"
     ]
    },
    {
     "name": "stderr",
     "output_type": "stream",
     "text": [
      " 15%|█▌        | 3/20 [00:12<01:01,  3.64s/it]"
     ]
    },
    {
     "name": "stdout",
     "output_type": "stream",
     "text": [
      "Processed one instance.\n",
      "Processed one instance.\n",
      "Processed one instance.\n",
      "Processed one instance.\n",
      "Processed one instance.\n",
      "Processed one instance.\n"
     ]
    },
    {
     "name": "stderr",
     "output_type": "stream",
     "text": [
      " 20%|██        | 4/20 [00:27<02:07,  7.95s/it]"
     ]
    },
    {
     "name": "stdout",
     "output_type": "stream",
     "text": [
      "Processed one instance.\n",
      "Processed one instance.\n",
      "Processed one instance.\n"
     ]
    },
    {
     "name": "stderr",
     "output_type": "stream",
     "text": [
      " 25%|██▌       | 5/20 [00:34<01:57,  7.82s/it]"
     ]
    },
    {
     "name": "stdout",
     "output_type": "stream",
     "text": [
      "Processed one instance.\n",
      "Processed one instance.\n",
      "Processed one instance.\n"
     ]
    },
    {
     "name": "stderr",
     "output_type": "stream",
     "text": [
      " 30%|███       | 6/20 [00:40<01:41,  7.26s/it]"
     ]
    },
    {
     "name": "stdout",
     "output_type": "stream",
     "text": [
      "Processed one instance.\n",
      "Processed one instance.\n"
     ]
    },
    {
     "name": "stderr",
     "output_type": "stream",
     "text": [
      " 35%|███▌      | 7/20 [00:46<01:25,  6.58s/it]"
     ]
    },
    {
     "name": "stdout",
     "output_type": "stream",
     "text": [
      "Processed one instance.\n",
      "Processed one instance.\n",
      "Processed one instance.\n",
      "Processed one instance.\n"
     ]
    },
    {
     "name": "stderr",
     "output_type": "stream",
     "text": [
      " 40%|████      | 8/20 [00:56<01:33,  7.82s/it]"
     ]
    },
    {
     "name": "stdout",
     "output_type": "stream",
     "text": [
      "Processed one instance.\n",
      "Processed one instance.\n",
      "Processed one instance.\n",
      "Processed one instance.\n"
     ]
    },
    {
     "name": "stderr",
     "output_type": "stream",
     "text": [
      " 45%|████▌     | 9/20 [01:06<01:33,  8.46s/it]"
     ]
    },
    {
     "name": "stdout",
     "output_type": "stream",
     "text": [
      "Processed one instance.\n"
     ]
    },
    {
     "name": "stderr",
     "output_type": "stream",
     "text": [
      " 50%|█████     | 10/20 [01:09<01:06,  6.68s/it]"
     ]
    },
    {
     "name": "stdout",
     "output_type": "stream",
     "text": [
      "Processed one instance.\n"
     ]
    },
    {
     "name": "stderr",
     "output_type": "stream",
     "text": [
      " 55%|█████▌    | 11/20 [01:11<00:47,  5.33s/it]"
     ]
    },
    {
     "name": "stdout",
     "output_type": "stream",
     "text": [
      "Processed one instance.\n",
      "Processed one instance.\n",
      "Processed one instance.\n",
      "Processed one instance.\n",
      "Processed one instance.\n",
      "Processed one instance.\n",
      "Processed one instance.\n",
      "Processed one instance.\n"
     ]
    },
    {
     "name": "stderr",
     "output_type": "stream",
     "text": [
      " 60%|██████    | 12/20 [01:30<01:16,  9.52s/it]"
     ]
    },
    {
     "name": "stdout",
     "output_type": "stream",
     "text": [
      "Processed one instance.\n",
      "Processed one instance.\n"
     ]
    },
    {
     "name": "stderr",
     "output_type": "stream",
     "text": [
      " 65%|██████▌   | 13/20 [01:35<00:56,  8.05s/it]"
     ]
    },
    {
     "name": "stdout",
     "output_type": "stream",
     "text": [
      "Processed one instance.\n",
      "Processed one instance.\n"
     ]
    },
    {
     "name": "stderr",
     "output_type": "stream",
     "text": [
      " 70%|███████   | 14/20 [01:40<00:43,  7.29s/it]"
     ]
    },
    {
     "name": "stdout",
     "output_type": "stream",
     "text": [
      "Processed one instance.\n",
      "Processed one instance.\n",
      "Processed one instance.\n"
     ]
    },
    {
     "name": "stderr",
     "output_type": "stream",
     "text": [
      " 75%|███████▌  | 15/20 [01:47<00:35,  7.15s/it]"
     ]
    },
    {
     "name": "stdout",
     "output_type": "stream",
     "text": [
      "Processed one instance.\n"
     ]
    },
    {
     "name": "stderr",
     "output_type": "stream",
     "text": [
      " 80%|████████  | 16/20 [01:50<00:23,  5.78s/it]"
     ]
    },
    {
     "name": "stdout",
     "output_type": "stream",
     "text": [
      "Processed one instance.\n"
     ]
    },
    {
     "name": "stderr",
     "output_type": "stream",
     "text": [
      " 85%|████████▌ | 17/20 [01:52<00:14,  4.75s/it]"
     ]
    },
    {
     "name": "stdout",
     "output_type": "stream",
     "text": [
      "Processed one instance.\n",
      "Processed one instance.\n"
     ]
    },
    {
     "name": "stderr",
     "output_type": "stream",
     "text": [
      " 90%|█████████ | 18/20 [01:58<00:10,  5.24s/it]"
     ]
    },
    {
     "name": "stdout",
     "output_type": "stream",
     "text": [
      "Processed one instance.\n"
     ]
    },
    {
     "name": "stderr",
     "output_type": "stream",
     "text": [
      " 95%|█████████▌| 19/20 [02:01<00:04,  4.44s/it]"
     ]
    },
    {
     "name": "stdout",
     "output_type": "stream",
     "text": [
      "Processed one instance.\n"
     ]
    },
    {
     "name": "stderr",
     "output_type": "stream",
     "text": [
      "100%|██████████| 20/20 [02:03<00:00,  6.18s/it]\n"
     ]
    },
    {
     "name": "stdout",
     "output_type": "stream",
     "text": [
      "Processed one instance.\n"
     ]
    },
    {
     "name": "stderr",
     "output_type": "stream",
     "text": [
      "  0%|          | 0/20 [00:00<?, ?it/s]"
     ]
    },
    {
     "name": "stdout",
     "output_type": "stream",
     "text": [
      "Processed one instance.\n",
      "Processed one instance.\n"
     ]
    },
    {
     "name": "stderr",
     "output_type": "stream",
     "text": [
      "  5%|▌         | 1/20 [00:06<02:08,  6.78s/it]"
     ]
    },
    {
     "name": "stdout",
     "output_type": "stream",
     "text": [
      "Processed one instance.\n"
     ]
    },
    {
     "name": "stderr",
     "output_type": "stream",
     "text": [
      " 10%|█         | 2/20 [00:09<01:14,  4.17s/it]"
     ]
    },
    {
     "name": "stdout",
     "output_type": "stream",
     "text": [
      "Processed one instance.\n"
     ]
    },
    {
     "name": "stderr",
     "output_type": "stream",
     "text": [
      " 15%|█▌        | 3/20 [00:11<00:58,  3.45s/it]"
     ]
    },
    {
     "name": "stdout",
     "output_type": "stream",
     "text": [
      "Processed one instance.\n",
      "Processed one instance.\n",
      "Processed one instance.\n",
      "Processed one instance.\n",
      "Processed one instance.\n",
      "Processed one instance.\n"
     ]
    },
    {
     "name": "stderr",
     "output_type": "stream",
     "text": [
      " 20%|██        | 4/20 [00:25<02:01,  7.61s/it]"
     ]
    },
    {
     "name": "stdout",
     "output_type": "stream",
     "text": [
      "Processed one instance.\n",
      "Processed one instance.\n",
      "Processed one instance.\n"
     ]
    },
    {
     "name": "stderr",
     "output_type": "stream",
     "text": [
      " 25%|██▌       | 5/20 [00:33<01:54,  7.62s/it]"
     ]
    },
    {
     "name": "stdout",
     "output_type": "stream",
     "text": [
      "Processed one instance.\n",
      "Processed one instance.\n",
      "Processed one instance.\n"
     ]
    },
    {
     "name": "stderr",
     "output_type": "stream",
     "text": [
      " 30%|███       | 6/20 [00:39<01:40,  7.16s/it]"
     ]
    },
    {
     "name": "stdout",
     "output_type": "stream",
     "text": [
      "Processed one instance.\n",
      "Processed one instance.\n"
     ]
    },
    {
     "name": "stderr",
     "output_type": "stream",
     "text": [
      " 35%|███▌      | 7/20 [00:44<01:24,  6.50s/it]"
     ]
    },
    {
     "name": "stdout",
     "output_type": "stream",
     "text": [
      "Processed one instance.\n",
      "Processed one instance.\n",
      "Processed one instance.\n",
      "Processed one instance.\n"
     ]
    },
    {
     "name": "stderr",
     "output_type": "stream",
     "text": [
      " 40%|████      | 8/20 [00:55<01:36,  8.01s/it]"
     ]
    },
    {
     "name": "stdout",
     "output_type": "stream",
     "text": [
      "Processed one instance.\n",
      "Processed one instance.\n",
      "Processed one instance.\n",
      "Processed one instance.\n"
     ]
    },
    {
     "name": "stderr",
     "output_type": "stream",
     "text": [
      " 45%|████▌     | 9/20 [01:05<01:32,  8.41s/it]"
     ]
    },
    {
     "name": "stdout",
     "output_type": "stream",
     "text": [
      "Processed one instance.\n"
     ]
    },
    {
     "name": "stderr",
     "output_type": "stream",
     "text": [
      " 50%|█████     | 10/20 [01:07<01:05,  6.58s/it]"
     ]
    },
    {
     "name": "stdout",
     "output_type": "stream",
     "text": [
      "Processed one instance.\n"
     ]
    },
    {
     "name": "stderr",
     "output_type": "stream",
     "text": [
      " 55%|█████▌    | 11/20 [01:09<00:46,  5.15s/it]"
     ]
    },
    {
     "name": "stdout",
     "output_type": "stream",
     "text": [
      "Processed one instance.\n",
      "Processed one instance.\n",
      "Processed one instance.\n",
      "Processed one instance.\n",
      "Processed one instance.\n",
      "Processed one instance.\n",
      "Processed one instance.\n",
      "Processed one instance.\n"
     ]
    },
    {
     "name": "stderr",
     "output_type": "stream",
     "text": [
      " 60%|██████    | 12/20 [01:27<01:11,  9.00s/it]"
     ]
    },
    {
     "name": "stdout",
     "output_type": "stream",
     "text": [
      "Processed one instance.\n",
      "Processed one instance.\n"
     ]
    },
    {
     "name": "stderr",
     "output_type": "stream",
     "text": [
      " 65%|██████▌   | 13/20 [01:32<00:54,  7.73s/it]"
     ]
    },
    {
     "name": "stdout",
     "output_type": "stream",
     "text": [
      "Processed one instance.\n",
      "Processed one instance.\n"
     ]
    },
    {
     "name": "stderr",
     "output_type": "stream",
     "text": [
      " 70%|███████   | 14/20 [01:37<00:42,  7.05s/it]"
     ]
    },
    {
     "name": "stdout",
     "output_type": "stream",
     "text": [
      "Processed one instance.\n",
      "Processed one instance.\n",
      "Processed one instance.\n"
     ]
    },
    {
     "name": "stderr",
     "output_type": "stream",
     "text": [
      " 75%|███████▌  | 15/20 [01:44<00:34,  6.95s/it]"
     ]
    },
    {
     "name": "stdout",
     "output_type": "stream",
     "text": [
      "Processed one instance.\n"
     ]
    },
    {
     "name": "stderr",
     "output_type": "stream",
     "text": [
      " 80%|████████  | 16/20 [01:47<00:22,  5.65s/it]"
     ]
    },
    {
     "name": "stdout",
     "output_type": "stream",
     "text": [
      "Processed one instance.\n"
     ]
    },
    {
     "name": "stderr",
     "output_type": "stream",
     "text": [
      " 85%|████████▌ | 17/20 [01:49<00:13,  4.62s/it]"
     ]
    },
    {
     "name": "stdout",
     "output_type": "stream",
     "text": [
      "Processed one instance.\n",
      "Processed one instance.\n"
     ]
    },
    {
     "name": "stderr",
     "output_type": "stream",
     "text": [
      " 90%|█████████ | 18/20 [01:54<00:09,  4.91s/it]"
     ]
    },
    {
     "name": "stdout",
     "output_type": "stream",
     "text": [
      "Processed one instance.\n"
     ]
    },
    {
     "name": "stderr",
     "output_type": "stream",
     "text": [
      " 95%|█████████▌| 19/20 [01:57<00:04,  4.09s/it]"
     ]
    },
    {
     "name": "stdout",
     "output_type": "stream",
     "text": [
      "Processed one instance.\n"
     ]
    },
    {
     "name": "stderr",
     "output_type": "stream",
     "text": [
      "100%|██████████| 20/20 [01:59<00:00,  5.97s/it]\n"
     ]
    },
    {
     "name": "stdout",
     "output_type": "stream",
     "text": [
      "Processed one instance.\n"
     ]
    },
    {
     "name": "stderr",
     "output_type": "stream",
     "text": [
      "  0%|          | 0/20 [00:00<?, ?it/s]"
     ]
    },
    {
     "name": "stdout",
     "output_type": "stream",
     "text": [
      "Processed one instance.\n",
      "Processed one instance.\n",
      "Processed one instance.\n"
     ]
    },
    {
     "name": "stderr",
     "output_type": "stream",
     "text": [
      "  5%|▌         | 1/20 [00:08<02:44,  8.65s/it]"
     ]
    },
    {
     "name": "stdout",
     "output_type": "stream",
     "text": [
      "Processed one instance.\n",
      "Processed one instance.\n",
      "Processed one instance.\n",
      "Processed one instance.\n",
      "Processed one instance.\n",
      "Processed one instance.\n",
      "Processed one instance.\n",
      "Processed one instance.\n",
      "Processed one instance.\n",
      "Processed one instance.\n",
      "Processed one instance.\n",
      "Processed one instance.\n",
      "Processed one instance.\n",
      "Processed one instance.\n",
      "Processed one instance.\n",
      "Processed one instance.\n"
     ]
    },
    {
     "name": "stderr",
     "output_type": "stream",
     "text": [
      " 10%|█         | 2/20 [00:40<06:36, 22.02s/it]"
     ]
    },
    {
     "name": "stdout",
     "output_type": "stream",
     "text": [
      "Processed one instance.\n",
      "Processed one instance.\n",
      "Processed one instance.\n",
      "Processed one instance.\n",
      "Processed one instance.\n",
      "Processed one instance.\n",
      "Processed one instance.\n",
      "Processed one instance.\n",
      "Processed one instance.\n",
      "Processed one instance.\n",
      "Processed one instance.\n"
     ]
    },
    {
     "name": "stderr",
     "output_type": "stream",
     "text": [
      " 15%|█▌        | 3/20 [01:03<06:23, 22.54s/it]"
     ]
    },
    {
     "name": "stdout",
     "output_type": "stream",
     "text": [
      "Processed one instance.\n",
      "Processed one instance.\n"
     ]
    },
    {
     "name": "stderr",
     "output_type": "stream",
     "text": [
      " 20%|██        | 4/20 [01:08<04:08, 15.55s/it]"
     ]
    },
    {
     "name": "stdout",
     "output_type": "stream",
     "text": [
      "Processed one instance.\n",
      "Processed one instance.\n",
      "Processed one instance.\n",
      "Processed one instance.\n",
      "Processed one instance.\n",
      "Processed one instance.\n",
      "Processed one instance.\n",
      "Processed one instance.\n",
      "Processed one instance.\n",
      "Processed one instance.\n",
      "Processed one instance.\n",
      "Processed one instance.\n",
      "Processed one instance.\n",
      "Processed one instance.\n",
      "Processed one instance.\n",
      "Processed one instance.\n",
      "Processed one instance.\n",
      "Processed one instance.\n",
      "Processed one instance.\n",
      "Processed one instance.\n",
      "Processed one instance.\n",
      "Processed one instance.\n",
      "Processed one instance.\n",
      "Processed one instance.\n"
     ]
    },
    {
     "name": "stderr",
     "output_type": "stream",
     "text": [
      " 25%|██▌       | 5/20 [01:56<06:52, 27.49s/it]"
     ]
    },
    {
     "name": "stdout",
     "output_type": "stream",
     "text": [
      "Processed one instance.\n",
      "Processed one instance.\n",
      "Processed one instance.\n"
     ]
    },
    {
     "name": "stderr",
     "output_type": "stream",
     "text": [
      " 30%|███       | 6/20 [02:03<04:44, 20.30s/it]"
     ]
    },
    {
     "name": "stdout",
     "output_type": "stream",
     "text": [
      "Processed one instance.\n",
      "Processed one instance.\n",
      "Processed one instance.\n",
      "Processed one instance.\n",
      "Processed one instance.\n",
      "Processed one instance.\n",
      "Processed one instance.\n",
      "Processed one instance.\n",
      "Processed one instance.\n",
      "Processed one instance.\n",
      "Processed one instance.\n",
      "Processed one instance.\n",
      "Processed one instance.\n",
      "Processed one instance.\n",
      "Processed one instance.\n",
      "Processed one instance.\n",
      "Processed one instance.\n"
     ]
    },
    {
     "name": "stderr",
     "output_type": "stream",
     "text": [
      " 35%|███▌      | 7/20 [02:35<05:17, 24.44s/it]"
     ]
    },
    {
     "name": "stdout",
     "output_type": "stream",
     "text": [
      "Processed one instance.\n",
      "Processed one instance.\n",
      "Processed one instance.\n",
      "Processed one instance.\n",
      "Processed one instance.\n",
      "Processed one instance.\n",
      "Processed one instance.\n",
      "Processed one instance.\n",
      "Processed one instance.\n",
      "Processed one instance.\n"
     ]
    },
    {
     "name": "stderr",
     "output_type": "stream",
     "text": [
      " 40%|████      | 8/20 [02:56<04:38, 23.23s/it]"
     ]
    },
    {
     "name": "stdout",
     "output_type": "stream",
     "text": [
      "Processed one instance.\n",
      "Processed one instance.\n",
      "Processed one instance.\n"
     ]
    },
    {
     "name": "stderr",
     "output_type": "stream",
     "text": [
      " 45%|████▌     | 9/20 [03:03<03:18, 18.08s/it]"
     ]
    },
    {
     "name": "stdout",
     "output_type": "stream",
     "text": [
      "Processed one instance.\n",
      "Processed one instance.\n",
      "Processed one instance.\n"
     ]
    },
    {
     "name": "stderr",
     "output_type": "stream",
     "text": [
      " 50%|█████     | 10/20 [03:10<02:25, 14.56s/it]"
     ]
    },
    {
     "name": "stdout",
     "output_type": "stream",
     "text": [
      "Processed one instance.\n",
      "Processed one instance.\n",
      "Processed one instance.\n",
      "Processed one instance.\n",
      "Processed one instance.\n",
      "Processed one instance.\n",
      "Processed one instance.\n",
      "Processed one instance.\n",
      "Processed one instance.\n",
      "Processed one instance.\n",
      "Processed one instance.\n",
      "Processed one instance.\n",
      "Processed one instance.\n",
      "Processed one instance.\n",
      "Processed one instance.\n"
     ]
    },
    {
     "name": "stderr",
     "output_type": "stream",
     "text": [
      " 55%|█████▌    | 11/20 [03:40<02:54, 19.42s/it]"
     ]
    },
    {
     "name": "stdout",
     "output_type": "stream",
     "text": [
      "Processed one instance.\n",
      "Processed one instance.\n",
      "Processed one instance.\n",
      "Processed one instance.\n",
      "Processed one instance.\n",
      "Processed one instance.\n",
      "Processed one instance.\n",
      "Processed one instance.\n",
      "Processed one instance.\n",
      "Processed one instance.\n",
      "Processed one instance.\n",
      "Processed one instance.\n",
      "Processed one instance.\n",
      "Processed one instance.\n",
      "Processed one instance.\n"
     ]
    },
    {
     "name": "stderr",
     "output_type": "stream",
     "text": [
      " 60%|██████    | 12/20 [04:13<03:07, 23.43s/it]"
     ]
    },
    {
     "name": "stdout",
     "output_type": "stream",
     "text": [
      "Processed one instance.\n",
      "Processed one instance.\n",
      "Processed one instance.\n",
      "Processed one instance.\n",
      "Processed one instance.\n",
      "Processed one instance.\n",
      "Processed one instance.\n",
      "Processed one instance.\n",
      "Processed one instance.\n",
      "Processed one instance.\n",
      "Processed one instance.\n"
     ]
    },
    {
     "name": "stderr",
     "output_type": "stream",
     "text": [
      " 65%|██████▌   | 13/20 [04:34<02:39, 22.75s/it]"
     ]
    },
    {
     "name": "stdout",
     "output_type": "stream",
     "text": [
      "Processed one instance.\n",
      "Processed one instance.\n",
      "Processed one instance.\n",
      "Processed one instance.\n",
      "Processed one instance.\n"
     ]
    },
    {
     "name": "stderr",
     "output_type": "stream",
     "text": [
      " 70%|███████   | 14/20 [04:45<01:55, 19.20s/it]"
     ]
    },
    {
     "name": "stdout",
     "output_type": "stream",
     "text": [
      "Processed one instance.\n",
      "Processed one instance.\n",
      "Processed one instance.\n",
      "Processed one instance.\n",
      "Processed one instance.\n",
      "Processed one instance.\n",
      "Processed one instance.\n"
     ]
    },
    {
     "name": "stderr",
     "output_type": "stream",
     "text": [
      " 75%|███████▌  | 15/20 [05:00<01:30, 18.11s/it]"
     ]
    },
    {
     "name": "stdout",
     "output_type": "stream",
     "text": [
      "Processed one instance.\n",
      "Processed one instance.\n",
      "Processed one instance.\n",
      "Processed one instance.\n",
      "Processed one instance.\n",
      "Processed one instance.\n",
      "Processed one instance.\n",
      "Processed one instance.\n",
      "Processed one instance.\n",
      "Processed one instance.\n",
      "Processed one instance.\n",
      "Processed one instance.\n",
      "Processed one instance.\n",
      "Processed one instance.\n",
      "Processed one instance.\n",
      "Processed one instance.\n"
     ]
    },
    {
     "name": "stderr",
     "output_type": "stream",
     "text": [
      " 80%|████████  | 16/20 [05:32<01:28, 22.11s/it]"
     ]
    },
    {
     "name": "stdout",
     "output_type": "stream",
     "text": [
      "Processed one instance.\n",
      "Processed one instance.\n",
      "Processed one instance.\n",
      "Processed one instance.\n",
      "Processed one instance.\n",
      "Processed one instance.\n",
      "Processed one instance.\n"
     ]
    },
    {
     "name": "stderr",
     "output_type": "stream",
     "text": [
      " 85%|████████▌ | 17/20 [05:47<00:59, 19.97s/it]"
     ]
    },
    {
     "name": "stdout",
     "output_type": "stream",
     "text": [
      "Processed one instance.\n",
      "Processed one instance.\n",
      "Processed one instance.\n",
      "Processed one instance.\n",
      "Processed one instance.\n",
      "Processed one instance.\n",
      "Processed one instance.\n",
      "Processed one instance.\n",
      "Processed one instance.\n",
      "Processed one instance.\n",
      "Processed one instance.\n",
      "Processed one instance.\n",
      "Processed one instance.\n"
     ]
    },
    {
     "name": "stderr",
     "output_type": "stream",
     "text": [
      " 90%|█████████ | 18/20 [06:12<00:43, 21.65s/it]"
     ]
    },
    {
     "name": "stdout",
     "output_type": "stream",
     "text": [
      "Processed one instance.\n",
      "Processed one instance.\n",
      "Processed one instance.\n",
      "Processed one instance.\n",
      "Processed one instance.\n",
      "Processed one instance.\n",
      "Processed one instance.\n"
     ]
    },
    {
     "name": "stderr",
     "output_type": "stream",
     "text": [
      " 95%|█████████▌| 19/20 [06:28<00:19, 19.76s/it]"
     ]
    },
    {
     "name": "stdout",
     "output_type": "stream",
     "text": [
      "Processed one instance.\n",
      "Processed one instance.\n",
      "Processed one instance.\n",
      "Processed one instance.\n",
      "Processed one instance.\n",
      "Processed one instance.\n",
      "Processed one instance.\n",
      "Processed one instance.\n",
      "Processed one instance.\n",
      "Processed one instance.\n",
      "Processed one instance.\n",
      "Processed one instance.\n",
      "Processed one instance.\n",
      "Processed one instance.\n",
      "Processed one instance.\n",
      "Processed one instance.\n",
      "Processed one instance.\n",
      "Processed one instance.\n",
      "Processed one instance.\n",
      "Processed one instance.\n",
      "Processed one instance.\n",
      "Processed one instance.\n"
     ]
    },
    {
     "name": "stderr",
     "output_type": "stream",
     "text": [
      "100%|██████████| 20/20 [07:12<00:00, 21.60s/it]\n"
     ]
    },
    {
     "name": "stdout",
     "output_type": "stream",
     "text": [
      "Processed one instance.\n"
     ]
    },
    {
     "name": "stderr",
     "output_type": "stream",
     "text": [
      "0it [00:00, ?it/s]\n",
      "  0%|          | 0/20 [00:00<?, ?it/s]"
     ]
    },
    {
     "name": "stdout",
     "output_type": "stream",
     "text": [
      "Processed one instance.\n",
      "Processed one instance.\n"
     ]
    },
    {
     "name": "stderr",
     "output_type": "stream",
     "text": [
      "  5%|▌         | 1/20 [00:07<02:14,  7.08s/it]"
     ]
    },
    {
     "name": "stdout",
     "output_type": "stream",
     "text": [
      "Processed one instance.\n"
     ]
    },
    {
     "name": "stderr",
     "output_type": "stream",
     "text": [
      " 10%|█         | 2/20 [00:10<01:24,  4.69s/it]"
     ]
    },
    {
     "name": "stdout",
     "output_type": "stream",
     "text": [
      "Processed one instance.\n",
      "Processed one instance.\n",
      "Processed one instance.\n",
      "Processed one instance.\n",
      "Processed one instance.\n",
      "Processed one instance.\n"
     ]
    },
    {
     "name": "stderr",
     "output_type": "stream",
     "text": [
      " 15%|█▌        | 3/20 [00:23<02:30,  8.86s/it]"
     ]
    },
    {
     "name": "stdout",
     "output_type": "stream",
     "text": [
      "Processed one instance.\n"
     ]
    },
    {
     "name": "stderr",
     "output_type": "stream",
     "text": [
      " 20%|██        | 4/20 [00:25<01:38,  6.18s/it]"
     ]
    },
    {
     "name": "stdout",
     "output_type": "stream",
     "text": [
      "Processed one instance.\n",
      "Processed one instance.\n",
      "Processed one instance.\n",
      "Processed one instance.\n",
      "Processed one instance.\n",
      "Processed one instance.\n"
     ]
    },
    {
     "name": "stderr",
     "output_type": "stream",
     "text": [
      " 25%|██▌       | 5/20 [00:38<02:05,  8.39s/it]"
     ]
    },
    {
     "name": "stdout",
     "output_type": "stream",
     "text": [
      "Processed one instance.\n",
      "Processed one instance.\n"
     ]
    },
    {
     "name": "stderr",
     "output_type": "stream",
     "text": [
      " 30%|███       | 6/20 [00:43<01:41,  7.26s/it]"
     ]
    },
    {
     "name": "stdout",
     "output_type": "stream",
     "text": [
      "Processed one instance.\n"
     ]
    },
    {
     "name": "stderr",
     "output_type": "stream",
     "text": [
      " 35%|███▌      | 7/20 [00:45<01:11,  5.53s/it]"
     ]
    },
    {
     "name": "stdout",
     "output_type": "stream",
     "text": [
      "Processed one instance.\n",
      "Processed one instance.\n",
      "Processed one instance.\n",
      "Processed one instance.\n",
      "Processed one instance.\n"
     ]
    },
    {
     "name": "stderr",
     "output_type": "stream",
     "text": [
      " 40%|████      | 8/20 [00:55<01:23,  6.95s/it]"
     ]
    },
    {
     "name": "stdout",
     "output_type": "stream",
     "text": [
      "Processed one instance.\n",
      "Processed one instance.\n"
     ]
    },
    {
     "name": "stderr",
     "output_type": "stream",
     "text": [
      " 45%|████▌     | 9/20 [01:00<01:10,  6.43s/it]"
     ]
    },
    {
     "name": "stdout",
     "output_type": "stream",
     "text": [
      "Processed one instance.\n",
      "Processed one instance.\n",
      "Processed one instance.\n"
     ]
    },
    {
     "name": "stderr",
     "output_type": "stream",
     "text": [
      " 50%|█████     | 10/20 [01:07<01:04,  6.48s/it]"
     ]
    },
    {
     "name": "stdout",
     "output_type": "stream",
     "text": [
      "Processed one instance.\n"
     ]
    },
    {
     "name": "stderr",
     "output_type": "stream",
     "text": [
      " 55%|█████▌    | 11/20 [01:09<00:46,  5.16s/it]"
     ]
    },
    {
     "name": "stdout",
     "output_type": "stream",
     "text": [
      "Processed one instance.\n",
      "Processed one instance.\n"
     ]
    },
    {
     "name": "stderr",
     "output_type": "stream",
     "text": [
      " 60%|██████    | 12/20 [01:13<00:39,  4.99s/it]"
     ]
    },
    {
     "name": "stdout",
     "output_type": "stream",
     "text": [
      "Processed one instance.\n",
      "Processed one instance.\n",
      "Processed one instance.\n"
     ]
    },
    {
     "name": "stderr",
     "output_type": "stream",
     "text": [
      " 65%|██████▌   | 13/20 [01:20<00:37,  5.32s/it]"
     ]
    },
    {
     "name": "stdout",
     "output_type": "stream",
     "text": [
      "Processed one instance.\n",
      "Processed one instance.\n",
      "Processed one instance.\n",
      "Processed one instance.\n",
      "Processed one instance.\n",
      "Processed one instance.\n"
     ]
    },
    {
     "name": "stderr",
     "output_type": "stream",
     "text": [
      " 70%|███████   | 14/20 [01:33<00:46,  7.77s/it]"
     ]
    },
    {
     "name": "stdout",
     "output_type": "stream",
     "text": [
      "Processed one instance.\n",
      "Processed one instance.\n",
      "Processed one instance.\n"
     ]
    },
    {
     "name": "stderr",
     "output_type": "stream",
     "text": [
      " 75%|███████▌  | 15/20 [01:42<00:41,  8.29s/it]"
     ]
    },
    {
     "name": "stdout",
     "output_type": "stream",
     "text": [
      "Processed one instance.\n",
      "Processed one instance.\n",
      "Processed one instance.\n",
      "Processed one instance.\n"
     ]
    },
    {
     "name": "stderr",
     "output_type": "stream",
     "text": [
      " 80%|████████  | 16/20 [01:51<00:33,  8.49s/it]"
     ]
    },
    {
     "name": "stdout",
     "output_type": "stream",
     "text": [
      "Processed one instance.\n",
      "Processed one instance.\n",
      "Processed one instance.\n",
      "Processed one instance.\n",
      "Processed one instance.\n",
      "Processed one instance.\n"
     ]
    },
    {
     "name": "stderr",
     "output_type": "stream",
     "text": [
      " 85%|████████▌ | 17/20 [02:11<00:35, 11.80s/it]"
     ]
    },
    {
     "name": "stdout",
     "output_type": "stream",
     "text": [
      "Processed one instance.\n",
      "Processed one instance.\n",
      "Processed one instance.\n",
      "Processed one instance.\n",
      "Processed one instance.\n",
      "Processed one instance.\n",
      "Processed one instance.\n"
     ]
    },
    {
     "name": "stderr",
     "output_type": "stream",
     "text": [
      " 90%|█████████ | 18/20 [02:29<00:27, 13.59s/it]"
     ]
    },
    {
     "name": "stdout",
     "output_type": "stream",
     "text": [
      "Processed one instance.\n"
     ]
    },
    {
     "name": "stderr",
     "output_type": "stream",
     "text": [
      " 95%|█████████▌| 19/20 [02:31<00:10, 10.27s/it]"
     ]
    },
    {
     "name": "stdout",
     "output_type": "stream",
     "text": [
      "Processed one instance.\n"
     ]
    },
    {
     "name": "stderr",
     "output_type": "stream",
     "text": [
      "100%|██████████| 20/20 [02:34<00:00,  7.71s/it]\n"
     ]
    },
    {
     "name": "stdout",
     "output_type": "stream",
     "text": [
      "Processed one instance.\n"
     ]
    },
    {
     "name": "stderr",
     "output_type": "stream",
     "text": [
      "  0%|          | 0/20 [00:01<?, ?it/s]\n"
     ]
    },
    {
     "ename": "ValueError",
     "evalue": "Check the array to make sure it is a label array with 4 channels for rgb alpha.",
     "output_type": "error",
     "traceback": [
      "\u001b[0;31m---------------------------------------------------------------------------\u001b[0m",
      "\u001b[0;31mValueError\u001b[0m                                Traceback (most recent call last)",
      "Input \u001b[0;32mIn [7]\u001b[0m, in \u001b[0;36m<module>\u001b[0;34m\u001b[0m\n\u001b[1;32m      3\u001b[0m \u001b[38;5;28;01massert\u001b[39;00m \u001b[38;5;124m\"\u001b[39m\u001b[38;5;124mS1\u001b[39m\u001b[38;5;124m\"\u001b[39m \u001b[38;5;129;01min\u001b[39;00m \u001b[38;5;28mstr\u001b[39m(scene_folder)\n\u001b[1;32m      4\u001b[0m layer_pths \u001b[38;5;241m=\u001b[39m \u001b[38;5;28mlist\u001b[39m(scene_folder\u001b[38;5;241m.\u001b[39mglob(\u001b[38;5;124m\"\u001b[39m\u001b[38;5;124m*\u001b[39m\u001b[38;5;124m\"\u001b[39m))\n\u001b[0;32m----> 6\u001b[0m \u001b[43mcoco_tiler\u001b[49m\u001b[38;5;241;43m.\u001b[39;49m\u001b[43mcreate_coco_from_photopea_layers_no_tile\u001b[49m\u001b[43m(\u001b[49m\u001b[43mlayer_pths\u001b[49m\u001b[43m,\u001b[49m\u001b[43m \u001b[49m\u001b[43mcoco_output\u001b[49m\u001b[43m)\u001b[49m\n",
      "File \u001b[0;32m~/work/ceruleanml/data.py:356\u001b[0m, in \u001b[0;36mCOCOtiler.create_coco_from_photopea_layers_no_tile\u001b[0;34m(self, layer_pths, coco_output)\u001b[0m\n\u001b[1;32m    354\u001b[0m \u001b[38;5;28;01mif\u001b[39;00m image_info \u001b[38;5;129;01mnot\u001b[39;00m \u001b[38;5;129;01min\u001b[39;00m \u001b[38;5;28mself\u001b[39m\u001b[38;5;241m.\u001b[39mcoco_output[\u001b[38;5;124m\"\u001b[39m\u001b[38;5;124mimages\u001b[39m\u001b[38;5;124m\"\u001b[39m]:\n\u001b[1;32m    355\u001b[0m     \u001b[38;5;28mself\u001b[39m\u001b[38;5;241m.\u001b[39mcoco_output[\u001b[38;5;124m\"\u001b[39m\u001b[38;5;124mimages\u001b[39m\u001b[38;5;124m\"\u001b[39m]\u001b[38;5;241m.\u001b[39mappend(image_info)\n\u001b[0;32m--> 356\u001b[0m class_id \u001b[38;5;241m=\u001b[39m \u001b[43mget_layer_cls\u001b[49m\u001b[43m(\u001b[49m\u001b[43marr\u001b[49m\u001b[43m,\u001b[49m\u001b[43m \u001b[49m\u001b[43mclass_mapping_photopea\u001b[49m\u001b[43m,\u001b[49m\u001b[43m \u001b[49m\u001b[43mclass_mapping_coco\u001b[49m\u001b[43m)\u001b[49m\n\u001b[1;32m    357\u001b[0m \u001b[38;5;28;01mif\u001b[39;00m class_id \u001b[38;5;241m!=\u001b[39m \u001b[38;5;241m0\u001b[39m:\n\u001b[1;32m    358\u001b[0m     category_info \u001b[38;5;241m=\u001b[39m {\n\u001b[1;32m    359\u001b[0m         \u001b[38;5;124m\"\u001b[39m\u001b[38;5;124mid\u001b[39m\u001b[38;5;124m\"\u001b[39m: class_id,\n\u001b[1;32m    360\u001b[0m         \u001b[38;5;124m\"\u001b[39m\u001b[38;5;124mis_crowd\u001b[39m\u001b[38;5;124m\"\u001b[39m: \u001b[38;5;28;01mTrue\u001b[39;00m,\n\u001b[1;32m    361\u001b[0m     }  \u001b[38;5;66;03m# forces compressed RLE format\u001b[39;00m\n",
      "File \u001b[0;32m~/work/ceruleanml/data.py:220\u001b[0m, in \u001b[0;36mget_layer_cls\u001b[0;34m(arr, class_mapping_photopea, class_mapping_coco)\u001b[0m\n\u001b[1;32m    218\u001b[0m     \u001b[38;5;28;01mreturn\u001b[39;00m \u001b[38;5;241m0\u001b[39m  \u001b[38;5;66;03m# no category matches, all background label\u001b[39;00m\n\u001b[1;32m    219\u001b[0m \u001b[38;5;28;01melse\u001b[39;00m:\n\u001b[0;32m--> 220\u001b[0m     \u001b[38;5;28;01mraise\u001b[39;00m \u001b[38;5;167;01mValueError\u001b[39;00m(\n\u001b[1;32m    221\u001b[0m         \u001b[38;5;124m\"\u001b[39m\u001b[38;5;124mCheck the array to make sure it is a label array with 4 channels for rgb alpha.\u001b[39m\u001b[38;5;124m\"\u001b[39m\n\u001b[1;32m    222\u001b[0m     )\n",
      "\u001b[0;31mValueError\u001b[0m: Check the array to make sure it is a label array with 4 channels for rgb alpha."
     ]
    }
   ],
   "source": [
    "for class_folder in class_folders:\n",
    "    for scene_folder in tqdm.tqdm(list(class_folder.glob(\"*\"))):\n",
    "        assert \"S1\" in str(scene_folder)\n",
    "        layer_pths = list(scene_folder.glob(\"*\"))\n",
    "        \n",
    "        coco_tiler.create_coco_from_photopea_layers_no_tile(layer_pths, coco_output)"
   ]
  },
  {
   "cell_type": "code",
   "execution_count": 8,
   "id": "1b81a1b7-c086-40f6-b066-53445b48b324",
   "metadata": {},
   "outputs": [],
   "source": [
    "coco_tiler.save_coco_output(\"./instances_slicks_test_v2_whole_image.json\")"
   ]
  },
  {
   "cell_type": "code",
   "execution_count": 1,
   "id": "4c7f5eb4-cc02-44f3-b576-ab24948e5a92",
   "metadata": {},
   "outputs": [],
   "source": [
    "!cp \"./instances_slicks_test_v2_whole_image.json\" \"../../data/cv2_transfer/\""
   ]
  },
  {
   "cell_type": "code",
   "execution_count": 2,
   "id": "24ecbc2e-ab77-4438-86ae-24f548847e42",
   "metadata": {},
   "outputs": [],
   "source": [
    "!cp \"./instances_slicks_test_v2_whole_image_small.json\" \"../../data/cv2_transfer/\""
   ]
  },
  {
   "cell_type": "code",
   "execution_count": null,
   "id": "d6050c65-9480-438c-81a5-f789a3f500aa",
   "metadata": {},
   "outputs": [],
   "source": []
  }
 ],
 "metadata": {
  "kernelspec": {
   "display_name": "Python [conda env:fastai2]",
   "language": "python",
   "name": "conda-env-fastai2-py"
  },
  "language_info": {
   "codemirror_mode": {
    "name": "ipython",
    "version": 3
   },
   "file_extension": ".py",
   "mimetype": "text/x-python",
   "name": "python",
   "nbconvert_exporter": "python",
   "pygments_lexer": "ipython3",
   "version": "3.9.7"
  }
 },
 "nbformat": 4,
 "nbformat_minor": 5
}
