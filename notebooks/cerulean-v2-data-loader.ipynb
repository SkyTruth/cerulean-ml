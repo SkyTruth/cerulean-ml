{
 "cells": [
  {
   "cell_type": "markdown",
   "id": "89d39b92",
   "metadata": {},
   "source": [
    "### temporary setup after `make ssh`, `cdata`, and `make syncup`\n",
    "\n",
    "```python\n",
    "conda activate fastai2\n",
    "mamba install cython dask -y\n",
    "pip install \"git+https://github.com/philferriere/cocoapi.git#egg=pycocotools&subdirectory=PythonAPI\"\n",
    "pip install git+git://github.com/waspinator/pycococreator.git@0.2.0\n",
    "cd work\n",
    "pip install -e . # install local ceruleanml package after deps installed with conda\n",
    "conda deactivate\n",
    "```"
   ]
  },
  {
   "cell_type": "code",
   "execution_count": 1,
   "id": "53392a56-a504-4254-947e-6660272f5ed3",
   "metadata": {},
   "outputs": [],
   "source": [
    "import ceruleanml.data as data\n",
    "from pathlib import Path\n",
    "import skimage.io as skio\n",
    "import os\n",
    "\n",
    "ml_data_path = os.path.join(os.path.abspath(os.getcwd()),\"../../data/cv2_transfer/outputs/skytruth_annotation/first_phase/\")\n",
    "coco_outdir = \"../../data/cv2_transfer/outputs/skytruth_annotation/first_phase/\"\n",
    "os.makedirs(coco_outdir, exist_ok=True)\n",
    "os.makedirs(\"tiled_images/\", exist_ok=True)\n",
    "path = Path(ml_data_path)\n",
    "class_folders = list(path.glob(\"*/\"))"
   ]
  },
  {
   "cell_type": "code",
   "execution_count": 2,
   "id": "cf13bd09-7d6d-4d35-88a8-f88d4cfa9dee",
   "metadata": {},
   "outputs": [],
   "source": [
    "# img_fname = layer_pths[1]\n",
    "# arr = skio.imread(layer_pths[1])\n",
    "# tiled_arr = data.reshape_split(arr, (512, 512))"
   ]
  },
  {
   "cell_type": "code",
   "execution_count": 3,
   "id": "7d6eb098-c6f1-4588-80f5-1263a740a3e4",
   "metadata": {},
   "outputs": [],
   "source": [
    "info = {\n",
    "    \"description\": \"Cerulean Dataset V2\",\n",
    "    \"url\": \"none\",\n",
    "    \"version\": \"1.0\",\n",
    "    \"year\": 2021,\n",
    "    \"contributor\": \"Skytruth\",\n",
    "    \"date_created\": \"2022/2/23\"\n",
    "}\n",
    "\n",
    "licenses = [\n",
    "    {\n",
    "        \"url\": \"none\",\n",
    "        \"id\": 1,\n",
    "        \"name\": \"CeruleanDataset V2\"\n",
    "    }\n",
    "]\n",
    "categories = [{\"supercategory\":\"slick\", \"id\":1,\"name\":\"infra_slick\"},\n",
    "              {\"supercategory\":\"slick\", \"id\":2,\"name\":\"natural_seep\"},\n",
    "              {\"supercategory\":\"slick\", \"id\":3,\"name\":\"coincident_vessel\"},\n",
    "              {\"supercategory\":\"slick\", \"id\":4,\"name\":\"recent_vessel\"},\n",
    "              {\"supercategory\":\"slick\", \"id\":5,\"name\":\"old_vessel\"},\n",
    "              {\"supercategory\":\"slick\", \"id\":6,\"name\":\"ambiguous\"}]\n",
    "\n",
    "coco_output = {\n",
    "    \"info\": info,\n",
    "    \"licenses\": licenses,\n",
    "    \"images\": [],\n",
    "    \"annotations\": [],\n",
    "    \"categories\": categories\n",
    "}"
   ]
  },
  {
   "cell_type": "code",
   "execution_count": 4,
   "id": "dc30b54a-33d1-4664-8d5d-2128b4ff2534",
   "metadata": {},
   "outputs": [],
   "source": [
    "coco_tiler = data.COCOtiler(\"tiled_images/\", coco_output)"
   ]
  },
  {
   "cell_type": "code",
   "execution_count": 5,
   "id": "ab027a9b-7b2b-4073-beea-1494a33ff516",
   "metadata": {},
   "outputs": [
    {
     "name": "stdout",
     "output_type": "stream",
     "text": [
      "finished saving 117 images\n"
     ]
    },
    {
     "name": "stderr",
     "output_type": "stream",
     "text": [
      "/root/miniconda3/envs/fastai2/lib/python3.9/site-packages/dask/core.py:119: UserWarning: tiled_images/S1A_IW_GRDH_1SDV_20200802T062802_20200802T062827_033724_03E89F_6485_vv-image_tile_0.png is a low contrast image\n",
      "  return func(*(_execute_task(a, cache) for a in args))\n"
     ]
    },
    {
     "name": "stdout",
     "output_type": "stream",
     "text": [
      "finished saving 126 images\n"
     ]
    }
   ],
   "source": [
    "for class_folder in class_folders:\n",
    "    for scene_folder in list(class_folder.glob(\"*\"))[0:2]:\n",
    "        assert \"S1\" in str(scene_folder)\n",
    "        layer_pths = list(scene_folder.glob(\"*\"))\n",
    "        coco_tiler.save_background_img_tiles(layer_pths)\n",
    "        coco_tiler.create_coco_from_photopea_layers(layer_pths, coco_output)\n",
    "    break"
   ]
  },
  {
   "cell_type": "code",
   "execution_count": null,
   "id": "5d163227-05d6-400b-933b-31b7f91f602a",
   "metadata": {},
   "outputs": [],
   "source": []
  },
  {
   "cell_type": "code",
   "execution_count": null,
   "id": "92dc945a-13a8-4579-b7c7-54ce3c4276f1",
   "metadata": {},
   "outputs": [],
   "source": []
  }
 ],
 "metadata": {
  "kernelspec": {
   "display_name": "Python [conda env:fastai2]",
   "language": "python",
   "name": "conda-env-fastai2-py"
  },
  "language_info": {
   "codemirror_mode": {
    "name": "ipython",
    "version": 3
   },
   "file_extension": ".py",
   "mimetype": "text/x-python",
   "name": "python",
   "nbconvert_exporter": "python",
   "pygments_lexer": "ipython3",
   "version": "3.9.7"
  }
 },
 "nbformat": 4,
 "nbformat_minor": 5
}
