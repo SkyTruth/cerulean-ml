{
 "cells": [
  {
   "cell_type": "markdown",
   "id": "89d39b92",
   "metadata": {},
   "source": [
    "### temporary setup after `make ssh`, `cdata`, and `make syncup`\n",
    "\n",
    "```python\n",
    "mamba activate fastai2\n",
    "mamba install cython -y\n",
    "pip install \"git+https://github.com/philferriere/cocoapi.git#egg=pycocotools&subdirectory=PythonAPI\"\n",
    "pip install git+git://github.com/waspinator/pycococreator.git@0.2.0\n",
    "cd work\n",
    "pip install -e ceruleanml # install local ceruleanml package after deps installed with conda\n",
    "mamba deactivate\n",
    "```"
   ]
  },
  {
   "cell_type": "code",
   "execution_count": 1,
   "id": "c63ce3d6-807d-4d49-8754-c9f3c9972e73",
   "metadata": {},
   "outputs": [],
   "source": [
    "import ceruleanml.data as data\n",
    "from pathlib import Path\n",
    "import skimage.io as skio\n",
    "import os\n",
    "\n",
    "ml_data_path = os.path.join(os.path.abspath(os.getcwd()),\"../../data/cerulean_v2_example/\")\n",
    "path = Path(ml_data_path)\n",
    "layer_pths = list(path.glob(\"assets_test1_png/*\"))\n",
    "outdir = \"../../data/cerulean_v2_example/tiled_data_example\"\n",
    "os.makedirs(outdir, exist_ok=True)"
   ]
  },
  {
   "cell_type": "code",
   "execution_count": 2,
   "id": "cf13bd09-7d6d-4d35-88a8-f88d4cfa9dee",
   "metadata": {},
   "outputs": [],
   "source": [
    "# img_fname = layer_pths[1]\n",
    "# arr = skio.imread(layer_pths[1])\n",
    "# tiled_arr = data.reshape_split(arr, (512, 512))"
   ]
  },
  {
   "cell_type": "code",
   "execution_count": 3,
   "id": "7d6eb098-c6f1-4588-80f5-1263a740a3e4",
   "metadata": {},
   "outputs": [],
   "source": [
    "info = {\n",
    "    \"description\": \"Cerulean Dataset V2\",\n",
    "    \"url\": \"none\",\n",
    "    \"version\": \"1.0\",\n",
    "    \"year\": 2021,\n",
    "    \"contributor\": \"Skytruth\",\n",
    "    \"date_created\": \"2022/2/23\"\n",
    "}\n",
    "\n",
    "licenses = [\n",
    "    {\n",
    "        \"url\": \"none\",\n",
    "        \"id\": 1,\n",
    "        \"name\": \"CeruleanDataset V2\"\n",
    "    }\n",
    "]\n",
    "categories = [{\"supercategory\":\"slick\", \"id\":1,\"name\":\"infra_slick\"},\n",
    "              {\"supercategory\":\"slick\", \"id\":2,\"name\":\"natural_seep\"},\n",
    "              {\"supercategory\":\"slick\", \"id\":3,\"name\":\"coincident_vessel\"},\n",
    "              {\"supercategory\":\"slick\", \"id\":4,\"name\":\"recent_vessel\"},\n",
    "              {\"supercategory\":\"slick\", \"id\":5,\"name\":\"old_vessel\"},\n",
    "              {\"supercategory\":\"slick\", \"id\":6,\"name\":\"ambiguous\"}]\n",
    "\n",
    "coco_output = {\n",
    "    \"info\": info,\n",
    "    \"licenses\": licenses,\n",
    "    \"images\": [],\n",
    "    \"annotations\": [],\n",
    "    \"categories\": categories\n",
    "}"
   ]
  },
  {
   "cell_type": "code",
   "execution_count": 4,
   "id": "5d163227-05d6-400b-933b-31b7f91f602a",
   "metadata": {},
   "outputs": [
    {
     "name": "stdout",
     "output_type": "stream",
     "text": [
      "finished saving 117 images\n"
     ]
    }
   ],
   "source": [
    "data.create_coco_from_photopea_layers(layer_pths, outdir, coco_output)"
   ]
  }
 ],
 "metadata": {
  "kernelspec": {
   "display_name": "Python [conda env:fastai2]",
   "language": "python",
   "name": "conda-env-fastai2-py"
  },
  "language_info": {
   "codemirror_mode": {
    "name": "ipython",
    "version": 3
   },
   "file_extension": ".py",
   "mimetype": "text/x-python",
   "name": "python",
   "nbconvert_exporter": "python",
   "pygments_lexer": "ipython3",
   "version": "3.9.7"
  }
 },
 "nbformat": 4,
 "nbformat_minor": 5
}
