{
 "cells": [
  {
   "cell_type": "markdown",
   "id": "3cf1927a-5425-442a-87fc-d1dc0f0c5797",
   "metadata": {},
   "source": [
    "## Creating and Saving COCO Datasets from Photopea Annotations"
   ]
  },
  {
   "cell_type": "code",
   "execution_count": null,
   "id": "53392a56-a504-4254-947e-6660272f5ed3",
   "metadata": {},
   "outputs": [],
   "source": [
    "import ceruleanml.data as data\n",
    "from pathlib import Path\n",
    "import skimage.io as skio\n",
    "import os\n",
    "\n",
    "ml_data_path = os.path.join(os.path.abspath(os.getcwd()),\"../../data/cv2_transfer/outputs/skytruth_annotation/first_phase/\")\n",
    "coco_outdir = \"./\"\n",
    "os.makedirs(coco_outdir, exist_ok=True)\n",
    "os.makedirs(\"untiled_images/\", exist_ok=True)\n",
    "path = Path(ml_data_path)\n",
    "class_folders = list(path.glob(\"*/\"))"
   ]
  },
  {
   "cell_type": "code",
   "execution_count": null,
   "id": "7d6eb098-c6f1-4588-80f5-1263a740a3e4",
   "metadata": {},
   "outputs": [],
   "source": [
    "info = {\n",
    "    \"description\": \"Cerulean Dataset V2\",\n",
    "    \"url\": \"none\",\n",
    "    \"version\": \"1.0\",\n",
    "    \"year\": 2021,\n",
    "    \"contributor\": \"Skytruth\",\n",
    "    \"date_created\": \"2022/2/23\"\n",
    "}\n",
    "\n",
    "licenses = [\n",
    "    {\n",
    "        \"url\": \"none\",\n",
    "        \"id\": 1,\n",
    "        \"name\": \"CeruleanDataset V2\"\n",
    "    }\n",
    "]\n",
    "categories = [{\"supercategory\":\"slick\", \"id\":1,\"name\":\"infra_slick\"},\n",
    "              {\"supercategory\":\"slick\", \"id\":2,\"name\":\"natural_seep\"},\n",
    "              {\"supercategory\":\"slick\", \"id\":3,\"name\":\"coincident_vessel\"},\n",
    "              {\"supercategory\":\"slick\", \"id\":4,\"name\":\"recent_vessel\"},\n",
    "              {\"supercategory\":\"slick\", \"id\":5,\"name\":\"old_vessel\"},\n",
    "              {\"supercategory\":\"slick\", \"id\":6,\"name\":\"ambiguous\"}]\n",
    "\n",
    "coco_output = {\n",
    "    \"info\": info,\n",
    "    \"licenses\": licenses,\n",
    "    \"images\": [],\n",
    "    \"annotations\": [],\n",
    "    \"categories\": categories\n",
    "}"
   ]
  },
  {
   "cell_type": "markdown",
   "id": "9eb8582a-efb3-4d0f-98c5-948a1cccb732",
   "metadata": {},
   "source": [
    "### With Tiling"
   ]
  },
  {
   "cell_type": "code",
   "execution_count": null,
   "id": "453a8b81-6e99-487b-bc1e-bea8eaed3fdf",
   "metadata": {},
   "outputs": [],
   "source": [
    "coco_tiler = data.COCOtiler(\"untiled_images/\", coco_output)\n",
    "\n",
    "for class_folder in class_folders:\n",
    "    for scene_folder in list(class_folder.glob(\"*\")):\n",
    "        assert \"S1\" in str(scene_folder)\n",
    "        layer_pths = list(scene_folder.glob(\"*\"))\n",
    "        coco_tiler.save_background_img_tiles(layer_pths)\n",
    "        coco_tiler.create_coco_from_photopea_layers(layer_pths, coco_output)\n",
    "\n",
    "coco_tiler.save_coco_output(\"./instances_slicks_test_v2.json\")"
   ]
  },
  {
   "cell_type": "markdown",
   "id": "968dc09d-2b46-45df-af72-123185a6d529",
   "metadata": {},
   "source": [
    "### No tiling"
   ]
  },
  {
   "cell_type": "code",
   "execution_count": null,
   "id": "22fb45b1-af5c-4020-9e2c-e113a47d00fc",
   "metadata": {},
   "outputs": [],
   "source": [
    "import tqdm\n",
    "\n",
    "coco_tiler = data.COCOtiler(\"untiled_images/\", coco_output)\n",
    "coco_tiler.copy_background_images(class_folders)\n",
    "\n",
    "for class_folder in class_folders:\n",
    "    for scene_folder in tqdm.tqdm(list(class_folder.glob(\"*\"))):\n",
    "        assert \"S1\" in str(scene_folder)\n",
    "        layer_pths = list(scene_folder.glob(\"*\"))\n",
    "        \n",
    "        coco_tiler.create_coco_from_photopea_layers_no_tile(layer_pths, coco_output)\n",
    "\n",
    "coco_tiler.save_coco_output(\"./instances_slicks_test_v2_whole_image.json\")\n",
    "\n",
    "!cp \"./instances_slicks_test_v2_whole_image.json\" \"../../data/cv2_transfer/\"\n",
    "\n",
    "!cp \"./instances_slicks_test_v2_whole_image_small.json\" \"../../data/cv2_transfer/\""
   ]
  },
  {
   "cell_type": "code",
   "execution_count": null,
   "id": "d6050c65-9480-438c-81a5-f789a3f500aa",
   "metadata": {},
   "outputs": [],
   "source": []
  }
 ],
 "metadata": {
  "kernelspec": {
   "display_name": "Python [conda env:fastai2]",
   "language": "python",
   "name": "conda-env-fastai2-py"
  },
  "language_info": {
   "codemirror_mode": {
    "name": "ipython",
    "version": 3
   },
   "file_extension": ".py",
   "mimetype": "text/x-python",
   "name": "python",
   "nbconvert_exporter": "python",
   "pygments_lexer": "ipython3",
   "version": "3.9.7"
  }
 },
 "nbformat": 4,
 "nbformat_minor": 5
}
