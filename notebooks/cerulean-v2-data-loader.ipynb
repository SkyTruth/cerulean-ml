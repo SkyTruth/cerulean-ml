{
 "cells": [
  {
   "cell_type": "code",
   "execution_count": 1,
   "id": "53392a56-a504-4254-947e-6660272f5ed3",
   "metadata": {},
   "outputs": [],
   "source": [
    "import ceruleanml.data as data\n",
    "from pathlib import Path\n",
    "import skimage.io as skio\n",
    "import os\n",
    "\n",
    "ml_data_path = os.path.join(os.path.abspath(os.getcwd()),\"../../data/cv2_transfer/outputs/skytruth_annotation/first_phase/\")\n",
    "coco_outdir = \"./\"\n",
    "os.makedirs(coco_outdir, exist_ok=True)\n",
    "os.makedirs(\"tiled_images/\", exist_ok=True)\n",
    "path = Path(ml_data_path)\n",
    "class_folders = list(path.glob(\"*/\"))"
   ]
  },
  {
   "cell_type": "code",
   "execution_count": 2,
   "id": "cf13bd09-7d6d-4d35-88a8-f88d4cfa9dee",
   "metadata": {},
   "outputs": [],
   "source": [
    "# img_fname = layer_pths[1]\n",
    "# arr = skio.imread(layer_pths[1])\n",
    "# tiled_arr = data.reshape_split(arr, (512, 512))"
   ]
  },
  {
   "cell_type": "code",
   "execution_count": 3,
   "id": "7d6eb098-c6f1-4588-80f5-1263a740a3e4",
   "metadata": {},
   "outputs": [],
   "source": [
    "info = {\n",
    "    \"description\": \"Cerulean Dataset V2\",\n",
    "    \"url\": \"none\",\n",
    "    \"version\": \"1.0\",\n",
    "    \"year\": 2021,\n",
    "    \"contributor\": \"Skytruth\",\n",
    "    \"date_created\": \"2022/2/23\"\n",
    "}\n",
    "\n",
    "licenses = [\n",
    "    {\n",
    "        \"url\": \"none\",\n",
    "        \"id\": 1,\n",
    "        \"name\": \"CeruleanDataset V2\"\n",
    "    }\n",
    "]\n",
    "categories = [{\"supercategory\":\"slick\", \"id\":1,\"name\":\"infra_slick\"},\n",
    "              {\"supercategory\":\"slick\", \"id\":2,\"name\":\"natural_seep\"},\n",
    "              {\"supercategory\":\"slick\", \"id\":3,\"name\":\"coincident_vessel\"},\n",
    "              {\"supercategory\":\"slick\", \"id\":4,\"name\":\"recent_vessel\"},\n",
    "              {\"supercategory\":\"slick\", \"id\":5,\"name\":\"old_vessel\"},\n",
    "              {\"supercategory\":\"slick\", \"id\":6,\"name\":\"ambiguous\"}]\n",
    "\n",
    "coco_output = {\n",
    "    \"info\": info,\n",
    "    \"licenses\": licenses,\n",
    "    \"images\": [],\n",
    "    \"annotations\": [],\n",
    "    \"categories\": categories\n",
    "}"
   ]
  },
  {
   "cell_type": "code",
   "execution_count": 4,
   "id": "dc30b54a-33d1-4664-8d5d-2128b4ff2534",
   "metadata": {},
   "outputs": [],
   "source": [
    "coco_tiler = data.COCOtiler(\"tiled_images/\", coco_output)"
   ]
  },
  {
   "cell_type": "code",
   "execution_count": 7,
   "id": "886e440d-2122-4886-8d5f-a53247fb988d",
   "metadata": {},
   "outputs": [
    {
     "data": {
      "text/plain": [
       "[PosixPath('/root/work/notebooks/../../data/cv2_transfer/outputs/skytruth_annotation/first_phase/old_vessel/S1A_IW_GRDH_1SDV_20200802T141646_20200802T141711_033729_03E8C7_E4F5/Background.png'),\n",
       " PosixPath('/root/work/notebooks/../../data/cv2_transfer/outputs/skytruth_annotation/first_phase/old_vessel/S1A_IW_GRDH_1SDV_20200802T141646_20200802T141711_033729_03E8C7_E4F5/ambiguous_1.png'),\n",
       " PosixPath('/root/work/notebooks/../../data/cv2_transfer/outputs/skytruth_annotation/first_phase/old_vessel/S1A_IW_GRDH_1SDV_20200802T141646_20200802T141711_033729_03E8C7_E4F5/ambiguous_2.png'),\n",
       " PosixPath('/root/work/notebooks/../../data/cv2_transfer/outputs/skytruth_annotation/first_phase/old_vessel/S1A_IW_GRDH_1SDV_20200802T141646_20200802T141711_033729_03E8C7_E4F5/ambiguous_3.png'),\n",
       " PosixPath('/root/work/notebooks/../../data/cv2_transfer/outputs/skytruth_annotation/first_phase/old_vessel/S1A_IW_GRDH_1SDV_20200802T141646_20200802T141711_033729_03E8C7_E4F5/natural_1.png'),\n",
       " PosixPath('/root/work/notebooks/../../data/cv2_transfer/outputs/skytruth_annotation/first_phase/old_vessel/S1A_IW_GRDH_1SDV_20200802T141646_20200802T141711_033729_03E8C7_E4F5/natural_2.png'),\n",
       " PosixPath('/root/work/notebooks/../../data/cv2_transfer/outputs/skytruth_annotation/first_phase/old_vessel/S1A_IW_GRDH_1SDV_20200802T141646_20200802T141711_033729_03E8C7_E4F5/vessel_old_1.png'),\n",
       " PosixPath('/root/work/notebooks/../../data/cv2_transfer/outputs/skytruth_annotation/first_phase/old_vessel/S1A_IW_GRDH_1SDV_20200802T141646_20200802T141711_033729_03E8C7_E4F5/vessel_recent_1.png')]"
      ]
     },
     "execution_count": 7,
     "metadata": {},
     "output_type": "execute_result"
    }
   ],
   "source": [
    "layer_pths"
   ]
  },
  {
   "cell_type": "code",
   "execution_count": 5,
   "id": "ab027a9b-7b2b-4073-beea-1494a33ff516",
   "metadata": {},
   "outputs": [
    {
     "name": "stdout",
     "output_type": "stream",
     "text": [
      "finished saving 117 images\n"
     ]
    },
    {
     "name": "stderr",
     "output_type": "stream",
     "text": [
      "/root/miniconda3/envs/fastai2/lib/python3.9/site-packages/dask/core.py:119: UserWarning: tiled_images/S1A_IW_GRDH_1SDV_20200802T062802_20200802T062827_033724_03E89F_6485_vv-image_tile_0.png is a low contrast image\n",
      "  return func(*(_execute_task(a, cache) for a in args))\n"
     ]
    },
    {
     "name": "stdout",
     "output_type": "stream",
     "text": [
      "finished saving 126 images\n",
      "finished saving 130 images\n",
      "finished saving 117 images\n",
      "finished saving 117 images\n",
      "finished saving 117 images\n",
      "finished saving 130 images\n",
      "finished saving 130 images\n",
      "finished saving 117 images\n"
     ]
    },
    {
     "name": "stderr",
     "output_type": "stream",
     "text": [
      "/root/miniconda3/envs/fastai2/lib/python3.9/site-packages/dask/core.py:119: UserWarning: tiled_images/S1A_IW_GRDH_1SDV_20210716T000518_20210716T000547_038795_0493DB_BE47_vv-image_tile_118.png is a low contrast image\n",
      "  return func(*(_execute_task(a, cache) for a in args))\n",
      "/root/miniconda3/envs/fastai2/lib/python3.9/site-packages/dask/core.py:119: UserWarning: tiled_images/S1A_IW_GRDH_1SDV_20210716T000518_20210716T000547_038795_0493DB_BE47_vv-image_tile_119.png is a low contrast image\n",
      "  return func(*(_execute_task(a, cache) for a in args))\n",
      "/root/miniconda3/envs/fastai2/lib/python3.9/site-packages/dask/core.py:119: UserWarning: tiled_images/S1A_IW_GRDH_1SDV_20210716T000518_20210716T000547_038795_0493DB_BE47_vv-image_tile_117.png is a low contrast image\n",
      "  return func(*(_execute_task(a, cache) for a in args))\n",
      "/root/miniconda3/envs/fastai2/lib/python3.9/site-packages/dask/core.py:119: UserWarning: tiled_images/S1A_IW_GRDH_1SDV_20210716T000518_20210716T000547_038795_0493DB_BE47_vv-image_tile_120.png is a low contrast image\n",
      "  return func(*(_execute_task(a, cache) for a in args))\n"
     ]
    },
    {
     "name": "stdout",
     "output_type": "stream",
     "text": [
      "finished saving 130 images\n",
      "finished saving 117 images\n"
     ]
    },
    {
     "name": "stderr",
     "output_type": "stream",
     "text": [
      "/root/miniconda3/envs/fastai2/lib/python3.9/site-packages/dask/core.py:119: UserWarning: tiled_images/S1B_IW_GRDH_1SDV_20200827T061833_20200827T061858_023105_02BDDE_2D7D_vv-image_tile_56.png is a low contrast image\n",
      "  return func(*(_execute_task(a, cache) for a in args))\n",
      "/root/miniconda3/envs/fastai2/lib/python3.9/site-packages/dask/core.py:119: UserWarning: tiled_images/S1B_IW_GRDH_1SDV_20200827T061833_20200827T061858_023105_02BDDE_2D7D_vv-image_tile_28.png is a low contrast image\n",
      "  return func(*(_execute_task(a, cache) for a in args))\n",
      "/root/miniconda3/envs/fastai2/lib/python3.9/site-packages/dask/core.py:119: UserWarning: tiled_images/S1B_IW_GRDH_1SDV_20200827T061833_20200827T061858_023105_02BDDE_2D7D_vv-image_tile_42.png is a low contrast image\n",
      "  return func(*(_execute_task(a, cache) for a in args))\n",
      "/root/miniconda3/envs/fastai2/lib/python3.9/site-packages/dask/core.py:119: UserWarning: tiled_images/S1B_IW_GRDH_1SDV_20200827T061833_20200827T061858_023105_02BDDE_2D7D_vv-image_tile_70.png is a low contrast image\n",
      "  return func(*(_execute_task(a, cache) for a in args))\n",
      "/root/miniconda3/envs/fastai2/lib/python3.9/site-packages/dask/core.py:119: UserWarning: tiled_images/S1B_IW_GRDH_1SDV_20200827T061833_20200827T061858_023105_02BDDE_2D7D_vv-image_tile_84.png is a low contrast image\n",
      "  return func(*(_execute_task(a, cache) for a in args))\n",
      "/root/miniconda3/envs/fastai2/lib/python3.9/site-packages/dask/core.py:119: UserWarning: tiled_images/S1B_IW_GRDH_1SDV_20200827T061833_20200827T061858_023105_02BDDE_2D7D_vv-image_tile_0.png is a low contrast image\n",
      "  return func(*(_execute_task(a, cache) for a in args))\n",
      "/root/miniconda3/envs/fastai2/lib/python3.9/site-packages/dask/core.py:119: UserWarning: tiled_images/S1B_IW_GRDH_1SDV_20200827T061833_20200827T061858_023105_02BDDE_2D7D_vv-image_tile_112.png is a low contrast image\n",
      "  return func(*(_execute_task(a, cache) for a in args))\n",
      "/root/miniconda3/envs/fastai2/lib/python3.9/site-packages/dask/core.py:119: UserWarning: tiled_images/S1B_IW_GRDH_1SDV_20200827T061833_20200827T061858_023105_02BDDE_2D7D_vv-image_tile_14.png is a low contrast image\n",
      "  return func(*(_execute_task(a, cache) for a in args))\n",
      "/root/miniconda3/envs/fastai2/lib/python3.9/site-packages/dask/core.py:119: UserWarning: tiled_images/S1B_IW_GRDH_1SDV_20200827T061833_20200827T061858_023105_02BDDE_2D7D_vv-image_tile_98.png is a low contrast image\n",
      "  return func(*(_execute_task(a, cache) for a in args))\n"
     ]
    },
    {
     "name": "stdout",
     "output_type": "stream",
     "text": [
      "finished saving 126 images\n",
      "finished saving 117 images\n",
      "finished saving 130 images\n",
      "finished saving 104 images\n",
      "finished saving 130 images\n",
      "finished saving 117 images\n",
      "finished saving 130 images\n"
     ]
    },
    {
     "name": "stderr",
     "output_type": "stream",
     "text": [
      "/root/miniconda3/envs/fastai2/lib/python3.9/site-packages/dask/core.py:119: UserWarning: tiled_images/S1B_IW_GRDH_1SDV_20210707T172027_20210707T172050_027691_034E02_CA71_vv-image_tile_56.png is a low contrast image\n",
      "  return func(*(_execute_task(a, cache) for a in args))\n",
      "/root/miniconda3/envs/fastai2/lib/python3.9/site-packages/dask/core.py:119: UserWarning: tiled_images/S1B_IW_GRDH_1SDV_20210707T172027_20210707T172050_027691_034E02_CA71_vv-image_tile_0.png is a low contrast image\n",
      "  return func(*(_execute_task(a, cache) for a in args))\n",
      "/root/miniconda3/envs/fastai2/lib/python3.9/site-packages/dask/core.py:119: UserWarning: tiled_images/S1B_IW_GRDH_1SDV_20210707T172027_20210707T172050_027691_034E02_CA71_vv-image_tile_70.png is a low contrast image\n",
      "  return func(*(_execute_task(a, cache) for a in args))\n",
      "/root/miniconda3/envs/fastai2/lib/python3.9/site-packages/dask/core.py:119: UserWarning: tiled_images/S1B_IW_GRDH_1SDV_20210707T172027_20210707T172050_027691_034E02_CA71_vv-image_tile_28.png is a low contrast image\n",
      "  return func(*(_execute_task(a, cache) for a in args))\n",
      "/root/miniconda3/envs/fastai2/lib/python3.9/site-packages/dask/core.py:119: UserWarning: tiled_images/S1B_IW_GRDH_1SDV_20210707T172027_20210707T172050_027691_034E02_CA71_vv-image_tile_98.png is a low contrast image\n",
      "  return func(*(_execute_task(a, cache) for a in args))\n",
      "/root/miniconda3/envs/fastai2/lib/python3.9/site-packages/dask/core.py:119: UserWarning: tiled_images/S1B_IW_GRDH_1SDV_20210707T172027_20210707T172050_027691_034E02_CA71_vv-image_tile_14.png is a low contrast image\n",
      "  return func(*(_execute_task(a, cache) for a in args))\n",
      "/root/miniconda3/envs/fastai2/lib/python3.9/site-packages/dask/core.py:119: UserWarning: tiled_images/S1B_IW_GRDH_1SDV_20210707T172027_20210707T172050_027691_034E02_CA71_vv-image_tile_84.png is a low contrast image\n",
      "  return func(*(_execute_task(a, cache) for a in args))\n",
      "/root/miniconda3/envs/fastai2/lib/python3.9/site-packages/dask/core.py:119: UserWarning: tiled_images/S1B_IW_GRDH_1SDV_20210707T172027_20210707T172050_027691_034E02_CA71_vv-image_tile_42.png is a low contrast image\n",
      "  return func(*(_execute_task(a, cache) for a in args))\n"
     ]
    },
    {
     "name": "stdout",
     "output_type": "stream",
     "text": [
      "finished saving 112 images\n",
      "finished saving 117 images\n",
      "finished saving 117 images\n",
      "finished saving 126 images\n",
      "finished saving 130 images\n",
      "finished saving 117 images\n",
      "finished saving 117 images\n",
      "finished saving 117 images\n",
      "finished saving 130 images\n",
      "finished saving 130 images\n",
      "finished saving 117 images\n",
      "finished saving 130 images\n",
      "finished saving 117 images\n",
      "finished saving 126 images\n",
      "finished saving 117 images\n",
      "finished saving 130 images\n",
      "finished saving 104 images\n",
      "finished saving 130 images\n",
      "finished saving 117 images\n",
      "finished saving 130 images\n",
      "finished saving 112 images\n",
      "finished saving 117 images\n",
      "finished saving 117 images\n",
      "finished saving 117 images\n",
      "finished saving 117 images\n",
      "finished saving 117 images\n",
      "finished saving 117 images\n",
      "finished saving 117 images\n",
      "finished saving 117 images\n",
      "finished saving 117 images\n",
      "finished saving 130 images\n",
      "finished saving 117 images\n",
      "finished saving 117 images\n",
      "finished saving 117 images\n",
      "finished saving 117 images\n",
      "finished saving 117 images\n",
      "finished saving 117 images\n",
      "finished saving 117 images\n",
      "finished saving 117 images\n",
      "finished saving 117 images\n",
      "finished saving 117 images\n",
      "finished saving 117 images\n",
      "finished saving 117 images\n",
      "finished saving 130 images\n",
      "finished saving 117 images\n",
      "finished saving 117 images\n",
      "finished saving 117 images\n",
      "finished saving 130 images\n",
      "finished saving 117 images\n",
      "finished saving 117 images\n",
      "finished saving 130 images\n",
      "finished saving 117 images\n",
      "finished saving 117 images\n",
      "finished saving 117 images\n",
      "finished saving 117 images\n",
      "finished saving 117 images\n",
      "finished saving 156 images\n",
      "finished saving 117 images\n"
     ]
    },
    {
     "name": "stderr",
     "output_type": "stream",
     "text": [
      "/root/miniconda3/envs/fastai2/lib/python3.9/site-packages/dask/core.py:119: UserWarning: tiled_images/S1B_IW_GRDH_1SDV_20201211T173301_20201211T173336_024657_02EEA9_8AA3_vv-image_tile_145.png is a low contrast image\n",
      "  return func(*(_execute_task(a, cache) for a in args))\n",
      "/root/miniconda3/envs/fastai2/lib/python3.9/site-packages/dask/core.py:119: UserWarning: tiled_images/S1B_IW_GRDH_1SDV_20201211T173301_20201211T173336_024657_02EEA9_8AA3_vv-image_tile_144.png is a low contrast image\n",
      "  return func(*(_execute_task(a, cache) for a in args))\n",
      "/root/miniconda3/envs/fastai2/lib/python3.9/site-packages/dask/core.py:119: UserWarning: tiled_images/S1B_IW_GRDH_1SDV_20201211T173301_20201211T173336_024657_02EEA9_8AA3_vv-image_tile_146.png is a low contrast image\n",
      "  return func(*(_execute_task(a, cache) for a in args))\n",
      "/root/miniconda3/envs/fastai2/lib/python3.9/site-packages/dask/core.py:119: UserWarning: tiled_images/S1B_IW_GRDH_1SDV_20201211T173301_20201211T173336_024657_02EEA9_8AA3_vv-image_tile_143.png is a low contrast image\n",
      "  return func(*(_execute_task(a, cache) for a in args))\n"
     ]
    },
    {
     "name": "stdout",
     "output_type": "stream",
     "text": [
      "finished saving 156 images\n",
      "finished saving 117 images\n",
      "finished saving 117 images\n",
      "finished saving 117 images\n",
      "finished saving 117 images\n"
     ]
    },
    {
     "ename": "ValueError",
     "evalue": "not enough values to unpack (expected 4, got 3)",
     "output_type": "error",
     "traceback": [
      "\u001b[0;31m---------------------------------------------------------------------------\u001b[0m",
      "\u001b[0;31mValueError\u001b[0m                                Traceback (most recent call last)",
      "Input \u001b[0;32mIn [5]\u001b[0m, in \u001b[0;36m<module>\u001b[0;34m\u001b[0m\n\u001b[1;32m      4\u001b[0m layer_pths \u001b[38;5;241m=\u001b[39m \u001b[38;5;28mlist\u001b[39m(scene_folder\u001b[38;5;241m.\u001b[39mglob(\u001b[38;5;124m\"\u001b[39m\u001b[38;5;124m*\u001b[39m\u001b[38;5;124m\"\u001b[39m))\n\u001b[1;32m      5\u001b[0m coco_tiler\u001b[38;5;241m.\u001b[39msave_background_img_tiles(layer_pths)\n\u001b[0;32m----> 6\u001b[0m \u001b[43mcoco_tiler\u001b[49m\u001b[38;5;241;43m.\u001b[39;49m\u001b[43mcreate_coco_from_photopea_layers\u001b[49m\u001b[43m(\u001b[49m\u001b[43mlayer_pths\u001b[49m\u001b[43m,\u001b[49m\u001b[43m \u001b[49m\u001b[43mcoco_output\u001b[49m\u001b[43m)\u001b[49m\n",
      "File \u001b[0;32m~/work/ceruleanml/data.py:241\u001b[0m, in \u001b[0;36mCOCOtiler.create_coco_from_photopea_layers\u001b[0;34m(self, layer_pths, coco_output)\u001b[0m\n\u001b[1;32m    239\u001b[0m tiled_arr \u001b[38;5;241m=\u001b[39m reshape_split(arr, (\u001b[38;5;241m512\u001b[39m, \u001b[38;5;241m512\u001b[39m))\n\u001b[1;32m    240\u001b[0m \u001b[38;5;66;03m# saving annotations\u001b[39;00m\n\u001b[0;32m--> 241\u001b[0m tiles_n, _, _, _ \u001b[38;5;241m=\u001b[39m tiled_arr\u001b[38;5;241m.\u001b[39mshape\n\u001b[1;32m    242\u001b[0m \u001b[38;5;28;01mfor\u001b[39;00m local_tile_id \u001b[38;5;129;01min\u001b[39;00m \u001b[38;5;28mrange\u001b[39m(tiles_n):\n\u001b[1;32m    243\u001b[0m     instance_tile \u001b[38;5;241m=\u001b[39m tiled_arr[local_tile_id]\n",
      "\u001b[0;31mValueError\u001b[0m: not enough values to unpack (expected 4, got 3)"
     ]
    }
   ],
   "source": [
    "for class_folder in class_folders:\n",
    "    for scene_folder in list(class_folder.glob(\"*\")):\n",
    "        assert \"S1\" in str(scene_folder)\n",
    "        layer_pths = list(scene_folder.glob(\"*\"))\n",
    "        coco_tiler.save_background_img_tiles(layer_pths)\n",
    "        coco_tiler.create_coco_from_photopea_layers(layer_pths, coco_output)"
   ]
  },
  {
   "cell_type": "code",
   "execution_count": null,
   "id": "5d163227-05d6-400b-933b-31b7f91f602a",
   "metadata": {},
   "outputs": [],
   "source": [
    "coco_tiler.save_coco_output(\"./instances_slicks_test_v2.json\")"
   ]
  },
  {
   "cell_type": "code",
   "execution_count": null,
   "id": "f12c6e8a-cbad-409d-bd1b-2b9842577ae1",
   "metadata": {},
   "outputs": [],
   "source": [
    "arr = skio.imread(instance_path)\n",
    "tiled_arr = reshape_split(arr, (512, 512))\n",
    "# saving annotations\n",
    "tiles_n, _, _, _ = tiled_arr.shape"
   ]
  },
  {
   "cell_type": "code",
   "execution_count": 17,
   "id": "7da7ded2-5c66-4dbc-96bb-8dba4e907e4a",
   "metadata": {},
   "outputs": [
    {
     "data": {
      "text/plain": [
       "PosixPath('/root/work/notebooks/../../data/cv2_transfer/outputs/skytruth_annotation/first_phase/old_vessel/S1A_IW_GRDH_1SDV_20200802T141646_20200802T141711_033729_03E8C7_E4F5')"
      ]
     },
     "execution_count": 17,
     "metadata": {},
     "output_type": "execute_result"
    }
   ],
   "source": [
    "scene_folder"
   ]
  },
  {
   "cell_type": "code",
   "execution_count": 23,
   "id": "92dc945a-13a8-4579-b7c7-54ce3c4276f1",
   "metadata": {},
   "outputs": [
    {
     "name": "stdout",
     "output_type": "stream",
     "text": [
      "ambiguous_1.png\n",
      "(4181, 6458)\n",
      "ambiguous_2.png\n",
      "(4181, 6458, 4)\n",
      "ambiguous_3.png\n",
      "(4181, 6458, 4)\n",
      "natural_1.png\n",
      "(4181, 6458, 4)\n",
      "natural_2.png\n",
      "(4181, 6458, 4)\n",
      "vessel_old_1.png\n",
      "(4181, 6458, 4)\n",
      "vessel_recent_1.png\n",
      "(4181, 6458, 4)\n"
     ]
    }
   ],
   "source": [
    "for i in layer_pths[1:]:\n",
    "    arr = skio.imread(i)\n",
    "    print(os.path.basename(i))\n",
    "    print(arr.shape)"
   ]
  },
  {
   "cell_type": "code",
   "execution_count": 25,
   "id": "4b901fda-78fa-4513-8e98-3a4b16b56395",
   "metadata": {},
   "outputs": [
    {
     "data": {
      "text/plain": [
       "(4181, 6458)"
      ]
     },
     "execution_count": 25,
     "metadata": {},
     "output_type": "execute_result"
    }
   ],
   "source": [
    "skio.imread(layer_pths[0]).shape"
   ]
  },
  {
   "cell_type": "code",
   "execution_count": 22,
   "id": "ef3f2e5b-8d8a-45c9-8c22-7b5abdfdc05a",
   "metadata": {},
   "outputs": [
    {
     "data": {
      "text/plain": [
       "array([  0, 255], dtype=uint8)"
      ]
     },
     "execution_count": 22,
     "metadata": {},
     "output_type": "execute_result"
    }
   ],
   "source": [
    "import numpy as np\n",
    "np.unique(arr)"
   ]
  },
  {
   "cell_type": "code",
   "execution_count": 20,
   "id": "82b3aee9-3df0-4048-9717-be06269df242",
   "metadata": {},
   "outputs": [
    {
     "name": "stderr",
     "output_type": "stream",
     "text": [
      "/root/miniconda3/envs/fastai2/lib/python3.9/site-packages/skimage/io/_plugins/matplotlib_plugin.py:150: UserWarning: Low image data range; displaying image with stretched contrast.\n",
      "  lo, hi, cmap = _get_display_range(image)\n"
     ]
    },
    {
     "data": {
      "text/plain": [
       "<matplotlib.image.AxesImage at 0x7f94564270d0>"
      ]
     },
     "execution_count": 20,
     "metadata": {},
     "output_type": "execute_result"
    },
    {
     "data": {
      "image/png": "[encoded data removed]",
      "text/plain": [
       "<Figure size 432x288 with 2 Axes>"
      ]
     },
     "metadata": {
      "needs_background": "light"
     },
     "output_type": "display_data"
    }
   ],
   "source": [
    "import skimage.io as skio\n",
    "\n",
    "skio.imshow(arr)"
   ]
  },
  {
   "cell_type": "code",
   "execution_count": null,
   "id": "50e2325e-b751-415d-b82b-0fcab6880715",
   "metadata": {},
   "outputs": [],
   "source": []
  }
 ],
 "metadata": {
  "kernelspec": {
   "display_name": "Python [conda env:fastai2]",
   "language": "python",
   "name": "conda-env-fastai2-py"
  },
  "language_info": {
   "codemirror_mode": {
    "name": "ipython",
    "version": 3
   },
   "file_extension": ".py",
   "mimetype": "text/x-python",
   "name": "python",
   "nbconvert_exporter": "python",
   "pygments_lexer": "ipython3",
   "version": "3.9.7"
  }
 },
 "nbformat": 4,
 "nbformat_minor": 5
}
