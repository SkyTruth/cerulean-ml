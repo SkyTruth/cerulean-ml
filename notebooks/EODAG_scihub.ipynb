{
 "cells": [
  {
   "cell_type": "markdown",
   "id": "7f459b94-a204-4c5a-8278-2865c686108a",
   "metadata": {},
   "source": [
    "Start by installing https://github.com/CS-SI/eodag, https://github.com/CS-SI/eodag-sentinelsat, and https://github.com/CS-SI/eodag-labextension in a virtual environment. Launch jupyter lab.\n",
    "\n",
    "In your virtual environment root folder, you'll need to have a config file with credentials at ~/.config/eodag/eodag.yml, similar to:"
   ]
  },
  {
   "cell_type": "raw",
   "id": "ad58d67e-ab12-4490-91c3-7383f18bdf07",
   "metadata": {},
   "source": [
    "scihub:\n",
    "    priority: 2  # Rank of provider priority, starting from 0\n",
    "    api:\n",
    "        credentials:\n",
    "            username: \"PLEASE_CHANGE_ME\"  # Your own username\n",
    "            password: \"PLEASE_CHANGE_ME\"  # Your own password"
   ]
  },
  {
   "cell_type": "code",
   "execution_count": 1,
   "id": "17e09df4-15a2-4f1d-83e6-b5a14f04dc37",
   "metadata": {},
   "outputs": [],
   "source": [
    "from eodag import EODataAccessGateway, setup_logging\n",
    "import os\n",
    "\n",
    "# create workspace for downloaded data\n",
    "workspace = 'eodag_workspace_overview'\n",
    "if not os.path.isdir(workspace):\n",
    "    os.mkdir(workspace)\n",
    "\n",
    "\n",
    "setup_logging(1) # 0: nothing, 1: only progress bars, 2: INFO, 3: DEBUG\n",
    "\n",
    "dag = EODataAccessGateway()"
   ]
  },
  {
   "cell_type": "code",
   "execution_count": 2,
   "id": "aa4262dd-d511-497d-b2aa-a2f9231b4190",
   "metadata": {},
   "outputs": [],
   "source": [
    "available_providers = dag.available_providers()"
   ]
  },
  {
   "cell_type": "code",
   "execution_count": 3,
   "id": "3efbe59c-7f31-4ff3-9397-04b9d6b0173d",
   "metadata": {},
   "outputs": [
    {
     "data": {
      "text/plain": [
       "('scihub', 2)"
      ]
     },
     "execution_count": 3,
     "metadata": {},
     "output_type": "execute_result"
    }
   ],
   "source": [
    "dag.get_preferred_provider()"
   ]
  },
  {
   "cell_type": "code",
   "execution_count": 4,
   "id": "1c8e185d-8677-4a6d-b6f4-b23599d999f7",
   "metadata": {},
   "outputs": [
    {
     "data": {
      "text/plain": [
       "['astraea_eod',\n",
       " 'aws_eos',\n",
       " 'creodias',\n",
       " 'mundi',\n",
       " 'onda',\n",
       " 'peps',\n",
       " 'scihub',\n",
       " 'sobloo']"
      ]
     },
     "execution_count": 4,
     "metadata": {},
     "output_type": "execute_result"
    }
   ],
   "source": [
    "dag.available_providers(\"S1_SAR_GRD\")"
   ]
  },
  {
   "cell_type": "code",
   "execution_count": 5,
   "id": "d1c667dd-640a-47dc-9fee-ba2e621a48a8",
   "metadata": {},
   "outputs": [],
   "source": [
    "catalog = dag.list_product_types()"
   ]
  },
  {
   "cell_type": "code",
   "execution_count": 6,
   "id": "3b50baec-b4f9-418a-9d88-4ee30ced41a6",
   "metadata": {},
   "outputs": [],
   "source": [
    "products_id = [p[\"ID\"] for p in catalog]"
   ]
  },
  {
   "cell_type": "code",
   "execution_count": 7,
   "id": "713e3f15-a21d-49c3-8da6-9495e61d07d6",
   "metadata": {
    "tags": []
   },
   "outputs": [
    {
     "data": {
      "text/plain": [
       "['S1_SAR_GRD',\n",
       " 'S1_SAR_OCN',\n",
       " 'S1_SAR_SLC',\n",
       " 'S2_MSI_L1C',\n",
       " 'S2_MSI_L2A',\n",
       " 'S3_EFR',\n",
       " 'S3_ERR',\n",
       " 'S3_LAN',\n",
       " 'S3_OLCI_L2LFR',\n",
       " 'S3_OLCI_L2LRR',\n",
       " 'S3_SLSTR_L1RBT',\n",
       " 'S3_SLSTR_L2LST']"
      ]
     },
     "execution_count": 7,
     "metadata": {},
     "output_type": "execute_result"
    }
   ],
   "source": [
    "scihub_products = dag.list_product_types(\"scihub\")\n",
    "[p[\"ID\"] for p in scihub_products]"
   ]
  },
  {
   "cell_type": "code",
   "execution_count": 8,
   "id": "fcf66dcb-705f-4390-82e0-e3483ed56a1e",
   "metadata": {},
   "outputs": [],
   "source": [
    "import fiona"
   ]
  },
  {
   "cell_type": "code",
   "execution_count": 9,
   "id": "b80a1d6c-f892-4ab8-aeeb-3c748ab38eb8",
   "metadata": {},
   "outputs": [],
   "source": [
    "geom_col = fiona.open(\"../vectors/S1A_IW_GRDH_1SDV_20211013T064329_20211013T064354_040097_04BF7D_66FF.geojson\")"
   ]
  },
  {
   "cell_type": "code",
   "execution_count": 10,
   "id": "ae3da970-2e1d-4141-8d9f-2a61d13bdb27",
   "metadata": {},
   "outputs": [],
   "source": [
    "import shapely as shp\n",
    "\n",
    "multipoly = shp.geometry.shape(geom_col[0][\"geometry\"])"
   ]
  },
  {
   "cell_type": "code",
   "execution_count": 11,
   "id": "43390e0e-51db-4693-bc9f-142e6d60ebe2",
   "metadata": {},
   "outputs": [
    {
     "data": {
      "image/svg+xml": [
       "<svg xmlns=\"http://www.w3.org/2000/svg\" xmlns:xlink=\"http://www.w3.org/1999/xlink\" width=\"100.0\" height=\"100.0\" viewBox=\"-10.821300990143634 38.42583761051908 0.2998890438944688 0.681629405436091\" preserveAspectRatio=\"xMinYMin meet\"><g transform=\"matrix(1,0,0,-1,0,77.53330462647426)\"><path fill-rule=\"evenodd\" fill=\"#66cc99\" stroke=\"#555555\" stroke-width=\"0.013632588108721819\" opacity=\"0.6\" d=\"M -10.796055456608963,39.071511224810834 L -10.576990726860169,38.451083144053754 L -10.546657479783835,38.46179340166342 L -10.76572220953263,39.0822214824205 L -10.796055456608963,39.071511224810834 z\" /></g></svg>"
      ],
      "text/plain": [
       "<shapely.geometry.polygon.Polygon at 0x7f6cda6f8a30>"
      ]
     },
     "execution_count": 11,
     "metadata": {},
     "output_type": "execute_result"
    }
   ],
   "source": [
    "multipoly.minimum_rotated_rectangle"
   ]
  },
  {
   "cell_type": "code",
   "execution_count": 12,
   "id": "9d14c99a-8bcf-4457-ab95-522bfe538405",
   "metadata": {},
   "outputs": [],
   "source": [
    "#geometry = \"POLYGON ((3.114044 41.734689,6.659244 41.734689,6.659244 43.68593,3.114044 43.68593,3.114044 41.734689))\"\n",
    "search_results, total_count = dag.search(\n",
    "  productType=\"S1_SAR_GRD\",\n",
    "  geom=multipoly.minimum_rotated_rectangle,\n",
    "  start=\"2021-10-09\",\n",
    "  end=\"2021-10-18\",\n",
    "  polarization = \"VV\"\n",
    ")"
   ]
  },
  {
   "cell_type": "code",
   "execution_count": 13,
   "id": "b8eb8854-e1a1-4756-bb95-e5cfb82c8339",
   "metadata": {},
   "outputs": [
    {
     "data": {
      "text/plain": [
       "5"
      ]
     },
     "execution_count": 13,
     "metadata": {},
     "output_type": "execute_result"
    }
   ],
   "source": [
    "total_count"
   ]
  },
  {
   "cell_type": "code",
   "execution_count": 14,
   "id": "2dd05c56-4c1e-47de-8f5d-29eb5388eca8",
   "metadata": {},
   "outputs": [],
   "source": [
    "iw_search_results = []\n",
    "for i in search_results:\n",
    "    if \"IW\" in i.as_dict()[\"id\"]:\n",
    "        iw_search_results.append(i)"
   ]
  },
  {
   "cell_type": "code",
   "execution_count": 15,
   "id": "db560495-467c-4270-a44c-2ccdce2168d7",
   "metadata": {},
   "outputs": [
    {
     "data": {
      "text/plain": [
       "5"
      ]
     },
     "execution_count": 15,
     "metadata": {},
     "output_type": "execute_result"
    }
   ],
   "source": [
    "len(iw_search_results)"
   ]
  },
  {
   "cell_type": "code",
   "execution_count": 16,
   "id": "98b80b3b-de90-4f5f-90c5-96c00814f4be",
   "metadata": {},
   "outputs": [
    {
     "data": {
      "image/svg+xml": [
       "<svg xmlns=\"http://www.w3.org/2000/svg\" xmlns:xlink=\"http://www.w3.org/1999/xlink\" width=\"100.0\" height=\"100.0\" viewBox=\"-13.8306094 37.047304600000004 6.1823088 3.874048799999997\" preserveAspectRatio=\"xMinYMin meet\"><g transform=\"matrix(1,0,0,-1,0,77.968658)\"><g><g><path fill-rule=\"evenodd\" fill=\"#66cc99\" stroke=\"#555555\" stroke-width=\"0.12364617600000001\" opacity=\"0.6\" d=\"M -10.806234,38.061874 L -7.877275,38.467308 L -8.188903,39.968376 L -11.180781,39.564316 L -10.806234,38.061874 z\" /></g><g><path fill-rule=\"evenodd\" fill=\"#66cc99\" stroke=\"#555555\" stroke-width=\"0.12364617600000001\" opacity=\"0.6\" d=\"M -8.499071,37.727661 L -8.127497,39.230438 L -11.140023,39.639202 L -11.448977,38.13792 L -8.499071,37.727661 z\" /></g><g><path fill-rule=\"evenodd\" fill=\"#66cc99\" stroke=\"#555555\" stroke-width=\"0.12364617600000001\" opacity=\"0.6\" d=\"M -12.67405,37.276279 L -9.819968,37.677029 L -10.130585,39.178478 L -13.044298,38.779186 L -12.67405,37.276279 z\" /></g><g><path fill-rule=\"evenodd\" fill=\"#66cc99\" stroke=\"#555555\" stroke-width=\"0.12364617600000001\" opacity=\"0.6\" d=\"M -10.286354,38.780521 L -9.907161,40.282471 L -12.980752,40.692379 L -13.293694,39.191696 L -10.286354,38.780521 z\" /></g><g><path fill-rule=\"evenodd\" fill=\"#66cc99\" stroke=\"#555555\" stroke-width=\"0.12364617600000001\" opacity=\"0.6\" d=\"M -10.656985,37.277599 L -10.286376,38.78043 L -13.29257,39.191467 L -13.601635,37.690178 L -10.656985,37.277599 z\" /></g></g></g></svg>"
      ],
      "text/plain": [
       "<shapely.geometry.collection.GeometryCollection at 0x7f6cd60633a0>"
      ]
     },
     "execution_count": 16,
     "metadata": {},
     "output_type": "execute_result"
    }
   ],
   "source": [
    "from shapely.geometry import GeometryCollection\n",
    "\n",
    "features = GeometryCollection(\n",
    "    [product.geometry for product in iw_search_results]\n",
    ")\n",
    "features"
   ]
  },
  {
   "cell_type": "code",
   "execution_count": 17,
   "id": "2c2ebe32-4614-43f7-b975-5734a347f092",
   "metadata": {},
   "outputs": [],
   "source": [
    "fill_f = lambda x: {'fillColor': '#ff00ff'}"
   ]
  },
  {
   "cell_type": "markdown",
   "id": "2d38e4a1-e337-4b37-ba70-347efd71dbe8",
   "metadata": {},
   "source": [
    "Best matches"
   ]
  },
  {
   "cell_type": "code",
   "execution_count": 18,
   "id": "f1048e21-d89b-45e5-98e1-0859cfa4b2ef",
   "metadata": {},
   "outputs": [
    {
     "data": {
      "text/plain": [
       "EOProduct(id=S1A_IW_GRDH_1SDV_20211012T184344_20211012T184409_040090_04BF3B_7FB2, provider=scihub)"
      ]
     },
     "execution_count": 18,
     "metadata": {},
     "output_type": "execute_result"
    }
   ],
   "source": [
    "iw_search_results[-3]"
   ]
  },
  {
   "cell_type": "code",
   "execution_count": 19,
   "id": "a3ce3288-c33b-4388-ad71-75a510f2126a",
   "metadata": {},
   "outputs": [
    {
     "data": {
      "text/plain": [
       "(-3, -13)"
      ]
     },
     "execution_count": 19,
     "metadata": {},
     "output_type": "execute_result"
    }
   ],
   "source": [
    "-3, -13"
   ]
  },
  {
   "cell_type": "code",
   "execution_count": 20,
   "id": "10ab3f1b-4881-451c-bf34-ebc0339b0d1d",
   "metadata": {},
   "outputs": [
    {
     "data": {
      "text/plain": [
       "(-1, -3, -7, -8, -12, -9, -10)"
      ]
     },
     "execution_count": 20,
     "metadata": {},
     "output_type": "execute_result"
    }
   ],
   "source": [
    "-1,-3,-7, -8, -12, -9, -10, "
   ]
  },
  {
   "cell_type": "code",
   "execution_count": 21,
   "id": "48e07b2e-51b6-4bbd-8c80-852f30e214fb",
   "metadata": {},
   "outputs": [
    {
     "data": {
      "text/html": [
       "<iframe src=\"about:blank\" width=\"1000\" height=\"600\"style=\"border:none !important;\" data-html=%3C%21DOCTYPE%20html%3E%0A%3Chead%3E%20%20%20%20%0A%20%20%20%20%3Cmeta%20http-equiv%3D%22content-type%22%20content%3D%22text/html%3B%20charset%3DUTF-8%22%20/%3E%0A%20%20%20%20%0A%20%20%20%20%20%20%20%20%3Cscript%3E%0A%20%20%20%20%20%20%20%20%20%20%20%20L_NO_TOUCH%20%3D%20false%3B%0A%20%20%20%20%20%20%20%20%20%20%20%20L_DISABLE_3D%20%3D%20false%3B%0A%20%20%20%20%20%20%20%20%3C/script%3E%0A%20%20%20%20%0A%20%20%20%20%3Cstyle%3Ehtml%2C%20body%20%7Bwidth%3A%20100%25%3Bheight%3A%20100%25%3Bmargin%3A%200%3Bpadding%3A%200%3B%7D%3C/style%3E%0A%20%20%20%20%3Cstyle%3E%23map%20%7Bposition%3Aabsolute%3Btop%3A0%3Bbottom%3A0%3Bright%3A0%3Bleft%3A0%3B%7D%3C/style%3E%0A%20%20%20%20%3Cscript%20src%3D%22https%3A//cdn.jsdelivr.net/npm/leaflet%401.6.0/dist/leaflet.js%22%3E%3C/script%3E%0A%20%20%20%20%3Cscript%20src%3D%22https%3A//code.jquery.com/jquery-1.12.4.min.js%22%3E%3C/script%3E%0A%20%20%20%20%3Cscript%20src%3D%22https%3A//maxcdn.bootstrapcdn.com/bootstrap/3.2.0/js/bootstrap.min.js%22%3E%3C/script%3E%0A%20%20%20%20%3Cscript%20src%3D%22https%3A//cdnjs.cloudflare.com/ajax/libs/Leaflet.awesome-markers/2.0.2/leaflet.awesome-markers.js%22%3E%3C/script%3E%0A%20%20%20%20%3Clink%20rel%3D%22stylesheet%22%20href%3D%22https%3A//cdn.jsdelivr.net/npm/leaflet%401.6.0/dist/leaflet.css%22/%3E%0A%20%20%20%20%3Clink%20rel%3D%22stylesheet%22%20href%3D%22https%3A//maxcdn.bootstrapcdn.com/bootstrap/3.2.0/css/bootstrap.min.css%22/%3E%0A%20%20%20%20%3Clink%20rel%3D%22stylesheet%22%20href%3D%22https%3A//maxcdn.bootstrapcdn.com/bootstrap/3.2.0/css/bootstrap-theme.min.css%22/%3E%0A%20%20%20%20%3Clink%20rel%3D%22stylesheet%22%20href%3D%22https%3A//maxcdn.bootstrapcdn.com/font-awesome/4.6.3/css/font-awesome.min.css%22/%3E%0A%20%20%20%20%3Clink%20rel%3D%22stylesheet%22%20href%3D%22https%3A//cdnjs.cloudflare.com/ajax/libs/Leaflet.awesome-markers/2.0.2/leaflet.awesome-markers.css%22/%3E%0A%20%20%20%20%3Clink%20rel%3D%22stylesheet%22%20href%3D%22https%3A//cdn.jsdelivr.net/gh/python-visualization/folium/folium/templates/leaflet.awesome.rotate.min.css%22/%3E%0A%20%20%20%20%0A%20%20%20%20%20%20%20%20%20%20%20%20%3Cmeta%20name%3D%22viewport%22%20content%3D%22width%3Ddevice-width%2C%0A%20%20%20%20%20%20%20%20%20%20%20%20%20%20%20%20initial-scale%3D1.0%2C%20maximum-scale%3D1.0%2C%20user-scalable%3Dno%22%20/%3E%0A%20%20%20%20%20%20%20%20%20%20%20%20%3Cstyle%3E%0A%20%20%20%20%20%20%20%20%20%20%20%20%20%20%20%20%23map_8aeef7e0002a431b892f56f64ca8d68d%20%7B%0A%20%20%20%20%20%20%20%20%20%20%20%20%20%20%20%20%20%20%20%20position%3A%20relative%3B%0A%20%20%20%20%20%20%20%20%20%20%20%20%20%20%20%20%20%20%20%20width%3A%20100.0%25%3B%0A%20%20%20%20%20%20%20%20%20%20%20%20%20%20%20%20%20%20%20%20height%3A%20100.0%25%3B%0A%20%20%20%20%20%20%20%20%20%20%20%20%20%20%20%20%20%20%20%20left%3A%200.0%25%3B%0A%20%20%20%20%20%20%20%20%20%20%20%20%20%20%20%20%20%20%20%20top%3A%200.0%25%3B%0A%20%20%20%20%20%20%20%20%20%20%20%20%20%20%20%20%7D%0A%20%20%20%20%20%20%20%20%20%20%20%20%3C/style%3E%0A%20%20%20%20%20%20%20%20%0A%3C/head%3E%0A%3Cbody%3E%20%20%20%20%0A%20%20%20%20%0A%20%20%20%20%20%20%20%20%20%20%20%20%3Cdiv%20class%3D%22folium-map%22%20id%3D%22map_8aeef7e0002a431b892f56f64ca8d68d%22%20%3E%3C/div%3E%0A%20%20%20%20%20%20%20%20%0A%3C/body%3E%0A%3Cscript%3E%20%20%20%20%0A%20%20%20%20%0A%20%20%20%20%20%20%20%20%20%20%20%20var%20map_8aeef7e0002a431b892f56f64ca8d68d%20%3D%20L.map%28%0A%20%20%20%20%20%20%20%20%20%20%20%20%20%20%20%20%22map_8aeef7e0002a431b892f56f64ca8d68d%22%2C%0A%20%20%20%20%20%20%20%20%20%20%20%20%20%20%20%20%7B%0A%20%20%20%20%20%20%20%20%20%20%20%20%20%20%20%20%20%20%20%20center%3A%20%5B0%2C%200%5D%2C%0A%20%20%20%20%20%20%20%20%20%20%20%20%20%20%20%20%20%20%20%20crs%3A%20L.CRS.EPSG3857%2C%0A%20%20%20%20%20%20%20%20%20%20%20%20%20%20%20%20%20%20%20%20zoom%3A%201%2C%0A%20%20%20%20%20%20%20%20%20%20%20%20%20%20%20%20%20%20%20%20zoomControl%3A%20true%2C%0A%20%20%20%20%20%20%20%20%20%20%20%20%20%20%20%20%20%20%20%20preferCanvas%3A%20false%2C%0A%20%20%20%20%20%20%20%20%20%20%20%20%20%20%20%20%7D%0A%20%20%20%20%20%20%20%20%20%20%20%20%29%3B%0A%20%20%20%20%20%20%20%20%20%20%20%20L.control.scale%28%29.addTo%28map_8aeef7e0002a431b892f56f64ca8d68d%29%3B%0A%0A%20%20%20%20%20%20%20%20%20%20%20%20%0A%0A%20%20%20%20%20%20%20%20%0A%20%20%20%20%0A%20%20%20%20%20%20%20%20%20%20%20%20var%20tile_layer_3fc39d9bbde34544acfffd569191ebcc%20%3D%20L.tileLayer%28%0A%20%20%20%20%20%20%20%20%20%20%20%20%20%20%20%20%22https%3A//stamen-tiles-%7Bs%7D.a.ssl.fastly.net/terrain/%7Bz%7D/%7Bx%7D/%7By%7D.jpg%22%2C%0A%20%20%20%20%20%20%20%20%20%20%20%20%20%20%20%20%7B%22attribution%22%3A%20%22Map%20tiles%20by%20%5Cu003ca%20href%3D%5C%22http%3A//stamen.com%5C%22%5Cu003eStamen%20Design%5Cu003c/a%5Cu003e%2C%20under%20%5Cu003ca%20href%3D%5C%22http%3A//creativecommons.org/licenses/by/3.0%5C%22%5Cu003eCC%20BY%203.0%5Cu003c/a%5Cu003e.%20Data%20by%20%5Cu0026copy%3B%20%5Cu003ca%20href%3D%5C%22http%3A//openstreetmap.org%5C%22%5Cu003eOpenStreetMap%5Cu003c/a%5Cu003e%2C%20under%20%5Cu003ca%20href%3D%5C%22http%3A//creativecommons.org/licenses/by-sa/3.0%5C%22%5Cu003eCC%20BY%20SA%5Cu003c/a%5Cu003e.%22%2C%20%22detectRetina%22%3A%20false%2C%20%22maxNativeZoom%22%3A%2018%2C%20%22maxZoom%22%3A%2018%2C%20%22minZoom%22%3A%200%2C%20%22noWrap%22%3A%20false%2C%20%22opacity%22%3A%201%2C%20%22subdomains%22%3A%20%22abc%22%2C%20%22tms%22%3A%20false%7D%0A%20%20%20%20%20%20%20%20%20%20%20%20%29.addTo%28map_8aeef7e0002a431b892f56f64ca8d68d%29%3B%0A%20%20%20%20%20%20%20%20%0A%20%20%20%20%0A%0A%20%20%20%20%20%20%20%20function%20geo_json_624ad967e27e4c26aff254fb962de3ab_onEachFeature%28feature%2C%20layer%29%20%7B%0A%20%20%20%20%20%20%20%20%20%20%20%20layer.on%28%7B%0A%20%20%20%20%20%20%20%20%20%20%20%20%7D%29%3B%0A%20%20%20%20%20%20%20%20%7D%3B%0A%20%20%20%20%20%20%20%20var%20geo_json_624ad967e27e4c26aff254fb962de3ab%20%3D%20L.geoJson%28null%2C%20%7B%0A%20%20%20%20%20%20%20%20%20%20%20%20%20%20%20%20onEachFeature%3A%20geo_json_624ad967e27e4c26aff254fb962de3ab_onEachFeature%2C%0A%20%20%20%20%20%20%20%20%20%20%20%20%0A%20%20%20%20%20%20%20%20%7D%29%3B%0A%0A%20%20%20%20%20%20%20%20function%20geo_json_624ad967e27e4c26aff254fb962de3ab_add%20%28data%29%20%7B%0A%20%20%20%20%20%20%20%20%20%20%20%20geo_json_624ad967e27e4c26aff254fb962de3ab%0A%20%20%20%20%20%20%20%20%20%20%20%20%20%20%20%20.addData%28data%29%0A%20%20%20%20%20%20%20%20%20%20%20%20%20%20%20%20.addTo%28map_8aeef7e0002a431b892f56f64ca8d68d%29%3B%0A%20%20%20%20%20%20%20%20%7D%0A%20%20%20%20%20%20%20%20%20%20%20%20geo_json_624ad967e27e4c26aff254fb962de3ab_add%28%7B%22features%22%3A%20%5B%7B%22geometry%22%3A%20%7B%22coordinates%22%3A%20%5B%5B%5B%5B-10.806234%2C%2038.061874%5D%2C%20%5B-7.877275%2C%2038.467308%5D%2C%20%5B-8.188903%2C%2039.968376%5D%2C%20%5B-11.180781%2C%2039.564316%5D%2C%20%5B-10.806234%2C%2038.061874%5D%5D%5D%5D%2C%20%22type%22%3A%20%22MultiPolygon%22%7D%2C%20%22id%22%3A%20%22S1B_IW_GRDH_1SDV_20211013T183501_20211013T183526_029121_037995_3A40%22%2C%20%22properties%22%3A%20%7B%22abstract%22%3A%20%22Date%3A%202021-10-13T18%3A35%3A01.755Z%2C%20Instrument%3A%20SAR-C%20SAR%2C%20Mode%3A%20VV%20VH%2C%20Satellite%3A%20Sentinel-1%2C%20Size%3A%201.62%20GB%22%2C%20%22acquisitionType%22%3A%20%22NOMINAL%22%2C%20%22completionTimeFromAscendingNode%22%3A%20%222021-10-13T18%3A35%3A26.753000Z%22%2C%20%22downloadLink%22%3A%20%22https%3A//apihub.copernicus.eu/apihub/odata/v1/Products%28%5Cu0027b5cdac78-8b38-47a5-8743-83f8340b3e8a%5Cu0027%29/%24value%22%2C%20%22eodag_product_type%22%3A%20%22S1_SAR_GRD%22%2C%20%22eodag_provider%22%3A%20%22scihub%22%2C%20%22eodag_search_intersection%22%3A%20%7B%22coordinates%22%3A%20%5B%5B%5B-10.76572220953263%2C%2039.0822214824205%5D%2C%20%5B-10.546657479783835%2C%2038.46179340166342%5D%2C%20%5B-10.576990726860169%2C%2038.451083144053754%5D%2C%20%5B-10.796055456608963%2C%2039.071511224810834%5D%2C%20%5B-10.76572220953263%2C%2039.0822214824205%5D%5D%5D%2C%20%22type%22%3A%20%22Polygon%22%7D%2C%20%22filename%22%3A%20%22S1B_IW_GRDH_1SDV_20211013T183501_20211013T183526_029121_037995_3A40.SAFE%22%2C%20%22format%22%3A%20%22SAFE%22%2C%20%22gmlFootprint%22%3A%20%22%5Cu003cgml%3APolygon%20srsName%3D%5C%22http%3A//www.opengis.net/gml/srs/epsg.xml%234326%5C%22%20xmlns%3Agml%3D%5C%22http%3A//www.opengis.net/gml%5C%22%5Cu003e%5Cn%20%20%20%5Cu003cgml%3AouterBoundaryIs%5Cu003e%5Cn%20%20%20%20%20%20%5Cu003cgml%3ALinearRing%5Cu003e%5Cn%20%20%20%20%20%20%20%20%20%5Cu003cgml%3Acoordinates%5Cu003e39.564316%2C-11.180781%2039.968376%2C-8.188903%2038.467308%2C-7.877275%2038.061874%2C-10.806234%2039.564316%2C-11.180781%5Cu003c/gml%3Acoordinates%5Cu003e%5Cn%20%20%20%20%20%20%5Cu003c/gml%3ALinearRing%5Cu003e%5Cn%20%20%20%5Cu003c/gml%3AouterBoundaryIs%5Cu003e%5Cn%5Cu003c/gml%3APolygon%5Cu003e%22%2C%20%22identifier%22%3A%20%22S1B_IW_GRDH_1SDV_20211013T183501_20211013T183526_029121_037995_3A40%22%2C%20%22ingestionDate%22%3A%20%222021-10-13T19%3A36%3A33.406000Z%22%2C%20%22instrument%22%3A%20%22Synthetic%20Aperture%20Radar%20%28C-band%29%22%2C%20%22instrumentShortname%22%3A%20%22SAR-C%20SAR%22%2C%20%22lastorbitnumber%22%3A%2029121%2C%20%22lastrelativeorbitnumber%22%3A%2045%2C%20%22license%22%3A%20%22proprietary%22%2C%20%22linkAlternative%22%3A%20%22https%3A//apihub.copernicus.eu/apihub/odata/v1/Products%28%5Cu0027b5cdac78-8b38-47a5-8743-83f8340b3e8a%5Cu0027%29/%22%2C%20%22missionStartDate%22%3A%20%222014-04-03T00%3A00%3A00Z%22%2C%20%22missiondatatakeid%22%3A%20227733%2C%20%22ondemand%22%3A%20%22false%22%2C%20%22orbitDirection%22%3A%20%22ASCENDING%22%2C%20%22orbitNumber%22%3A%2029121%2C%20%22platform%22%3A%20%22Sentinel-1%22%2C%20%22platformIdentifier%22%3A%20%222016-025A%22%2C%20%22platformSerialIdentifier%22%3A%20%22S1A%2CS1B%22%2C%20%22polarizationChannels%22%3A%20%22VV%20VH%22%2C%20%22processingLevel%22%3A%20%22L1%22%2C%20%22productType%22%3A%20%22GRD%22%2C%20%22productclass%22%3A%20%22S%22%2C%20%22relativeOrbitNumber%22%3A%2045%2C%20%22sensorMode%22%3A%20%22IW%22%2C%20%22sensorType%22%3A%20%22RADAR%22%2C%20%22size%22%3A%20%221.62%20GB%22%2C%20%22slicenumber%22%3A%206%2C%20%22startTimeFromAscendingNode%22%3A%20%222021-10-13T18%3A35%3A01.755000Z%22%2C%20%22status%22%3A%20%22ARCHIVED%22%2C%20%22storageStatus%22%3A%20%22ONLINE%22%2C%20%22swathidentifier%22%3A%20%22IW%22%2C%20%22timeliness%22%3A%20%22NRT-3h%22%2C%20%22title%22%3A%20%22S1B_IW_GRDH_1SDV_20211013T183501_20211013T183526_029121_037995_3A40%22%2C%20%22uuid%22%3A%20%22b5cdac78-8b38-47a5-8743-83f8340b3e8a%22%7D%2C%20%22type%22%3A%20%22Feature%22%7D%2C%20%7B%22geometry%22%3A%20%7B%22coordinates%22%3A%20%5B%5B%5B%5B-8.499071%2C%2037.727661%5D%2C%20%5B-8.127497%2C%2039.230438%5D%2C%20%5B-11.140023%2C%2039.639202%5D%2C%20%5B-11.448977%2C%2038.13792%5D%2C%20%5B-8.499071%2C%2037.727661%5D%5D%5D%5D%2C%20%22type%22%3A%20%22MultiPolygon%22%7D%2C%20%22id%22%3A%20%22S1A_IW_GRDH_1SDV_20211013T064329_20211013T064354_040097_04BF7D_66FF%22%2C%20%22properties%22%3A%20%7B%22abstract%22%3A%20%22Date%3A%202021-10-13T06%3A43%3A29.807Z%2C%20Instrument%3A%20SAR-C%20SAR%2C%20Mode%3A%20VV%20VH%2C%20Satellite%3A%20Sentinel-1%2C%20Size%3A%201.64%20GB%22%2C%20%22acquisitionType%22%3A%20%22NOMINAL%22%2C%20%22completionTimeFromAscendingNode%22%3A%20%222021-10-13T06%3A43%3A54.806000Z%22%2C%20%22downloadLink%22%3A%20%22https%3A//apihub.copernicus.eu/apihub/odata/v1/Products%28%5Cu0027e2b83207-38fc-45b9-8b37-42e4816c9029%5Cu0027%29/%24value%22%2C%20%22eodag_product_type%22%3A%20%22S1_SAR_GRD%22%2C%20%22eodag_provider%22%3A%20%22scihub%22%2C%20%22eodag_search_intersection%22%3A%20%7B%22coordinates%22%3A%20%5B%5B%5B-10.76572220953263%2C%2039.0822214824205%5D%2C%20%5B-10.546657479783835%2C%2038.46179340166342%5D%2C%20%5B-10.576990726860169%2C%2038.451083144053754%5D%2C%20%5B-10.796055456608963%2C%2039.071511224810834%5D%2C%20%5B-10.76572220953263%2C%2039.0822214824205%5D%5D%5D%2C%20%22type%22%3A%20%22Polygon%22%7D%2C%20%22filename%22%3A%20%22S1A_IW_GRDH_1SDV_20211013T064329_20211013T064354_040097_04BF7D_66FF.SAFE%22%2C%20%22format%22%3A%20%22SAFE%22%2C%20%22gmlFootprint%22%3A%20%22%5Cu003cgml%3APolygon%20srsName%3D%5C%22http%3A//www.opengis.net/gml/srs/epsg.xml%234326%5C%22%20xmlns%3Agml%3D%5C%22http%3A//www.opengis.net/gml%5C%22%5Cu003e%5Cn%20%20%20%5Cu003cgml%3AouterBoundaryIs%5Cu003e%5Cn%20%20%20%20%20%20%5Cu003cgml%3ALinearRing%5Cu003e%5Cn%20%20%20%20%20%20%20%20%20%5Cu003cgml%3Acoordinates%5Cu003e37.727661%2C-8.499071%2038.137920%2C-11.448977%2039.639202%2C-11.140023%2039.230438%2C-8.127497%2037.727661%2C-8.499071%5Cu003c/gml%3Acoordinates%5Cu003e%5Cn%20%20%20%20%20%20%5Cu003c/gml%3ALinearRing%5Cu003e%5Cn%20%20%20%5Cu003c/gml%3AouterBoundaryIs%5Cu003e%5Cn%5Cu003c/gml%3APolygon%5Cu003e%22%2C%20%22identifier%22%3A%20%22S1A_IW_GRDH_1SDV_20211013T064329_20211013T064354_040097_04BF7D_66FF%22%2C%20%22ingestionDate%22%3A%20%222021-10-13T07%3A57%3A11.038000Z%22%2C%20%22instrument%22%3A%20%22Synthetic%20Aperture%20Radar%20%28C-band%29%22%2C%20%22instrumentShortname%22%3A%20%22SAR-C%20SAR%22%2C%20%22lastorbitnumber%22%3A%2040097%2C%20%22lastrelativeorbitnumber%22%3A%20125%2C%20%22license%22%3A%20%22proprietary%22%2C%20%22linkAlternative%22%3A%20%22https%3A//apihub.copernicus.eu/apihub/odata/v1/Products%28%5Cu0027e2b83207-38fc-45b9-8b37-42e4816c9029%5Cu0027%29/%22%2C%20%22missionStartDate%22%3A%20%222014-04-03T00%3A00%3A00Z%22%2C%20%22missiondatatakeid%22%3A%20311165%2C%20%22ondemand%22%3A%20%22false%22%2C%20%22orbitDirection%22%3A%20%22DESCENDING%22%2C%20%22orbitNumber%22%3A%2040097%2C%20%22platform%22%3A%20%22Sentinel-1%22%2C%20%22platformIdentifier%22%3A%20%222014-016A%22%2C%20%22platformSerialIdentifier%22%3A%20%22S1A%2CS1B%22%2C%20%22polarizationChannels%22%3A%20%22VV%20VH%22%2C%20%22processingLevel%22%3A%20%22L1%22%2C%20%22productType%22%3A%20%22GRD%22%2C%20%22productclass%22%3A%20%22S%22%2C%20%22relativeOrbitNumber%22%3A%20125%2C%20%22sensorMode%22%3A%20%22IW%22%2C%20%22sensorType%22%3A%20%22RADAR%22%2C%20%22size%22%3A%20%221.64%20GB%22%2C%20%22slicenumber%22%3A%2018%2C%20%22startTimeFromAscendingNode%22%3A%20%222021-10-13T06%3A43%3A29.807000Z%22%2C%20%22status%22%3A%20%22ARCHIVED%22%2C%20%22storageStatus%22%3A%20%22ONLINE%22%2C%20%22swathidentifier%22%3A%20%22IW%22%2C%20%22timeliness%22%3A%20%22NRT-3h%22%2C%20%22title%22%3A%20%22S1A_IW_GRDH_1SDV_20211013T064329_20211013T064354_040097_04BF7D_66FF%22%2C%20%22uuid%22%3A%20%22e2b83207-38fc-45b9-8b37-42e4816c9029%22%7D%2C%20%22type%22%3A%20%22Feature%22%7D%2C%20%7B%22geometry%22%3A%20%7B%22coordinates%22%3A%20%5B%5B%5B%5B-12.67405%2C%2037.276279%5D%2C%20%5B-9.819968%2C%2037.677029%5D%2C%20%5B-10.130585%2C%2039.178478%5D%2C%20%5B-13.044298%2C%2038.779186%5D%2C%20%5B-12.67405%2C%2037.276279%5D%5D%5D%5D%2C%20%22type%22%3A%20%22MultiPolygon%22%7D%2C%20%22id%22%3A%20%22S1A_IW_GRDH_1SDV_20211012T184344_20211012T184409_040090_04BF3B_7FB2%22%2C%20%22properties%22%3A%20%7B%22abstract%22%3A%20%22Date%3A%202021-10-12T18%3A43%3A44.268Z%2C%20Instrument%3A%20SAR-C%20SAR%2C%20Mode%3A%20VV%20VH%2C%20Satellite%3A%20Sentinel-1%2C%20Size%3A%201.6%20GB%22%2C%20%22acquisitionType%22%3A%20%22NOMINAL%22%2C%20%22completionTimeFromAscendingNode%22%3A%20%222021-10-12T18%3A44%3A09.267000Z%22%2C%20%22downloadLink%22%3A%20%22https%3A//apihub.copernicus.eu/apihub/odata/v1/Products%28%5Cu002718e114cb-f64a-413a-9eca-7f24c294e891%5Cu0027%29/%24value%22%2C%20%22eodag_product_type%22%3A%20%22S1_SAR_GRD%22%2C%20%22eodag_provider%22%3A%20%22scihub%22%2C%20%22eodag_search_intersection%22%3A%20%7B%22coordinates%22%3A%20%5B%5B%5B-10.76572220953263%2C%2039.0822214824205%5D%2C%20%5B-10.546657479783835%2C%2038.46179340166342%5D%2C%20%5B-10.576990726860169%2C%2038.451083144053754%5D%2C%20%5B-10.796055456608963%2C%2039.071511224810834%5D%2C%20%5B-10.76572220953263%2C%2039.0822214824205%5D%5D%5D%2C%20%22type%22%3A%20%22Polygon%22%7D%2C%20%22filename%22%3A%20%22S1A_IW_GRDH_1SDV_20211012T184344_20211012T184409_040090_04BF3B_7FB2.SAFE%22%2C%20%22format%22%3A%20%22SAFE%22%2C%20%22gmlFootprint%22%3A%20%22%5Cu003cgml%3APolygon%20srsName%3D%5C%22http%3A//www.opengis.net/gml/srs/epsg.xml%234326%5C%22%20xmlns%3Agml%3D%5C%22http%3A//www.opengis.net/gml%5C%22%5Cu003e%5Cn%20%20%20%5Cu003cgml%3AouterBoundaryIs%5Cu003e%5Cn%20%20%20%20%20%20%5Cu003cgml%3ALinearRing%5Cu003e%5Cn%20%20%20%20%20%20%20%20%20%5Cu003cgml%3Acoordinates%5Cu003e38.779186%2C-13.044298%2039.178478%2C-10.130585%2037.677029%2C-9.819968%2037.276279%2C-12.674050%2038.779186%2C-13.044298%5Cu003c/gml%3Acoordinates%5Cu003e%5Cn%20%20%20%20%20%20%5Cu003c/gml%3ALinearRing%5Cu003e%5Cn%20%20%20%5Cu003c/gml%3AouterBoundaryIs%5Cu003e%5Cn%5Cu003c/gml%3APolygon%5Cu003e%22%2C%20%22identifier%22%3A%20%22S1A_IW_GRDH_1SDV_20211012T184344_20211012T184409_040090_04BF3B_7FB2%22%2C%20%22ingestionDate%22%3A%20%222021-10-12T19%3A36%3A08.747000Z%22%2C%20%22instrument%22%3A%20%22Synthetic%20Aperture%20Radar%20%28C-band%29%22%2C%20%22instrumentShortname%22%3A%20%22SAR-C%20SAR%22%2C%20%22lastorbitnumber%22%3A%2040090%2C%20%22lastrelativeorbitnumber%22%3A%20118%2C%20%22license%22%3A%20%22proprietary%22%2C%20%22linkAlternative%22%3A%20%22https%3A//apihub.copernicus.eu/apihub/odata/v1/Products%28%5Cu002718e114cb-f64a-413a-9eca-7f24c294e891%5Cu0027%29/%22%2C%20%22missionStartDate%22%3A%20%222014-04-03T00%3A00%3A00Z%22%2C%20%22missiondatatakeid%22%3A%20311099%2C%20%22ondemand%22%3A%20%22false%22%2C%20%22orbitDirection%22%3A%20%22ASCENDING%22%2C%20%22orbitNumber%22%3A%2040090%2C%20%22platform%22%3A%20%22Sentinel-1%22%2C%20%22platformIdentifier%22%3A%20%222014-016A%22%2C%20%22platformSerialIdentifier%22%3A%20%22S1A%2CS1B%22%2C%20%22polarizationChannels%22%3A%20%22VV%20VH%22%2C%20%22processingLevel%22%3A%20%22L1%22%2C%20%22productType%22%3A%20%22GRD%22%2C%20%22productclass%22%3A%20%22S%22%2C%20%22relativeOrbitNumber%22%3A%20118%2C%20%22sensorMode%22%3A%20%22IW%22%2C%20%22sensorType%22%3A%20%22RADAR%22%2C%20%22size%22%3A%20%221.6%20GB%22%2C%20%22slicenumber%22%3A%206%2C%20%22startTimeFromAscendingNode%22%3A%20%222021-10-12T18%3A43%3A44.268000Z%22%2C%20%22status%22%3A%20%22ARCHIVED%22%2C%20%22storageStatus%22%3A%20%22ONLINE%22%2C%20%22swathidentifier%22%3A%20%22IW%22%2C%20%22timeliness%22%3A%20%22NRT-3h%22%2C%20%22title%22%3A%20%22S1A_IW_GRDH_1SDV_20211012T184344_20211012T184409_040090_04BF3B_7FB2%22%2C%20%22uuid%22%3A%20%2218e114cb-f64a-413a-9eca-7f24c294e891%22%7D%2C%20%22type%22%3A%20%22Feature%22%7D%2C%20%7B%22geometry%22%3A%20%7B%22coordinates%22%3A%20%5B%5B%5B%5B-10.286354%2C%2038.780521%5D%2C%20%5B-9.907161%2C%2040.282471%5D%2C%20%5B-12.980752%2C%2040.692379%5D%2C%20%5B-13.293694%2C%2039.191696%5D%2C%20%5B-10.286354%2C%2038.780521%5D%5D%5D%5D%2C%20%22type%22%3A%20%22MultiPolygon%22%7D%2C%20%22id%22%3A%20%22S1B_IW_GRDH_1SDV_20211012T065044_20211012T065109_029099_0378DF_D82A%22%2C%20%22properties%22%3A%20%7B%22abstract%22%3A%20%22Date%3A%202021-10-12T06%3A50%3A44.112Z%2C%20Instrument%3A%20SAR-C%20SAR%2C%20Mode%3A%20VV%20VH%2C%20Satellite%3A%20Sentinel-1%2C%20Size%3A%201.65%20GB%22%2C%20%22acquisitionType%22%3A%20%22NOMINAL%22%2C%20%22completionTimeFromAscendingNode%22%3A%20%222021-10-12T06%3A51%3A09.111000Z%22%2C%20%22downloadLink%22%3A%20%22https%3A//apihub.copernicus.eu/apihub/odata/v1/Products%28%5Cu0027d1254c62-9f20-4d29-b0f7-4e01671c23fb%5Cu0027%29/%24value%22%2C%20%22eodag_product_type%22%3A%20%22S1_SAR_GRD%22%2C%20%22eodag_provider%22%3A%20%22scihub%22%2C%20%22eodag_search_intersection%22%3A%20%7B%22coordinates%22%3A%20%5B%5B%5B-10.71395325176621%2C%2038.83898400130513%5D%2C%20%5B-10.796055456608963%2C%2039.071511224810834%5D%2C%20%5B-10.76572220953263%2C%2039.0822214824205%5D%2C%20%5B-10.6781079128776%2C%2038.83408308979612%5D%2C%20%5B-10.71395325176621%2C%2038.83898400130513%5D%5D%5D%2C%20%22type%22%3A%20%22Polygon%22%7D%2C%20%22filename%22%3A%20%22S1B_IW_GRDH_1SDV_20211012T065044_20211012T065109_029099_0378DF_D82A.SAFE%22%2C%20%22format%22%3A%20%22SAFE%22%2C%20%22gmlFootprint%22%3A%20%22%5Cu003cgml%3APolygon%20srsName%3D%5C%22http%3A//www.opengis.net/gml/srs/epsg.xml%234326%5C%22%20xmlns%3Agml%3D%5C%22http%3A//www.opengis.net/gml%5C%22%5Cu003e%5Cn%20%20%20%5Cu003cgml%3AouterBoundaryIs%5Cu003e%5Cn%20%20%20%20%20%20%5Cu003cgml%3ALinearRing%5Cu003e%5Cn%20%20%20%20%20%20%20%20%20%5Cu003cgml%3Acoordinates%5Cu003e38.780521%2C-10.286354%2039.191696%2C-13.293694%2040.692379%2C-12.980752%2040.282471%2C-9.907161%2038.780521%2C-10.286354%5Cu003c/gml%3Acoordinates%5Cu003e%5Cn%20%20%20%20%20%20%5Cu003c/gml%3ALinearRing%5Cu003e%5Cn%20%20%20%5Cu003c/gml%3AouterBoundaryIs%5Cu003e%5Cn%5Cu003c/gml%3APolygon%5Cu003e%22%2C%20%22identifier%22%3A%20%22S1B_IW_GRDH_1SDV_20211012T065044_20211012T065109_029099_0378DF_D82A%22%2C%20%22ingestionDate%22%3A%20%222021-10-12T09%3A09%3A24.700000Z%22%2C%20%22instrument%22%3A%20%22Synthetic%20Aperture%20Radar%20%28C-band%29%22%2C%20%22instrumentShortname%22%3A%20%22SAR-C%20SAR%22%2C%20%22lastorbitnumber%22%3A%2029099%2C%20%22lastrelativeorbitnumber%22%3A%2023%2C%20%22license%22%3A%20%22proprietary%22%2C%20%22linkAlternative%22%3A%20%22https%3A//apihub.copernicus.eu/apihub/odata/v1/Products%28%5Cu0027d1254c62-9f20-4d29-b0f7-4e01671c23fb%5Cu0027%29/%22%2C%20%22missionStartDate%22%3A%20%222014-04-03T00%3A00%3A00Z%22%2C%20%22missiondatatakeid%22%3A%20227551%2C%20%22ondemand%22%3A%20%22false%22%2C%20%22orbitDirection%22%3A%20%22DESCENDING%22%2C%20%22orbitNumber%22%3A%2029099%2C%20%22platform%22%3A%20%22Sentinel-1%22%2C%20%22platformIdentifier%22%3A%20%222016-025A%22%2C%20%22platformSerialIdentifier%22%3A%20%22S1A%2CS1B%22%2C%20%22polarizationChannels%22%3A%20%22VV%20VH%22%2C%20%22processingLevel%22%3A%20%22L1%22%2C%20%22productType%22%3A%20%22GRD%22%2C%20%22productclass%22%3A%20%22S%22%2C%20%22relativeOrbitNumber%22%3A%2023%2C%20%22sensorMode%22%3A%20%22IW%22%2C%20%22sensorType%22%3A%20%22RADAR%22%2C%20%22size%22%3A%20%221.65%20GB%22%2C%20%22slicenumber%22%3A%2018%2C%20%22startTimeFromAscendingNode%22%3A%20%222021-10-12T06%3A50%3A44.112000Z%22%2C%20%22status%22%3A%20%22ARCHIVED%22%2C%20%22storageStatus%22%3A%20%22ONLINE%22%2C%20%22swathidentifier%22%3A%20%22IW%22%2C%20%22timeliness%22%3A%20%22NRT-3h%22%2C%20%22title%22%3A%20%22S1B_IW_GRDH_1SDV_20211012T065044_20211012T065109_029099_0378DF_D82A%22%2C%20%22uuid%22%3A%20%22d1254c62-9f20-4d29-b0f7-4e01671c23fb%22%7D%2C%20%22type%22%3A%20%22Feature%22%7D%2C%20%7B%22geometry%22%3A%20%7B%22coordinates%22%3A%20%5B%5B%5B%5B-10.656985%2C%2037.277599%5D%2C%20%5B-10.286376%2C%2038.78043%5D%2C%20%5B-13.29257%2C%2039.191467%5D%2C%20%5B-13.601635%2C%2037.690178%5D%2C%20%5B-10.656985%2C%2037.277599%5D%5D%5D%5D%2C%20%22type%22%3A%20%22MultiPolygon%22%7D%2C%20%22id%22%3A%20%22S1B_IW_GRDH_1SDV_20211012T065109_20211012T065134_029099_0378DF_D020%22%2C%20%22properties%22%3A%20%7B%22abstract%22%3A%20%22Date%3A%202021-10-12T06%3A51%3A09.112Z%2C%20Instrument%3A%20SAR-C%20SAR%2C%20Mode%3A%20VV%20VH%2C%20Satellite%3A%20Sentinel-1%2C%20Size%3A%201.65%20GB%22%2C%20%22acquisitionType%22%3A%20%22NOMINAL%22%2C%20%22completionTimeFromAscendingNode%22%3A%20%222021-10-12T06%3A51%3A34.111000Z%22%2C%20%22downloadLink%22%3A%20%22https%3A//apihub.copernicus.eu/apihub/odata/v1/Products%28%5Cu0027fb19a64b-fcec-47c2-b4d9-cb6eb997e26d%5Cu0027%29/%24value%22%2C%20%22eodag_product_type%22%3A%20%22S1_SAR_GRD%22%2C%20%22eodag_provider%22%3A%20%22scihub%22%2C%20%22eodag_search_intersection%22%3A%20%7B%22coordinates%22%3A%20%5B%5B%5B-10.678073939528321%2C%2038.83398687156914%5D%2C%20%5B-10.546657479783835%2C%2038.46179340166342%5D%2C%20%5B-10.576990726860169%2C%2038.451083144053754%5D%2C%20%5B-10.71391936107608%2C%2038.83888801718273%5D%2C%20%5B-10.678073939528321%2C%2038.83398687156914%5D%5D%5D%2C%20%22type%22%3A%20%22Polygon%22%7D%2C%20%22filename%22%3A%20%22S1B_IW_GRDH_1SDV_20211012T065109_20211012T065134_029099_0378DF_D020.SAFE%22%2C%20%22format%22%3A%20%22SAFE%22%2C%20%22gmlFootprint%22%3A%20%22%5Cu003cgml%3APolygon%20srsName%3D%5C%22http%3A//www.opengis.net/gml/srs/epsg.xml%234326%5C%22%20xmlns%3Agml%3D%5C%22http%3A//www.opengis.net/gml%5C%22%5Cu003e%5Cn%20%20%20%5Cu003cgml%3AouterBoundaryIs%5Cu003e%5Cn%20%20%20%20%20%20%5Cu003cgml%3ALinearRing%5Cu003e%5Cn%20%20%20%20%20%20%20%20%20%5Cu003cgml%3Acoordinates%5Cu003e37.277599%2C-10.656985%2037.690178%2C-13.601635%2039.191467%2C-13.292570%2038.780430%2C-10.286376%2037.277599%2C-10.656985%5Cu003c/gml%3Acoordinates%5Cu003e%5Cn%20%20%20%20%20%20%5Cu003c/gml%3ALinearRing%5Cu003e%5Cn%20%20%20%5Cu003c/gml%3AouterBoundaryIs%5Cu003e%5Cn%5Cu003c/gml%3APolygon%5Cu003e%22%2C%20%22identifier%22%3A%20%22S1B_IW_GRDH_1SDV_20211012T065109_20211012T065134_029099_0378DF_D020%22%2C%20%22ingestionDate%22%3A%20%222021-10-12T08%3A24%3A13.247000Z%22%2C%20%22instrument%22%3A%20%22Synthetic%20Aperture%20Radar%20%28C-band%29%22%2C%20%22instrumentShortname%22%3A%20%22SAR-C%20SAR%22%2C%20%22lastorbitnumber%22%3A%2029099%2C%20%22lastrelativeorbitnumber%22%3A%2023%2C%20%22license%22%3A%20%22proprietary%22%2C%20%22linkAlternative%22%3A%20%22https%3A//apihub.copernicus.eu/apihub/odata/v1/Products%28%5Cu0027fb19a64b-fcec-47c2-b4d9-cb6eb997e26d%5Cu0027%29/%22%2C%20%22missionStartDate%22%3A%20%222014-04-03T00%3A00%3A00Z%22%2C%20%22missiondatatakeid%22%3A%20227551%2C%20%22ondemand%22%3A%20%22false%22%2C%20%22orbitDirection%22%3A%20%22DESCENDING%22%2C%20%22orbitNumber%22%3A%2029099%2C%20%22platform%22%3A%20%22Sentinel-1%22%2C%20%22platformIdentifier%22%3A%20%222016-025A%22%2C%20%22platformSerialIdentifier%22%3A%20%22S1A%2CS1B%22%2C%20%22polarizationChannels%22%3A%20%22VV%20VH%22%2C%20%22processingLevel%22%3A%20%22L1%22%2C%20%22productType%22%3A%20%22GRD%22%2C%20%22productclass%22%3A%20%22S%22%2C%20%22relativeOrbitNumber%22%3A%2023%2C%20%22sensorMode%22%3A%20%22IW%22%2C%20%22sensorType%22%3A%20%22RADAR%22%2C%20%22size%22%3A%20%221.65%20GB%22%2C%20%22slicenumber%22%3A%2019%2C%20%22startTimeFromAscendingNode%22%3A%20%222021-10-12T06%3A51%3A09.112000Z%22%2C%20%22status%22%3A%20%22ARCHIVED%22%2C%20%22storageStatus%22%3A%20%22ONLINE%22%2C%20%22swathidentifier%22%3A%20%22IW%22%2C%20%22timeliness%22%3A%20%22NRT-3h%22%2C%20%22title%22%3A%20%22S1B_IW_GRDH_1SDV_20211012T065109_20211012T065134_029099_0378DF_D020%22%2C%20%22uuid%22%3A%20%22fb19a64b-fcec-47c2-b4d9-cb6eb997e26d%22%7D%2C%20%22type%22%3A%20%22Feature%22%7D%5D%2C%20%22type%22%3A%20%22FeatureCollection%22%7D%29%3B%0A%0A%20%20%20%20%20%20%20%20%0A%20%20%20%20%0A%20%20%20%20%20%20%20%20function%20geo_json_acdd7521c42f46ac816d9400176f8842_styler%28feature%29%20%7B%0A%20%20%20%20%20%20%20%20%20%20%20%20switch%28feature.id%29%20%7B%0A%20%20%20%20%20%20%20%20%20%20%20%20%20%20%20%20default%3A%0A%20%20%20%20%20%20%20%20%20%20%20%20%20%20%20%20%20%20%20%20return%20%7B%22fillColor%22%3A%20%22%23ff00ff%22%7D%3B%0A%20%20%20%20%20%20%20%20%20%20%20%20%7D%0A%20%20%20%20%20%20%20%20%7D%0A%0A%20%20%20%20%20%20%20%20function%20geo_json_acdd7521c42f46ac816d9400176f8842_onEachFeature%28feature%2C%20layer%29%20%7B%0A%20%20%20%20%20%20%20%20%20%20%20%20layer.on%28%7B%0A%20%20%20%20%20%20%20%20%20%20%20%20%7D%29%3B%0A%20%20%20%20%20%20%20%20%7D%3B%0A%20%20%20%20%20%20%20%20var%20geo_json_acdd7521c42f46ac816d9400176f8842%20%3D%20L.geoJson%28null%2C%20%7B%0A%20%20%20%20%20%20%20%20%20%20%20%20%20%20%20%20onEachFeature%3A%20geo_json_acdd7521c42f46ac816d9400176f8842_onEachFeature%2C%0A%20%20%20%20%20%20%20%20%20%20%20%20%0A%20%20%20%20%20%20%20%20%20%20%20%20%20%20%20%20style%3A%20geo_json_acdd7521c42f46ac816d9400176f8842_styler%2C%0A%20%20%20%20%20%20%20%20%7D%29%3B%0A%0A%20%20%20%20%20%20%20%20function%20geo_json_acdd7521c42f46ac816d9400176f8842_add%20%28data%29%20%7B%0A%20%20%20%20%20%20%20%20%20%20%20%20geo_json_acdd7521c42f46ac816d9400176f8842%0A%20%20%20%20%20%20%20%20%20%20%20%20%20%20%20%20.addData%28data%29%0A%20%20%20%20%20%20%20%20%20%20%20%20%20%20%20%20.addTo%28map_8aeef7e0002a431b892f56f64ca8d68d%29%3B%0A%20%20%20%20%20%20%20%20%7D%0A%20%20%20%20%20%20%20%20%20%20%20%20geo_json_acdd7521c42f46ac816d9400176f8842_add%28%7B%22features%22%3A%20%5B%7B%22geometry%22%3A%20%7B%22coordinates%22%3A%20%5B%5B%5B%5B-10.656985%2C%2037.277599%5D%2C%20%5B-10.286376%2C%2038.78043%5D%2C%20%5B-13.29257%2C%2039.191467%5D%2C%20%5B-13.601635%2C%2037.690178%5D%2C%20%5B-10.656985%2C%2037.277599%5D%5D%5D%5D%2C%20%22type%22%3A%20%22MultiPolygon%22%7D%2C%20%22id%22%3A%20%220%22%2C%20%22type%22%3A%20%22Feature%22%7D%5D%2C%20%22type%22%3A%20%22FeatureCollection%22%7D%29%3B%0A%0A%20%20%20%20%20%20%20%20%0A%20%20%20%20%0A%20%20%20%20%20%20%20%20%20%20%20%20map_8aeef7e0002a431b892f56f64ca8d68d.fitBounds%28%0A%20%20%20%20%20%20%20%20%20%20%20%20%20%20%20%20%5B%5B37.276279%2C%20-13.601635%5D%2C%20%5B40.692379%2C%20-7.877275%5D%5D%2C%0A%20%20%20%20%20%20%20%20%20%20%20%20%20%20%20%20%7B%7D%0A%20%20%20%20%20%20%20%20%20%20%20%20%29%3B%0A%20%20%20%20%20%20%20%20%0A%3C/script%3E onload=\"this.contentDocument.open();this.contentDocument.write(    decodeURIComponent(this.getAttribute('data-html')));this.contentDocument.close();\" \"allowfullscreen\" \"webkitallowfullscreen\" \"mozallowfullscreen\"></iframe>"
      ],
      "text/plain": [
       "<branca.element.Figure at 0x7f6cd0e0d940>"
      ]
     },
     "execution_count": 21,
     "metadata": {},
     "output_type": "execute_result"
    }
   ],
   "source": [
    "from folium import Map, GeoJson, Figure\n",
    "\n",
    "ext = features.bounds\n",
    "bounds = [[ext[1], ext[0]], [ext[3], ext[2]]]\n",
    "m = Map(tiles=\"Stamen Terrain\", control_scale=True,)\n",
    "GeoJson(search_results).add_to(m)\n",
    "GeoJson(iw_search_results[4].geometry, style_function=fill_f).add_to(m)\n",
    "m.fit_bounds(bounds)\n",
    "Figure(width=1000, height=600).add_child(m)"
   ]
  },
  {
   "cell_type": "code",
   "execution_count": 23,
   "id": "dad35d85-f49a-412b-984c-3df49444100b",
   "metadata": {},
   "outputs": [
    {
     "data": {
      "application/vnd.jupyter.widget-view+json": {
       "model_id": "dc39e1a4097d4a09a23c07ccd877aaea",
       "version_major": 2,
       "version_minor": 0
      },
      "text/plain": [
       "0.00B [00:00, ?B/s]"
      ]
     },
     "metadata": {},
     "output_type": "display_data"
    },
    {
     "data": {
      "text/html": [
       "Will try downloading every 2' for 20' if product is not ONLINE"
      ],
      "text/plain": [
       "<IPython.core.display.HTML object>"
      ]
     },
     "metadata": {},
     "output_type": "display_data"
    },
    {
     "data": {
      "application/vnd.jupyter.widget-view+json": {
       "model_id": "2b473cf8d96d45de83dbc8a623706922",
       "version_major": 2,
       "version_minor": 0
      },
      "text/plain": [
       "Downloading products:   0%|                    | 0.00/1.00 [00:00<?, ?product/s]"
      ]
     },
     "metadata": {},
     "output_type": "display_data"
    },
    {
     "data": {
      "application/vnd.jupyter.widget-view+json": {
       "model_id": "32c2fb98bd4e4e6fa5f25fd67591107d",
       "version_major": 2,
       "version_minor": 0
      },
      "text/plain": [
       "Downloading S1B_IW_GRDH_1SDV_20211012T065109_20211012T065134_029099_0378DF_D020."
      ]
     },
     "metadata": {},
     "output_type": "display_data"
    },
    {
     "data": {
      "application/vnd.jupyter.widget-view+json": {
       "model_id": "",
       "version_major": 2,
       "version_minor": 0
      },
      "text/plain": [
       "MD5 checksumming:   0%|                              | 0.00/699M [00:00<?, ?B/s]"
      ]
     },
     "metadata": {},
     "output_type": "display_data"
    },
    {
     "data": {
      "application/vnd.jupyter.widget-view+json": {
       "model_id": "e2bbfce2fd50491a841db854641ab917",
       "version_major": 2,
       "version_minor": 0
      },
      "text/plain": [
       "0file [00:00, ?file/s]"
      ]
     },
     "metadata": {},
     "output_type": "display_data"
    }
   ],
   "source": [
    "product_to_download = iw_search_results[4]\n",
    "product_path = dag.download(product_to_download, unzip=False)\n",
    "#dag.download_all(product_to_download, outputs_prefix=\"downloaded\")"
   ]
  },
  {
   "cell_type": "code",
   "execution_count": null,
   "id": "b708ad8a-390a-474f-8f27-21908d1f0524",
   "metadata": {},
   "outputs": [],
   "source": [
    "dag.download??"
   ]
  },
  {
   "cell_type": "code",
   "execution_count": null,
   "id": "c808a6af-f7ec-4839-91bd-6f5524b5b3e1",
   "metadata": {},
   "outputs": [],
   "source": [
    "dag.download_all??"
   ]
  },
  {
   "cell_type": "code",
   "execution_count": null,
   "id": "a26b4fbc-106c-4d39-8fad-0354425bbbbd",
   "metadata": {},
   "outputs": [],
   "source": [
    "dag.download_all(iw_search_results)"
   ]
  },
  {
   "cell_type": "code",
   "execution_count": 67,
   "id": "6e92e35b-db11-4cd9-bb6a-7176428887b6",
   "metadata": {},
   "outputs": [
    {
     "data": {
      "text/plain": [
       "'/tmp/S1A_IW_GRDH_1SDV_20211019T183541_20211019T183606_040192_04C2BD_3FB3/S1A_IW_GRDH_1SDV_20211019T183541_20211019T183606_040192_04C2BD_3FB3.SAFE'"
      ]
     },
     "execution_count": 67,
     "metadata": {},
     "output_type": "execute_result"
    }
   ],
   "source": [
    "product_path"
   ]
  },
  {
   "cell_type": "code",
   "execution_count": null,
   "id": "6bb0cb4a-d09e-4479-97e7-643218e92613",
   "metadata": {},
   "outputs": [],
   "source": []
  }
 ],
 "metadata": {
  "kernelspec": {
   "display_name": "Python [conda env:root] *",
   "language": "python",
   "name": "conda-root-py"
  },
  "language_info": {
   "codemirror_mode": {
    "name": "ipython",
    "version": 3
   },
   "file_extension": ".py",
   "mimetype": "text/x-python",
   "name": "python",
   "nbconvert_exporter": "python",
   "pygments_lexer": "ipython3",
   "version": "3.8.5"
  }
 },
 "nbformat": 4,
 "nbformat_minor": 5
}
