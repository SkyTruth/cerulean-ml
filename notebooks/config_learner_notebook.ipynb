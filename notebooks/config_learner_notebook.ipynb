{
  "cells": [
    {
      "cell_type": "code",
      "execution_count": null,
      "metadata": {},
      "outputs": [],
      "source": [
        "%load_ext autoreload\n",
        "%autoreload 2\n",
        "%matplotlib inline"
      ]
    },
    {
      "cell_type": "code",
      "execution_count": null,
      "metadata": {},
      "outputs": [],
      "source": [
        "from fastai.vision.all import *\n",
        "from fastai.callback.fp16 import *\n",
        "import torch\n",
        "from tqdm import tqdm\n",
        "import json\n",
        "import wandb\n",
        "from fastai.callback.wandb import WandbCallback"
      ]
    },
    {
      "cell_type": "code",
      "execution_count": null,
      "metadata": {},
      "outputs": [],
      "source": [
        "from ceruleanml.data import class_list\n",
        "from ceruleanml.learner_config import (\n",
        "    run_list,\n",
        "    final_px,\n",
        "    classes_to_keep,\n",
        "    get_tfms,\n",
        "    wd,\n",
        "    record_collection_train,\n",
        "    record_collection_val,\n",
        "    record_collection_test,\n",
        "    model_name,\n",
        "    num_workers,\n",
        ")\n",
        "run_list"
      ]
    },
    {
      "cell_type": "code",
      "execution_count": null,
      "metadata": {},
      "outputs": [],
      "source": [
        "wandb.init(project='cv3-experiments')"
      ]
    },
    {
      "cell_type": "code",
      "execution_count": null,
      "metadata": {},
      "outputs": [],
      "source": [
        "bs_d ={512:8, 256:16, 224:16, 128:32, 64:64} # Batch Size for each image size\n",
        "lr_d = {512:1e-3, 256:1e-3, 224:1e-3, 128:1e-3, 64:1e-3} # Learning Rate for each image size"
      ]
    },
    {
      "cell_type": "code",
      "execution_count": null,
      "metadata": {},
      "outputs": [],
      "source": [
        "model = convnext_small()\n",
        "body = create_body(model, n_in=3, pretrained=True)\n",
        "unet = DynamicUnet(body[0], n_out=7, img_size=(final_px, final_px))\n",
        "loss_func = CrossEntropyLossFlat()"
      ]
    },
    {
      "cell_type": "code",
      "execution_count": null,
      "metadata": {},
      "outputs": [],
      "source": [
        "def get_image_by_record_id(record_id):\n",
        "    return get_image_path(combined_record_collection, record_id)\n",
        "\n",
        "def get_mask_by_record_id(record_id):\n",
        "    return record_to_mask(combined_record_collection, record_id)\n",
        "\n",
        "train_tfms, val_tfms = get_tfms(reduced_resolution_tile_size=final_px) # XXX ETHAN distinguish which tfms are batch and which are item\n",
        "\n",
        "splitter = FuncSplitter(lambda o: Path(o).parent.name == 'valid'), # XXX ETHAN would prefer to use a funcsplitter if possible\n",
        "\n",
        "### \n",
        "\n",
        "coco_seg_dblock = DataBlock(\n",
        "        blocks=(ImageBlock, MaskBlock(codes=class_list)), # ImageBlock is RGB by default, uses PIL\n",
        "        n_inp=1,\n",
        "        splitter=splitter,\n",
        "        get_x=get_image_by_record_id,\n",
        "        get_y=get_mask_by_record_id,\n",
        "        batch_tfms=batch_tfms,\n",
        "        item_tfms=item_tfms,\n",
        "    )\n",
        "\n",
        "\n",
        "dls = coco_seg_dblock.dataloaders(source=train_val_record_ids, batch_size=bs_d[final_px])\n",
        "dls.show_batch()"
      ]
    },
    {
      "cell_type": "code",
      "execution_count": null,
      "metadata": {},
      "outputs": [],
      "source": [
        "dls = get_dataloaders(model_type, [record_collection_train, record_collection_val], get_tfms(), batch_size=bs_d[final_px])\n",
        "cbs = [\n",
        "    WandbCallback(log_model=True),\n",
        "    # ShortEpochCallback(pct=0.1, short_valid=True), \n",
        "    # EarlyStoppingCallback(min_delta=.001, patience=5), \n",
        "    # TerminateOnNaNCallback(), \n",
        "    # GradientAccumulation(8), \n",
        "    # GradientClip(), \n",
        "    # SaveModelCallback(), \n",
        "    # ShowGraphCallback(),\n",
        "    # MixedPrecision(),\n",
        "    ]"
      ]
    },
    {
      "cell_type": "code",
      "execution_count": null,
      "metadata": {},
      "outputs": [],
      "source": [
        "learner = Learner(dls=dls, model=unet, loss_func=loss_func, cbs=cbs, lr=lr_d[final_px], wd=wd)"
      ]
    },
    {
      "cell_type": "code",
      "execution_count": null,
      "metadata": {},
      "outputs": [],
      "source": [
        "start_new = True\n",
        "load_model_name = False\n",
        "\n",
        "if start_new:\n",
        "    print(\"Starting from scratch\")\n",
        "    learner.save(\"model\")\n",
        "elif load_model_name:\n",
        "    print(f\"Loading {load_model_name}\")\n",
        "    learner.load(load_model_name)\n",
        "    learner.save(\"model\")\n",
        "else:\n",
        "    print(\"Continuing current training session\")\n",
        "    learner.load(\"model\")\n",
        "    # export_scripted_model(learner)"
      ]
    },
    {
      "cell_type": "code",
      "execution_count": null,
      "metadata": {},
      "outputs": [],
      "source": [
        "from datetime import datetime\n",
        "# from ceruleanml.inference import save_icevision_model_state_dict_and_tracing\n",
        "\n",
        "def export_scripted_model(learner, model_name):\n",
        "    dateTimeObj = datetime.now()\n",
        "    timestampStr = dateTimeObj.strftime(\"%Y_%m_%d_%H_%M_%S\")\n",
        "    experiment_dir =  Path(f'/root/experiments/cv3/{timestampStr}_{model_name}_unet/')\n",
        "    experiment_dir.mkdir(exist_ok=True)\n",
        "    print(experiment_dir)\n",
        "    save_template = \"model.pt\"\n",
        "    save_icevision_model_state_dict_and_tracing(learner, save_template, experiment_dir) # XXX Ethan need to change this to be the proper export for FastaiUnet"
      ]
    },
    {
      "cell_type": "code",
      "execution_count": null,
      "metadata": {},
      "outputs": [],
      "source": [
        "running_total_epochs = {}\n",
        "\n",
        "for size, epochs in run_list:\n",
        "    train_tfms, val_tfms = get_tfms(reduced_resolution_tile_size=size) # XXX ETHAN distinguish which tfms are batch and which are item\n",
        "    coco_seg_dblock = DataBlock(\n",
        "            blocks=(ImageBlock, MaskBlock(codes=class_list)), # ImageBlock is RGB by default, uses PIL\n",
        "            n_inp=1,\n",
        "            splitter=splitter,\n",
        "            get_x=get_image_by_record_id,\n",
        "            get_y=get_mask_by_record_id,\n",
        "            batch_tfms=batch_tfms,\n",
        "            item_tfms=item_tfms,\n",
        "        )\n",
        "\n",
        "    learner.dls = coco_seg_dblock.dataloaders(source=train_val_record_ids, batch_size=bs_d[size])\n",
        "    print(\"PR: Starting from running total\", running_total_epochs)\n",
        "    print(\"PR: image size\", size)\n",
        "    print(\"PR: epochs\", epochs)\n",
        "\n",
        "    learner.fine_tune(epochs, lr_d[size], freeze_epochs=0) # cbs=cbs\n",
        "\n",
        "    running_total_epochs[size] = sum(filter(None,[running_total_epochs.get(size),epochs]))\n",
        "    learner.save(model_name)\n",
        "    export_scripted_model(learner, model_name)\n",
        "\n",
        "torch.cuda.empty_cache()"
      ]
    },
    {
      "cell_type": "code",
      "execution_count": null,
      "metadata": {},
      "outputs": [],
      "source": [
        "learner.show_results()"
      ]
    },
    {
      "cell_type": "code",
      "execution_count": null,
      "metadata": {},
      "outputs": [],
      "source": [
        "# train_val_record_ids = record_ids_train + record_ids_val\n",
        "# # combined_record_collection = record_collection_with_negative_small_filtered_train + record_collection_with_negative_small_filtered_val\n",
        "# combined_record_collection = record_collection_train + record_collection_val\n",
        "# def get_val_indices(combined_ids, val_ids):\n",
        "#     return list(range(len(combined_ids)))[-len(val_ids):]\n",
        "\n",
        "# #show_data.show_records(random.choices(combined_train_records, k=9), ncols=3)\n",
        "\n",
        "# ### Constructing a FastAI DataBlock that uses parsed COCO Dataset from icevision parser. aug_transforms can only be used with_context=True\n",
        "\n",
        "# val_indices = get_val_indices(train_val_record_ids, record_ids_val)"
      ]
    },
    {
      "cell_type": "code",
      "execution_count": null,
      "metadata": {},
      "outputs": [],
      "source": [
        "inputs, targets = learner.dls.train.one_batch()"
      ]
    },
    {
      "cell_type": "code",
      "execution_count": null,
      "metadata": {},
      "outputs": [],
      "source": [
        "targets.shape"
      ]
    }
  ],
  "metadata": {
    "accelerator": "GPU",
    "colab": {
      "gpuType": "L4",
      "machine_shape": "hm",
      "provenance": []
    },
    "kernelspec": {
      "display_name": "Python 3",
      "name": "python3"
    },
    "language_info": {
      "codemirror_mode": {
        "name": "ipython",
        "version": 3
      },
      "file_extension": ".py",
      "mimetype": "text/x-python",
      "name": "python",
      "nbconvert_exporter": "python",
      "pygments_lexer": "ipython3",
      "version": "3.12.4"
    }
  },
  "nbformat": 4,
  "nbformat_minor": 0
}
