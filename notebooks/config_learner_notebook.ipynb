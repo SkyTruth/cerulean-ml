{
  "cells": [
    {
      "cell_type": "code",
      "execution_count": null,
      "metadata": {},
      "outputs": [],
      "source": [
        "%load_ext autoreload\n",
        "%autoreload 2\n",
        "%matplotlib inline"
      ]
    },
    {
      "cell_type": "code",
      "execution_count": null,
      "metadata": {},
      "outputs": [],
      "source": [
        "from fastai.vision.all import *\n",
        "from fastai.callback.fp16 import *\n",
        "import torch\n",
        "import wandb\n",
        "from fastai.callback.wandb import WandbCallback\n",
        "\n",
        "from icevision.data import Dataset"
      ]
    },
    {
      "cell_type": "code",
      "execution_count": null,
      "metadata": {},
      "outputs": [],
      "source": [
        "from ceruleanml.data import class_list\n",
        "from ceruleanml.learner_config import (\n",
        "    memtile_size,\n",
        "    run_list,\n",
        "    final_px,\n",
        "    classes_to_keep,\n",
        "    get_tfms,\n",
        "    wd,\n",
        "    record_collection_train,\n",
        "    record_collection_val,\n",
        "    record_collection_test,\n",
        "    record_ids_train,\n",
        "    record_ids_val,\n",
        "    record_ids_test,\n",
        "    model_name,\n",
        "    num_workers,\n",
        ")\n",
        "run_list"
      ]
    },
    {
      "cell_type": "code",
      "execution_count": null,
      "metadata": {},
      "outputs": [],
      "source": [
        "# wandb.init(project='cv3-experiments') # XXX Ethan figure out how to make this drop into a shared project? Figure out how to wandb.close(?) at the end of the run_list"
      ]
    },
    {
      "cell_type": "code",
      "execution_count": null,
      "metadata": {},
      "outputs": [],
      "source": [
        "bs_d ={512:8, 256:16, 224:16, 128:32, 64:64} # Batch Size for each image size\n",
        "lr_d = {512:1e-3, 256:1e-3, 224:1e-3, 128:1e-3, 64:1e-3} # Learning Rate for each image size"
      ]
    },
    {
      "cell_type": "code",
      "execution_count": null,
      "metadata": {},
      "outputs": [],
      "source": [
        "model = convnext_small()\n",
        "body = create_body(model, n_in=3, pretrained=True)\n",
        "unet = DynamicUnet(body[0], n_out=7, img_size=(final_px, final_px))\n",
        "loss_func = CrossEntropyLossFlat()"
      ]
    },
    {
      "cell_type": "code",
      "execution_count": null,
      "metadata": {},
      "outputs": [],
      "source": [
        "splitter = FuncSplitter(lambda o: \"val\" in str(o.filepath.parent.parent.stem))\n",
        "\n",
        "def get_image_by_record_id(record):\n",
        "    return record.img\n",
        "\n",
        "def get_mask_by_record_id(record):\n",
        "    return generate_flattened_mask_array(record)\n",
        "\n",
        "def generate_flattened_mask_array(record):\n",
        "    # Extract necessary information from the record\n",
        "    string_labels = record.detection.labels\n",
        "    if not string_labels:\n",
        "        return np.zeros(record.common.img_size, dtype=np.uint8)\n",
        "    masks = record.detection.mask_array.data\n",
        "    class_map = record.detection.class_map\n",
        "    labels = np.array([class_map.get_by_name(label) for label in string_labels], dtype=np.uint8)\n",
        "    \n",
        "    # Broadcast labels to match the shape of masks and compute the weighted masks\n",
        "    weighted_masks = masks * labels[:, np.newaxis, np.newaxis]\n",
        "    \n",
        "    # Take the maximum along the first dimension\n",
        "    flattened_mask = np.max(weighted_masks, axis=0)\n",
        "    \n",
        "    return flattened_mask"
      ]
    },
    {
      "cell_type": "code",
      "execution_count": null,
      "metadata": {},
      "outputs": [],
      "source": [
        "r = Dataset(record_collection_train)[6]\n",
        "fig, axs = plt.subplots(1, 2, figsize=(12, 6))\n",
        "axs[0].imshow(get_image_by_record_id(r)[:,:,0])\n",
        "axs[1].imshow(get_mask_by_record_id(r))\n",
        "plt.show()"
      ]
    },
    {
      "cell_type": "code",
      "execution_count": null,
      "metadata": {},
      "outputs": [],
      "source": [
        "# train_tfms, val_tfms = get_tfms(reduced_resolution_tile_size=final_px) # XXX ETHAN distinguish which tfms are batch_tfms and which are item_tfms\n"
      ]
    },
    {
      "cell_type": "code",
      "execution_count": null,
      "metadata": {},
      "outputs": [],
      "source": [
        "cbs = [\n",
        "    # WandbCallback(log_model=True),\n",
        "    # ShortEpochCallback(pct=0.1, short_valid=True), \n",
        "    # EarlyStoppingCallback(min_delta=.001, patience=5), \n",
        "    # TerminateOnNaNCallback(), \n",
        "    # GradientAccumulation(8), \n",
        "    # GradientClip(), \n",
        "    # SaveModelCallback(), \n",
        "    # ShowGraphCallback(),\n",
        "    # MixedPrecision(), # I'm used to this being a .to_fp() on a learner, rather than a callback???\n",
        "    ]"
      ]
    },
    {
      "cell_type": "code",
      "execution_count": null,
      "metadata": {},
      "outputs": [],
      "source": [
        "seg_dblock = DataBlock(\n",
        "        blocks=(ImageBlock, MaskBlock(codes=class_list)), # ImageBlock is RGB by default, uses PIL\n",
        "        getters=[get_image_by_record_id, get_mask_by_record_id],\n",
        "        splitter=splitter,\n",
        "        batch_tfms=[*aug_transforms(), Normalize.from_stats(*imagenet_stats)]\n",
        "    )\n",
        "dls = seg_dblock.dataloaders(Dataset(record_collection_train[:10]+record_collection_val[:10]), batch_size=bs_d[final_px], verbose=True)\n",
        "dls.show_batch()"
      ]
    },
    {
      "cell_type": "code",
      "execution_count": null,
      "metadata": {},
      "outputs": [],
      "source": [
        "learner = Learner(dls=dls, model=unet, loss_func=loss_func, cbs=cbs, lr=lr_d[final_px], wd=wd)"
      ]
    },
    {
      "cell_type": "code",
      "execution_count": null,
      "metadata": {},
      "outputs": [],
      "source": [
        "learner.show_results()"
      ]
    },
    {
      "cell_type": "code",
      "execution_count": null,
      "metadata": {},
      "outputs": [],
      "source": [
        "learner.fit_one_cycle(50) # XXX TARGET FOR TONIGHT"
      ]
    },
    {
      "cell_type": "code",
      "execution_count": null,
      "metadata": {},
      "outputs": [],
      "source": [
        "start_new = True\n",
        "load_model_name = False\n",
        "\n",
        "if start_new:\n",
        "    print(\"Starting from scratch\")\n",
        "    learner.save(\"model\")\n",
        "elif load_model_name:\n",
        "    print(f\"Loading {load_model_name}\")\n",
        "    learner.load(load_model_name)\n",
        "    learner.save(\"model\")\n",
        "else:\n",
        "    print(\"Continuing current training session\")\n",
        "    learner.load(\"model\")\n",
        "    # export_scripted_model(learner)"
      ]
    },
    {
      "cell_type": "code",
      "execution_count": null,
      "metadata": {},
      "outputs": [],
      "source": [
        "from datetime import datetime\n",
        "from ceruleanml.inference import save_fastai_model_state_dict_and_tracing\n",
        "\n",
        "def export_scripted_model(learner, model_name):\n",
        "    dateTimeObj = datetime.now()\n",
        "    timestampStr = dateTimeObj.strftime(\"%Y_%m_%d_%H_%M_%S\")\n",
        "    experiment_dir =  Path(f'/root/experiments/cv3/{timestampStr}_{model_name}_unet/')\n",
        "    experiment_dir.mkdir(exist_ok=True)\n",
        "    print(experiment_dir)\n",
        "    save_template = \"model.pt\"\n",
        "    save_fastai_model_state_dict_and_tracing(learner, save_template, experiment_dir) # XXX Ethan need to check this swap works"
      ]
    },
    {
      "cell_type": "code",
      "execution_count": null,
      "metadata": {},
      "outputs": [],
      "source": [
        "running_total_epochs = {}\n",
        "\n",
        "for size, epochs in run_list:\n",
        "    # train_tfms, val_tfms = get_tfms(reduced_resolution_tile_size=size) # XXX ETHAN distinguish which tfms are batch and which are item\n",
        "    # seg_dblock = DataBlock(\n",
        "    #         blocks=(ImageBlock, MaskBlock(codes=class_list)), # ImageBlock is RGB by default, uses PIL\n",
        "    #         n_inp=1,\n",
        "    #         splitter=splitter,\n",
        "    #         get_x=get_image_by_record_id,\n",
        "    #         get_y=get_mask_by_record_id,\n",
        "    #         batch_tfms=batch_tfms,\n",
        "    #         item_tfms=item_tfms, # XXX ETHAN if you find a cheaper easier way to push new TFMS into an existing DLS, then we don't need to fully recreate these here... learner.dls.add_tfms()\n",
        "    #     )\n",
        "\n",
        "    # learner.dls = seg_dblock.dataloaders(source=train_val_record_ids, batch_size=bs_d[size])\n",
        "    learner.dls.add_tfms(.......) # XXX ETHAN to explore?\n",
        "    print(\"PR: Starting from running total\", running_total_epochs)\n",
        "    print(\"PR: image size\", size)\n",
        "    print(\"PR: epochs\", epochs)\n",
        "\n",
        "    learner.fine_tune(epochs, lr_d[size], freeze_epochs=0)\n",
        "\n",
        "    running_total_epochs[size] = sum(filter(None,[running_total_epochs.get(size),epochs]))\n",
        "    learner.save(model_name)\n",
        "    export_scripted_model(learner, model_name)\n",
        "\n",
        "torch.cuda.empty_cache()"
      ]
    },
    {
      "cell_type": "code",
      "execution_count": null,
      "metadata": {},
      "outputs": [],
      "source": [
        "learner.show_results()"
      ]
    },
    {
      "cell_type": "code",
      "execution_count": null,
      "metadata": {},
      "outputs": [],
      "source": [
        "inputs, targets = learner.dls.train.one_batch()"
      ]
    },
    {
      "cell_type": "code",
      "execution_count": null,
      "metadata": {},
      "outputs": [],
      "source": [
        "targets.shape"
      ]
    }
  ],
  "metadata": {
    "accelerator": "GPU",
    "colab": {
      "gpuType": "L4",
      "machine_shape": "hm",
      "provenance": []
    },
    "kernelspec": {
      "display_name": "Python 3",
      "name": "python3"
    },
    "language_info": {
      "codemirror_mode": {
        "name": "ipython",
        "version": 3
      },
      "file_extension": ".py",
      "mimetype": "text/x-python",
      "name": "python",
      "nbconvert_exporter": "python",
      "pygments_lexer": "ipython3",
      "version": "3.12.4"
    }
  },
  "nbformat": 4,
  "nbformat_minor": 0
}
