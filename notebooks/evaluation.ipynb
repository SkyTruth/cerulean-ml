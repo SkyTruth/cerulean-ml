{
 "cells": [
  {
   "cell_type": "markdown",
   "id": "461ffad6-f899-4215-a5a8-fcb7e1a3259c",
   "metadata": {},
   "source": [
    "### Icevision Inference and Evalutation\n",
    "\n",
    "This notebook walks through the steps to load a portable torchscript model with torch and run inference on our validation set (or test set)"
   ]
  },
  {
   "cell_type": "markdown",
   "id": "80ba3dda-7100-4d44-a228-efb008c7b073",
   "metadata": {},
   "source": [
    "Loading a Torchscript scripting model. Torchvision is required to load the model, it does a global import in the background to include the NMS operation that Mask-R-CNN needs.\n",
    "\n",
    "Reminder: if this cell is failing, remember to mount the GCP buckets with `cdata` and `cdata2`"
   ]
  },
  {
   "cell_type": "code",
   "execution_count": null,
   "id": "0e34699e-749b-48c9-a1da-ea5dd075e470",
   "metadata": {},
   "outputs": [],
   "source": [
    "from pycocotools.cocoeval import COCOeval\n",
    "from ceruleanml.coco_stats import all_sample_stat_lists\n",
    "from ceruleanml.coco_load_fastai import record_collection_to_record_ids, get_image_path, record_to_mask\n",
    "from ceruleanml import preprocess\n",
    "from ceruleanml import data\n",
    "from icevision import models, parsers, show_records, tfms, Dataset, Metric, COCOMetric, COCOMetricType\n",
    "import numpy as np\n",
    "from ceruleanml.inference import apply_conf_threshold_instances, apply_conf_threshold_masks\n",
    "\n",
    "import torch\n",
    "import torchvision\n",
    "icevision_experiment_dir = \"/root/data/experiments/cv2/20_Jul_2022_00_14_15_icevision_maskrcnn\"\n",
    "scripted_model = torch.jit.load(f\"{icevision_experiment_dir}/scripting_cpu_test_28_34_224_58.pt\")"
   ]
  },
  {
   "cell_type": "code",
   "execution_count": null,
   "id": "f5fa5778-dec8-4175-b8d8-f2e6a7720558",
   "metadata": {},
   "outputs": [],
   "source": [
    "torchvision.__version__"
   ]
  },
  {
   "cell_type": "code",
   "execution_count": null,
   "id": "e681ec1c-58a7-478b-b754-ced4e11dc319",
   "metadata": {},
   "outputs": [],
   "source": [
    "torch.__version__"
   ]
  },
  {
   "cell_type": "markdown",
   "id": "ef10c4d7-8c02-4dda-8662-125b4362ce78",
   "metadata": {},
   "source": [
    "Setting up our Icevision record collection for the validation dataset. We remap vessel slick classes to only have one vessel slick class, remove ambiguous and remove natural seep samples."
   ]
  },
  {
   "cell_type": "code",
   "execution_count": null,
   "id": "3a11fe1e-fdf5-4854-910c-538e214bb69b",
   "metadata": {},
   "outputs": [],
   "source": [
    "run_list = [[224, 30]]*1 # List of tuples, where the tuples are [px size, training time in minutes]\n",
    "# run_list = [[64, 1]]*1+[[128, 1]]*1+[[224, 1]]*1 +[[512, 1]]*1\n",
    "init_size = run_list[0][0]\n",
    "negative_sample_count = 0\n",
    "negative_sample_count_val = 0\n",
    "area_thresh = 0"
   ]
  },
  {
   "cell_type": "code",
   "execution_count": null,
   "id": "8659ef2b-4ad9-4169-8e16-545f59a46d5d",
   "metadata": {},
   "outputs": [],
   "source": [
    "data_path = \"/root/\"\n",
    "mount_path = \"/root/data\"\n",
    "\n",
    "val_set = \"val-with-context-512\"\n",
    "tiled_images_folder_val= \"tiled_images\"\n",
    "json_name_val = \"instances_TiledCeruleanDatasetV2.json\"\n",
    "coco_json_path_val= f\"{mount_path}/partitions/{val_set}/{json_name_val}\"\n",
    "tiled_images_folder_val = f\"{mount_path}/partitions/{val_set}/{tiled_images_folder_val}\"\n",
    "remove_list=[\"ambiguous\", \"natural_seep\"]\n",
    "class_names_to_keep=[\n",
    "            \"background\",\n",
    "            \"infra_slick\",\n",
    "            \"recent_vessel\",\n",
    "        ]\n",
    "remap_dict = {  # only remaps coincident and old to recent\n",
    "            3: 4,\n",
    "            5: 4,\n",
    "        }\n",
    "\n",
    "# since we remove ambiguous and natural seep and remap all vessels to 1 and include background\n",
    "num_classes = 3 \n",
    "class_map = {v: k for k, v in data.class_mapping_coco_inv.items()}\n",
    "class_ints = list(range(1, len(list(class_map.keys())[:-1]) + 1))\n",
    "\n",
    "record_collection_with_negative_small_filtered_val = preprocess.load_set_record_collection(\n",
    "    coco_json_path_val, tiled_images_folder_val, area_thresh, negative_sample_count_val, preprocess=True, class_names_to_keep=class_names_to_keep,\n",
    "    remap_dict=remap_dict, remove_list=remove_list\n",
    ")\n",
    "record_ids_val = record_collection_to_record_ids(record_collection_with_negative_small_filtered_val)\n",
    "\n",
    "valid_tfms = tfms.A.Adapter([*tfms.A.resize_and_pad(size=init_size)])\n",
    "valid_ds = Dataset(record_collection_with_negative_small_filtered_val, valid_tfms)"
   ]
  },
  {
   "cell_type": "markdown",
   "id": "cf7d9a68-6e65-40c7-bdbd-4446626cd31c",
   "metadata": {},
   "source": [
    "You can decrease the size of the valid_ds here for faster testing"
   ]
  },
  {
   "cell_type": "code",
   "execution_count": null,
   "id": "7bca946d-f763-4eef-a505-b8eb07edef7a",
   "metadata": {},
   "outputs": [],
   "source": [
    "#valid_ds = Dataset(record_collection_with_negative_small_filtered_val[0:3]+record_collection_with_negative_small_filtered_val[100:102]+record_collection_with_negative_small_filtered_val[-2:], valid_tfms)"
   ]
  },
  {
   "cell_type": "markdown",
   "id": "a6f5adb9-3bb6-4792-857b-bfc031082964",
   "metadata": {},
   "source": [
    "Grabbing a test image to inspect"
   ]
  },
  {
   "cell_type": "code",
   "execution_count": null,
   "id": "05e7ae12-52d9-493c-8d22-6c5dfb901ecf",
   "metadata": {},
   "outputs": [],
   "source": [
    "test_img = valid_ds[2].img"
   ]
  },
  {
   "cell_type": "code",
   "execution_count": null,
   "id": "ed58e9ec-aa74-41a4-8138-c4089fd0498e",
   "metadata": {},
   "outputs": [],
   "source": [
    "type(test_img)"
   ]
  },
  {
   "cell_type": "markdown",
   "id": "5f2ab61b-b546-4124-be1c-7b439391fbb9",
   "metadata": {},
   "source": [
    "We need to convert this to a pytorch tensor before running inference with the model we loaded"
   ]
  },
  {
   "cell_type": "code",
   "execution_count": null,
   "id": "68b2136f-5a47-4467-be1b-d1c4efff244c",
   "metadata": {},
   "outputs": [],
   "source": [
    "torch.Tensor(np.moveaxis(test_img,2,0)).shape"
   ]
  },
  {
   "cell_type": "markdown",
   "id": "1280441a-8b37-4541-9719-c6f7aaa9bae5",
   "metadata": {},
   "source": [
    "And normalize the values to fall between 0 and 1"
   ]
  },
  {
   "cell_type": "code",
   "execution_count": null,
   "id": "44aac7a4-37cd-45d0-bec7-090653e62101",
   "metadata": {
    "tags": []
   },
   "outputs": [],
   "source": [
    "[torch.Tensor(np.moveaxis(test_img,2,0))/255]"
   ]
  },
  {
   "cell_type": "markdown",
   "id": "c341d311-4a9f-4c27-b596-240c442458fa",
   "metadata": {},
   "source": [
    "Finally, we need to put each sample tensor in a list, the list length is the batch dimension."
   ]
  },
  {
   "cell_type": "code",
   "execution_count": null,
   "id": "7ac6a6a9-648a-4bea-9d99-d62e45da57aa",
   "metadata": {},
   "outputs": [],
   "source": [
    "len([torch.Tensor(np.moveaxis(test_img,2,0))/255])"
   ]
  },
  {
   "cell_type": "markdown",
   "id": "d307a0c4-15de-4e17-a423-64e62bcebbe8",
   "metadata": {},
   "source": [
    "maskrcnn wants a list of 3D arrays with length of list as batch size, Fastai Unet wants a 4D array with 0th dim as batch size"
   ]
  },
  {
   "cell_type": "code",
   "execution_count": null,
   "id": "bcaad2a6-0c2c-489e-87de-ffb3436e8e33",
   "metadata": {},
   "outputs": [],
   "source": [
    "losses, pred_list = scripted_model([torch.Tensor(np.moveaxis(test_img,2,0))/255])"
   ]
  },
  {
   "cell_type": "markdown",
   "id": "3a1ef0fa-b7bf-4b18-9d47-eaee04ff7886",
   "metadata": {},
   "source": [
    "fastai returns a 2D array of logits. logits need to be converted to confidence probabilities. Mask RCNN returns a losses array we don't use and a list of dictionaries containing detections."
   ]
  },
  {
   "cell_type": "code",
   "execution_count": null,
   "id": "4ff38b86-62ff-4cd7-81f2-f7b628ab3bff",
   "metadata": {},
   "outputs": [],
   "source": [
    "len(pred_list)"
   ]
  },
  {
   "cell_type": "markdown",
   "id": "be04edb0-7a30-4eef-80cb-4b3a1a7598e6",
   "metadata": {},
   "source": [
    "pred_list details\n",
    "* bbox coords are not normalized. \n",
    "* dict values are tensors until post processed with conf thresholding.\n",
    "* length of value list indicates how many instances detected both low and high confidence\n",
    "* Mask R-CNN mask values are not logits, they are 0 to 1 confidence probabilities. the torchscript model applies softmax unlike the fastai unet model where we do that after inference.\n",
    "* bbox coord order is xmin, ymin, xmax, ymax, the same as icevision record collection bbox format"
   ]
  },
  {
   "cell_type": "code",
   "execution_count": null,
   "id": "f2c4cd1c-64db-4208-a58f-e90fbf608ffd",
   "metadata": {},
   "outputs": [],
   "source": [
    "pred_list[0]"
   ]
  },
  {
   "cell_type": "code",
   "execution_count": null,
   "id": "1e83f019-5c06-42a0-9fa6-c407a55b2047",
   "metadata": {},
   "outputs": [],
   "source": [
    "pred_list[0]['scores']"
   ]
  },
  {
   "cell_type": "code",
   "execution_count": null,
   "id": "59edc46a-50c4-45fe-92a3-0af73a76b358",
   "metadata": {},
   "outputs": [],
   "source": [
    "pred_list[0]['labels']"
   ]
  },
  {
   "cell_type": "code",
   "execution_count": null,
   "id": "6ed74842-c781-4daa-aca3-2ac191594b56",
   "metadata": {},
   "outputs": [],
   "source": [
    "pred_list[0]['masks'].shape"
   ]
  },
  {
   "cell_type": "code",
   "execution_count": null,
   "id": "2eb1f95e-1808-445b-8a71-477908d958a0",
   "metadata": {},
   "outputs": [],
   "source": [
    "pred_list[0]['masks']"
   ]
  },
  {
   "cell_type": "code",
   "execution_count": null,
   "id": "2513d247-78c9-460b-bbb7-ccd1e805d2ef",
   "metadata": {},
   "outputs": [],
   "source": [
    "%matplotlib inline\n",
    "import skimage.io as skio"
   ]
  },
  {
   "cell_type": "code",
   "execution_count": null,
   "id": "90ccb61c-be15-4e0f-b408-2c298eb00e2c",
   "metadata": {},
   "outputs": [],
   "source": [
    "skio.imshow(test_img[:,:,0])"
   ]
  },
  {
   "cell_type": "markdown",
   "id": "ff5ef12e-d0e9-453f-a683-36dd414a8fb5",
   "metadata": {},
   "source": [
    "We can extract the first mask in the first sample's prediction and plot it by converting it to a numpy array."
   ]
  },
  {
   "cell_type": "code",
   "execution_count": null,
   "id": "61bc94cf-57b5-4967-bf1d-50ebe19d37e4",
   "metadata": {},
   "outputs": [],
   "source": [
    "skio.imshow(pred_list[0]['masks'][0,0,:,:].detach().cpu().numpy())"
   ]
  },
  {
   "cell_type": "markdown",
   "id": "2a6bf0de-1296-4f39-9e6e-7ce4b48608ed",
   "metadata": {},
   "source": [
    "TODO plot a histogram of confidence scores for a pred_list"
   ]
  },
  {
   "cell_type": "code",
   "execution_count": null,
   "id": "ab9eac06-4efc-40ea-8c6f-f91c7524ad8a",
   "metadata": {},
   "outputs": [],
   "source": [
    "import matplotlib.pyplot as plt\n",
    "\n",
    "test = pred_list[0]['masks'][0,0,:,:].detach().cpu().numpy().flatten()\n",
    "\n",
    "# scratch code\n",
    "# np.ma.masked_where(test!=0, test)\n",
    "\n",
    "# plt.hist(np.ma.masked_where(test!=0, test), bins = 300)"
   ]
  },
  {
   "cell_type": "markdown",
   "id": "2effa2b9-97ca-47f5-a53f-1e03f4db5110",
   "metadata": {},
   "source": [
    "After inference, we need to post process the result."
   ]
  },
  {
   "cell_type": "code",
   "execution_count": null,
   "id": "502ad87a-f8db-48e6-b658-393d8f0ee07b",
   "metadata": {},
   "outputs": [],
   "source": [
    "bbox_conf_threshold = .5\n",
    "\n",
    "pred_dict = apply_conf_threshold_instances(pred_list[0], bbox_conf_threshold=bbox_conf_threshold)"
   ]
  },
  {
   "cell_type": "code",
   "execution_count": null,
   "id": "39869c3d-faf9-4885-bbc8-5f8583e609f3",
   "metadata": {},
   "outputs": [],
   "source": [
    "apply_conf_threshold_instances??"
   ]
  },
  {
   "cell_type": "code",
   "execution_count": null,
   "id": "3cac662a-4572-46a2-8b6a-eb1eaa949c8a",
   "metadata": {},
   "outputs": [],
   "source": [
    "pred_dict"
   ]
  },
  {
   "cell_type": "code",
   "execution_count": null,
   "id": "6d0ba2f4-7e5a-4754-a939-9e2c2b51c2c3",
   "metadata": {},
   "outputs": [],
   "source": [
    "merged_class_arr = apply_conf_threshold_masks(pred_dict, mask_conf_threshold=.05, size=224)"
   ]
  },
  {
   "cell_type": "code",
   "execution_count": null,
   "id": "535221bc-3792-4738-8b2d-a88615e4f5ef",
   "metadata": {},
   "outputs": [],
   "source": [
    "apply_conf_threshold_masks??"
   ]
  },
  {
   "cell_type": "markdown",
   "id": "9968945a-4a35-4030-b087-49e06c55211c",
   "metadata": {},
   "source": [
    "The output of the last thresholding step is a 2D array of classes. we use this for pixel-wise evaluation. "
   ]
  },
  {
   "cell_type": "code",
   "execution_count": null,
   "id": "8cc8050c-9c9e-4c04-9cdb-10a5fc440261",
   "metadata": {},
   "outputs": [],
   "source": [
    "merged_class_arr.shape"
   ]
  },
  {
   "cell_type": "code",
   "execution_count": null,
   "id": "188c269f-6f0b-4302-a763-9f0396e3965e",
   "metadata": {},
   "outputs": [],
   "source": [
    "skio.imshow(test_img[:,:,0])"
   ]
  },
  {
   "cell_type": "code",
   "execution_count": null,
   "id": "f6a81462-e143-4fea-bdfd-30eb7dab7b34",
   "metadata": {},
   "outputs": [],
   "source": [
    "torch.unique(merged_class_arr)"
   ]
  },
  {
   "cell_type": "code",
   "execution_count": null,
   "id": "8bb54fba",
   "metadata": {},
   "outputs": [],
   "source": [
    "import skimage.io as skio"
   ]
  },
  {
   "cell_type": "markdown",
   "id": "371f1b9d-c6cf-4048-a236-ffd4784331bd",
   "metadata": {},
   "source": [
    "This array has two values, 2 for vessels and 0 for background"
   ]
  },
  {
   "cell_type": "code",
   "execution_count": null,
   "id": "b4d1e365-102c-4082-ab33-ec99e85541fa",
   "metadata": {},
   "outputs": [],
   "source": [
    "%matplotlib inline\n",
    "skio.imshow(merged_class_arr.detach().cpu().numpy())"
   ]
  },
  {
   "cell_type": "markdown",
   "id": "13d50d5e-776e-4762-a8ec-2dd2bf523386",
   "metadata": {},
   "source": [
    "### Fastai Inference Evaluation with a Pixel Wise confusion matrix\n",
    "\n",
    "Like with icevision, we can run inference with a portable torchscript model. "
   ]
  },
  {
   "cell_type": "code",
   "execution_count": null,
   "id": "23253b65-bc5e-4cf4-979d-969fc5c19720",
   "metadata": {},
   "outputs": [],
   "source": [
    "fastai_unet_experiment_dir = \"/root/data/experiments/cv2/29_Jun_2022_06_36_38_fastai_unet\"\n",
    "\n",
    "tracing_model_cpu_pth = f\"{fastai_unet_experiment_dir}/tracing_cpu_224_120__512_36__4_34_0.0003_0.436.pt\"\n",
    "\n",
    "model = torch.jit.load(tracing_model_cpu_pth)"
   ]
  },
  {
   "cell_type": "markdown",
   "id": "6a4b36ba-ecba-4a8f-8766-2132d5f67954",
   "metadata": {},
   "source": [
    "Next, we set up the data loader."
   ]
  },
  {
   "cell_type": "code",
   "execution_count": null,
   "id": "822268e8-27cb-4bd9-a62e-0d22f7e8d787",
   "metadata": {},
   "outputs": [],
   "source": [
    "from ceruleanml import data\n",
    "from ceruleanml import evaluation\n",
    "from ceruleanml import preprocess\n",
    "import os, random\n",
    "import skimage.io as skio\n",
    "import numpy as np\n",
    "from ceruleanml.coco_load_fastai import record_collection_to_record_ids, get_image_path, record_to_mask\n",
    "from torchvision.models import resnet18, resnet34, resnet50\n",
    "from fastai.data.block import DataBlock\n",
    "from fastai.vision.data import ImageBlock, MaskBlock\n",
    "from fastai.data.transforms import IndexSplitter\n",
    "from fastai.vision.augment import aug_transforms, Resize\n",
    "from ceruleanml.inference import logits_to_classes, apply_conf_threshold\n",
    "\n",
    "bs_d ={512:4, 256:32, 224:32, 128:64, 64:256}\n",
    "lr_d = {512:3e-4, 256:1e-3, 224:3e-3, 128:3e-3, 64:1e-2}\n",
    "arch_d = {18: resnet18, 34: resnet34, 50: resnet50}\n",
    "class_model_file = \"/root/experiments/cv2/26_Jul_2022_21_57_24_fastai_unet/tracing_cpu_test_32_34_224_0.824_30.pt\"\n",
    "\n",
    "### Parsing COCO Dataset with Icevision\n",
    "\n",
    "# for fastai we need the train set to parse the val set with fastai dls\n",
    "mount_path = \"/root/\"\n",
    "train_set = \"train-with-context-512\"\n",
    "tiled_images_folder_train = \"tiled_images\"\n",
    "json_name_train = \"instances_TiledCeruleanDatasetV2.json\"\n",
    "\n",
    "coco_json_path_train = f\"{mount_path}/partitions/{train_set}/{json_name_train}\"\n",
    "tiled_images_folder_train = f\"{mount_path}/partitions/{train_set}/{tiled_images_folder_train}\"\n",
    "record_collection_with_negative_small_filtered_train = preprocess.load_set_record_collection(\n",
    "    coco_json_path_train, tiled_images_folder_train, area_thresh, negative_sample_count_val, preprocess=False, class_names_to_keep=class_names_to_keep,\n",
    "    remap_dict=remap_dict, remove_list=remove_list\n",
    ")\n",
    "record_ids_train = record_collection_to_record_ids(record_collection_with_negative_small_filtered_train)\n",
    "\n",
    "record_ids_val = record_collection_to_record_ids(record_collection_with_negative_small_filtered_val)\n",
    "\n",
    "assert len(set(record_ids_train)) + len(set(record_ids_val)) == len(record_ids_train) + len(record_ids_val)\n",
    "\n",
    "train_val_record_ids = record_ids_train + record_ids_val\n",
    "combined_record_collection = record_collection_with_negative_small_filtered_train + record_collection_with_negative_small_filtered_val\n",
    "\n",
    "def get_val_indices(combined_ids, val_ids):\n",
    "    return list(range(len(combined_ids)))[-len(val_ids):]\n",
    "\n",
    "### Constructing a FastAI DataBlock that uses parsed COCO Dataset from icevision parser. aug_transforms can only be used with_context=True\n",
    "\n",
    "val_indices = get_val_indices(train_val_record_ids, record_ids_val)\n",
    "\n",
    "def get_image_by_record_id(record_id):\n",
    "    return get_image_path(combined_record_collection, record_id)\n",
    "\n",
    "def get_mask_by_record_id(record_id):\n",
    "    return record_to_mask(combined_record_collection, record_id)\n",
    "\n",
    "coco_seg_dblock = DataBlock(\n",
    "        blocks=(ImageBlock, MaskBlock(codes=class_ints)), # ImageBlock is RGB by default, uses PIL\n",
    "        get_x=get_image_by_record_id,\n",
    "        splitter=IndexSplitter(val_indices),\n",
    "        get_y=get_mask_by_record_id,\n",
    "        # batch_tfms=batch_transfms,\n",
    "        item_tfms = Resize(512),\n",
    "        n_inp=1\n",
    "    )\n",
    "\n",
    "dset = coco_seg_dblock.datasets(source= record_ids_train)"
   ]
  },
  {
   "cell_type": "markdown",
   "id": "9ab5646f-c69d-41ff-8cad-0b6059000f45",
   "metadata": {},
   "source": [
    "We can grab a record of interest from the icevision record collection to inspect inference on a single result"
   ]
  },
  {
   "cell_type": "code",
   "execution_count": null,
   "id": "84d0e897-d0d3-4823-8fc4-fcdcea4964fc",
   "metadata": {},
   "outputs": [],
   "source": [
    "records_of_interest = []\n",
    "for record in record_collection_with_negative_small_filtered_train:\n",
    "    if \"S1A_IW_GRDH_1SDV_20200724T020738_20200724T020804_033590_03E494_B457\" in str(record.common.filepath):\n",
    "        records_of_interest.append(record)\n",
    "\n",
    "idx_of_interest = records_of_interest[6].common.record_id\n",
    "\n",
    "idx = train_val_record_ids.index(idx_of_interest)\n",
    "\n",
    "img, mask = dset[idx]\n",
    "\n",
    "%matplotlib inline\n",
    "skio.imshow(np.array(img)[:,:,0])\n",
    "img = np.array(img)"
   ]
  },
  {
   "cell_type": "code",
   "execution_count": null,
   "id": "06b18066-552e-4b57-8f26-48ccbd8ce6c6",
   "metadata": {},
   "outputs": [],
   "source": [
    "def normalize(img):\n",
    "    img = img/255\n",
    "    return img"
   ]
  },
  {
   "cell_type": "markdown",
   "id": "5e2b73a2-633c-44c8-aa5b-6e7385720edc",
   "metadata": {},
   "source": [
    "Like inputs to icevision, we need to normalize."
   ]
  },
  {
   "cell_type": "code",
   "execution_count": null,
   "id": "acc9f102-eb33-423b-96aa-ae6627111272",
   "metadata": {},
   "outputs": [],
   "source": [
    "norm_arr = normalize(torch.Tensor(np.moveaxis(img, 2,0)))"
   ]
  },
  {
   "cell_type": "code",
   "execution_count": null,
   "id": "5b385242-6483-4ab2-b87c-9b71c3eaf63c",
   "metadata": {},
   "outputs": [],
   "source": [
    "skio.imshow(norm_arr[0,:,:].cpu().detach().numpy())"
   ]
  },
  {
   "cell_type": "markdown",
   "id": "af6bcf09-0275-4f71-ae7b-2a33ee286540",
   "metadata": {},
   "source": [
    "And we can then run prediction like so"
   ]
  },
  {
   "cell_type": "code",
   "execution_count": null,
   "id": "ef44ac63-32e6-45a0-8bb6-af0b911dfeba",
   "metadata": {},
   "outputs": [],
   "source": [
    "pred_arr = model(norm_arr.unsqueeze(0))"
   ]
  },
  {
   "cell_type": "code",
   "execution_count": null,
   "id": "34d141f3-974f-4cde-b271-485f29469650",
   "metadata": {},
   "outputs": [],
   "source": [
    "pred_arr.shape"
   ]
  },
  {
   "cell_type": "code",
   "execution_count": null,
   "id": "9ec252c9-c44a-489e-a523-ac7cad2f8965",
   "metadata": {},
   "outputs": [],
   "source": [
    "probs,classes = logits_to_classes(pred_arr)\n",
    "\n",
    "t = apply_conf_threshold(probs, classes, .4)"
   ]
  },
  {
   "cell_type": "code",
   "execution_count": null,
   "id": "22f432e4-4700-4312-9f0a-f129995b2670",
   "metadata": {},
   "outputs": [],
   "source": [
    "apply_conf_threshold??"
   ]
  },
  {
   "cell_type": "code",
   "execution_count": null,
   "id": "4882e74f",
   "metadata": {},
   "outputs": [],
   "source": [
    "t.shape"
   ]
  },
  {
   "cell_type": "markdown",
   "id": "636c139e-5cc6-4bbc-81b8-c48a30cce5f5",
   "metadata": {},
   "source": [
    "The result from Fastai after confidence thresholding is a 2D array/"
   ]
  },
  {
   "cell_type": "code",
   "execution_count": null,
   "id": "1f61663a-fda7-457f-bb3d-9e9090f1bdb9",
   "metadata": {},
   "outputs": [],
   "source": [
    "skio.imshow(t.detach().cpu().numpy())"
   ]
  },
  {
   "cell_type": "code",
   "execution_count": null,
   "id": "92c53bb0-a7f1-460f-8f14-1e75b5ce869c",
   "metadata": {},
   "outputs": [],
   "source": [
    "np.unique(t.detach().cpu().numpy())"
   ]
  },
  {
   "cell_type": "markdown",
   "id": "57a3723c-46e2-4c8f-9d09-dbec26cb5c32",
   "metadata": {},
   "source": [
    "## Confusion Matrix Comparison for Unet and MaskRCNN\n",
    "\n",
    "In this section we create and compare pixel-wise confusion matrices and instance-wise confusion matrices."
   ]
  },
  {
   "cell_type": "code",
   "execution_count": null,
   "id": "f26748d0-0420-46fc-b5b3-23f59582470d",
   "metadata": {},
   "outputs": [],
   "source": [
    "from ceruleanml.evaluation import get_cm_for_torchscript_model_unet, get_cm_for_torchscript_model_mrcnn\n",
    "from ceruleanml.data import class_mapping_coco\n",
    "from icevision.metrics.confusion_matrix import SimpleConfusionMatrix\n",
    "from icevision.metrics.confusion_matrix.confusion_matrix import MatchingPolicy\n",
    "from icevision.models.checkpoint import model_from_checkpoint"
   ]
  },
  {
   "cell_type": "markdown",
   "id": "75ec3262-d403-4000-b9c5-01524359a589",
   "metadata": {},
   "source": [
    "We create a fastai dls from the dataset we created above."
   ]
  },
  {
   "cell_type": "code",
   "execution_count": null,
   "id": "014782fb-d865-4da5-975d-3b6b7c7d30f1",
   "metadata": {},
   "outputs": [],
   "source": [
    "dls = coco_seg_dblock.dataloaders(source=train_val_record_ids, batch_size=1)"
   ]
  },
  {
   "cell_type": "markdown",
   "id": "a5ee5d26-5b6a-4adf-ace4-81073d842b3c",
   "metadata": {},
   "source": [
    "And then run inference and create the cm."
   ]
  },
  {
   "cell_type": "markdown",
   "id": "9a35a838-1eee-4b06-b89c-420622d5ab5e",
   "metadata": {},
   "source": [
    "TODO Fastai Unet CM needs to be inspected, result shows no true labels for vessels"
   ]
  },
  {
   "cell_type": "code",
   "execution_count": 55,
   "id": "dda5e61f-520a-4ebd-b648-257dc79a74a7",
   "metadata": {
    "collapsed": true,
    "jupyter": {
     "outputs_hidden": true
    },
    "tags": []
   },
   "outputs": [
    {
     "name": "stderr",
     "output_type": "stream",
     "text": [
      "100%|██████████| 344/344 [02:38<00:00,  2.17it/s]\n"
     ]
    },
    {
     "name": "stdout",
     "output_type": "stream",
     "text": [
      "Confusion matrix saved at /root/data/experiments/cv2/29_Jun_2022_06_36_38_fastai_unet/cm_count.png\n",
      "f1_score 0.2477751108835953\n"
     ]
    },
    {
     "data": {
      "image/png": "[encoded data removed]",
      "text/plain": [
       "<Figure size 720x720 with 2 Axes>"
      ]
     },
     "metadata": {
      "needs_background": "light"
     },
     "output_type": "display_data"
    }
   ],
   "source": [
    "class_names = [\"Background\"]+list(class_mapping_coco.keys())[:-2]\n",
    "cm_unet, f1_unet = get_cm_for_torchscript_model_unet(dls, model, fastai_unet_experiment_dir, semantic_mask_conf_thresh=.5, num_classes=6, class_names=class_names, normalize = None, title=\"Fastai Unet Confusion Matrix: 29_Jun_2022_06_36_38\")"
   ]
  },
  {
   "cell_type": "code",
   "execution_count": null,
   "id": "26322ecb-80a3-4b5c-a5d1-6e6d8e5df557",
   "metadata": {},
   "outputs": [],
   "source": [
    "cm_unet, f1_unet = get_cm_for_torchscript_model_unet(dls, model, fastai_unet_experiment_dir, semantic_mask_conf_thresh=.5, num_classes=6, class_names=class_names, normalize = \"true\", title=\"Fastai Unet Confusion Matrix: 29_Jun_2022_06_36_38\")"
   ]
  },
  {
   "cell_type": "markdown",
   "id": "f1db5773-f28b-44b9-9ce5-a23e880e457c",
   "metadata": {},
   "source": [
    "The pixel wise mrcnn cm is correct."
   ]
  },
  {
   "cell_type": "code",
   "execution_count": 58,
   "id": "32642079-8e1a-4eb2-bcf2-160e785d26ae",
   "metadata": {
    "tags": []
   },
   "outputs": [
    {
     "name": "stderr",
     "output_type": "stream",
     "text": [
      " 71%|███████   | 244/344 [01:22<00:33,  2.95it/s]\n"
     ]
    },
    {
     "ename": "ValueError",
     "evalue": "need at least one array to stack",
     "output_type": "error",
     "traceback": [
      "\u001b[0;31m---------------------------------------------------------------------------\u001b[0m",
      "\u001b[0;31mValueError\u001b[0m                                Traceback (most recent call last)",
      "Input \u001b[0;32mIn [58]\u001b[0m, in \u001b[0;36m<cell line: 2>\u001b[0;34m()\u001b[0m\n\u001b[1;32m      1\u001b[0m \u001b[38;5;28;01mfrom\u001b[39;00m \u001b[38;5;21;01mtqdm\u001b[39;00m \u001b[38;5;28;01mimport\u001b[39;00m tqdm\n\u001b[0;32m----> 2\u001b[0m cm_mrcnn, f1_mrcnn \u001b[38;5;241m=\u001b[39m \u001b[43mget_cm_for_torchscript_model_mrcnn\u001b[49m\u001b[43m(\u001b[49m\n\u001b[1;32m      3\u001b[0m \u001b[43m    \u001b[49m\u001b[43mvalid_ds\u001b[49m\u001b[43m,\u001b[49m\u001b[43m \u001b[49m\u001b[43mscripted_model\u001b[49m\u001b[43m,\u001b[49m\u001b[43m \u001b[49m\u001b[43msave_path\u001b[49m\u001b[38;5;241;43m=\u001b[39;49m\u001b[43micevision_experiment_dir\u001b[49m\u001b[43m,\u001b[49m\u001b[43m \u001b[49m\u001b[43mmask_conf_threshold\u001b[49m\u001b[38;5;241;43m=\u001b[39;49m\u001b[38;5;241;43m.01\u001b[39;49m\u001b[43m,\u001b[49m\u001b[43m \u001b[49m\u001b[43mbbox_conf_threshold\u001b[49m\u001b[38;5;241;43m=\u001b[39;49m\u001b[38;5;241;43m.7\u001b[39;49m\u001b[43m,\u001b[49m\u001b[43m \u001b[49m\u001b[43mnum_classes\u001b[49m\u001b[38;5;241;43m=\u001b[39;49m\u001b[38;5;241;43m3\u001b[39;49m\u001b[43m,\u001b[49m\u001b[43m \u001b[49m\u001b[43mnormalize\u001b[49m\u001b[38;5;241;43m=\u001b[39;49m\u001b[38;5;28;43;01mNone\u001b[39;49;00m\u001b[43m,\u001b[49m\u001b[43m \u001b[49m\u001b[43mclass_names\u001b[49m\u001b[38;5;241;43m=\u001b[39;49m\u001b[43m[\u001b[49m\u001b[38;5;124;43m\"\u001b[39;49m\u001b[38;5;124;43mbackground\u001b[39;49m\u001b[38;5;124;43m\"\u001b[39;49m\u001b[43m,\u001b[49m\u001b[43m \u001b[49m\u001b[38;5;124;43m\"\u001b[39;49m\u001b[38;5;124;43minfra_slick\u001b[39;49m\u001b[38;5;124;43m\"\u001b[39;49m\u001b[43m,\u001b[49m\u001b[43m \u001b[49m\u001b[38;5;124;43m\"\u001b[39;49m\u001b[38;5;124;43mrecent_vessel\u001b[39;49m\u001b[38;5;124;43m\"\u001b[39;49m\u001b[43m]\u001b[49m\u001b[43m,\u001b[49m\u001b[43m \u001b[49m\u001b[43mtitle\u001b[49m\u001b[38;5;241;43m=\u001b[39;49m\u001b[38;5;124;43m\"\u001b[39;49m\u001b[38;5;124;43mTorchvision MaskR-CNN Confusion Matrix: 20_Jul_2022_00_14_15\u001b[39;49m\u001b[38;5;124;43m\"\u001b[39;49m\n\u001b[1;32m      4\u001b[0m \u001b[43m)\u001b[49m\n",
      "File \u001b[0;32m~/work/ceruleanml/evaluation.py:181\u001b[0m, in \u001b[0;36mget_cm_for_torchscript_model_mrcnn\u001b[0;34m(valid_ds, model, save_path, mask_conf_threshold, bbox_conf_threshold, num_classes, normalize, class_names, title)\u001b[0m\n\u001b[1;32m    179\u001b[0m     masks_gt\u001b[38;5;241m.\u001b[39mappend(record\u001b[38;5;241m.\u001b[39mdetection\u001b[38;5;241m.\u001b[39mmask_array\u001b[38;5;241m.\u001b[39mdata[i] \u001b[38;5;241m*\u001b[39m label_id)\n\u001b[1;32m    180\u001b[0m \u001b[38;5;66;03m# for 6 class model this needs to be mapping process TODO\u001b[39;00m\n\u001b[0;32m--> 181\u001b[0m semantic_masks_gt \u001b[38;5;241m=\u001b[39m np\u001b[38;5;241m.\u001b[39mmax(\u001b[43mnp\u001b[49m\u001b[38;5;241;43m.\u001b[39;49m\u001b[43mstack\u001b[49m\u001b[43m(\u001b[49m\u001b[43mmasks_gt\u001b[49m\u001b[43m)\u001b[49m, axis\u001b[38;5;241m=\u001b[39m\u001b[38;5;241m0\u001b[39m)\n\u001b[1;32m    183\u001b[0m _, pred_list \u001b[38;5;241m=\u001b[39m model([torch\u001b[38;5;241m.\u001b[39mTensor(np\u001b[38;5;241m.\u001b[39mmoveaxis(record\u001b[38;5;241m.\u001b[39mimg, \u001b[38;5;241m2\u001b[39m, \u001b[38;5;241m0\u001b[39m)) \u001b[38;5;241m/\u001b[39m \u001b[38;5;241m255\u001b[39m])\n\u001b[1;32m    184\u001b[0m pred_dict \u001b[38;5;241m=\u001b[39m apply_conf_threshold_instances(\n\u001b[1;32m    185\u001b[0m     pred_list[\u001b[38;5;241m0\u001b[39m], bbox_conf_threshold\u001b[38;5;241m=\u001b[39mbbox_conf_threshold\n\u001b[1;32m    186\u001b[0m )\n",
      "File \u001b[0;32m<__array_function__ internals>:180\u001b[0m, in \u001b[0;36mstack\u001b[0;34m(*args, **kwargs)\u001b[0m\n",
      "File \u001b[0;32m~/work/.ice-env/lib/python3.9/site-packages/numpy/core/shape_base.py:422\u001b[0m, in \u001b[0;36mstack\u001b[0;34m(arrays, axis, out)\u001b[0m\n\u001b[1;32m    420\u001b[0m arrays \u001b[38;5;241m=\u001b[39m [asanyarray(arr) \u001b[38;5;28;01mfor\u001b[39;00m arr \u001b[38;5;129;01min\u001b[39;00m arrays]\n\u001b[1;32m    421\u001b[0m \u001b[38;5;28;01mif\u001b[39;00m \u001b[38;5;129;01mnot\u001b[39;00m arrays:\n\u001b[0;32m--> 422\u001b[0m     \u001b[38;5;28;01mraise\u001b[39;00m \u001b[38;5;167;01mValueError\u001b[39;00m(\u001b[38;5;124m'\u001b[39m\u001b[38;5;124mneed at least one array to stack\u001b[39m\u001b[38;5;124m'\u001b[39m)\n\u001b[1;32m    424\u001b[0m shapes \u001b[38;5;241m=\u001b[39m {arr\u001b[38;5;241m.\u001b[39mshape \u001b[38;5;28;01mfor\u001b[39;00m arr \u001b[38;5;129;01min\u001b[39;00m arrays}\n\u001b[1;32m    425\u001b[0m \u001b[38;5;28;01mif\u001b[39;00m \u001b[38;5;28mlen\u001b[39m(shapes) \u001b[38;5;241m!=\u001b[39m \u001b[38;5;241m1\u001b[39m:\n",
      "\u001b[0;31mValueError\u001b[0m: need at least one array to stack"
     ]
    }
   ],
   "source": [
    "from tqdm import tqdm\n",
    "cm_mrcnn, f1_mrcnn = get_cm_for_torchscript_model_mrcnn(\n",
    "    valid_ds, scripted_model, save_path=icevision_experiment_dir, mask_conf_threshold=.01, bbox_conf_threshold=.7, num_classes=3, normalize=None, class_names=[\"background\", \"infra_slick\", \"recent_vessel\"], title=\"Torchvision MaskR-CNN Confusion Matrix: 20_Jul_2022_00_14_15\"\n",
    ")\n"
   ]
  },
  {
   "cell_type": "code",
   "execution_count": null,
   "id": "16f2dbbc-f7d0-48c0-9965-5a415e8f2492",
   "metadata": {},
   "outputs": [],
   "source": [
    "cm_mrcnn, f1_mrcnn = get_cm_for_torchscript_model_mrcnn(\n",
    "    valid_ds, scripted_model, save_path=icevision_experiment_dir, mask_conf_threshold=.01, bbox_conf_threshold=.7, num_classes=3, normalize=\"true\", class_names=[\"background\", \"infra_slick\", \"recent_vessel\"], title=\"Torchvision MaskR-CNN Confusion Matrix: 20_Jul_2022_00_14_15\"\n",
    ")\n"
   ]
  },
  {
   "cell_type": "code",
   "execution_count": null,
   "id": "6b1b50c4-eef7-4e83-9615-288680ea88cc",
   "metadata": {},
   "outputs": [],
   "source": [
    "checkpoint_path = '/root/data/experiments/cv2/20_Jul_2022_00_14_15_icevision_maskrcnn/state_dict_test_28_34_224_58.pt'\n",
    "\n",
    "class_names = ['Background','Infrastructure', 'Recent Vessel']\n",
    "\n",
    "checkpoint_and_model = model_from_checkpoint(checkpoint_path, \n",
    "    model_name='torchvision.mask_rcnn', \n",
    "    backbone_name='resnet34_fpn',\n",
    "    img_size=224, \n",
    "    classes=[\n",
    "            \"background\",\n",
    "            \"infra_slick\",\n",
    "            \"recent_vessel\",\n",
    "        ],\n",
    "    is_coco=False)\n",
    "\n",
    "model = checkpoint_and_model[\"model\"]\n",
    "model_type = checkpoint_and_model[\"model_type\"]\n",
    "backbone = checkpoint_and_model[\"backbone\"]\n",
    "class_map = checkpoint_and_model[\"class_map\"]\n",
    "img_size = checkpoint_and_model[\"img_size\"]\n",
    "model_type, backbone, class_map, img_size\n",
    "\n",
    "infer_dl = model_type.infer_dl(valid_ds, batch_size=1,shuffle=False)\n",
    "\n",
    "preds = model_type.predict_from_dl(model, infer_dl, keep_images=True, detection_threshold=0.0)"
   ]
  },
  {
   "cell_type": "code",
   "execution_count": null,
   "id": "5a960d34-8ead-429e-a5c4-83cd230a3565",
   "metadata": {
    "jupyter": {
     "source_hidden": true
    },
    "tags": []
   },
   "outputs": [],
   "source": [
    "__all__ = [\"COCOMetric\", \"COCOMetricType\"]\n",
    "\n",
    "from icevision.imports import *\n",
    "from icevision.utils import *\n",
    "from icevision.data import *\n",
    "from icevision.metrics.metric import *\n",
    "\n",
    "\n",
    "class COCOMetricType(Enum):\n",
    "    \"\"\"Available options for `COCOMetric`.\"\"\"\n",
    "\n",
    "    bbox = \"bbox\"\n",
    "    mask = \"segm\"\n",
    "    keypoint = \"keypoints\"\n",
    "\n",
    "\n",
    "class COCOMetric(Metric):\n",
    "    \"\"\"Wrapper around [cocoapi evaluator](https://github.com/cocodataset/cocoapi)\n",
    "\n",
    "    Calculates average precision.\n",
    "\n",
    "    # Arguments\n",
    "        metric_type: Dependent on the task you're solving.\n",
    "        print_summary: If `True`, prints a table with statistics.\n",
    "        show_pbar: If `True` shows pbar when preparing the data for evaluation.\n",
    "    \"\"\"\n",
    "\n",
    "    def __init__(\n",
    "        self,\n",
    "        metric_type: COCOMetricType = COCOMetricType.bbox,\n",
    "        iou_thresholds: Optional[Sequence[float]] = None,\n",
    "        print_summary: bool = False,\n",
    "        show_pbar: bool = False,\n",
    "    ):\n",
    "        self.metric_type = metric_type\n",
    "        self.iou_thresholds = iou_thresholds\n",
    "        self.print_summary = print_summary\n",
    "        self.show_pbar = show_pbar\n",
    "        self._records, self._preds = [], []\n",
    "\n",
    "    def _reset(self):\n",
    "        self._records.clear()\n",
    "        self._preds.clear()\n",
    "\n",
    "    def accumulate(self, preds):\n",
    "        for pred in preds:\n",
    "            self._records.append(pred.ground_truth)\n",
    "            self._preds.append(pred.pred)\n",
    "\n",
    "    def finalize(self) -> Dict[str, float]:\n",
    "        with CaptureStdout():\n",
    "            coco_eval = create_coco_eval(\n",
    "                records=self._records,\n",
    "                preds=self._preds,\n",
    "                metric_type=self.metric_type.value,\n",
    "                iou_thresholds=self.iou_thresholds,\n",
    "                show_pbar=self.show_pbar,\n",
    "            )\n",
    "            coco_eval.evaluate()\n",
    "            coco_eval.accumulate()\n",
    "\n",
    "        with CaptureStdout(propagate_stdout=self.print_summary):\n",
    "            coco_eval.summarize()\n",
    "\n",
    "        stats = coco_eval.stats\n",
    "        logs = {\n",
    "            \"AP (IoU=0.50:0.95) area=all\": stats[0],\n",
    "            \"AP (IoU=0.50) area=all\": stats[1],\n",
    "            \"AP (IoU=0.75) area=all\": stats[2],\n",
    "            \"AP (IoU=0.50:0.95) area=small\": stats[3],\n",
    "            \"AP (IoU=0.50:0.95) area=medium\": stats[4],\n",
    "            \"AP (IoU=0.50:0.95) area=large\": stats[5],\n",
    "            \"AR (IoU=0.50:0.95) area=all maxDets=1\": stats[6],\n",
    "            \"AR (IoU=0.50:0.95) area=all maxDets=10\": stats[7],\n",
    "            \"AR (IoU=0.50:0.95) area=all maxDets=100\": stats[8],\n",
    "            \"AR (IoU=0.50:0.95) area=small maxDets=100\": stats[9],\n",
    "            \"AR (IoU=0.50:0.95) area=medium maxDets=100\": stats[10],\n",
    "            \"AR (IoU=0.50:0.95) area=large maxDets=100\": stats[11],\n",
    "        }\n",
    "\n",
    "        self._reset()\n",
    "        return logs\n"
   ]
  },
  {
   "cell_type": "code",
   "execution_count": null,
   "id": "9cc481bb-c45b-4842-af98-2966fcaa540a",
   "metadata": {},
   "outputs": [],
   "source": [
    "preds[0].pred.detection.bboxes[0].xyxy"
   ]
  },
  {
   "cell_type": "code",
   "execution_count": null,
   "id": "bcdf73b6-8bc7-42ac-bec4-329bd86fbd71",
   "metadata": {},
   "outputs": [],
   "source": [
    "preds[0].pred.detection.bboxes[0].xywh"
   ]
  },
  {
   "cell_type": "code",
   "execution_count": null,
   "id": "f6606fba-bd9f-4ab7-b454-7ac1564c3d1f",
   "metadata": {},
   "outputs": [],
   "source": [
    "coco_metric = COCOMetric(print_summary=True)"
   ]
  },
  {
   "cell_type": "code",
   "execution_count": null,
   "id": "2c7c7386-4e13-447a-8773-d56ec51ddac3",
   "metadata": {},
   "outputs": [],
   "source": [
    "coco_metric.accumulate(preds)"
   ]
  },
  {
   "cell_type": "code",
   "execution_count": null,
   "id": "88e5d603-2065-4377-a5e9-3c336f8c3ae7",
   "metadata": {},
   "outputs": [],
   "source": [
    "coco_metric.finalize()"
   ]
  },
  {
   "cell_type": "code",
   "execution_count": null,
   "id": "244278e1-1cba-4a1a-88f4-fc924fb77904",
   "metadata": {},
   "outputs": [],
   "source": [
    "cm = SimpleConfusionMatrix()\n",
    "cm.accumulate(preds)"
   ]
  },
  {
   "cell_type": "code",
   "execution_count": null,
   "id": "e188d2bb-e82c-42f2-96c6-04656c88a85d",
   "metadata": {},
   "outputs": [],
   "source": []
  },
  {
   "cell_type": "markdown",
   "id": "5cbbc4cc",
   "metadata": {},
   "source": [
    "TODO highlight edits to icevision cm code and how to and where to install this edited icevision"
   ]
  },
  {
   "cell_type": "code",
   "execution_count": null,
   "id": "f4763feb-892b-4758-bce7-261ebf62919e",
   "metadata": {},
   "outputs": [],
   "source": [
    "%matplotlib inline\n",
    "_ = cm.finalize()\n",
    "\n",
    "cm.plot(figsize=5, normalize=None)"
   ]
  },
  {
   "cell_type": "code",
   "execution_count": null,
   "id": "b1b62a01-6bbd-4a1a-a1c3-90b23427e8f4",
   "metadata": {},
   "outputs": [],
   "source": [
    "cm.class_map"
   ]
  },
  {
   "cell_type": "markdown",
   "id": "af3416aa-0f04-44f9-8802-78b049c36b00",
   "metadata": {},
   "source": [
    "# TODO make sure cm code for icevision is pred and merged"
   ]
  },
  {
   "cell_type": "markdown",
   "id": "57b9ab92",
   "metadata": {},
   "source": []
  }
 ],
 "metadata": {
  "kernelspec": {
   "display_name": "icevision",
   "language": "python",
   "name": "icevision"
  },
  "language_info": {
   "codemirror_mode": {
    "name": "ipython",
    "version": 3
   },
   "file_extension": ".py",
   "mimetype": "text/x-python",
   "name": "python",
   "nbconvert_exporter": "python",
   "pygments_lexer": "ipython3",
   "version": "3.9.7"
  }
 },
 "nbformat": 4,
 "nbformat_minor": 5
}
