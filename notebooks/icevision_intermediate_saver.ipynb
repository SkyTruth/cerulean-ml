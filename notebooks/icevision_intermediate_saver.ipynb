{
 "cells": [
  {
   "cell_type": "code",
   "execution_count": null,
   "id": "5c8985ab-8b93-473f-8d94-af4d2fec7d31",
   "metadata": {
    "tags": []
   },
   "outputs": [],
   "source": [
    "%load_ext autoreload\n",
    "%autoreload 2\n",
    "%matplotlib inline"
   ]
  },
  {
   "cell_type": "code",
   "execution_count": null,
   "id": "033b6e27-d4c3-4fc5-9250-3ea2d6a2b461",
   "metadata": {
    "tags": []
   },
   "outputs": [],
   "source": [
    "from icevision import show_records\n",
    "from icevision.imports import *\n",
    "from icevision.utils import *\n",
    "from icevision.data import *\n",
    "from icevision.metrics.metric import *\n",
    "from icevision.models.utils import get_dataloaders\n",
    "from fastai.callback.tracker import SaveModelCallback\n",
    "from fastai.callback.tensorboard import TensorBoardCallback\n",
    "from icevision.engines.fastai import convert_dataloaders_to_fastai\n",
    "from icevision.metrics import SimpleConfusionMatrix # make sure you have the SkyTruth fork of icevision installed\n",
    "import torch"
   ]
  },
  {
   "cell_type": "code",
   "execution_count": null,
   "id": "a2a9a916",
   "metadata": {
    "tags": []
   },
   "outputs": [],
   "source": [
    "from ceruleanml.learner_config import (\n",
    "    run_list,\n",
    "    classes_to_keep,\n",
    "    model_type,\n",
    "    model,\n",
    "    get_tfms,\n",
    "    wd,\n",
    "    record_collection_train,\n",
    "    record_collection_val,\n",
    "    record_collection_test,\n",
    "    model_name,\n",
    "    num_workers,\n",
    ")\n",
    "run_list"
   ]
  },
  {
   "cell_type": "markdown",
   "id": "68826fa9",
   "metadata": {},
   "source": [
    "# Training Parameters"
   ]
  },
  {
   "cell_type": "code",
   "execution_count": null,
   "id": "fbebc5fe-de42-43ef-a795-d4dad9bbb5ed",
   "metadata": {
    "tags": []
   },
   "outputs": [],
   "source": [
    "bs_d ={512:8, 256:16, 224:16, 128:32, 64:64} # Batch Size for each image size\n",
    "lr_d = {512:1e-3, 256:1e-3, 224:1e-3, 128:1e-3, 64:1e-3} # Learning Rate for each image size\n",
    "mins_d = {512:1.4, 256:2, 224:1.3, 128:1.5, 64:1.2}"
   ]
  },
  {
   "cell_type": "code",
   "execution_count": null,
   "id": "92349ee5-2dd6-40e7-85f5-18f388958cf6",
   "metadata": {
    "tags": []
   },
   "outputs": [],
   "source": [
    "_, dls = get_dataloaders(model_type, [record_collection_train, record_collection_val], get_tfms(), batch_size=bs_d[run_list[0][0]])\n",
    "\n",
    "metrics = []\n",
    "\n",
    "learner = model_type.fastai.learner(dls=dls, model=model, cbs=[SaveModelCallback(min_delta=.01)], metrics=metrics, wd=wd)\n",
    "learner.dls = convert_dataloaders_to_fastai(dls=dls)"
   ]
  },
  {
   "cell_type": "code",
   "execution_count": null,
   "id": "47d7d9dd",
   "metadata": {},
   "outputs": [],
   "source": [
    "print(classes_to_keep)\n",
    "print(model_name+\"_intermediate\")"
   ]
  },
  {
   "cell_type": "code",
   "execution_count": null,
   "id": "a8f7e902",
   "metadata": {},
   "outputs": [],
   "source": [
    "from datetime import datetime\n",
    "from ceruleanml.inference import save_icevision_model_state_dict_and_tracing\n",
    "\n",
    "def export_scripted_model(learner, model_name):\n",
    "    dateTimeObj = datetime.now()\n",
    "    timestampStr = dateTimeObj.strftime(\"%Y_%m_%d_%H_%M_%S\")\n",
    "    experiment_dir =  Path(f'/root/experiments/cv2/{timestampStr}_{model_name}_maskrcnn/')\n",
    "    experiment_dir.mkdir(exist_ok=True)\n",
    "    print(experiment_dir)\n",
    "    save_template = \"model.pt\"\n",
    "    save_icevision_model_state_dict_and_tracing(learner, save_template, experiment_dir)"
   ]
  },
  {
   "cell_type": "code",
   "execution_count": null,
   "id": "357648cc",
   "metadata": {
    "tags": []
   },
   "outputs": [],
   "source": [
    "print(\"Exporting last saved model\")\n",
    "learner.load(\"model\")\n",
    "export_scripted_model(learner, model_name+\"_intermediate\")"
   ]
  },
  {
   "cell_type": "code",
   "execution_count": null,
   "id": "cf049bdd",
   "metadata": {},
   "outputs": [],
   "source": []
  }
 ],
 "metadata": {
  "kernelspec": {
   "display_name": "Python 3 (ipykernel)",
   "language": "python",
   "name": "python3"
  },
  "language_info": {
   "codemirror_mode": {
    "name": "ipython",
    "version": 3
   },
   "file_extension": ".py",
   "mimetype": "text/x-python",
   "name": "python",
   "nbconvert_exporter": "python",
   "pygments_lexer": "ipython3",
   "version": "3.9.7"
  }
 },
 "nbformat": 4,
 "nbformat_minor": 5
}
