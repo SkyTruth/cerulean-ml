{
 "cells": [
  {
   "cell_type": "code",
   "execution_count": null,
   "id": "5c8985ab-8b93-473f-8d94-af4d2fec7d31",
   "metadata": {
    "tags": []
   },
   "outputs": [],
   "source": [
    "%load_ext autoreload\n",
    "%autoreload 2\n",
    "%matplotlib inline"
   ]
  },
  {
   "cell_type": "code",
   "execution_count": null,
   "id": "033b6e27-d4c3-4fc5-9250-3ea2d6a2b461",
   "metadata": {
    "tags": []
   },
   "outputs": [],
   "source": [
    "from icevision import show_records\n",
    "from icevision.imports import *\n",
    "from icevision.utils import *\n",
    "from icevision.data import *\n",
    "from icevision.metrics.metric import *\n",
    "from icevision.models.utils import get_dataloaders\n",
    "from fastai.callback.tracker import SaveModelCallback\n",
    "from fastai.callback.tensorboard import TensorBoardCallback\n",
    "from icevision.metrics import SimpleConfusionMatrix # make sure you have the SkyTruth fork of icevision installed\n",
    "import torch\n",
    "torch.cuda.empty_cache()"
   ]
  },
  {
   "cell_type": "code",
   "execution_count": null,
   "id": "a2a9a916",
   "metadata": {
    "tags": []
   },
   "outputs": [],
   "source": [
    "from ceruleanml.learner_config import (\n",
    "    run_list,\n",
    "    classes_to_keep,\n",
    "    model_type,\n",
    "    model,\n",
    "    get_tfms,\n",
    "    wd,\n",
    "    record_collection_train,\n",
    "    record_collection_val,\n",
    "    record_collection_test,\n",
    "    model_name,\n",
    "    num_workers,\n",
    ")\n",
    "run_list"
   ]
  },
  {
   "cell_type": "markdown",
   "id": "68826fa9",
   "metadata": {},
   "source": [
    "# Training Parameters"
   ]
  },
  {
   "cell_type": "code",
   "execution_count": null,
   "id": "fbebc5fe-de42-43ef-a795-d4dad9bbb5ed",
   "metadata": {
    "tags": []
   },
   "outputs": [],
   "source": [
    "bs_d ={512:16, 256:16, 224:16, 128:32, 64:64} # Batch Size for each image size\n",
    "lr_d = {512:1e-3, 256:1e-3, 224:1e-3, 128:1e-3, 64:1e-3} # Learning Rate for each image size\n",
    "mins_d = {512:3.5, 256:2, 224:1.5, 128:1.5, 64:1.2}"
   ]
  },
  {
   "cell_type": "markdown",
   "id": "783dd8a3-faaf-46bd-a017-884e2bb71ecb",
   "metadata": {},
   "source": [
    "### Important! \n",
    "\n",
    "Make sure you have copied the dataset to the local SSD of the VM at /root. Loading the data from a GCP bucket takes a full 2 minutes compared to 17 seconds when data is on the SSD.\n",
    "\n",
    "You can run the following for example to copy a dataset from the bucket to the vm quickly."
   ]
  },
  {
   "cell_type": "code",
   "execution_count": null,
   "id": "81217b0b-46b6-4979-b5d3-1926a194aee8",
   "metadata": {
    "tags": []
   },
   "outputs": [],
   "source": [
    "# # looking at area distribution to find area threshold\n",
    "# from ceruleanml import preprocess\n",
    "# from ceruleanml.learner_config import (\n",
    "#     coco_json_path_train,\n",
    "#     tiled_images_folder_train,\n",
    "# )\n",
    "# print(coco_json_path_train, tiled_images_folder_train)\n",
    "# df = preprocess.get_area_df(coco_json_path_train, tiled_images_folder_train, class_names=classes_to_keep)\n",
    "# df['area']= df['area'].astype(float)\n",
    "# df.plot.hist(bins=100)"
   ]
  },
  {
   "cell_type": "markdown",
   "id": "a2671854-0646-42a0-b33d-92c8ddd28701",
   "metadata": {},
   "source": [
    "This func is adapted in the icevision fork to only show the first channel of the three channel dataset in `draw_sample`"
   ]
  },
  {
   "cell_type": "code",
   "execution_count": null,
   "id": "21ea5b87-476b-491d-bd17-50a02337f05e",
   "metadata": {
    "tags": []
   },
   "outputs": [],
   "source": [
    "# # Make sure the records look reasonable\n",
    "# show_records(record_collection_train[0:2], ncols=1, class_map=classes_to_keep, display_mask=True, display_bbox=False)"
   ]
  },
  {
   "cell_type": "code",
   "execution_count": null,
   "id": "1f68969d",
   "metadata": {
    "tags": []
   },
   "outputs": [],
   "source": [
    "# # Confirm transforms are working for training data\n",
    "# import skimage.io as skio\n",
    "# import cv2\n",
    "# from random import randint\n",
    "# train_tfms, _ = get_tfms()\n",
    "# train_ds = Dataset(record_collection_train, train_tfms)\n",
    "# j = randint(0,len(record_collection_train)-1)\n",
    "# test_record = train_ds[j]\n",
    "\n",
    "# # show the memtile first\n",
    "# skio.imshow_collection([cv2.imread(str(record_collection_train[j].common.filepath))[:,:,2], record_collection_train[j].detection.masks[0].to_mask(record_collection_train[j].common.img_size[1],record_collection_train[j].common.img_size[0]).data[0,:,:]], interpolation=\"nearest\")\n",
    "\n",
    "# # then show the rrctiles\n",
    "# skio.imshow_collection([train_ds[j].img[:,:,0] for _ in range(4)], interpolation=\"nearest\")\n",
    "# skio.imshow_collection([test_record.img[:,:,0]]+[test_record.detection.mask_array[i].data[0,:,:] for i, _ in enumerate(test_record.detection.labels)], interpolation=\"nearest\")\n",
    "# print(test_record.detection.labels)"
   ]
  },
  {
   "cell_type": "markdown",
   "id": "a5fea564-f22a-4fda-b003-135bf0f2a89c",
   "metadata": {},
   "source": [
    "sourced from: https://airctic.com/0.8.1/getting_started_instance_segmentation/"
   ]
  },
  {
   "cell_type": "code",
   "execution_count": null,
   "id": "92349ee5-2dd6-40e7-85f5-18f388958cf6",
   "metadata": {
    "tags": []
   },
   "outputs": [],
   "source": [
    "_, dls = get_dataloaders(model_type, [record_collection_train, record_collection_val], get_tfms(), batch_size=bs_d[run_list[0][0]])\n",
    "metrics = [SimpleConfusionMatrix(print_summary=True)]\n",
    "\n",
    "learner = model_type.fastai.learner(dls=dls, model=model, cbs=[SaveModelCallback(min_delta=.01)], metrics=metrics, wd=wd)"
   ]
  },
  {
   "cell_type": "markdown",
   "id": "bf14b9ff-8233-4678-a4e2-407d49347455",
   "metadata": {},
   "source": [
    "1 train epoch is about 4 minutes. 1 validation epoch of 76 samples is also about a minute."
   ]
  },
  {
   "cell_type": "code",
   "execution_count": null,
   "id": "c7525647",
   "metadata": {
    "tags": []
   },
   "outputs": [],
   "source": [
    "# learner.lr_find()"
   ]
  },
  {
   "cell_type": "markdown",
   "id": "132c9e67-0aee-461d-9453-60507146040a",
   "metadata": {},
   "source": [
    "## Progressive Resizing"
   ]
  },
  {
   "cell_type": "markdown",
   "id": "d8a26368-f4e8-445d-ba0a-067c61539e69",
   "metadata": {},
   "source": [
    "We save the model first if using savemodel callback or else there is an error saying model.pth does not exist"
   ]
  },
  {
   "cell_type": "code",
   "execution_count": null,
   "id": "47d7d9dd",
   "metadata": {},
   "outputs": [],
   "source": [
    "print(classes_to_keep)\n",
    "print(model_name)"
   ]
  },
  {
   "cell_type": "code",
   "execution_count": null,
   "id": "357648cc",
   "metadata": {
    "tags": []
   },
   "outputs": [],
   "source": [
    "start_new = False\n",
    "load_model_name = True\n",
    "\n",
    "if start_new:\n",
    "    print(\"Starting from scratch\")\n",
    "    learner.save(\"model\")\n",
    "elif load_model_name:\n",
    "    print(f\"Loading {model_name}\")\n",
    "    learner.load(model_name)\n",
    "else:\n",
    "    print(\"Continuing current training session\")\n",
    "    learner.load(\"model\")\n",
    "learner.save(\"model\")"
   ]
  },
  {
   "cell_type": "code",
   "execution_count": null,
   "id": "dbad5436-4dd4-4877-ac91-cb68dbf9ba2a",
   "metadata": {
    "tags": []
   },
   "outputs": [],
   "source": [
    "from icevision.engines.fastai import convert_dataloaders_to_fastai\n",
    "running_total_epochs = {}\n",
    "\n",
    "for size, total_train_time in run_list:\n",
    "    epochs = max(int(total_train_time/mins_d[size]), 1)\n",
    "    \n",
    "    _, dls = get_dataloaders(model_type, [record_collection_train, record_collection_val], get_tfms(reduced_resolution_tile_size=size), batch_size=bs_d[size], num_workers=num_workers)\n",
    "    learner.dls = convert_dataloaders_to_fastai(dls=dls)\n",
    "    print(f\"Training time is: {total_train_time} minutes\")\n",
    "    print(\"starting from running total\", running_total_epochs)\n",
    "    print(\"image size\", size)\n",
    "    print(\"epochs\", epochs)\n",
    "\n",
    "    learner.fine_tune(epochs, lr_d[size], freeze_epochs=0) # cbs=cbs\n",
    "\n",
    "    running_total_epochs[size] = sum(filter(None,[running_total_epochs.get(size),epochs]))\n",
    "    learner.save(model_name)\n",
    "\n",
    "from datetime import datetime\n",
    "dateTimeObj = datetime.now()\n",
    "timestampStr = dateTimeObj.strftime(\"%Y_%m_%d_%H_%M_%S\")\n",
    "experiment_dir =  Path(f'/root/experiments/cv2/{timestampStr}_{model_name}_maskrcnn/')\n",
    "experiment_dir.mkdir(exist_ok=True)\n",
    "print(experiment_dir)\n",
    "from ceruleanml.inference import save_icevision_model_state_dict_and_tracing, load_tracing_model, test_tracing_model_one_batch, logits_to_classes\n",
    "save_template = \"model.pt\"\n",
    "state_dict_pth, tracing_model_cpu_pth  = save_icevision_model_state_dict_and_tracing(learner, save_template, experiment_dir)\n",
    "print(metrics[0].confusion_matrix)"
   ]
  },
  {
   "cell_type": "markdown",
   "id": "b985f0bf-cfe5-4575-adbc-70199a8518e1",
   "metadata": {},
   "source": [
    "# Instance Evaluation"
   ]
  },
  {
   "cell_type": "code",
   "execution_count": null,
   "id": "42633401",
   "metadata": {
    "tags": []
   },
   "outputs": [],
   "source": [
    "learner.load(model_name)\n",
    "from datetime import datetime\n",
    "dateTimeObj = datetime.now()\n",
    "timestampStr = dateTimeObj.strftime(\"%Y_%m_%d_%H_%M_%S\")\n",
    "experiment_dir =  Path(f'/root/experiments/cv2/{timestampStr}_{model_name}_maskrcnn/')\n",
    "experiment_dir.mkdir(exist_ok=True)\n",
    "print(experiment_dir)\n",
    "from ceruleanml.inference import save_icevision_model_state_dict_and_tracing, load_tracing_model, test_tracing_model_one_batch, logits_to_classes\n",
    "save_template = \"model.pt\"\n",
    "state_dict_pth, tracing_model_cpu_pth  = save_icevision_model_state_dict_and_tracing(learner, save_template, experiment_dir)"
   ]
  },
  {
   "cell_type": "code",
   "execution_count": null,
   "id": "b3d3f988-18cd-434e-aa0a-ed948159d51f",
   "metadata": {},
   "outputs": [],
   "source": [
    "learner.save(\"7hr\")"
   ]
  },
  {
   "cell_type": "code",
   "execution_count": null,
   "id": "e40f601d",
   "metadata": {},
   "outputs": [],
   "source": [
    "learner.load(\"60min\")"
   ]
  },
  {
   "cell_type": "code",
   "execution_count": null,
   "id": "6308c2ec-463e-48ba-ab6e-54f5a7cffa8f",
   "metadata": {},
   "outputs": [],
   "source": [
    "model_type = learner.load(\"model\")"
   ]
  },
  {
   "cell_type": "code",
   "execution_count": null,
   "id": "54aeea3d-3003-4ba4-aacc-88f0661b0113",
   "metadata": {
    "tags": []
   },
   "outputs": [],
   "source": [
    "model_type.show_results(model, valid_ds, detection_threshold=.5)"
   ]
  },
  {
   "cell_type": "markdown",
   "id": "d224d4df-60dd-472f-9758-8526ead52cc4",
   "metadata": {},
   "source": [
    "TODO savemodel callback bugs this"
   ]
  },
  {
   "cell_type": "code",
   "execution_count": null,
   "id": "0712d2a3-4df3-4c71-a6fd-5770a98693d4",
   "metadata": {
    "collapsed": true,
    "jupyter": {
     "outputs_hidden": true
    },
    "tags": []
   },
   "outputs": [],
   "source": [
    "validation = learner.validate()"
   ]
  },
  {
   "cell_type": "markdown",
   "id": "ebb5529b-c896-499d-84f0-c2bd1a123601",
   "metadata": {},
   "source": [
    "# Exporting the model"
   ]
  },
  {
   "cell_type": "code",
   "execution_count": null,
   "id": "90a177c9-b2a6-4f50-a9a6-9f4458661d13",
   "metadata": {},
   "outputs": [],
   "source": [
    "from datetime import datetime\n",
    "dateTimeObj = datetime.now()\n",
    "timestampStr = dateTimeObj.strftime(\"%d_%b_%Y_%H_%M_%S\")\n",
    "experiment_dir =  Path(f'{mount_path}/experiments/cv2/'+timestampStr+'_icevision_maskrcnn/')\n",
    "experiment_dir.mkdir(exist_ok=True)\n",
    "print(experiment_dir)"
   ]
  },
  {
   "cell_type": "code",
   "execution_count": null,
   "id": "a1f97030-2c22-4e41-9e6f-396e1d2ad47c",
   "metadata": {},
   "outputs": [],
   "source": [
    "from ceruleanml.inference import save_icevision_model_state_dict_and_tracing, load_tracing_model, test_tracing_model_one_batch, logits_to_classes\n",
    "save_template = \"model.pt\"\n",
    "state_dict_pth, tracing_model_cpu_pth  = save_icevision_model_state_dict_and_tracing(learner, save_template, experiment_dir)"
   ]
  },
  {
   "cell_type": "markdown",
   "id": "7166b76f-cb90-421a-ae03-1a6e5eabb5b5",
   "metadata": {},
   "source": [
    "# Tips"
   ]
  },
  {
   "cell_type": "markdown",
   "id": "0117cb99-022c-43bc-82da-981314b62fac",
   "metadata": {},
   "source": [
    "* `nvidia-smi -lms` reports at millisecond frequency and can reveal big gpu spikes\n",
    "* a TODO is to debug the COCOMetric, it should not be -1 given that we are now acheiving detections that intersect with groundtruth. It's documented in icevision issues that the COCOMetric doesn't work for torchvision models because of a bounding box coordinate conversion error. They say it works for mmdet but mmdet does not support negative samples and was erroring saying there were negative samples even when none were included and no data transformations were done.\n",
    "* for the icevision trainer, class mismatch from preprocess remap causes long pauses then training failure. restarting kernel causes . reboot causes driver removal and need to redeploy"
   ]
  },
  {
   "cell_type": "markdown",
   "id": "4b026a4a-d8f2-46e6-bee1-9823b63d1b50",
   "metadata": {},
   "source": [
    "# TODO\n",
    "\n",
    "* save model, run inference\n",
    "* remove classes from json and resave\n",
    "* dicemulti metric for icevision"
   ]
  },
  {
   "cell_type": "code",
   "execution_count": null,
   "id": "0ca3f3c6-63ee-49f8-ad12-f5c016b18b1d",
   "metadata": {},
   "outputs": [],
   "source": []
  }
 ],
 "metadata": {
  "kernelspec": {
   "display_name": "Python 3.9.7 ('.ice-env': venv)",
   "language": "python",
   "name": "python3"
  },
  "language_info": {
   "codemirror_mode": {
    "name": "ipython",
    "version": 3
   },
   "file_extension": ".py",
   "mimetype": "text/x-python",
   "name": "python",
   "nbconvert_exporter": "python",
   "pygments_lexer": "ipython3",
   "version": "3.9.7"
  },
  "vscode": {
   "interpreter": {
    "hash": "d0cd103e2f87710db3c13fdf2c1f4c98edf2a6212166ef41cb835fc40fe5ebcb"
   }
  }
 },
 "nbformat": 4,
 "nbformat_minor": 5
}
