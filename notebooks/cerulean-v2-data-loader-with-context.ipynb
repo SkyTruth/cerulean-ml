{
 "cells": [
  {
   "cell_type": "markdown",
   "id": "89d39b92",
   "metadata": {},
   "source": [
    "### temporary setup after `make ssh`, `cdata`, and `make syncup`\n",
    "\n",
    "```python\n",
    "conda activate fastai2\n",
    "cd work\n",
    "pip install -e . # install local ceruleanml package after deps installed with conda\n",
    "```"
   ]
  },
  {
   "cell_type": "code",
   "execution_count": 1,
   "id": "53392a56-a504-4254-947e-6660272f5ed3",
   "metadata": {},
   "outputs": [],
   "source": [
    "import ceruleanml.data as data\n",
    "from pathlib import Path\n",
    "import skimage.io as skio\n",
    "import os\n",
    "\n",
    "ml_data_path = os.path.join(os.path.abspath(os.getcwd()),\"../../data/cv2_transfer/outputs/skytruth_annotation/first_phase/\")\n",
    "aux_data_path = os.path.join(os.path.abspath(os.getcwd()),\"../../data/aux_datasets/\")\n",
    "coco_outdir = \"./\"\n",
    "os.makedirs(coco_outdir, exist_ok=True)\n",
    "os.makedirs(\"tiled_images/\", exist_ok=True)\n",
    "path = Path(ml_data_path)\n",
    "class_folders = list(path.glob(\"*/\"))"
   ]
  },
  {
   "cell_type": "code",
   "execution_count": 2,
   "id": "7d6eb098-c6f1-4588-80f5-1263a740a3e4",
   "metadata": {},
   "outputs": [],
   "source": [
    "info = {\n",
    "    \"description\": \"Cerulean Dataset V2\",\n",
    "    \"url\": \"none\",\n",
    "    \"version\": \"1.0\",\n",
    "    \"year\": 2021,\n",
    "    \"contributor\": \"Skytruth\",\n",
    "    \"date_created\": \"2022/2/23\"\n",
    "}\n",
    "\n",
    "licenses = [\n",
    "    {\n",
    "        \"url\": \"none\",\n",
    "        \"id\": 1,\n",
    "        \"name\": \"CeruleanDataset V2\"\n",
    "    }\n",
    "]\n",
    "categories = [{\"supercategory\":\"slick\", \"id\":1,\"name\":\"infra_slick\"},\n",
    "              {\"supercategory\":\"slick\", \"id\":2,\"name\":\"natural_seep\"},\n",
    "              {\"supercategory\":\"slick\", \"id\":3,\"name\":\"coincident_vessel\"},\n",
    "              {\"supercategory\":\"slick\", \"id\":4,\"name\":\"recent_vessel\"},\n",
    "              {\"supercategory\":\"slick\", \"id\":5,\"name\":\"old_vessel\"},\n",
    "              {\"supercategory\":\"slick\", \"id\":6,\"name\":\"ambiguous\"}]\n",
    "\n",
    "coco_output = {\n",
    "    \"info\": info,\n",
    "    \"licenses\": licenses,\n",
    "    \"images\": [],\n",
    "    \"annotations\": [],\n",
    "    \"categories\": categories\n",
    "}"
   ]
  },
  {
   "cell_type": "code",
   "execution_count": 3,
   "id": "dc30b54a-33d1-4664-8d5d-2128b4ff2534",
   "metadata": {},
   "outputs": [],
   "source": [
    "coco_tiler = data.COCOtiler(\"tiled_images/\", coco_output)"
   ]
  },
  {
   "cell_type": "code",
   "execution_count": 4,
   "id": "ab027a9b-7b2b-4073-beea-1494a33ff516",
   "metadata": {},
   "outputs": [
    {
     "name": "stdout",
     "output_type": "stream",
     "text": [
      "/root/work/notebooks/../../data/cv2_transfer/outputs/skytruth_annotation/first_phase/canonical_vessel/S1A_IW_GRDH_1SDV_20200729T034859_20200729T034924_033664_03E6D3_93EF\n",
      "[PosixPath('/root/work/notebooks/../../data/cv2_transfer/outputs/skytruth_annotation/first_phase/canonical_vessel/S1A_IW_GRDH_1SDV_20200729T034859_20200729T034924_033664_03E6D3_93EF/Background.png'), PosixPath('/root/work/notebooks/../../data/cv2_transfer/outputs/skytruth_annotation/first_phase/canonical_vessel/S1A_IW_GRDH_1SDV_20200729T034859_20200729T034924_033664_03E6D3_93EF/ambiguous_1.png'), PosixPath('/root/work/notebooks/../../data/cv2_transfer/outputs/skytruth_annotation/first_phase/canonical_vessel/S1A_IW_GRDH_1SDV_20200729T034859_20200729T034924_033664_03E6D3_93EF/vessel_coincident_1.png'), PosixPath('/root/work/notebooks/../../data/cv2_transfer/outputs/skytruth_annotation/first_phase/canonical_vessel/S1A_IW_GRDH_1SDV_20200729T034859_20200729T034924_033664_03E6D3_93EF/vessel_old_1.png')]\n"
     ]
    },
    {
     "name": "stderr",
     "output_type": "stream",
     "text": [
      "/root/miniconda3/envs/fastai2/lib/python3.9/site-packages/rasterio/__init__.py:220: NotGeoreferencedWarning: Dataset has no geotransform, gcps, or rpcs. The identity matrix be returned.\n",
      "  s = DatasetReader(path, driver=driver, sharing=sharing, **kwargs)\n",
      "/root/miniconda3/envs/fastai2/lib/python3.9/site-packages/rasterio/io.py:134: NotGeoreferencedWarning: The given matrix is equal to Affine.identity or its flipped counterpart. GDAL may ignore this matrix and save no geotransform without raising an error. This behavior is somewhat driver-specific.\n",
      "  return writer(mempath, 'w+', driver=driver, width=width,\n",
      "<ipython-input-4-a496be057e14>:9: RasterioDeprecationWarning: Source dataset should be opened in read-only mode. Use of datasets opened in modes other than 'r' will be disallowed in a future version.\n",
      "  coco_tiler.save_background_img_tiles(scene_id, layer_pths,\n"
     ]
    },
    {
     "name": "stdout",
     "output_type": "stream",
     "text": [
      "Tree build time: 0.0006 seconds\n",
      "Distance calc run time: 6.3983 seconds\n"
     ]
    },
    {
     "name": "stderr",
     "output_type": "stream",
     "text": [
      "/root/miniconda3/envs/fastai2/lib/python3.9/site-packages/dask/core.py:119: UserWarning: tiled_images/S1A_IW_GRDH_1SDV_20200729T034859_20200729T034924_033664_03E6D3_93EF_vv-image_local_tile_17.png is a low contrast image\n",
      "  return func(*(_execute_task(a, cache) for a in args))\n"
     ]
    },
    {
     "name": "stdout",
     "output_type": "stream",
     "text": [
      "finished saving 32 images\n"
     ]
    },
    {
     "ename": "TypeError",
     "evalue": "create_coco_from_photopea_layers() missing 1 required positional argument: 'coco_output'",
     "output_type": "error",
     "traceback": [
      "\u001b[0;31m---------------------------------------------------------------------------\u001b[0m",
      "\u001b[0;31mTypeError\u001b[0m                                 Traceback (most recent call last)",
      "Input \u001b[0;32mIn [4]\u001b[0m, in \u001b[0;36m<module>\u001b[0;34m\u001b[0m\n\u001b[1;32m      8\u001b[0m     \u001b[38;5;28mprint\u001b[39m(layer_pths)\n\u001b[1;32m      9\u001b[0m     coco_tiler\u001b[38;5;241m.\u001b[39msave_background_img_tiles(scene_id, layer_pths,\n\u001b[1;32m     10\u001b[0m         aux_datasets\u001b[38;5;241m=\u001b[39maux_datasets,\n\u001b[1;32m     11\u001b[0m         aux_resample_ratio\u001b[38;5;241m=\u001b[39m\u001b[38;5;241m8\u001b[39m,)\n\u001b[0;32m---> 12\u001b[0m     \u001b[43mcoco_tiler\u001b[49m\u001b[38;5;241;43m.\u001b[39;49m\u001b[43mcreate_coco_from_photopea_layers\u001b[49m\u001b[43m(\u001b[49m\u001b[43mlayer_pths\u001b[49m\u001b[43m,\u001b[49m\u001b[43m \u001b[49m\u001b[43mcoco_output\u001b[49m\u001b[43m)\u001b[49m\n\u001b[1;32m     13\u001b[0m     \u001b[38;5;28;01mbreak\u001b[39;00m\n\u001b[1;32m     14\u001b[0m \u001b[38;5;28;01mbreak\u001b[39;00m\n",
      "\u001b[0;31mTypeError\u001b[0m: create_coco_from_photopea_layers() missing 1 required positional argument: 'coco_output'"
     ]
    }
   ],
   "source": [
    "aux_datasets = [os.path.join(aux_data_path, \"infra_locations.json\"), \"ship_density\"]\n",
    "for class_folder in class_folders:\n",
    "    for scene_folder in list(class_folder.glob(\"*GRDH*\")):\n",
    "        assert \"S1\" in str(scene_folder)\n",
    "        print(scene_folder)\n",
    "        scene_id = os.path.basename(scene_folder)\n",
    "        layer_pths = list(scene_folder.glob(\"*png\"))\n",
    "        print(layer_pths)\n",
    "        coco_tiler.save_background_img_tiles(scene_id, layer_pths,\n",
    "            aux_datasets=aux_datasets,\n",
    "            aux_resample_ratio=8,)\n",
    "        coco_tiler.create_coco_from_photopea_layers(scene_id, layer_pths, coco_output)\n",
    "        break\n",
    "    break"
   ]
  },
  {
   "cell_type": "code",
   "execution_count": 7,
   "id": "5d163227-05d6-400b-933b-31b7f91f602a",
   "metadata": {},
   "outputs": [],
   "source": [
    "coco_tiler.save_coco_output(\"./instances_slicks_test_with_context.json\")"
   ]
  },
  {
   "cell_type": "code",
   "execution_count": 8,
   "id": "6bec678d-3ace-4777-a664-9fe0e5358a3d",
   "metadata": {},
   "outputs": [],
   "source": [
    "ar = skio.imread(\"tiled_images/S1A_IW_GRDH_1SDV_20200729T034859_20200729T034924_033664_03E6D3_93EF_vv-image_tile_0.png\")"
   ]
  },
  {
   "cell_type": "code",
   "execution_count": 10,
   "id": "5a35cf67-b8d7-4a54-8c87-8bda4cad4c15",
   "metadata": {},
   "outputs": [
    {
     "data": {
      "text/plain": [
       "(512, 512, 3)"
      ]
     },
     "execution_count": 10,
     "metadata": {},
     "output_type": "execute_result"
    }
   ],
   "source": [
    "ar.shape"
   ]
  },
  {
   "cell_type": "code",
   "execution_count": null,
   "id": "327bba5e-7411-4aaa-adc1-563704d98712",
   "metadata": {},
   "outputs": [],
   "source": []
  }
 ],
 "metadata": {
  "kernelspec": {
   "display_name": "Python [conda env:fastai2]",
   "language": "python",
   "name": "conda-env-fastai2-py"
  },
  "language_info": {
   "codemirror_mode": {
    "name": "ipython",
    "version": 3
   },
   "file_extension": ".py",
   "mimetype": "text/x-python",
   "name": "python",
   "nbconvert_exporter": "python",
   "pygments_lexer": "ipython3",
   "version": "3.9.7"
  }
 },
 "nbformat": 4,
 "nbformat_minor": 5
}
